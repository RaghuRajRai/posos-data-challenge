{
 "cells": [
  {
   "cell_type": "code",
   "execution_count": 178,
   "metadata": {},
   "outputs": [],
   "source": [
    "import pandas as pd\n",
    "import string\n",
    "import nltk\n",
    "import numpy as np\n",
    "import keras\n",
    "from tqdm._tqdm_notebook import tqdm_notebook\n",
    "tqdm_notebook.pandas()\n",
    "from nltk.stem.wordnet import WordNetLemmatizer\n",
    "from nltk.corpus import wordnet\n",
    "from sklearn.feature_extraction.text import TfidfVectorizer\n",
    "from keras.models import Sequential\n",
    "import pickle\n",
    "from keras.preprocessing.text import Tokenizer\n",
    "from keras.preprocessing.sequence import pad_sequences\n",
    "from keras.models import Sequential, Model\n",
    "from keras.layers import Dense, Flatten, LSTM, Conv1D, MaxPooling1D, Dropout, Activation\n",
    "from keras.layers.embeddings import Embedding\n",
    "from keras import optimizers\n",
    "from keras.layers import Input\n",
    "from keras.callbacks import EarlyStopping\n",
    "from keras.utils import to_categorical\n",
    "from sklearn.feature_extraction.text import CountVectorizer\n",
    "from sklearn.feature_extraction.text import TfidfTransformer\n",
    "from sklearn.naive_bayes import MultinomialNB\n",
    "from sklearn.pipeline import Pipeline\n",
    "from sklearn.linear_model import SGDClassifier\n",
    "from sklearn.model_selection import GridSearchCV\n",
    "from sklearn.linear_model import LogisticRegression\n",
    "from sklearn.metrics import accuracy_score\n",
    "from sklearn.metrics import classification_report"
   ]
  },
  {
   "cell_type": "code",
   "execution_count": 205,
   "metadata": {},
   "outputs": [
    {
     "name": "stdout",
     "output_type": "stream",
     "text": [
      "(8028, 3) (2035, 2)\n"
     ]
    },
    {
     "data": {
      "text/html": [
       "<div>\n",
       "<style scoped>\n",
       "    .dataframe tbody tr th:only-of-type {\n",
       "        vertical-align: middle;\n",
       "    }\n",
       "\n",
       "    .dataframe tbody tr th {\n",
       "        vertical-align: top;\n",
       "    }\n",
       "\n",
       "    .dataframe thead th {\n",
       "        text-align: right;\n",
       "    }\n",
       "</style>\n",
       "<table border=\"1\" class=\"dataframe\">\n",
       "  <thead>\n",
       "    <tr style=\"text-align: right;\">\n",
       "      <th></th>\n",
       "      <th>ID</th>\n",
       "      <th>question</th>\n",
       "      <th>intention</th>\n",
       "    </tr>\n",
       "  </thead>\n",
       "  <tbody>\n",
       "    <tr>\n",
       "      <th>0</th>\n",
       "      <td>0</td>\n",
       "      <td>hello i m wa wrong forum for my question so i ...</td>\n",
       "      <td>28</td>\n",
       "    </tr>\n",
       "    <tr>\n",
       "      <th>1</th>\n",
       "      <td>1</td>\n",
       "      <td>is what the motilium reliev me against nausea</td>\n",
       "      <td>31</td>\n",
       "    </tr>\n",
       "    <tr>\n",
       "      <th>2</th>\n",
       "      <td>2</td>\n",
       "      <td>my doctor prescrib adenyl 2nd stamp of terribl...</td>\n",
       "      <td>28</td>\n",
       "    </tr>\n",
       "    <tr>\n",
       "      <th>3</th>\n",
       "      <td>3</td>\n",
       "      <td>is there a form adapt to the child of 5 year o...</td>\n",
       "      <td>44</td>\n",
       "    </tr>\n",
       "    <tr>\n",
       "      <th>4</th>\n",
       "      <td>4</td>\n",
       "      <td>my doctor treat me to a rhino pharingit and pr...</td>\n",
       "      <td>31</td>\n",
       "    </tr>\n",
       "  </tbody>\n",
       "</table>\n",
       "</div>"
      ],
      "text/plain": [
       "   ID                                           question  intention\n",
       "0   0  hello i m wa wrong forum for my question so i ...         28\n",
       "1   1      is what the motilium reliev me against nausea         31\n",
       "2   2  my doctor prescrib adenyl 2nd stamp of terribl...         28\n",
       "3   3  is there a form adapt to the child of 5 year o...         44\n",
       "4   4  my doctor treat me to a rhino pharingit and pr...         31"
      ]
     },
     "execution_count": 205,
     "metadata": {},
     "output_type": "execute_result"
    }
   ],
   "source": [
    "train = pd.read_csv(r\"C:\\Users\\elonm\\Desktop\\timepass\\train.csv\")\n",
    "train.head()\n",
    "test = pd.read_csv(r\"C:\\Users\\elonm\\Desktop\\timepass\\test.csv\")\n",
    "test.head()\n",
    "print(train.shape, test.shape)\n",
    "train.head()"
   ]
  },
  {
   "cell_type": "code",
   "execution_count": 206,
   "metadata": {},
   "outputs": [
    {
     "name": "stdout",
     "output_type": "stream",
     "text": [
      "125226\n"
     ]
    }
   ],
   "source": [
    "print(train['question'].apply(lambda x: len(x.split(' '))).sum())"
   ]
  },
  {
   "cell_type": "code",
   "execution_count": 207,
   "metadata": {},
   "outputs": [
    {
     "data": {
      "application/vnd.jupyter.widget-view+json": {
       "model_id": "5923c3ad9d9844f5ae382d0fbb3102ca",
       "version_major": 2,
       "version_minor": 0
      },
      "text/plain": [
       "HBox(children=(IntProgress(value=0, max=8028), HTML(value='')))"
      ]
     },
     "metadata": {},
     "output_type": "display_data"
    },
    {
     "data": {
      "application/vnd.jupyter.widget-view+json": {
       "model_id": "36f20bb322fb461083d3d6638e355c92",
       "version_major": 2,
       "version_minor": 0
      },
      "text/plain": [
       "HBox(children=(IntProgress(value=0, max=2035), HTML(value='')))"
      ]
     },
     "metadata": {},
     "output_type": "display_data"
    },
    {
     "data": {
      "application/vnd.jupyter.widget-view+json": {
       "model_id": "b444d3f24b54425d9748b72774c2af15",
       "version_major": 2,
       "version_minor": 0
      },
      "text/plain": [
       "HBox(children=(IntProgress(value=0, max=8028), HTML(value='')))"
      ]
     },
     "metadata": {},
     "output_type": "display_data"
    },
    {
     "data": {
      "application/vnd.jupyter.widget-view+json": {
       "model_id": "b42de105be794354af89b4fdef716c3c",
       "version_major": 2,
       "version_minor": 0
      },
      "text/plain": [
       "HBox(children=(IntProgress(value=0, max=2035), HTML(value='')))"
      ]
     },
     "metadata": {},
     "output_type": "display_data"
    }
   ],
   "source": [
    "from nltk.corpus import stopwords\n",
    "stop_words=set(stopwords.words(\"english\"))\n",
    "\n",
    "def text_process(text):\n",
    "    #String punctuation provides all the necessary checks\n",
    "    nopunc = [char for char in text if char not in string.punctuation]\n",
    "    nopunc = ''.join(nopunc)\n",
    "    str = [word for word in nopunc.split() if word.lower() not in stopwords.words('english')]\n",
    "    str = ' '.join(str)\n",
    "    return str\n",
    "\n",
    "# train['question'] = train['question'].progress_apply(lambda txt: str(txt))\n",
    "# test['question'] = test['question'].progress_apply(lambda txt: str(txt))\n",
    "train['question'] = train['question'].progress_apply(lambda s: s.lower())\n",
    "test['question'] = test['question'].progress_apply(lambda s: s.lower())\n",
    "train['question'] = train['question'].progress_apply(lambda txt: text_process(txt))\n",
    "test['question'] = test['question'].progress_apply(lambda txt: text_process(txt))"
   ]
  },
  {
   "cell_type": "code",
   "execution_count": 208,
   "metadata": {},
   "outputs": [
    {
     "data": {
      "text/html": [
       "<div>\n",
       "<style scoped>\n",
       "    .dataframe tbody tr th:only-of-type {\n",
       "        vertical-align: middle;\n",
       "    }\n",
       "\n",
       "    .dataframe tbody tr th {\n",
       "        vertical-align: top;\n",
       "    }\n",
       "\n",
       "    .dataframe thead th {\n",
       "        text-align: right;\n",
       "    }\n",
       "</style>\n",
       "<table border=\"1\" class=\"dataframe\">\n",
       "  <thead>\n",
       "    <tr style=\"text-align: right;\">\n",
       "      <th></th>\n",
       "      <th>ID</th>\n",
       "      <th>question</th>\n",
       "      <th>intention</th>\n",
       "    </tr>\n",
       "  </thead>\n",
       "  <tbody>\n",
       "    <tr>\n",
       "      <th>0</th>\n",
       "      <td>0</td>\n",
       "      <td>hello wa wrong forum question base took first ...</td>\n",
       "      <td>28</td>\n",
       "    </tr>\n",
       "    <tr>\n",
       "      <th>1</th>\n",
       "      <td>1</td>\n",
       "      <td>motilium reliev nausea</td>\n",
       "      <td>31</td>\n",
       "    </tr>\n",
       "    <tr>\n",
       "      <th>2</th>\n",
       "      <td>2</td>\n",
       "      <td>doctor prescrib adenyl 2nd stamp terribl heada...</td>\n",
       "      <td>28</td>\n",
       "    </tr>\n",
       "    <tr>\n",
       "      <th>3</th>\n",
       "      <td>3</td>\n",
       "      <td>form adapt child 5 year micropakin</td>\n",
       "      <td>44</td>\n",
       "    </tr>\n",
       "    <tr>\n",
       "      <th>4</th>\n",
       "      <td>4</td>\n",
       "      <td>doctor treat rhino pharingit prescrib amoxicil...</td>\n",
       "      <td>31</td>\n",
       "    </tr>\n",
       "  </tbody>\n",
       "</table>\n",
       "</div>"
      ],
      "text/plain": [
       "   ID                                           question  intention\n",
       "0   0  hello wa wrong forum question base took first ...         28\n",
       "1   1                             motilium reliev nausea         31\n",
       "2   2  doctor prescrib adenyl 2nd stamp terribl heada...         28\n",
       "3   3                 form adapt child 5 year micropakin         44\n",
       "4   4  doctor treat rhino pharingit prescrib amoxicil...         31"
      ]
     },
     "execution_count": 208,
     "metadata": {},
     "output_type": "execute_result"
    }
   ],
   "source": [
    "train.head()"
   ]
  },
  {
   "cell_type": "code",
   "execution_count": 209,
   "metadata": {},
   "outputs": [
    {
     "data": {
      "application/vnd.jupyter.widget-view+json": {
       "model_id": "accb7939b2b04b77a41257f51a0ff464",
       "version_major": 2,
       "version_minor": 0
      },
      "text/plain": [
       "HBox(children=(IntProgress(value=0, max=8028), HTML(value='')))"
      ]
     },
     "metadata": {},
     "output_type": "display_data"
    },
    {
     "data": {
      "application/vnd.jupyter.widget-view+json": {
       "model_id": "2315fe12f65d44a292329b1e883179e9",
       "version_major": 2,
       "version_minor": 0
      },
      "text/plain": [
       "HBox(children=(IntProgress(value=0, max=2035), HTML(value='')))"
      ]
     },
     "metadata": {},
     "output_type": "display_data"
    }
   ],
   "source": [
    "exclude = set(string.punctuation)\n",
    "\n",
    "def punct_remove(text):\n",
    "    text = ''.join(ch for ch in text if ch not in exclude)\n",
    "    return text\n",
    "\n",
    "train['question'] = train['question'].progress_apply(lambda s: punct_remove(s))\n",
    "test['question'] = test['question'].progress_apply(lambda txt: punct_remove(txt))"
   ]
  },
  {
   "cell_type": "code",
   "execution_count": 210,
   "metadata": {},
   "outputs": [
    {
     "data": {
      "application/vnd.jupyter.widget-view+json": {
       "model_id": "d77f75a50c2b4f09805eb83e4295d28f",
       "version_major": 2,
       "version_minor": 0
      },
      "text/plain": [
       "HBox(children=(IntProgress(value=0, max=8028), HTML(value='')))"
      ]
     },
     "metadata": {},
     "output_type": "display_data"
    },
    {
     "data": {
      "application/vnd.jupyter.widget-view+json": {
       "model_id": "4631ffcea35943d6b9c1d9b59d5106ad",
       "version_major": 2,
       "version_minor": 0
      },
      "text/plain": [
       "HBox(children=(IntProgress(value=0, max=2035), HTML(value='')))"
      ]
     },
     "metadata": {},
     "output_type": "display_data"
    }
   ],
   "source": [
    "from nltk.stem import PorterStemmer\n",
    "from nltk.tokenize import sent_tokenize, word_tokenize\n",
    "stemmer = PorterStemmer()\n",
    "\n",
    "def stemming(text):\n",
    "    words = word_tokenize(text)\n",
    "    new_txt = []\n",
    "    for word in words:\n",
    "        new_txt.append(stemmer.stem(word))\n",
    "    txt = ' '.join(new_txt)\n",
    "    return txt\n",
    "\n",
    "train['question'] = train['question'].progress_apply(lambda s: stemming(s))\n",
    "test['question'] = test['question'].progress_apply(lambda s: stemming(s))"
   ]
  },
  {
   "cell_type": "code",
   "execution_count": 35,
   "metadata": {},
   "outputs": [
    {
     "data": {
      "image/png": "[encoded data removed]",
      "text/plain": [
       "<Figure size 432x288 with 1 Axes>"
      ]
     },
     "metadata": {},
     "output_type": "display_data"
    }
   ],
   "source": [
    "import matplotlib.pyplot as plt\n",
    "\n",
    "plt.Figure(figsize=(5,5))\n",
    "plt.plot(train.groupby('intention').count()['question'])\n",
    "plt.show()"
   ]
  },
  {
   "cell_type": "code",
   "execution_count": 38,
   "metadata": {},
   "outputs": [
    {
     "name": "stdout",
     "output_type": "stream",
     "text": [
      "68414\n"
     ]
    }
   ],
   "source": [
    "print(train['question'].apply(lambda x: len(x.split(' '))).sum())\n",
    "#Size of vocab decreased significantly"
   ]
  },
  {
   "cell_type": "markdown",
   "metadata": {},
   "source": [
    "## Modeling with Neural Networks:\n",
    "### A simple LSTM\n",
    "### A more complex LSTM + fully connected"
   ]
  },
  {
   "cell_type": "code",
   "execution_count": 41,
   "metadata": {},
   "outputs": [
    {
     "data": {
      "text/plain": [
       "(8028, 51)"
      ]
     },
     "execution_count": 41,
     "metadata": {},
     "output_type": "execute_result"
    }
   ],
   "source": [
    "labels = to_categorical(train['intention'], num_classes=None)\n",
    "labels.shape"
   ]
  },
  {
   "cell_type": "code",
   "execution_count": 43,
   "metadata": {},
   "outputs": [],
   "source": [
    "from sklearn.model_selection import train_test_split\n",
    "X_train, X_test, y_train, y_test = train_test_split(train['question'], labels, test_size=0.30, random_state=42)"
   ]
  },
  {
   "cell_type": "code",
   "execution_count": 78,
   "metadata": {},
   "outputs": [],
   "source": [
    "tokenizer = Tokenizer(num_words= 30000)\n",
    "tokenizer.fit_on_texts(X_train)\n",
    "sequences = tokenizer.texts_to_sequences(X_train)\n",
    "text_sequence = pad_sequences(sequences, maxlen=30)"
   ]
  },
  {
   "cell_type": "code",
   "execution_count": 80,
   "metadata": {},
   "outputs": [
    {
     "name": "stdout",
     "output_type": "stream",
     "text": [
      "_________________________________________________________________\n",
      "Layer (type)                 Output Shape              Param #   \n",
      "=================================================================\n",
      "input_3 (InputLayer)         (None, 30)                0         \n",
      "_________________________________________________________________\n",
      "embedding_7 (Embedding)      (None, 30, 30)            900000    \n",
      "_________________________________________________________________\n",
      "lstm_3 (LSTM)                (None, 256)               293888    \n",
      "_________________________________________________________________\n",
      "dropout_3 (Dropout)          (None, 256)               0         \n",
      "_________________________________________________________________\n",
      "dense_15 (Dense)             (None, 51)                13107     \n",
      "_________________________________________________________________\n",
      "activation_3 (Activation)    (None, 51)                0         \n",
      "=================================================================\n",
      "Total params: 1,206,995\n",
      "Trainable params: 1,206,995\n",
      "Non-trainable params: 0\n",
      "_________________________________________________________________\n"
     ]
    }
   ],
   "source": [
    "inputs = Input(shape=[30])\n",
    "layers = Embedding(30000,30,input_length=30)(inputs)\n",
    "layers = LSTM(256)(layers)\n",
    "layers = Dropout(0.2)(layers)\n",
    "layers = Dense(51)(layers)\n",
    "layers = Activation('sigmoid')(layers)\n",
    "model = Model(inputs=inputs,outputs=layers)\n",
    "model.compile(loss='categorical_crossentropy',optimizer='rmsprop',metrics=['accuracy'])\n",
    "model.summary()"
   ]
  },
  {
   "cell_type": "code",
   "execution_count": 81,
   "metadata": {},
   "outputs": [
    {
     "name": "stdout",
     "output_type": "stream",
     "text": [
      "Train on 4495 samples, validate on 1124 samples\n",
      "Epoch 1/50\n",
      " - 9s - loss: 3.2919 - acc: 0.2238 - val_loss: 3.2618 - val_acc: 0.2126\n",
      "Epoch 2/50\n",
      " - 9s - loss: 3.1919 - acc: 0.2258 - val_loss: 3.1637 - val_acc: 0.2117\n",
      "Epoch 3/50\n",
      " - 9s - loss: 2.9831 - acc: 0.2276 - val_loss: 2.8616 - val_acc: 0.2553\n",
      "Epoch 4/50\n",
      " - 8s - loss: 2.6088 - acc: 0.3126 - val_loss: 2.6572 - val_acc: 0.3123\n",
      "Epoch 5/50\n",
      " - 8s - loss: 2.3557 - acc: 0.3780 - val_loss: 2.4088 - val_acc: 0.3603\n",
      "Epoch 6/50\n",
      " - 8s - loss: 2.1482 - acc: 0.4176 - val_loss: 2.4715 - val_acc: 0.3470\n",
      "Epoch 7/50\n",
      " - 8s - loss: 1.9782 - acc: 0.4641 - val_loss: 2.2589 - val_acc: 0.4075\n",
      "Epoch 8/50\n",
      " - 8s - loss: 1.8065 - acc: 0.5048 - val_loss: 2.2580 - val_acc: 0.3959\n",
      "Epoch 9/50\n",
      " - 8s - loss: 1.6532 - acc: 0.5528 - val_loss: 2.2259 - val_acc: 0.4386\n",
      "Epoch 10/50\n",
      " - 8s - loss: 1.5268 - acc: 0.5798 - val_loss: 2.1926 - val_acc: 0.4377\n",
      "Epoch 11/50\n",
      " - 8s - loss: 1.4072 - acc: 0.6105 - val_loss: 2.1029 - val_acc: 0.4609\n",
      "Epoch 12/50\n",
      " - 8s - loss: 1.2909 - acc: 0.6514 - val_loss: 2.1113 - val_acc: 0.4751\n",
      "Epoch 13/50\n",
      " - 8s - loss: 1.1780 - acc: 0.6736 - val_loss: 2.1591 - val_acc: 0.4635\n",
      "Epoch 14/50\n",
      " - 8s - loss: 1.0847 - acc: 0.7043 - val_loss: 2.0739 - val_acc: 0.4769\n",
      "Epoch 15/50\n",
      " - 8s - loss: 0.9832 - acc: 0.7341 - val_loss: 2.1609 - val_acc: 0.4600\n",
      "Epoch 16/50\n",
      " - 8s - loss: 0.8937 - acc: 0.7580 - val_loss: 2.1274 - val_acc: 0.4671\n",
      "Epoch 17/50\n",
      " - 8s - loss: 0.8172 - acc: 0.7722 - val_loss: 2.2677 - val_acc: 0.4724\n",
      "Epoch 18/50\n",
      " - 8s - loss: 0.7477 - acc: 0.7956 - val_loss: 2.2338 - val_acc: 0.4938\n",
      "Epoch 19/50\n",
      " - 8s - loss: 0.6687 - acc: 0.8154 - val_loss: 2.2524 - val_acc: 0.4751\n",
      "Epoch 20/50\n",
      " - 8s - loss: 0.6077 - acc: 0.8369 - val_loss: 2.2489 - val_acc: 0.4867\n",
      "Epoch 21/50\n",
      " - 8s - loss: 0.5367 - acc: 0.8592 - val_loss: 2.2765 - val_acc: 0.4902\n",
      "Epoch 22/50\n",
      " - 8s - loss: 0.4905 - acc: 0.8703 - val_loss: 2.2736 - val_acc: 0.4982\n",
      "Epoch 23/50\n",
      " - 8s - loss: 0.4376 - acc: 0.8874 - val_loss: 2.3283 - val_acc: 0.4982\n",
      "Epoch 24/50\n",
      " - 8s - loss: 0.3923 - acc: 0.8952 - val_loss: 2.4216 - val_acc: 0.5044\n",
      "Epoch 25/50\n",
      " - 8s - loss: 0.3477 - acc: 0.9072 - val_loss: 2.4301 - val_acc: 0.5098\n",
      "Epoch 26/50\n",
      " - 8s - loss: 0.3106 - acc: 0.9219 - val_loss: 2.4361 - val_acc: 0.5000\n",
      "Epoch 27/50\n",
      " - 8s - loss: 0.2815 - acc: 0.9259 - val_loss: 2.4892 - val_acc: 0.5125\n",
      "Epoch 28/50\n",
      " - 8s - loss: 0.2488 - acc: 0.9384 - val_loss: 2.5955 - val_acc: 0.5000\n",
      "Epoch 29/50\n",
      " - 8s - loss: 0.2205 - acc: 0.9433 - val_loss: 2.7015 - val_acc: 0.4991\n",
      "Epoch 30/50\n",
      " - 8s - loss: 0.1944 - acc: 0.9535 - val_loss: 2.6299 - val_acc: 0.5062\n",
      "Epoch 31/50\n",
      " - 8s - loss: 0.1846 - acc: 0.9539 - val_loss: 2.6431 - val_acc: 0.5027\n",
      "Epoch 32/50\n",
      " - 8s - loss: 0.1585 - acc: 0.9617 - val_loss: 2.6548 - val_acc: 0.5053\n",
      "Epoch 33/50\n",
      " - 8s - loss: 0.1511 - acc: 0.9635 - val_loss: 2.6710 - val_acc: 0.5027\n",
      "Epoch 34/50\n",
      " - 8s - loss: 0.1301 - acc: 0.9682 - val_loss: 2.7316 - val_acc: 0.5222\n",
      "Epoch 35/50\n",
      " - 8s - loss: 0.1193 - acc: 0.9695 - val_loss: 2.8000 - val_acc: 0.5098\n",
      "Epoch 36/50\n",
      " - 8s - loss: 0.1025 - acc: 0.9751 - val_loss: 2.8441 - val_acc: 0.5018\n",
      "Epoch 37/50\n",
      " - 8s - loss: 0.1048 - acc: 0.9742 - val_loss: 2.8882 - val_acc: 0.5133\n",
      "Epoch 38/50\n",
      " - 8s - loss: 0.0902 - acc: 0.9775 - val_loss: 2.9006 - val_acc: 0.5018\n",
      "Epoch 39/50\n",
      " - 8s - loss: 0.0832 - acc: 0.9795 - val_loss: 2.9698 - val_acc: 0.5036\n",
      "Epoch 40/50\n",
      " - 8s - loss: 0.0777 - acc: 0.9798 - val_loss: 3.1045 - val_acc: 0.4902\n",
      "Epoch 41/50\n",
      " - 8s - loss: 0.0705 - acc: 0.9844 - val_loss: 3.0089 - val_acc: 0.5044\n",
      "Epoch 42/50\n",
      " - 8s - loss: 0.0659 - acc: 0.9846 - val_loss: 3.0734 - val_acc: 0.5009\n",
      "Epoch 43/50\n",
      " - 9s - loss: 0.0568 - acc: 0.9858 - val_loss: 3.0038 - val_acc: 0.5169\n",
      "Epoch 44/50\n",
      " - 10s - loss: 0.0541 - acc: 0.9884 - val_loss: 3.0794 - val_acc: 0.5098\n",
      "Epoch 45/50\n",
      " - 9s - loss: 0.0528 - acc: 0.9858 - val_loss: 3.1632 - val_acc: 0.5036\n",
      "Epoch 46/50\n",
      " - 9s - loss: 0.0516 - acc: 0.9860 - val_loss: 3.1245 - val_acc: 0.5107\n",
      "Epoch 47/50\n",
      " - 9s - loss: 0.0468 - acc: 0.9891 - val_loss: 3.2568 - val_acc: 0.5009\n",
      "Epoch 48/50\n",
      " - 9s - loss: 0.0494 - acc: 0.9864 - val_loss: 3.1716 - val_acc: 0.5133\n",
      "Epoch 49/50\n",
      " - 8s - loss: 0.0418 - acc: 0.9887 - val_loss: 3.1813 - val_acc: 0.5187\n",
      "Epoch 50/50\n",
      " - 8s - loss: 0.0405 - acc: 0.9900 - val_loss: 3.2372 - val_acc: 0.5080\n"
     ]
    },
    {
     "data": {
      "text/plain": [
       "<keras.callbacks.History at 0x19ac81a4cf8>"
      ]
     },
     "execution_count": 81,
     "metadata": {},
     "output_type": "execute_result"
    }
   ],
   "source": [
    "model.fit(text_sequence, y_train,validation_split=0.2, epochs=50, verbose=2)"
   ]
  },
  {
   "cell_type": "code",
   "execution_count": 82,
   "metadata": {},
   "outputs": [],
   "source": [
    "test_sequences = tokenizer.texts_to_sequences(X_test)\n",
    "test_sequences_matrix = pad_sequences(test_sequences,maxlen=30)"
   ]
  },
  {
   "cell_type": "code",
   "execution_count": 83,
   "metadata": {},
   "outputs": [
    {
     "name": "stdout",
     "output_type": "stream",
     "text": [
      "2409/2409 [==============================] - ETA:  - ETA:  - ETA:  - ETA:  - ETA:  - ETA:  - ETA:  - ETA:  - ETA:  - ETA:  - ETA:  - ETA:  - ETA:  - ETA:  - ETA:  - ETA:  - ETA:  - ETA:  - ETA:  - 1s 444us/step\n"
     ]
    },
    {
     "data": {
      "text/plain": [
       "[3.202273122499275, 0.5197177252095485]"
      ]
     },
     "execution_count": 83,
     "metadata": {},
     "output_type": "execute_result"
    }
   ],
   "source": [
    "model.evaluate(test_sequences_matrix, y_test)"
   ]
  },
  {
   "cell_type": "code",
   "execution_count": 65,
   "metadata": {},
   "outputs": [
    {
     "name": "stdout",
     "output_type": "stream",
     "text": [
      "_________________________________________________________________\n",
      "Layer (type)                 Output Shape              Param #   \n",
      "=================================================================\n",
      "embedding_5 (Embedding)      (None, 30, 30)            900000    \n",
      "_________________________________________________________________\n",
      "conv1d_7 (Conv1D)            (None, 30, 32)            2912      \n",
      "_________________________________________________________________\n",
      "max_pooling1d_7 (MaxPooling1 (None, 15, 32)            0         \n",
      "_________________________________________________________________\n",
      "conv1d_8 (Conv1D)            (None, 15, 32)            3104      \n",
      "_________________________________________________________________\n",
      "max_pooling1d_8 (MaxPooling1 (None, 7, 32)             0         \n",
      "_________________________________________________________________\n",
      "flatten_4 (Flatten)          (None, 224)               0         \n",
      "_________________________________________________________________\n",
      "dense_11 (Dense)             (None, 256)               57600     \n",
      "_________________________________________________________________\n",
      "dense_12 (Dense)             (None, 128)               32896     \n",
      "_________________________________________________________________\n",
      "dense_13 (Dense)             (None, 51)                6579      \n",
      "=================================================================\n",
      "Total params: 1,003,091\n",
      "Trainable params: 1,003,091\n",
      "Non-trainable params: 0\n",
      "_________________________________________________________________\n"
     ]
    }
   ],
   "source": [
    "#This model was a disaster!\n",
    "model = Sequential()\n",
    "model.add(Embedding(30000, 30, input_length=30))\n",
    "model.add(Conv1D(filters=32, kernel_size=3, padding='same', activation='relu'))\n",
    "model.add(MaxPooling1D(pool_size=2))\n",
    "model.add(Conv1D(filters=32, kernel_size=3, padding='same', activation='relu'))\n",
    "model.add(MaxPooling1D(pool_size=2))\n",
    "model.add(Flatten())\n",
    "model.add(Dense(256, activation='relu'))\n",
    "model.add(Dense(128, activation='relu'))\n",
    "model.add(Dense(51, activation='sigmoid'))\n",
    "model.compile(loss='binary_crossentropy', optimizer='rmsprop', metrics=['accuracy'])\n",
    "model.summary()"
   ]
  },
  {
   "cell_type": "code",
   "execution_count": 66,
   "metadata": {},
   "outputs": [
    {
     "name": "stdout",
     "output_type": "stream",
     "text": [
      "Train on 4495 samples, validate on 1124 samples\n",
      "Epoch 1/30\n",
      " - 3s - loss: 0.1072 - acc: 0.9736 - val_loss: 0.0823 - val_acc: 0.9804\n",
      "Epoch 2/30\n",
      " - 2s - loss: 0.0789 - acc: 0.9811 - val_loss: 0.0771 - val_acc: 0.9817\n",
      "Epoch 3/30\n",
      " - 2s - loss: 0.0736 - acc: 0.9823 - val_loss: 0.0759 - val_acc: 0.9814\n",
      "Epoch 4/30\n",
      " - 2s - loss: 0.0694 - acc: 0.9827 - val_loss: 0.0719 - val_acc: 0.9821\n",
      "Epoch 5/30\n",
      " - 2s - loss: 0.0647 - acc: 0.9831 - val_loss: 0.0704 - val_acc: 0.9815\n",
      "Epoch 6/30\n",
      " - 2s - loss: 0.0603 - acc: 0.9835 - val_loss: 0.0690 - val_acc: 0.9824\n",
      "Epoch 7/30\n",
      " - 2s - loss: 0.0557 - acc: 0.9843 - val_loss: 0.0672 - val_acc: 0.9826\n",
      "Epoch 8/30\n",
      " - 2s - loss: 0.0515 - acc: 0.9851 - val_loss: 0.0675 - val_acc: 0.9828\n",
      "Epoch 9/30\n",
      " - 2s - loss: 0.0475 - acc: 0.9862 - val_loss: 0.0695 - val_acc: 0.9829\n",
      "Epoch 10/30\n",
      " - 2s - loss: 0.0437 - acc: 0.9872 - val_loss: 0.0709 - val_acc: 0.9828\n",
      "Epoch 11/30\n",
      " - 2s - loss: 0.0402 - acc: 0.9880 - val_loss: 0.0757 - val_acc: 0.9824\n",
      "Epoch 12/30\n",
      " - 2s - loss: 0.0369 - acc: 0.9888 - val_loss: 0.0771 - val_acc: 0.9825\n",
      "Epoch 13/30\n",
      " - 2s - loss: 0.0341 - acc: 0.9896 - val_loss: 0.0782 - val_acc: 0.9823\n",
      "Epoch 14/30\n",
      " - 2s - loss: 0.0315 - acc: 0.9903 - val_loss: 0.0859 - val_acc: 0.9822\n",
      "Epoch 15/30\n",
      " - 2s - loss: 0.0287 - acc: 0.9913 - val_loss: 0.0912 - val_acc: 0.9816\n",
      "Epoch 16/30\n",
      " - 2s - loss: 0.0266 - acc: 0.9918 - val_loss: 0.0910 - val_acc: 0.9814\n",
      "Epoch 17/30\n",
      " - 2s - loss: 0.0242 - acc: 0.9924 - val_loss: 0.1030 - val_acc: 0.9802\n",
      "Epoch 18/30\n",
      " - 2s - loss: 0.0223 - acc: 0.9929 - val_loss: 0.1025 - val_acc: 0.9807\n",
      "Epoch 19/30\n",
      " - 2s - loss: 0.0203 - acc: 0.9934 - val_loss: 0.1083 - val_acc: 0.9804\n",
      "Epoch 20/30\n",
      " - 2s - loss: 0.0186 - acc: 0.9941 - val_loss: 0.1123 - val_acc: 0.9808\n",
      "Epoch 21/30\n",
      " - 2s - loss: 0.0170 - acc: 0.9946 - val_loss: 0.1210 - val_acc: 0.9809\n",
      "Epoch 22/30\n",
      " - 3s - loss: 0.0157 - acc: 0.9951 - val_loss: 0.1237 - val_acc: 0.9800\n",
      "Epoch 23/30\n",
      " - 3s - loss: 0.0143 - acc: 0.9954 - val_loss: 0.1311 - val_acc: 0.9794\n",
      "Epoch 24/30\n",
      " - 2s - loss: 0.0133 - acc: 0.9958 - val_loss: 0.1350 - val_acc: 0.9790\n",
      "Epoch 25/30\n",
      " - 2s - loss: 0.0123 - acc: 0.9960 - val_loss: 0.1353 - val_acc: 0.9791\n",
      "Epoch 26/30\n",
      " - 2s - loss: 0.0114 - acc: 0.9963 - val_loss: 0.1440 - val_acc: 0.9797\n",
      "Epoch 27/30\n",
      " - 2s - loss: 0.0101 - acc: 0.9967 - val_loss: 0.1492 - val_acc: 0.9790\n",
      "Epoch 28/30\n",
      " - 2s - loss: 0.0096 - acc: 0.9970 - val_loss: 0.1491 - val_acc: 0.9792\n",
      "Epoch 29/30\n",
      " - 2s - loss: 0.0089 - acc: 0.9972 - val_loss: 0.1557 - val_acc: 0.9793\n",
      "Epoch 30/30\n",
      " - 2s - loss: 0.0081 - acc: 0.9975 - val_loss: 0.1590 - val_acc: 0.9781\n"
     ]
    },
    {
     "data": {
      "text/plain": [
       "<keras.callbacks.History at 0x19ac222e630>"
      ]
     },
     "execution_count": 66,
     "metadata": {},
     "output_type": "execute_result"
    }
   ],
   "source": [
    "model.fit(text_sequence, y_train,validation_split=0.2, epochs=30, verbose=2)"
   ]
  },
  {
   "cell_type": "code",
   "execution_count": 67,
   "metadata": {},
   "outputs": [
    {
     "name": "stdout",
     "output_type": "stream",
     "text": [
      "2409/2409 [==============================] - ETA:  - ETA:  - ETA:  - 0s 47us/step\n"
     ]
    },
    {
     "data": {
      "text/plain": [
       "[0.1525220096284495, 0.9783654502933576]"
      ]
     },
     "execution_count": 67,
     "metadata": {},
     "output_type": "execute_result"
    }
   ],
   "source": [
    "model.evaluate(test_sequences_matrix, y_test)"
   ]
  },
  {
   "cell_type": "code",
   "execution_count": 68,
   "metadata": {},
   "outputs": [],
   "source": [
    "y_pred = model.predict(test_sequences_matrix)"
   ]
  },
  {
   "cell_type": "code",
   "execution_count": 69,
   "metadata": {},
   "outputs": [
    {
     "data": {
      "text/plain": [
       "(2409, 51)"
      ]
     },
     "execution_count": 69,
     "metadata": {},
     "output_type": "execute_result"
    }
   ],
   "source": [
    "y_pred.shape"
   ]
  },
  {
   "cell_type": "code",
   "execution_count": 73,
   "metadata": {},
   "outputs": [],
   "source": [
    "def return_int(lst):\n",
    "    index = np.argmax(lst)\n",
    "    return index\n",
    "# for i in range(2409):\n",
    "#     print(return_int(y_pred[i]))"
   ]
  },
  {
   "cell_type": "code",
   "execution_count": 70,
   "metadata": {},
   "outputs": [
    {
     "data": {
      "text/html": [
       "<div>\n",
       "<style scoped>\n",
       "    .dataframe tbody tr th:only-of-type {\n",
       "        vertical-align: middle;\n",
       "    }\n",
       "\n",
       "    .dataframe tbody tr th {\n",
       "        vertical-align: top;\n",
       "    }\n",
       "\n",
       "    .dataframe thead th {\n",
       "        text-align: right;\n",
       "    }\n",
       "</style>\n",
       "<table border=\"1\" class=\"dataframe\">\n",
       "  <thead>\n",
       "    <tr style=\"text-align: right;\">\n",
       "      <th></th>\n",
       "      <th>ID</th>\n",
       "      <th>question</th>\n",
       "    </tr>\n",
       "  </thead>\n",
       "  <tbody>\n",
       "    <tr>\n",
       "      <th>0</th>\n",
       "      <td>8028</td>\n",
       "      <td>homeopathi autismvaccineantidot</td>\n",
       "    </tr>\n",
       "    <tr>\n",
       "      <th>1</th>\n",
       "      <td>8029</td>\n",
       "      <td>topic appli atop dermat infant</td>\n",
       "    </tr>\n",
       "    <tr>\n",
       "      <th>2</th>\n",
       "      <td>8030</td>\n",
       "      <td>cyst treatment dian 35</td>\n",
       "    </tr>\n",
       "    <tr>\n",
       "      <th>3</th>\n",
       "      <td>8031</td>\n",
       "      <td>suffer venou insuffici acrocyanos found quit s...</td>\n",
       "    </tr>\n",
       "    <tr>\n",
       "      <th>4</th>\n",
       "      <td>8032</td>\n",
       "      <td>pregnant 1 month essenti oil consind</td>\n",
       "    </tr>\n",
       "  </tbody>\n",
       "</table>\n",
       "</div>"
      ],
      "text/plain": [
       "     ID                                           question\n",
       "0  8028                    homeopathi autismvaccineantidot\n",
       "1  8029                     topic appli atop dermat infant\n",
       "2  8030                             cyst treatment dian 35\n",
       "3  8031  suffer venou insuffici acrocyanos found quit s...\n",
       "4  8032               pregnant 1 month essenti oil consind"
      ]
     },
     "execution_count": 70,
     "metadata": {},
     "output_type": "execute_result"
    }
   ],
   "source": [
    "#Seems a little promising although the accuracies are scary good - let's give it a shot\n",
    "test.head()"
   ]
  },
  {
   "cell_type": "code",
   "execution_count": 71,
   "metadata": {},
   "outputs": [],
   "source": [
    "test['Intention'] = test['question'].apply(lambda st: return_int(st))"
   ]
  },
  {
   "cell_type": "code",
   "execution_count": 74,
   "metadata": {},
   "outputs": [],
   "source": [
    "test.head()\n",
    "test.drop('question', inplace=True, axis = 1)"
   ]
  },
  {
   "cell_type": "code",
   "execution_count": 75,
   "metadata": {},
   "outputs": [
    {
     "data": {
      "text/html": [
       "<div>\n",
       "<style scoped>\n",
       "    .dataframe tbody tr th:only-of-type {\n",
       "        vertical-align: middle;\n",
       "    }\n",
       "\n",
       "    .dataframe tbody tr th {\n",
       "        vertical-align: top;\n",
       "    }\n",
       "\n",
       "    .dataframe thead th {\n",
       "        text-align: right;\n",
       "    }\n",
       "</style>\n",
       "<table border=\"1\" class=\"dataframe\">\n",
       "  <thead>\n",
       "    <tr style=\"text-align: right;\">\n",
       "      <th></th>\n",
       "      <th>ID</th>\n",
       "      <th>Intention</th>\n",
       "    </tr>\n",
       "  </thead>\n",
       "  <tbody>\n",
       "    <tr>\n",
       "      <th>0</th>\n",
       "      <td>8028</td>\n",
       "      <td>0</td>\n",
       "    </tr>\n",
       "    <tr>\n",
       "      <th>1</th>\n",
       "      <td>8029</td>\n",
       "      <td>0</td>\n",
       "    </tr>\n",
       "    <tr>\n",
       "      <th>2</th>\n",
       "      <td>8030</td>\n",
       "      <td>0</td>\n",
       "    </tr>\n",
       "    <tr>\n",
       "      <th>3</th>\n",
       "      <td>8031</td>\n",
       "      <td>0</td>\n",
       "    </tr>\n",
       "    <tr>\n",
       "      <th>4</th>\n",
       "      <td>8032</td>\n",
       "      <td>0</td>\n",
       "    </tr>\n",
       "  </tbody>\n",
       "</table>\n",
       "</div>"
      ],
      "text/plain": [
       "     ID  Intention\n",
       "0  8028          0\n",
       "1  8029          0\n",
       "2  8030          0\n",
       "3  8031          0\n",
       "4  8032          0"
      ]
     },
     "execution_count": 75,
     "metadata": {},
     "output_type": "execute_result"
    }
   ],
   "source": [
    "test.head()"
   ]
  },
  {
   "cell_type": "code",
   "execution_count": 77,
   "metadata": {},
   "outputs": [],
   "source": [
    "test.to_csv(r\"C:\\Users\\elonm\\Desktop\\output_test.csv\", index=False)"
   ]
  },
  {
   "cell_type": "markdown",
   "metadata": {},
   "source": [
    "## Naive Bayes Classifier"
   ]
  },
  {
   "cell_type": "code",
   "execution_count": 130,
   "metadata": {},
   "outputs": [
    {
     "data": {
      "text/html": [
       "<div>\n",
       "<style scoped>\n",
       "    .dataframe tbody tr th:only-of-type {\n",
       "        vertical-align: middle;\n",
       "    }\n",
       "\n",
       "    .dataframe tbody tr th {\n",
       "        vertical-align: top;\n",
       "    }\n",
       "\n",
       "    .dataframe thead th {\n",
       "        text-align: right;\n",
       "    }\n",
       "</style>\n",
       "<table border=\"1\" class=\"dataframe\">\n",
       "  <thead>\n",
       "    <tr style=\"text-align: right;\">\n",
       "      <th></th>\n",
       "      <th>ID</th>\n",
       "      <th>question</th>\n",
       "      <th>intention</th>\n",
       "    </tr>\n",
       "  </thead>\n",
       "  <tbody>\n",
       "    <tr>\n",
       "      <th>0</th>\n",
       "      <td>0</td>\n",
       "      <td>hello wa wrong forum question base took first ...</td>\n",
       "      <td>28</td>\n",
       "    </tr>\n",
       "    <tr>\n",
       "      <th>1</th>\n",
       "      <td>1</td>\n",
       "      <td>motilium reliev nausea</td>\n",
       "      <td>31</td>\n",
       "    </tr>\n",
       "    <tr>\n",
       "      <th>2</th>\n",
       "      <td>2</td>\n",
       "      <td>doctor prescrib adenyl 2nd stamp terribl heada...</td>\n",
       "      <td>28</td>\n",
       "    </tr>\n",
       "    <tr>\n",
       "      <th>3</th>\n",
       "      <td>3</td>\n",
       "      <td>form adapt child 5 year micropakin</td>\n",
       "      <td>44</td>\n",
       "    </tr>\n",
       "    <tr>\n",
       "      <th>4</th>\n",
       "      <td>4</td>\n",
       "      <td>doctor treat rhino pharingit prescrib amoxicil...</td>\n",
       "      <td>31</td>\n",
       "    </tr>\n",
       "  </tbody>\n",
       "</table>\n",
       "</div>"
      ],
      "text/plain": [
       "   ID                                           question  intention\n",
       "0   0  hello wa wrong forum question base took first ...         28\n",
       "1   1                             motilium reliev nausea         31\n",
       "2   2  doctor prescrib adenyl 2nd stamp terribl heada...         28\n",
       "3   3                 form adapt child 5 year micropakin         44\n",
       "4   4  doctor treat rhino pharingit prescrib amoxicil...         31"
      ]
     },
     "execution_count": 130,
     "metadata": {},
     "output_type": "execute_result"
    }
   ],
   "source": [
    "train.head()"
   ]
  },
  {
   "cell_type": "code",
   "execution_count": 179,
   "metadata": {},
   "outputs": [],
   "source": [
    "from sklearn.model_selection import train_test_split\n",
    "X_train, X_test, y_train, y_test = train_test_split(train['question'], train['intention'], test_size=0.30, random_state=42)"
   ]
  },
  {
   "cell_type": "code",
   "execution_count": 132,
   "metadata": {},
   "outputs": [
    {
     "data": {
      "text/plain": [
       "(5619, 5702)"
      ]
     },
     "execution_count": 132,
     "metadata": {},
     "output_type": "execute_result"
    }
   ],
   "source": [
    "count_vect = CountVectorizer()\n",
    "X_train_counts = count_vect.fit_transform(X_train)\n",
    "\n",
    "transformer = TfidfTransformer()\n",
    "tfidf_vector_train = transformer.fit_transform(X_train_counts)\n",
    "tfidf_vector_train.shape"
   ]
  },
  {
   "cell_type": "code",
   "execution_count": 133,
   "metadata": {},
   "outputs": [],
   "source": [
    "clf = MultinomialNB().fit(tfidf_vector_train, y_train)"
   ]
  },
  {
   "cell_type": "code",
   "execution_count": 197,
   "metadata": {},
   "outputs": [],
   "source": [
    "text_clf = Pipeline([('vect', CountVectorizer(ngram_range=(1,2))), ('tfidf', TfidfTransformer()), ('clf', MultinomialNB(alpha=0.01, class_prior = None, fit_prior = True))])"
   ]
  },
  {
   "cell_type": "code",
   "execution_count": 198,
   "metadata": {},
   "outputs": [],
   "source": [
    "text_clf = text_clf.fit(X_train, y_train)"
   ]
  },
  {
   "cell_type": "code",
   "execution_count": 199,
   "metadata": {},
   "outputs": [
    {
     "data": {
      "text/plain": [
       "0.5047737650477376"
      ]
     },
     "execution_count": 199,
     "metadata": {},
     "output_type": "execute_result"
    }
   ],
   "source": [
    "predicted = text_clf.predict(X_test)\n",
    "np.mean(predicted == y_test)"
   ]
  },
  {
   "cell_type": "code",
   "execution_count": 137,
   "metadata": {},
   "outputs": [],
   "source": [
    "#SVM"
   ]
  },
  {
   "cell_type": "code",
   "execution_count": 218,
   "metadata": {},
   "outputs": [],
   "source": [
    "text_clf_svm = Pipeline([('vect', CountVectorizer(ngram_range=(1,2))),\n",
    "                      ('tfidf', TfidfTransformer()),\n",
    "                      ('clf-svm', SGDClassifier(loss='hinge', penalty='l2',\n",
    "                                            alpha=0.0001, n_iter=5, random_state=42))])"
   ]
  },
  {
   "cell_type": "code",
   "execution_count": 219,
   "metadata": {},
   "outputs": [
    {
     "name": "stderr",
     "output_type": "stream",
     "text": [
      "D:\\Anaconda3\\lib\\site-packages\\sklearn\\linear_model\\stochastic_gradient.py:117: DeprecationWarning: n_iter parameter is deprecated in 0.19 and will be removed in 0.21. Use max_iter and tol instead.\n",
      "  DeprecationWarning)\n"
     ]
    },
    {
     "data": {
      "text/plain": [
       "0.5487754254877543"
      ]
     },
     "execution_count": 219,
     "metadata": {},
     "output_type": "execute_result"
    }
   ],
   "source": [
    "text_clf_svm.fit(X_train, y_train)\n",
    "\n",
    "predicted_svm = text_clf_svm.predict(X_test)\n",
    "np.mean(predicted_svm == y_test)"
   ]
  },
  {
   "cell_type": "code",
   "execution_count": 201,
   "metadata": {},
   "outputs": [
    {
     "name": "stderr",
     "output_type": "stream",
     "text": [
      "D:\\Anaconda3\\lib\\site-packages\\sklearn\\linear_model\\stochastic_gradient.py:117: DeprecationWarning: n_iter parameter is deprecated in 0.19 and will be removed in 0.21. Use max_iter and tol instead.\n",
      "  DeprecationWarning)\n"
     ]
    },
    {
     "data": {
      "text/plain": [
       "{'clf-svm__alpha': 0.0001,\n",
       " 'tfidf__use_idf': False,\n",
       " 'vect__ngram_range': (1, 2)}"
      ]
     },
     "execution_count": 201,
     "metadata": {},
     "output_type": "execute_result"
    }
   ],
   "source": [
    "parameters_svm = {'vect__ngram_range': [(1, 1), (1, 2), (2,2), (2,3), (3,3)], 'tfidf__use_idf': (True, False), 'clf-svm__alpha': (0.0001, 0.0005, 0.1, 0.2, 0.5, 1e-2, 1e-3)}\n",
    "gs_clf_svm = GridSearchCV(text_clf_svm, parameters_svm, n_jobs=-1)\n",
    "gs_clf_svm = gs_clf_svm.fit(train['question'], train['intention'])\n",
    "gs_clf_svm.best_score_\n",
    "gs_clf_svm.best_params_"
   ]
  },
  {
   "cell_type": "code",
   "execution_count": 153,
   "metadata": {},
   "outputs": [],
   "source": [
    "#Let's use the SVM to make some predictions and test"
   ]
  },
  {
   "cell_type": "code",
   "execution_count": 213,
   "metadata": {},
   "outputs": [
    {
     "name": "stderr",
     "output_type": "stream",
     "text": [
      "D:\\Anaconda3\\lib\\site-packages\\sklearn\\linear_model\\stochastic_gradient.py:117: DeprecationWarning: n_iter parameter is deprecated in 0.19 and will be removed in 0.21. Use max_iter and tol instead.\n",
      "  DeprecationWarning)\n"
     ]
    }
   ],
   "source": [
    "text_clf_svm.fit(train['question'], train['intention'])\n",
    "predicted_svm = text_clf_svm.predict(test['question'])\n",
    "# np.mean(predicted_svm == y_test)"
   ]
  },
  {
   "cell_type": "code",
   "execution_count": 214,
   "metadata": {},
   "outputs": [
    {
     "data": {
      "application/vnd.jupyter.widget-view+json": {
       "model_id": "9093adb4832b4fb28410357d5e488784",
       "version_major": 2,
       "version_minor": 0
      },
      "text/plain": [
       "HBox(children=(IntProgress(value=0, max=2035), HTML(value='')))"
      ]
     },
     "metadata": {},
     "output_type": "display_data"
    }
   ],
   "source": [
    "test['question'] = test['question'].progress_apply(lambda s: text_clf_svm.predict([s])[0])"
   ]
  },
  {
   "cell_type": "code",
   "execution_count": 215,
   "metadata": {},
   "outputs": [
    {
     "data": {
      "text/html": [
       "<div>\n",
       "<style scoped>\n",
       "    .dataframe tbody tr th:only-of-type {\n",
       "        vertical-align: middle;\n",
       "    }\n",
       "\n",
       "    .dataframe tbody tr th {\n",
       "        vertical-align: top;\n",
       "    }\n",
       "\n",
       "    .dataframe thead tr th {\n",
       "        text-align: left;\n",
       "    }\n",
       "</style>\n",
       "<table border=\"1\" class=\"dataframe\">\n",
       "  <thead>\n",
       "    <tr>\n",
       "      <th></th>\n",
       "      <th>ID</th>\n",
       "      <th>Intention</th>\n",
       "    </tr>\n",
       "  </thead>\n",
       "  <tbody>\n",
       "    <tr>\n",
       "      <th>0</th>\n",
       "      <td>8028</td>\n",
       "      <td>32</td>\n",
       "    </tr>\n",
       "    <tr>\n",
       "      <th>1</th>\n",
       "      <td>8029</td>\n",
       "      <td>32</td>\n",
       "    </tr>\n",
       "    <tr>\n",
       "      <th>2</th>\n",
       "      <td>8030</td>\n",
       "      <td>28</td>\n",
       "    </tr>\n",
       "    <tr>\n",
       "      <th>3</th>\n",
       "      <td>8031</td>\n",
       "      <td>32</td>\n",
       "    </tr>\n",
       "    <tr>\n",
       "      <th>4</th>\n",
       "      <td>8032</td>\n",
       "      <td>44</td>\n",
       "    </tr>\n",
       "  </tbody>\n",
       "</table>\n",
       "</div>"
      ],
      "text/plain": [
       "     ID Intention\n",
       "0  8028        32\n",
       "1  8029        32\n",
       "2  8030        28\n",
       "3  8031        32\n",
       "4  8032        44"
      ]
     },
     "execution_count": 215,
     "metadata": {},
     "output_type": "execute_result"
    }
   ],
   "source": [
    "test.columns = [['ID', 'Intention']]\n",
    "test.head()"
   ]
  },
  {
   "cell_type": "code",
   "execution_count": 216,
   "metadata": {},
   "outputs": [],
   "source": [
    "test.to_csv(r\"C:\\Users\\elonm\\Desktop\\output_test.csv\", index=False)"
   ]
  },
  {
   "cell_type": "code",
   "execution_count": null,
   "metadata": {},
   "outputs": [],
   "source": []
  },
  {
   "cell_type": "markdown",
   "metadata": {},
   "source": [
    "## Conclusion upto this point:\n",
    "### 1. Domain knowledge need to be applied.\n",
    "### 2. Class imbalance problem need to be resolved. \n",
    "### 3. Handling of 0 and 1 values"
   ]
  },
  {
   "cell_type": "code",
   "execution_count": null,
   "metadata": {},
   "outputs": [],
   "source": [
    "#Neural Network again - simple Dense\n"
   ]
  }
 ],
 "metadata": {
  "kernelspec": {
   "display_name": "Python 3",
   "language": "python",
   "name": "python3"
  },
  "language_info": {
   "codemirror_mode": {
    "name": "ipython",
    "version": 3
   },
   "file_extension": ".py",
   "mimetype": "text/x-python",
   "name": "python",
   "nbconvert_exporter": "python",
   "pygments_lexer": "ipython3",
   "version": "3.6.5"
  }
 },
 "nbformat": 4,
 "nbformat_minor": 2
}
