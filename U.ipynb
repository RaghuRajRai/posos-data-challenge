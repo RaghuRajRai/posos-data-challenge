{
 "cells": [
  {
   "cell_type": "code",
   "execution_count": 1,
   "metadata": {},
   "outputs": [
    {
     "name": "stderr",
     "output_type": "stream",
     "text": [
      "Using TensorFlow backend.\n"
     ]
    }
   ],
   "source": [
    "import pandas as pd\n",
    "import string\n",
    "import nltk\n",
    "import numpy as np\n",
    "import keras\n",
    "from tqdm._tqdm_notebook import tqdm_notebook\n",
    "tqdm_notebook.pandas()\n",
    "from nltk.stem.wordnet import WordNetLemmatizer\n",
    "from nltk.corpus import wordnet\n",
    "from sklearn.feature_extraction.text import TfidfVectorizer\n",
    "from keras.models import Sequential\n",
    "import pickle\n",
    "from keras.preprocessing.text import Tokenizer\n",
    "from keras.preprocessing.sequence import pad_sequences\n",
    "from keras.models import Sequential, Model\n",
    "from keras.layers import Dense, Flatten, LSTM, Conv1D, MaxPooling1D, Dropout, Activation\n",
    "from keras.layers.embeddings import Embedding\n",
    "from keras import optimizers\n",
    "from keras.layers import Input\n",
    "from keras.callbacks import EarlyStopping"
   ]
  },
  {
   "cell_type": "code",
   "execution_count": 4,
   "metadata": {},
   "outputs": [
    {
     "name": "stdout",
     "output_type": "stream",
     "text": [
      "(8028, 3) (2035, 2)\n"
     ]
    },
    {
     "data": {
      "text/html": [
       "<div>\n",
       "<style scoped>\n",
       "    .dataframe tbody tr th:only-of-type {\n",
       "        vertical-align: middle;\n",
       "    }\n",
       "\n",
       "    .dataframe tbody tr th {\n",
       "        vertical-align: top;\n",
       "    }\n",
       "\n",
       "    .dataframe thead th {\n",
       "        text-align: right;\n",
       "    }\n",
       "</style>\n",
       "<table border=\"1\" class=\"dataframe\">\n",
       "  <thead>\n",
       "    <tr style=\"text-align: right;\">\n",
       "      <th></th>\n",
       "      <th>ID</th>\n",
       "      <th>question</th>\n",
       "      <th>intention</th>\n",
       "    </tr>\n",
       "  </thead>\n",
       "  <tbody>\n",
       "    <tr>\n",
       "      <th>0</th>\n",
       "      <td>0</td>\n",
       "      <td>hello i m wa wrong forum for my question so i ...</td>\n",
       "      <td>28</td>\n",
       "    </tr>\n",
       "    <tr>\n",
       "      <th>1</th>\n",
       "      <td>1</td>\n",
       "      <td>is what the motilium reliev me against nausea</td>\n",
       "      <td>31</td>\n",
       "    </tr>\n",
       "    <tr>\n",
       "      <th>2</th>\n",
       "      <td>2</td>\n",
       "      <td>my doctor prescrib adenyl 2nd stamp of terribl...</td>\n",
       "      <td>28</td>\n",
       "    </tr>\n",
       "    <tr>\n",
       "      <th>3</th>\n",
       "      <td>3</td>\n",
       "      <td>is there a form adapt to the child of 5 year o...</td>\n",
       "      <td>44</td>\n",
       "    </tr>\n",
       "    <tr>\n",
       "      <th>4</th>\n",
       "      <td>4</td>\n",
       "      <td>my doctor treat me to a rhino pharingit and pr...</td>\n",
       "      <td>31</td>\n",
       "    </tr>\n",
       "  </tbody>\n",
       "</table>\n",
       "</div>"
      ],
      "text/plain": [
       "   ID                                           question  intention\n",
       "0   0  hello i m wa wrong forum for my question so i ...         28\n",
       "1   1      is what the motilium reliev me against nausea         31\n",
       "2   2  my doctor prescrib adenyl 2nd stamp of terribl...         28\n",
       "3   3  is there a form adapt to the child of 5 year o...         44\n",
       "4   4  my doctor treat me to a rhino pharingit and pr...         31"
      ]
     },
     "execution_count": 4,
     "metadata": {},
     "output_type": "execute_result"
    }
   ],
   "source": [
    "train = pd.read_csv(r\"C:\\Users\\elonm\\Desktop\\timepass\\train.csv\")\n",
    "train.head()\n",
    "test = pd.read_csv(r\"C:\\Users\\elonm\\Desktop\\timepass\\test.csv\")\n",
    "test.head()\n",
    "print(train.shape, test.shape)\n",
    "train.head()"
   ]
  },
  {
   "cell_type": "code",
   "execution_count": 7,
   "metadata": {},
   "outputs": [
    {
     "data": {
      "text/html": [
       "<div>\n",
       "<style scoped>\n",
       "    .dataframe tbody tr th:only-of-type {\n",
       "        vertical-align: middle;\n",
       "    }\n",
       "\n",
       "    .dataframe tbody tr th {\n",
       "        vertical-align: top;\n",
       "    }\n",
       "\n",
       "    .dataframe thead th {\n",
       "        text-align: right;\n",
       "    }\n",
       "</style>\n",
       "<table border=\"1\" class=\"dataframe\">\n",
       "  <thead>\n",
       "    <tr style=\"text-align: right;\">\n",
       "      <th></th>\n",
       "      <th>ID</th>\n",
       "      <th>question</th>\n",
       "      <th>intention</th>\n",
       "    </tr>\n",
       "  </thead>\n",
       "  <tbody>\n",
       "    <tr>\n",
       "      <th>0</th>\n",
       "      <td>0</td>\n",
       "      <td>hello i m wa wrong forum for my question so i ...</td>\n",
       "      <td>28</td>\n",
       "    </tr>\n",
       "    <tr>\n",
       "      <th>1</th>\n",
       "      <td>1</td>\n",
       "      <td>is what the motilium reliev me against nausea</td>\n",
       "      <td>31</td>\n",
       "    </tr>\n",
       "    <tr>\n",
       "      <th>2</th>\n",
       "      <td>2</td>\n",
       "      <td>my doctor prescrib adenyl 2nd stamp of terribl...</td>\n",
       "      <td>28</td>\n",
       "    </tr>\n",
       "    <tr>\n",
       "      <th>3</th>\n",
       "      <td>3</td>\n",
       "      <td>is there a form adapt to the child of 5 year o...</td>\n",
       "      <td>44</td>\n",
       "    </tr>\n",
       "    <tr>\n",
       "      <th>4</th>\n",
       "      <td>4</td>\n",
       "      <td>my doctor treat me to a rhino pharingit and pr...</td>\n",
       "      <td>31</td>\n",
       "    </tr>\n",
       "  </tbody>\n",
       "</table>\n",
       "</div>"
      ],
      "text/plain": [
       "   ID                                           question  intention\n",
       "0   0  hello i m wa wrong forum for my question so i ...         28\n",
       "1   1      is what the motilium reliev me against nausea         31\n",
       "2   2  my doctor prescrib adenyl 2nd stamp of terribl...         28\n",
       "3   3  is there a form adapt to the child of 5 year o...         44\n",
       "4   4  my doctor treat me to a rhino pharingit and pr...         31"
      ]
     },
     "execution_count": 7,
     "metadata": {},
     "output_type": "execute_result"
    }
   ],
   "source": [
    "train.head()"
   ]
  },
  {
   "cell_type": "code",
   "execution_count": 6,
   "metadata": {},
   "outputs": [
    {
     "data": {
      "text/html": [
       "<div>\n",
       "<style scoped>\n",
       "    .dataframe tbody tr th:only-of-type {\n",
       "        vertical-align: middle;\n",
       "    }\n",
       "\n",
       "    .dataframe tbody tr th {\n",
       "        vertical-align: top;\n",
       "    }\n",
       "\n",
       "    .dataframe thead th {\n",
       "        text-align: right;\n",
       "    }\n",
       "</style>\n",
       "<table border=\"1\" class=\"dataframe\">\n",
       "  <thead>\n",
       "    <tr style=\"text-align: right;\">\n",
       "      <th></th>\n",
       "      <th>ID</th>\n",
       "      <th>question</th>\n",
       "    </tr>\n",
       "  </thead>\n",
       "  <tbody>\n",
       "    <tr>\n",
       "      <th>0</th>\n",
       "      <td>8028</td>\n",
       "      <td>homeopathy autism-vaccine-antidote ??</td>\n",
       "    </tr>\n",
       "    <tr>\n",
       "      <th>1</th>\n",
       "      <td>8029</td>\n",
       "      <td>What topically applied to atopic dermatitis in...</td>\n",
       "    </tr>\n",
       "    <tr>\n",
       "      <th>2</th>\n",
       "      <td>8030</td>\n",
       "      <td>cyst treatment with Diane 35?</td>\n",
       "    </tr>\n",
       "    <tr>\n",
       "      <th>3</th>\n",
       "      <td>8031</td>\n",
       "      <td>I suffer from venous insufficiency (acrocyanos...</td>\n",
       "    </tr>\n",
       "    <tr>\n",
       "      <th>4</th>\n",
       "      <td>8032</td>\n",
       "      <td>I am pregnant for 1 month is that essential oi...</td>\n",
       "    </tr>\n",
       "  </tbody>\n",
       "</table>\n",
       "</div>"
      ],
      "text/plain": [
       "     ID                                           question\n",
       "0  8028              homeopathy autism-vaccine-antidote ??\n",
       "1  8029  What topically applied to atopic dermatitis in...\n",
       "2  8030                      cyst treatment with Diane 35?\n",
       "3  8031  I suffer from venous insufficiency (acrocyanos...\n",
       "4  8032  I am pregnant for 1 month is that essential oi..."
      ]
     },
     "execution_count": 6,
     "metadata": {},
     "output_type": "execute_result"
    }
   ],
   "source": [
    "test.head()"
   ]
  },
  {
   "cell_type": "code",
   "execution_count": 8,
   "metadata": {},
   "outputs": [
    {
     "name": "stdout",
     "output_type": "stream",
     "text": [
      "Stopwords from the NLTK corpus:  {'further', 'shouldn', 'most', 'before', 'no', 'didn', 'don', 'she', 've', \"needn't\", 'll', 'herself', 'that', 'very', \"should've\", 'hadn', 'be', 'yours', 'over', 'not', 'me', 'these', 'ain', 'only', 'aren', 'its', 'had', 'am', \"that'll\", \"you'd\", 'up', 'y', 'are', 'those', 'into', \"mightn't\", 'own', 'each', 'i', 'we', 'because', 'there', \"couldn't\", 'does', 'himself', 'your', 'more', 'd', 'why', 'were', 'what', \"isn't\", \"it's\", 'being', \"wouldn't\", 'below', 'doing', 'did', 'through', 'an', 'against', 'until', 'by', 'out', \"weren't\", 'm', 'was', 'yourself', 'will', 'is', 'having', 'if', 'between', 's', 'other', 'o', 'couldn', 'how', 'mustn', 'you', 'itself', 'which', 'can', 'the', 'hers', 'won', 'doesn', 'again', 'so', 'myself', 'above', 'wouldn', \"you've\", 'them', 'than', \"shan't\", \"haven't\", 'nor', 'my', 'all', \"didn't\", 'off', 'now', 'on', 'then', 'hasn', \"you're\", \"hasn't\", 'while', 'once', \"you'll\", 'during', \"mustn't\", 'do', 'after', 'with', 'when', 'for', 'our', 'themselves', 'but', 'at', 'some', 'of', 'whom', 'and', 'as', 'any', 'both', 'few', 'weren', 'ma', 'shan', 'here', 't', 'him', 'their', 'has', 'from', 'down', 'to', 'who', 'ourselves', 'haven', \"shouldn't\", 'his', 'under', 'they', 'or', \"wasn't\", 'too', 'it', 'about', 'theirs', 'ours', \"doesn't\", 'her', 'just', 'yourselves', 'he', \"she's\", 'isn', \"aren't\", 'such', 'have', \"hadn't\", \"don't\", 're', 'a', 'wasn', \"won't\", 'this', 'where', 'needn', 'same', 'in', 'been', 'mightn', 'should'}\n"
     ]
    },
    {
     "data": {
      "application/vnd.jupyter.widget-view+json": {
       "model_id": "c69e5e0bc74c40f383820c40746adba2",
       "version_major": 2,
       "version_minor": 0
      },
      "text/plain": [
       "HBox(children=(IntProgress(value=0, max=8028), HTML(value='')))"
      ]
     },
     "metadata": {},
     "output_type": "display_data"
    },
    {
     "name": "stdout",
     "output_type": "stream",
     "text": [
      "\n"
     ]
    }
   ],
   "source": [
    "from nltk.corpus import stopwords\n",
    "stop_words=set(stopwords.words(\"english\"))\n",
    "print(\"Stopwords from the NLTK corpus: \", stop_words)\n",
    "\n",
    "def text_process(text):\n",
    "    #String punctuation provides all the necessary checks\n",
    "    nopunc = [char for char in text if char not in string.punctuation]\n",
    "    nopunc = ''.join(nopunc)\n",
    "    return [word for word in nopunc.split() if word.lower() not in stopwords.words('english')]\n",
    "\n",
    "\n",
    "train['question'] = train['question'].progress_apply(lambda txt: str(txt))"
   ]
  },
  {
   "cell_type": "code",
   "execution_count": 9,
   "metadata": {},
   "outputs": [
    {
     "data": {
      "text/html": [
       "<div>\n",
       "<style scoped>\n",
       "    .dataframe tbody tr th:only-of-type {\n",
       "        vertical-align: middle;\n",
       "    }\n",
       "\n",
       "    .dataframe tbody tr th {\n",
       "        vertical-align: top;\n",
       "    }\n",
       "\n",
       "    .dataframe thead th {\n",
       "        text-align: right;\n",
       "    }\n",
       "</style>\n",
       "<table border=\"1\" class=\"dataframe\">\n",
       "  <thead>\n",
       "    <tr style=\"text-align: right;\">\n",
       "      <th></th>\n",
       "      <th>ID</th>\n",
       "      <th>question</th>\n",
       "      <th>intention</th>\n",
       "    </tr>\n",
       "  </thead>\n",
       "  <tbody>\n",
       "    <tr>\n",
       "      <th>0</th>\n",
       "      <td>0</td>\n",
       "      <td>hello i m wa wrong forum for my question so i ...</td>\n",
       "      <td>28</td>\n",
       "    </tr>\n",
       "    <tr>\n",
       "      <th>1</th>\n",
       "      <td>1</td>\n",
       "      <td>is what the motilium reliev me against nausea</td>\n",
       "      <td>31</td>\n",
       "    </tr>\n",
       "    <tr>\n",
       "      <th>2</th>\n",
       "      <td>2</td>\n",
       "      <td>my doctor prescrib adenyl 2nd stamp of terribl...</td>\n",
       "      <td>28</td>\n",
       "    </tr>\n",
       "    <tr>\n",
       "      <th>3</th>\n",
       "      <td>3</td>\n",
       "      <td>is there a form adapt to the child of 5 year o...</td>\n",
       "      <td>44</td>\n",
       "    </tr>\n",
       "    <tr>\n",
       "      <th>4</th>\n",
       "      <td>4</td>\n",
       "      <td>my doctor treat me to a rhino pharingit and pr...</td>\n",
       "      <td>31</td>\n",
       "    </tr>\n",
       "  </tbody>\n",
       "</table>\n",
       "</div>"
      ],
      "text/plain": [
       "   ID                                           question  intention\n",
       "0   0  hello i m wa wrong forum for my question so i ...         28\n",
       "1   1      is what the motilium reliev me against nausea         31\n",
       "2   2  my doctor prescrib adenyl 2nd stamp of terribl...         28\n",
       "3   3  is there a form adapt to the child of 5 year o...         44\n",
       "4   4  my doctor treat me to a rhino pharingit and pr...         31"
      ]
     },
     "execution_count": 9,
     "metadata": {},
     "output_type": "execute_result"
    }
   ],
   "source": [
    "train.head()"
   ]
  },
  {
   "cell_type": "code",
   "execution_count": 10,
   "metadata": {},
   "outputs": [
    {
     "data": {
      "text/html": [
       "<div>\n",
       "<style scoped>\n",
       "    .dataframe tbody tr th:only-of-type {\n",
       "        vertical-align: middle;\n",
       "    }\n",
       "\n",
       "    .dataframe tbody tr th {\n",
       "        vertical-align: top;\n",
       "    }\n",
       "\n",
       "    .dataframe thead th {\n",
       "        text-align: right;\n",
       "    }\n",
       "</style>\n",
       "<table border=\"1\" class=\"dataframe\">\n",
       "  <thead>\n",
       "    <tr style=\"text-align: right;\">\n",
       "      <th></th>\n",
       "      <th>ID</th>\n",
       "      <th>question</th>\n",
       "      <th>intention</th>\n",
       "    </tr>\n",
       "  </thead>\n",
       "  <tbody>\n",
       "    <tr>\n",
       "      <th>0</th>\n",
       "      <td>0</td>\n",
       "      <td>hello i m wa wrong forum for my question so i ...</td>\n",
       "      <td>28</td>\n",
       "    </tr>\n",
       "    <tr>\n",
       "      <th>1</th>\n",
       "      <td>1</td>\n",
       "      <td>is what the motilium reliev me against nausea</td>\n",
       "      <td>31</td>\n",
       "    </tr>\n",
       "    <tr>\n",
       "      <th>2</th>\n",
       "      <td>2</td>\n",
       "      <td>my doctor prescrib adenyl 2nd stamp of terribl...</td>\n",
       "      <td>28</td>\n",
       "    </tr>\n",
       "    <tr>\n",
       "      <th>3</th>\n",
       "      <td>3</td>\n",
       "      <td>is there a form adapt to the child of 5 year o...</td>\n",
       "      <td>44</td>\n",
       "    </tr>\n",
       "    <tr>\n",
       "      <th>4</th>\n",
       "      <td>4</td>\n",
       "      <td>my doctor treat me to a rhino pharingit and pr...</td>\n",
       "      <td>31</td>\n",
       "    </tr>\n",
       "  </tbody>\n",
       "</table>\n",
       "</div>"
      ],
      "text/plain": [
       "   ID                                           question  intention\n",
       "0   0  hello i m wa wrong forum for my question so i ...         28\n",
       "1   1      is what the motilium reliev me against nausea         31\n",
       "2   2  my doctor prescrib adenyl 2nd stamp of terribl...         28\n",
       "3   3  is there a form adapt to the child of 5 year o...         44\n",
       "4   4  my doctor treat me to a rhino pharingit and pr...         31"
      ]
     },
     "execution_count": 10,
     "metadata": {},
     "output_type": "execute_result"
    }
   ],
   "source": [
    "train.to_csv(r\"C:\\Users\\elonm\\Desktop\\timepass\\train.csv\", index=False)\n",
    "train = pd.read_csv(r\"C:\\Users\\elonm\\Desktop\\timepass\\train.csv\")\n",
    "train.head()"
   ]
  },
  {
   "cell_type": "code",
   "execution_count": 11,
   "metadata": {},
   "outputs": [
    {
     "data": {
      "application/vnd.jupyter.widget-view+json": {
       "model_id": "f7e1ddaa1aa8467ba57a545836518629",
       "version_major": 2,
       "version_minor": 0
      },
      "text/plain": [
       "HBox(children=(IntProgress(value=0, max=8028), HTML(value='')))"
      ]
     },
     "metadata": {},
     "output_type": "display_data"
    },
    {
     "name": "stdout",
     "output_type": "stream",
     "text": [
      "\n"
     ]
    },
    {
     "data": {
      "text/html": [
       "<div>\n",
       "<style scoped>\n",
       "    .dataframe tbody tr th:only-of-type {\n",
       "        vertical-align: middle;\n",
       "    }\n",
       "\n",
       "    .dataframe tbody tr th {\n",
       "        vertical-align: top;\n",
       "    }\n",
       "\n",
       "    .dataframe thead th {\n",
       "        text-align: right;\n",
       "    }\n",
       "</style>\n",
       "<table border=\"1\" class=\"dataframe\">\n",
       "  <thead>\n",
       "    <tr style=\"text-align: right;\">\n",
       "      <th></th>\n",
       "      <th>ID</th>\n",
       "      <th>question</th>\n",
       "      <th>intention</th>\n",
       "    </tr>\n",
       "  </thead>\n",
       "  <tbody>\n",
       "    <tr>\n",
       "      <th>0</th>\n",
       "      <td>0</td>\n",
       "      <td>hello i m wa wrong forum for my question so i ...</td>\n",
       "      <td>28</td>\n",
       "    </tr>\n",
       "    <tr>\n",
       "      <th>1</th>\n",
       "      <td>1</td>\n",
       "      <td>is what the motilium reliev me against nausea</td>\n",
       "      <td>31</td>\n",
       "    </tr>\n",
       "    <tr>\n",
       "      <th>2</th>\n",
       "      <td>2</td>\n",
       "      <td>my doctor prescrib adenyl 2nd stamp of terribl...</td>\n",
       "      <td>28</td>\n",
       "    </tr>\n",
       "    <tr>\n",
       "      <th>3</th>\n",
       "      <td>3</td>\n",
       "      <td>is there a form adapt to the child of 5 year o...</td>\n",
       "      <td>44</td>\n",
       "    </tr>\n",
       "    <tr>\n",
       "      <th>4</th>\n",
       "      <td>4</td>\n",
       "      <td>my doctor treat me to a rhino pharingit and pr...</td>\n",
       "      <td>31</td>\n",
       "    </tr>\n",
       "  </tbody>\n",
       "</table>\n",
       "</div>"
      ],
      "text/plain": [
       "   ID                                           question  intention\n",
       "0   0  hello i m wa wrong forum for my question so i ...         28\n",
       "1   1      is what the motilium reliev me against nausea         31\n",
       "2   2  my doctor prescrib adenyl 2nd stamp of terribl...         28\n",
       "3   3  is there a form adapt to the child of 5 year o...         44\n",
       "4   4  my doctor treat me to a rhino pharingit and pr...         31"
      ]
     },
     "execution_count": 11,
     "metadata": {},
     "output_type": "execute_result"
    }
   ],
   "source": [
    "exclude = set(string.punctuation)\n",
    "\n",
    "def punct_remove(text):\n",
    "    text = ''.join(ch for ch in text if ch not in exclude)\n",
    "    return text\n",
    "\n",
    "train['question'] = train['question'].progress_apply(lambda s: punct_remove(s))\n",
    "train.head()"
   ]
  },
  {
   "cell_type": "code",
   "execution_count": 12,
   "metadata": {},
   "outputs": [
    {
     "data": {
      "application/vnd.jupyter.widget-view+json": {
       "model_id": "7d2324effa284e3d991fa44649c8079a",
       "version_major": 2,
       "version_minor": 0
      },
      "text/plain": [
       "HBox(children=(IntProgress(value=0, max=8028), HTML(value='')))"
      ]
     },
     "metadata": {},
     "output_type": "display_data"
    },
    {
     "name": "stdout",
     "output_type": "stream",
     "text": [
      "\n"
     ]
    },
    {
     "data": {
      "text/html": [
       "<div>\n",
       "<style scoped>\n",
       "    .dataframe tbody tr th:only-of-type {\n",
       "        vertical-align: middle;\n",
       "    }\n",
       "\n",
       "    .dataframe tbody tr th {\n",
       "        vertical-align: top;\n",
       "    }\n",
       "\n",
       "    .dataframe thead th {\n",
       "        text-align: right;\n",
       "    }\n",
       "</style>\n",
       "<table border=\"1\" class=\"dataframe\">\n",
       "  <thead>\n",
       "    <tr style=\"text-align: right;\">\n",
       "      <th></th>\n",
       "      <th>ID</th>\n",
       "      <th>question</th>\n",
       "      <th>intention</th>\n",
       "    </tr>\n",
       "  </thead>\n",
       "  <tbody>\n",
       "    <tr>\n",
       "      <th>0</th>\n",
       "      <td>0</td>\n",
       "      <td>hello i m wa wrong forum for my question so i ...</td>\n",
       "      <td>28</td>\n",
       "    </tr>\n",
       "    <tr>\n",
       "      <th>1</th>\n",
       "      <td>1</td>\n",
       "      <td>is what the motilium reliev me against nausea</td>\n",
       "      <td>31</td>\n",
       "    </tr>\n",
       "    <tr>\n",
       "      <th>2</th>\n",
       "      <td>2</td>\n",
       "      <td>my doctor prescrib adenyl 2nd stamp of terribl...</td>\n",
       "      <td>28</td>\n",
       "    </tr>\n",
       "    <tr>\n",
       "      <th>3</th>\n",
       "      <td>3</td>\n",
       "      <td>is there a form adapt to the child of 5 year o...</td>\n",
       "      <td>44</td>\n",
       "    </tr>\n",
       "    <tr>\n",
       "      <th>4</th>\n",
       "      <td>4</td>\n",
       "      <td>my doctor treat me to a rhino pharingit and pr...</td>\n",
       "      <td>31</td>\n",
       "    </tr>\n",
       "  </tbody>\n",
       "</table>\n",
       "</div>"
      ],
      "text/plain": [
       "   ID                                           question  intention\n",
       "0   0  hello i m wa wrong forum for my question so i ...         28\n",
       "1   1      is what the motilium reliev me against nausea         31\n",
       "2   2  my doctor prescrib adenyl 2nd stamp of terribl...         28\n",
       "3   3  is there a form adapt to the child of 5 year o...         44\n",
       "4   4  my doctor treat me to a rhino pharingit and pr...         31"
      ]
     },
     "execution_count": 12,
     "metadata": {},
     "output_type": "execute_result"
    }
   ],
   "source": [
    "train['question'] = train['question'].progress_apply(lambda s: s.lower())\n",
    "train.head()"
   ]
  },
  {
   "cell_type": "code",
   "execution_count": 13,
   "metadata": {},
   "outputs": [
    {
     "data": {
      "application/vnd.jupyter.widget-view+json": {
       "model_id": "aede8a9f42b24d0a9ae968e67c09d5ad",
       "version_major": 2,
       "version_minor": 0
      },
      "text/plain": [
       "HBox(children=(IntProgress(value=0, max=8028), HTML(value='')))"
      ]
     },
     "metadata": {},
     "output_type": "display_data"
    },
    {
     "name": "stdout",
     "output_type": "stream",
     "text": [
      "\n"
     ]
    },
    {
     "data": {
      "text/html": [
       "<div>\n",
       "<style scoped>\n",
       "    .dataframe tbody tr th:only-of-type {\n",
       "        vertical-align: middle;\n",
       "    }\n",
       "\n",
       "    .dataframe tbody tr th {\n",
       "        vertical-align: top;\n",
       "    }\n",
       "\n",
       "    .dataframe thead th {\n",
       "        text-align: right;\n",
       "    }\n",
       "</style>\n",
       "<table border=\"1\" class=\"dataframe\">\n",
       "  <thead>\n",
       "    <tr style=\"text-align: right;\">\n",
       "      <th></th>\n",
       "      <th>ID</th>\n",
       "      <th>question</th>\n",
       "      <th>intention</th>\n",
       "    </tr>\n",
       "  </thead>\n",
       "  <tbody>\n",
       "    <tr>\n",
       "      <th>0</th>\n",
       "      <td>0</td>\n",
       "      <td>hello i m wa wrong forum for my question so i ...</td>\n",
       "      <td>28</td>\n",
       "    </tr>\n",
       "    <tr>\n",
       "      <th>1</th>\n",
       "      <td>1</td>\n",
       "      <td>is what the motilium reliev me against nausea</td>\n",
       "      <td>31</td>\n",
       "    </tr>\n",
       "    <tr>\n",
       "      <th>2</th>\n",
       "      <td>2</td>\n",
       "      <td>my doctor prescrib adenyl 2nd stamp of terribl...</td>\n",
       "      <td>28</td>\n",
       "    </tr>\n",
       "    <tr>\n",
       "      <th>3</th>\n",
       "      <td>3</td>\n",
       "      <td>is there a form adapt to the child of 5 year o...</td>\n",
       "      <td>44</td>\n",
       "    </tr>\n",
       "    <tr>\n",
       "      <th>4</th>\n",
       "      <td>4</td>\n",
       "      <td>my doctor treat me to a rhino pharingit and pr...</td>\n",
       "      <td>31</td>\n",
       "    </tr>\n",
       "  </tbody>\n",
       "</table>\n",
       "</div>"
      ],
      "text/plain": [
       "   ID                                           question  intention\n",
       "0   0  hello i m wa wrong forum for my question so i ...         28\n",
       "1   1      is what the motilium reliev me against nausea         31\n",
       "2   2  my doctor prescrib adenyl 2nd stamp of terribl...         28\n",
       "3   3  is there a form adapt to the child of 5 year o...         44\n",
       "4   4  my doctor treat me to a rhino pharingit and pr...         31"
      ]
     },
     "execution_count": 13,
     "metadata": {},
     "output_type": "execute_result"
    }
   ],
   "source": [
    "from nltk.stem import PorterStemmer\n",
    "from nltk.tokenize import sent_tokenize, word_tokenize\n",
    "stemmer = PorterStemmer()\n",
    "\n",
    "def stemming(text):\n",
    "    words = word_tokenize(text)\n",
    "    new_txt = []\n",
    "    for word in words:\n",
    "        new_txt.append(stemmer.stem(word))\n",
    "    txt = ' '.join(new_txt)\n",
    "    return txt\n",
    "\n",
    "train['question'] = train['question'].progress_apply(lambda s: stemming(s))\n",
    "train.head()"
   ]
  },
  {
   "cell_type": "code",
   "execution_count": null,
   "metadata": {},
   "outputs": [],
   "source": []
  },
  {
   "cell_type": "code",
   "execution_count": 14,
   "metadata": {},
   "outputs": [
    {
     "data": {
      "text/html": [
       "<div>\n",
       "<style scoped>\n",
       "    .dataframe tbody tr th:only-of-type {\n",
       "        vertical-align: middle;\n",
       "    }\n",
       "\n",
       "    .dataframe tbody tr th {\n",
       "        vertical-align: top;\n",
       "    }\n",
       "\n",
       "    .dataframe thead th {\n",
       "        text-align: right;\n",
       "    }\n",
       "</style>\n",
       "<table border=\"1\" class=\"dataframe\">\n",
       "  <thead>\n",
       "    <tr style=\"text-align: right;\">\n",
       "      <th></th>\n",
       "      <th>ID</th>\n",
       "      <th>question</th>\n",
       "    </tr>\n",
       "    <tr>\n",
       "      <th>intention</th>\n",
       "      <th></th>\n",
       "      <th></th>\n",
       "    </tr>\n",
       "  </thead>\n",
       "  <tbody>\n",
       "    <tr>\n",
       "      <th>0</th>\n",
       "      <td>204</td>\n",
       "      <td>204</td>\n",
       "    </tr>\n",
       "    <tr>\n",
       "      <th>1</th>\n",
       "      <td>23</td>\n",
       "      <td>23</td>\n",
       "    </tr>\n",
       "    <tr>\n",
       "      <th>2</th>\n",
       "      <td>22</td>\n",
       "      <td>22</td>\n",
       "    </tr>\n",
       "    <tr>\n",
       "      <th>3</th>\n",
       "      <td>8</td>\n",
       "      <td>8</td>\n",
       "    </tr>\n",
       "    <tr>\n",
       "      <th>4</th>\n",
       "      <td>76</td>\n",
       "      <td>76</td>\n",
       "    </tr>\n",
       "    <tr>\n",
       "      <th>5</th>\n",
       "      <td>102</td>\n",
       "      <td>102</td>\n",
       "    </tr>\n",
       "    <tr>\n",
       "      <th>6</th>\n",
       "      <td>26</td>\n",
       "      <td>26</td>\n",
       "    </tr>\n",
       "    <tr>\n",
       "      <th>7</th>\n",
       "      <td>20</td>\n",
       "      <td>20</td>\n",
       "    </tr>\n",
       "    <tr>\n",
       "      <th>8</th>\n",
       "      <td>134</td>\n",
       "      <td>134</td>\n",
       "    </tr>\n",
       "    <tr>\n",
       "      <th>9</th>\n",
       "      <td>54</td>\n",
       "      <td>54</td>\n",
       "    </tr>\n",
       "    <tr>\n",
       "      <th>10</th>\n",
       "      <td>68</td>\n",
       "      <td>68</td>\n",
       "    </tr>\n",
       "    <tr>\n",
       "      <th>11</th>\n",
       "      <td>195</td>\n",
       "      <td>195</td>\n",
       "    </tr>\n",
       "    <tr>\n",
       "      <th>12</th>\n",
       "      <td>89</td>\n",
       "      <td>89</td>\n",
       "    </tr>\n",
       "    <tr>\n",
       "      <th>13</th>\n",
       "      <td>119</td>\n",
       "      <td>119</td>\n",
       "    </tr>\n",
       "    <tr>\n",
       "      <th>14</th>\n",
       "      <td>317</td>\n",
       "      <td>317</td>\n",
       "    </tr>\n",
       "    <tr>\n",
       "      <th>15</th>\n",
       "      <td>23</td>\n",
       "      <td>23</td>\n",
       "    </tr>\n",
       "    <tr>\n",
       "      <th>16</th>\n",
       "      <td>17</td>\n",
       "      <td>17</td>\n",
       "    </tr>\n",
       "    <tr>\n",
       "      <th>17</th>\n",
       "      <td>15</td>\n",
       "      <td>15</td>\n",
       "    </tr>\n",
       "    <tr>\n",
       "      <th>18</th>\n",
       "      <td>23</td>\n",
       "      <td>23</td>\n",
       "    </tr>\n",
       "    <tr>\n",
       "      <th>19</th>\n",
       "      <td>20</td>\n",
       "      <td>20</td>\n",
       "    </tr>\n",
       "    <tr>\n",
       "      <th>20</th>\n",
       "      <td>19</td>\n",
       "      <td>19</td>\n",
       "    </tr>\n",
       "    <tr>\n",
       "      <th>21</th>\n",
       "      <td>180</td>\n",
       "      <td>180</td>\n",
       "    </tr>\n",
       "    <tr>\n",
       "      <th>22</th>\n",
       "      <td>461</td>\n",
       "      <td>461</td>\n",
       "    </tr>\n",
       "    <tr>\n",
       "      <th>23</th>\n",
       "      <td>208</td>\n",
       "      <td>208</td>\n",
       "    </tr>\n",
       "    <tr>\n",
       "      <th>24</th>\n",
       "      <td>64</td>\n",
       "      <td>64</td>\n",
       "    </tr>\n",
       "    <tr>\n",
       "      <th>25</th>\n",
       "      <td>30</td>\n",
       "      <td>30</td>\n",
       "    </tr>\n",
       "    <tr>\n",
       "      <th>26</th>\n",
       "      <td>72</td>\n",
       "      <td>72</td>\n",
       "    </tr>\n",
       "    <tr>\n",
       "      <th>27</th>\n",
       "      <td>104</td>\n",
       "      <td>104</td>\n",
       "    </tr>\n",
       "    <tr>\n",
       "      <th>28</th>\n",
       "      <td>1796</td>\n",
       "      <td>1796</td>\n",
       "    </tr>\n",
       "    <tr>\n",
       "      <th>29</th>\n",
       "      <td>77</td>\n",
       "      <td>77</td>\n",
       "    </tr>\n",
       "    <tr>\n",
       "      <th>30</th>\n",
       "      <td>52</td>\n",
       "      <td>52</td>\n",
       "    </tr>\n",
       "    <tr>\n",
       "      <th>31</th>\n",
       "      <td>565</td>\n",
       "      <td>565</td>\n",
       "    </tr>\n",
       "    <tr>\n",
       "      <th>32</th>\n",
       "      <td>321</td>\n",
       "      <td>321</td>\n",
       "    </tr>\n",
       "    <tr>\n",
       "      <th>33</th>\n",
       "      <td>144</td>\n",
       "      <td>144</td>\n",
       "    </tr>\n",
       "    <tr>\n",
       "      <th>34</th>\n",
       "      <td>382</td>\n",
       "      <td>382</td>\n",
       "    </tr>\n",
       "    <tr>\n",
       "      <th>35</th>\n",
       "      <td>50</td>\n",
       "      <td>50</td>\n",
       "    </tr>\n",
       "    <tr>\n",
       "      <th>36</th>\n",
       "      <td>25</td>\n",
       "      <td>25</td>\n",
       "    </tr>\n",
       "    <tr>\n",
       "      <th>37</th>\n",
       "      <td>126</td>\n",
       "      <td>126</td>\n",
       "    </tr>\n",
       "    <tr>\n",
       "      <th>38</th>\n",
       "      <td>120</td>\n",
       "      <td>120</td>\n",
       "    </tr>\n",
       "    <tr>\n",
       "      <th>39</th>\n",
       "      <td>40</td>\n",
       "      <td>40</td>\n",
       "    </tr>\n",
       "    <tr>\n",
       "      <th>40</th>\n",
       "      <td>7</td>\n",
       "      <td>7</td>\n",
       "    </tr>\n",
       "    <tr>\n",
       "      <th>41</th>\n",
       "      <td>45</td>\n",
       "      <td>45</td>\n",
       "    </tr>\n",
       "    <tr>\n",
       "      <th>42</th>\n",
       "      <td>315</td>\n",
       "      <td>315</td>\n",
       "    </tr>\n",
       "    <tr>\n",
       "      <th>43</th>\n",
       "      <td>91</td>\n",
       "      <td>91</td>\n",
       "    </tr>\n",
       "    <tr>\n",
       "      <th>44</th>\n",
       "      <td>560</td>\n",
       "      <td>560</td>\n",
       "    </tr>\n",
       "    <tr>\n",
       "      <th>45</th>\n",
       "      <td>50</td>\n",
       "      <td>50</td>\n",
       "    </tr>\n",
       "    <tr>\n",
       "      <th>46</th>\n",
       "      <td>45</td>\n",
       "      <td>45</td>\n",
       "    </tr>\n",
       "    <tr>\n",
       "      <th>47</th>\n",
       "      <td>82</td>\n",
       "      <td>82</td>\n",
       "    </tr>\n",
       "    <tr>\n",
       "      <th>48</th>\n",
       "      <td>387</td>\n",
       "      <td>387</td>\n",
       "    </tr>\n",
       "    <tr>\n",
       "      <th>49</th>\n",
       "      <td>22</td>\n",
       "      <td>22</td>\n",
       "    </tr>\n",
       "    <tr>\n",
       "      <th>50</th>\n",
       "      <td>33</td>\n",
       "      <td>33</td>\n",
       "    </tr>\n",
       "  </tbody>\n",
       "</table>\n",
       "</div>"
      ],
      "text/plain": [
       "             ID  question\n",
       "intention                \n",
       "0           204       204\n",
       "1            23        23\n",
       "2            22        22\n",
       "3             8         8\n",
       "4            76        76\n",
       "5           102       102\n",
       "6            26        26\n",
       "7            20        20\n",
       "8           134       134\n",
       "9            54        54\n",
       "10           68        68\n",
       "11          195       195\n",
       "12           89        89\n",
       "13          119       119\n",
       "14          317       317\n",
       "15           23        23\n",
       "16           17        17\n",
       "17           15        15\n",
       "18           23        23\n",
       "19           20        20\n",
       "20           19        19\n",
       "21          180       180\n",
       "22          461       461\n",
       "23          208       208\n",
       "24           64        64\n",
       "25           30        30\n",
       "26           72        72\n",
       "27          104       104\n",
       "28         1796      1796\n",
       "29           77        77\n",
       "30           52        52\n",
       "31          565       565\n",
       "32          321       321\n",
       "33          144       144\n",
       "34          382       382\n",
       "35           50        50\n",
       "36           25        25\n",
       "37          126       126\n",
       "38          120       120\n",
       "39           40        40\n",
       "40            7         7\n",
       "41           45        45\n",
       "42          315       315\n",
       "43           91        91\n",
       "44          560       560\n",
       "45           50        50\n",
       "46           45        45\n",
       "47           82        82\n",
       "48          387       387\n",
       "49           22        22\n",
       "50           33        33"
      ]
     },
     "execution_count": 14,
     "metadata": {},
     "output_type": "execute_result"
    }
   ],
   "source": [
    "train.groupby('intention').count()"
   ]
  },
  {
   "cell_type": "code",
   "execution_count": 17,
   "metadata": {},
   "outputs": [
    {
     "data": {
      "text/plain": [
       "(2035, 2)"
      ]
     },
     "execution_count": 17,
     "metadata": {},
     "output_type": "execute_result"
    }
   ],
   "source": [
    "test.shape"
   ]
  },
  {
   "cell_type": "code",
   "execution_count": 15,
   "metadata": {},
   "outputs": [
    {
     "data": {
      "text/plain": [
       "(8028, 51)"
      ]
     },
     "execution_count": 15,
     "metadata": {},
     "output_type": "execute_result"
    }
   ],
   "source": [
    "from keras.utils import to_categorical\n",
    "\n",
    "labels = to_categorical(train['intention'], num_classes=None)\n",
    "labels.shape"
   ]
  },
  {
   "cell_type": "code",
   "execution_count": 129,
   "metadata": {},
   "outputs": [
    {
     "data": {
      "text/plain": [
       "array([0., 0., 0., 0., 0., 0., 0., 0., 0., 0., 0., 0., 0., 0., 0., 0., 0.,\n",
       "       0., 0., 0., 0., 0., 0., 0., 0., 0., 0., 0., 0., 0., 0., 1., 0., 0.,\n",
       "       0., 0., 0., 0., 0., 0., 0., 0., 0., 0., 0., 0., 0., 0., 0., 0., 0.],\n",
       "      dtype=float32)"
      ]
     },
     "execution_count": 129,
     "metadata": {},
     "output_type": "execute_result"
    }
   ],
   "source": [
    "labels[4]"
   ]
  },
  {
   "cell_type": "code",
   "execution_count": 130,
   "metadata": {},
   "outputs": [],
   "source": [
    "from sklearn.model_selection import train_test_split\n",
    "X_train, X_test, y_train, y_test = train_test_split(train['question'], labels, test_size=0.25, random_state=42)"
   ]
  },
  {
   "cell_type": "code",
   "execution_count": 197,
   "metadata": {},
   "outputs": [],
   "source": [
    "tokenizer = Tokenizer(num_words= 20000)\n",
    "tokenizer.fit_on_texts(X_train)\n",
    "sequences = tokenizer.texts_to_sequences(X_train)\n",
    "text_sequence = pad_sequences(sequences, maxlen=30)"
   ]
  },
  {
   "cell_type": "code",
   "execution_count": 195,
   "metadata": {},
   "outputs": [
    {
     "name": "stdout",
     "output_type": "stream",
     "text": [
      "_________________________________________________________________\n",
      "Layer (type)                 Output Shape              Param #   \n",
      "=================================================================\n",
      "input_20 (InputLayer)        (None, 30)                0         \n",
      "_________________________________________________________________\n",
      "embedding_17 (Embedding)     (None, 30, 30)            600000    \n",
      "_________________________________________________________________\n",
      "lstm_15 (LSTM)               (None, 15)                2760      \n",
      "_________________________________________________________________\n",
      "dropout_77 (Dropout)         (None, 15)                0         \n",
      "_________________________________________________________________\n",
      "dense_71 (Dense)             (None, 256)               4096      \n",
      "_________________________________________________________________\n",
      "dropout_78 (Dropout)         (None, 256)               0         \n",
      "_________________________________________________________________\n",
      "dense_72 (Dense)             (None, 128)               32896     \n",
      "_________________________________________________________________\n",
      "dropout_79 (Dropout)         (None, 128)               0         \n",
      "_________________________________________________________________\n",
      "dense_73 (Dense)             (None, 128)               16512     \n",
      "_________________________________________________________________\n",
      "dropout_80 (Dropout)         (None, 128)               0         \n",
      "_________________________________________________________________\n",
      "activation_55 (Activation)   (None, 128)               0         \n",
      "_________________________________________________________________\n",
      "dropout_81 (Dropout)         (None, 128)               0         \n",
      "_________________________________________________________________\n",
      "dense_74 (Dense)             (None, 51)                6579      \n",
      "_________________________________________________________________\n",
      "activation_56 (Activation)   (None, 51)                0         \n",
      "=================================================================\n",
      "Total params: 662,843\n",
      "Trainable params: 662,843\n",
      "Non-trainable params: 0\n",
      "_________________________________________________________________\n"
     ]
    }
   ],
   "source": [
    "inputs = Input(shape=[30])\n",
    "layers = Embedding(20000,30,input_length=30)(inputs)\n",
    "layers = LSTM(15)(layers)\n",
    "layers = Dropout(0.2)(layers)\n",
    "layers = Dense(256)(layers)\n",
    "layers = Dropout(0.2)(layers)\n",
    "layers = Dense(128)(layers)\n",
    "layers = Dropout(0.2)(layers)\n",
    "layers = Dense(128)(layers)\n",
    "layers = Dropout(0.2)(layers)\n",
    "layers = Activation('relu')(layers)\n",
    "layers = Dropout(0.2)(layers)\n",
    "layers = Dense(51)(layers)\n",
    "layers = Activation('softmax')(layers)\n",
    "model = Model(inputs=inputs,outputs=layers)\n",
    "model.compile(loss='categorical_crossentropy',optimizer='rmsprop',metrics=['accuracy'])\n",
    "model.summary()"
   ]
  },
  {
   "cell_type": "code",
   "execution_count": 198,
   "metadata": {},
   "outputs": [
    {
     "name": "stdout",
     "output_type": "stream",
     "text": [
      "Train on 4816 samples, validate on 1205 samples\n",
      "Epoch 1/30\n",
      " - 3s - loss: 3.0756 - acc: 0.2232 - val_loss: 3.0551 - val_acc: 0.2199\n",
      "Epoch 2/30\n",
      " - 3s - loss: 2.8495 - acc: 0.2377 - val_loss: 2.8860 - val_acc: 0.2266\n",
      "Epoch 3/30\n",
      " - 3s - loss: 2.6505 - acc: 0.2797 - val_loss: 2.6658 - val_acc: 0.2888\n",
      "Epoch 4/30\n",
      " - 3s - loss: 2.4720 - acc: 0.3439 - val_loss: 2.6168 - val_acc: 0.3203\n",
      "Epoch 5/30\n"
     ]
    },
    {
     "ename": "KeyboardInterrupt",
     "evalue": "",
     "output_type": "error",
     "traceback": [
      "\u001b[1;31m---------------------------------------------------------------------------\u001b[0m",
      "\u001b[1;31mKeyboardInterrupt\u001b[0m                         Traceback (most recent call last)",
      "\u001b[1;32m<ipython-input-198-4c8e0e107909>\u001b[0m in \u001b[0;36m<module>\u001b[1;34m()\u001b[0m\n\u001b[1;32m----> 1\u001b[1;33m \u001b[0mmodel\u001b[0m\u001b[1;33m.\u001b[0m\u001b[0mfit\u001b[0m\u001b[1;33m(\u001b[0m\u001b[0mtext_sequence\u001b[0m\u001b[1;33m,\u001b[0m \u001b[0my_train\u001b[0m\u001b[1;33m,\u001b[0m\u001b[0mvalidation_split\u001b[0m\u001b[1;33m=\u001b[0m\u001b[1;36m0.2\u001b[0m\u001b[1;33m,\u001b[0m \u001b[0mepochs\u001b[0m\u001b[1;33m=\u001b[0m\u001b[1;36m30\u001b[0m\u001b[1;33m,\u001b[0m \u001b[0mverbose\u001b[0m\u001b[1;33m=\u001b[0m\u001b[1;36m2\u001b[0m\u001b[1;33m)\u001b[0m\u001b[1;33m\u001b[0m\u001b[0m\n\u001b[0m",
      "\u001b[1;32mD:\\Anaconda3\\lib\\site-packages\\keras\\engine\\training.py\u001b[0m in \u001b[0;36mfit\u001b[1;34m(self, x, y, batch_size, epochs, verbose, callbacks, validation_split, validation_data, shuffle, class_weight, sample_weight, initial_epoch, steps_per_epoch, validation_steps, **kwargs)\u001b[0m\n\u001b[0;32m   1040\u001b[0m                                         \u001b[0minitial_epoch\u001b[0m\u001b[1;33m=\u001b[0m\u001b[0minitial_epoch\u001b[0m\u001b[1;33m,\u001b[0m\u001b[1;33m\u001b[0m\u001b[0m\n\u001b[0;32m   1041\u001b[0m                                         \u001b[0msteps_per_epoch\u001b[0m\u001b[1;33m=\u001b[0m\u001b[0msteps_per_epoch\u001b[0m\u001b[1;33m,\u001b[0m\u001b[1;33m\u001b[0m\u001b[0m\n\u001b[1;32m-> 1042\u001b[1;33m                                         validation_steps=validation_steps)\n\u001b[0m\u001b[0;32m   1043\u001b[0m \u001b[1;33m\u001b[0m\u001b[0m\n\u001b[0;32m   1044\u001b[0m     def evaluate(self, x=None, y=None,\n",
      "\u001b[1;32mD:\\Anaconda3\\lib\\site-packages\\keras\\engine\\training_arrays.py\u001b[0m in \u001b[0;36mfit_loop\u001b[1;34m(model, f, ins, out_labels, batch_size, epochs, verbose, callbacks, val_f, val_ins, shuffle, callback_metrics, initial_epoch, steps_per_epoch, validation_steps)\u001b[0m\n\u001b[0;32m    197\u001b[0m                     \u001b[0mins_batch\u001b[0m\u001b[1;33m[\u001b[0m\u001b[0mi\u001b[0m\u001b[1;33m]\u001b[0m \u001b[1;33m=\u001b[0m \u001b[0mins_batch\u001b[0m\u001b[1;33m[\u001b[0m\u001b[0mi\u001b[0m\u001b[1;33m]\u001b[0m\u001b[1;33m.\u001b[0m\u001b[0mtoarray\u001b[0m\u001b[1;33m(\u001b[0m\u001b[1;33m)\u001b[0m\u001b[1;33m\u001b[0m\u001b[0m\n\u001b[0;32m    198\u001b[0m \u001b[1;33m\u001b[0m\u001b[0m\n\u001b[1;32m--> 199\u001b[1;33m                 \u001b[0mouts\u001b[0m \u001b[1;33m=\u001b[0m \u001b[0mf\u001b[0m\u001b[1;33m(\u001b[0m\u001b[0mins_batch\u001b[0m\u001b[1;33m)\u001b[0m\u001b[1;33m\u001b[0m\u001b[0m\n\u001b[0m\u001b[0;32m    200\u001b[0m                 \u001b[1;32mif\u001b[0m \u001b[1;32mnot\u001b[0m \u001b[0misinstance\u001b[0m\u001b[1;33m(\u001b[0m\u001b[0mouts\u001b[0m\u001b[1;33m,\u001b[0m \u001b[0mlist\u001b[0m\u001b[1;33m)\u001b[0m\u001b[1;33m:\u001b[0m\u001b[1;33m\u001b[0m\u001b[0m\n\u001b[0;32m    201\u001b[0m                     \u001b[0mouts\u001b[0m \u001b[1;33m=\u001b[0m \u001b[1;33m[\u001b[0m\u001b[0mouts\u001b[0m\u001b[1;33m]\u001b[0m\u001b[1;33m\u001b[0m\u001b[0m\n",
      "\u001b[1;32mD:\\Anaconda3\\lib\\site-packages\\keras\\backend\\tensorflow_backend.py\u001b[0m in \u001b[0;36m__call__\u001b[1;34m(self, inputs)\u001b[0m\n\u001b[0;32m   2659\u001b[0m                 \u001b[1;32mreturn\u001b[0m \u001b[0mself\u001b[0m\u001b[1;33m.\u001b[0m\u001b[0m_legacy_call\u001b[0m\u001b[1;33m(\u001b[0m\u001b[0minputs\u001b[0m\u001b[1;33m)\u001b[0m\u001b[1;33m\u001b[0m\u001b[0m\n\u001b[0;32m   2660\u001b[0m \u001b[1;33m\u001b[0m\u001b[0m\n\u001b[1;32m-> 2661\u001b[1;33m             \u001b[1;32mreturn\u001b[0m \u001b[0mself\u001b[0m\u001b[1;33m.\u001b[0m\u001b[0m_call\u001b[0m\u001b[1;33m(\u001b[0m\u001b[0minputs\u001b[0m\u001b[1;33m)\u001b[0m\u001b[1;33m\u001b[0m\u001b[0m\n\u001b[0m\u001b[0;32m   2662\u001b[0m         \u001b[1;32melse\u001b[0m\u001b[1;33m:\u001b[0m\u001b[1;33m\u001b[0m\u001b[0m\n\u001b[0;32m   2663\u001b[0m             \u001b[1;32mif\u001b[0m \u001b[0mpy_any\u001b[0m\u001b[1;33m(\u001b[0m\u001b[0mis_tensor\u001b[0m\u001b[1;33m(\u001b[0m\u001b[0mx\u001b[0m\u001b[1;33m)\u001b[0m \u001b[1;32mfor\u001b[0m \u001b[0mx\u001b[0m \u001b[1;32min\u001b[0m \u001b[0minputs\u001b[0m\u001b[1;33m)\u001b[0m\u001b[1;33m:\u001b[0m\u001b[1;33m\u001b[0m\u001b[0m\n",
      "\u001b[1;32mD:\\Anaconda3\\lib\\site-packages\\keras\\backend\\tensorflow_backend.py\u001b[0m in \u001b[0;36m_call\u001b[1;34m(self, inputs)\u001b[0m\n\u001b[0;32m   2629\u001b[0m                                 \u001b[0msymbol_vals\u001b[0m\u001b[1;33m,\u001b[0m\u001b[1;33m\u001b[0m\u001b[0m\n\u001b[0;32m   2630\u001b[0m                                 session)\n\u001b[1;32m-> 2631\u001b[1;33m         \u001b[0mfetched\u001b[0m \u001b[1;33m=\u001b[0m \u001b[0mself\u001b[0m\u001b[1;33m.\u001b[0m\u001b[0m_callable_fn\u001b[0m\u001b[1;33m(\u001b[0m\u001b[1;33m*\u001b[0m\u001b[0marray_vals\u001b[0m\u001b[1;33m)\u001b[0m\u001b[1;33m\u001b[0m\u001b[0m\n\u001b[0m\u001b[0;32m   2632\u001b[0m         \u001b[1;32mreturn\u001b[0m \u001b[0mfetched\u001b[0m\u001b[1;33m[\u001b[0m\u001b[1;33m:\u001b[0m\u001b[0mlen\u001b[0m\u001b[1;33m(\u001b[0m\u001b[0mself\u001b[0m\u001b[1;33m.\u001b[0m\u001b[0moutputs\u001b[0m\u001b[1;33m)\u001b[0m\u001b[1;33m]\u001b[0m\u001b[1;33m\u001b[0m\u001b[0m\n\u001b[0;32m   2633\u001b[0m \u001b[1;33m\u001b[0m\u001b[0m\n",
      "\u001b[1;32mD:\\Anaconda3\\lib\\site-packages\\tensorflow\\python\\client\\session.py\u001b[0m in \u001b[0;36m__call__\u001b[1;34m(self, *args, **kwargs)\u001b[0m\n\u001b[0;32m   1380\u001b[0m           ret = tf_session.TF_SessionRunCallable(\n\u001b[0;32m   1381\u001b[0m               \u001b[0mself\u001b[0m\u001b[1;33m.\u001b[0m\u001b[0m_session\u001b[0m\u001b[1;33m.\u001b[0m\u001b[0m_session\u001b[0m\u001b[1;33m,\u001b[0m \u001b[0mself\u001b[0m\u001b[1;33m.\u001b[0m\u001b[0m_handle\u001b[0m\u001b[1;33m,\u001b[0m \u001b[0margs\u001b[0m\u001b[1;33m,\u001b[0m \u001b[0mstatus\u001b[0m\u001b[1;33m,\u001b[0m\u001b[1;33m\u001b[0m\u001b[0m\n\u001b[1;32m-> 1382\u001b[1;33m               run_metadata_ptr)\n\u001b[0m\u001b[0;32m   1383\u001b[0m         \u001b[1;32mif\u001b[0m \u001b[0mrun_metadata\u001b[0m\u001b[1;33m:\u001b[0m\u001b[1;33m\u001b[0m\u001b[0m\n\u001b[0;32m   1384\u001b[0m           \u001b[0mproto_data\u001b[0m \u001b[1;33m=\u001b[0m \u001b[0mtf_session\u001b[0m\u001b[1;33m.\u001b[0m\u001b[0mTF_GetBuffer\u001b[0m\u001b[1;33m(\u001b[0m\u001b[0mrun_metadata_ptr\u001b[0m\u001b[1;33m)\u001b[0m\u001b[1;33m\u001b[0m\u001b[0m\n",
      "\u001b[1;31mKeyboardInterrupt\u001b[0m: "
     ]
    }
   ],
   "source": [
    "model.fit(text_sequence, y_train,validation_split=0.2, epochs=30, verbose=2)"
   ]
  },
  {
   "cell_type": "code",
   "execution_count": null,
   "metadata": {},
   "outputs": [],
   "source": []
  },
  {
   "cell_type": "code",
   "execution_count": 174,
   "metadata": {},
   "outputs": [],
   "source": [
    "test_sequences = tokenizer.texts_to_sequences(X_test)\n",
    "test_sequences_matrix = pad_sequences(test_sequences,maxlen=30)"
   ]
  },
  {
   "cell_type": "code",
   "execution_count": 175,
   "metadata": {},
   "outputs": [
    {
     "name": "stdout",
     "output_type": "stream",
     "text": [
      "2007/2007 [==============================] - ETA:  - ETA:  - ETA:  - ETA:  - ETA:  - ETA:  - 0s 171us/step\n"
     ]
    },
    {
     "data": {
      "text/plain": [
       "[3.734817006662822, 0.44643746891839026]"
      ]
     },
     "execution_count": 175,
     "metadata": {},
     "output_type": "execute_result"
    }
   ],
   "source": [
    "model.evaluate(test_sequences_matrix, y_test)"
   ]
  },
  {
   "cell_type": "code",
   "execution_count": 153,
   "metadata": {},
   "outputs": [
    {
     "data": {
      "text/plain": [
       "['loss', 'acc']"
      ]
     },
     "execution_count": 153,
     "metadata": {},
     "output_type": "execute_result"
    }
   ],
   "source": [
    "model.metrics_names"
   ]
  },
  {
   "cell_type": "code",
   "execution_count": 154,
   "metadata": {},
   "outputs": [],
   "source": [
    "y_pred = model.predict(test_sequences_matrix)"
   ]
  },
  {
   "cell_type": "code",
   "execution_count": 138,
   "metadata": {},
   "outputs": [
    {
     "data": {
      "text/plain": [
       "array([4.3649884e-34, 0.0000000e+00, 0.0000000e+00, 0.0000000e+00,\n",
       "       4.6759407e-31, 3.6502335e-32, 0.0000000e+00, 0.0000000e+00,\n",
       "       0.0000000e+00, 0.0000000e+00, 0.0000000e+00, 0.0000000e+00,\n",
       "       0.0000000e+00, 0.0000000e+00, 7.1507774e-36, 0.0000000e+00,\n",
       "       0.0000000e+00, 0.0000000e+00, 0.0000000e+00, 0.0000000e+00,\n",
       "       0.0000000e+00, 0.0000000e+00, 2.8421542e-17, 0.0000000e+00,\n",
       "       0.0000000e+00, 0.0000000e+00, 0.0000000e+00, 0.0000000e+00,\n",
       "       5.9093618e-17, 0.0000000e+00, 0.0000000e+00, 3.0400352e-24,\n",
       "       4.2506952e-30, 1.8260527e-13, 6.1317772e-14, 0.0000000e+00,\n",
       "       0.0000000e+00, 0.0000000e+00, 0.0000000e+00, 0.0000000e+00,\n",
       "       0.0000000e+00, 0.0000000e+00, 3.8912346e-30, 8.1327877e-18,\n",
       "       9.9999893e-01, 0.0000000e+00, 0.0000000e+00, 0.0000000e+00,\n",
       "       1.2691032e-10, 0.0000000e+00, 0.0000000e+00], dtype=float32)"
      ]
     },
     "execution_count": 138,
     "metadata": {},
     "output_type": "execute_result"
    }
   ],
   "source": [
    "y_pred[1]"
   ]
  },
  {
   "cell_type": "code",
   "execution_count": 155,
   "metadata": {},
   "outputs": [
    {
     "data": {
      "application/vnd.jupyter.widget-view+json": {
       "model_id": "a5eccbe5beb142dca0271459c7f8ccf1",
       "version_major": 2,
       "version_minor": 0
      },
      "text/plain": [
       "HBox(children=(IntProgress(value=0, max=2035), HTML(value='')))"
      ]
     },
     "metadata": {},
     "output_type": "display_data"
    },
    {
     "name": "stdout",
     "output_type": "stream",
     "text": [
      "\n"
     ]
    },
    {
     "data": {
      "application/vnd.jupyter.widget-view+json": {
       "model_id": "1977ef5eb2824c3dbc762789944cded1",
       "version_major": 2,
       "version_minor": 0
      },
      "text/plain": [
       "HBox(children=(IntProgress(value=0, max=2035), HTML(value='')))"
      ]
     },
     "metadata": {},
     "output_type": "display_data"
    },
    {
     "name": "stdout",
     "output_type": "stream",
     "text": [
      "\n"
     ]
    },
    {
     "data": {
      "application/vnd.jupyter.widget-view+json": {
       "model_id": "7dc47d67d23c4a02ad8a131c3f98eb27",
       "version_major": 2,
       "version_minor": 0
      },
      "text/plain": [
       "HBox(children=(IntProgress(value=0, max=2035), HTML(value='')))"
      ]
     },
     "metadata": {},
     "output_type": "display_data"
    },
    {
     "name": "stdout",
     "output_type": "stream",
     "text": [
      "\n"
     ]
    }
   ],
   "source": [
    "test = pd.read_csv(r\"C:\\Users\\elonm\\Desktop\\timepass\\test.csv\")\n",
    "test['question'] = test['question'].progress_apply(lambda txt: str(txt))\n",
    "test['question'] = test['question'].progress_apply(lambda s: punct_remove(s))\n",
    "test['question'] = test['question'].progress_apply(lambda s: stemming(s))"
   ]
  },
  {
   "cell_type": "code",
   "execution_count": 156,
   "metadata": {},
   "outputs": [
    {
     "data": {
      "text/html": [
       "<div>\n",
       "<style scoped>\n",
       "    .dataframe tbody tr th:only-of-type {\n",
       "        vertical-align: middle;\n",
       "    }\n",
       "\n",
       "    .dataframe tbody tr th {\n",
       "        vertical-align: top;\n",
       "    }\n",
       "\n",
       "    .dataframe thead th {\n",
       "        text-align: right;\n",
       "    }\n",
       "</style>\n",
       "<table border=\"1\" class=\"dataframe\">\n",
       "  <thead>\n",
       "    <tr style=\"text-align: right;\">\n",
       "      <th></th>\n",
       "      <th>ID</th>\n",
       "      <th>question</th>\n",
       "    </tr>\n",
       "  </thead>\n",
       "  <tbody>\n",
       "    <tr>\n",
       "      <th>0</th>\n",
       "      <td>8028</td>\n",
       "      <td>homeopathi autismvaccineantidot</td>\n",
       "    </tr>\n",
       "    <tr>\n",
       "      <th>1</th>\n",
       "      <td>8029</td>\n",
       "      <td>what topic appli to atop dermat infant</td>\n",
       "    </tr>\n",
       "    <tr>\n",
       "      <th>2</th>\n",
       "      <td>8030</td>\n",
       "      <td>cyst treatment with dian 35</td>\n",
       "    </tr>\n",
       "    <tr>\n",
       "      <th>3</th>\n",
       "      <td>8031</td>\n",
       "      <td>I suffer from venou insuffici acrocyanos I fou...</td>\n",
       "    </tr>\n",
       "    <tr>\n",
       "      <th>4</th>\n",
       "      <td>8032</td>\n",
       "      <td>I am pregnant for 1 month is that essenti oil ...</td>\n",
       "    </tr>\n",
       "  </tbody>\n",
       "</table>\n",
       "</div>"
      ],
      "text/plain": [
       "     ID                                           question\n",
       "0  8028                    homeopathi autismvaccineantidot\n",
       "1  8029             what topic appli to atop dermat infant\n",
       "2  8030                        cyst treatment with dian 35\n",
       "3  8031  I suffer from venou insuffici acrocyanos I fou...\n",
       "4  8032  I am pregnant for 1 month is that essenti oil ..."
      ]
     },
     "execution_count": 156,
     "metadata": {},
     "output_type": "execute_result"
    }
   ],
   "source": [
    "test.head()"
   ]
  },
  {
   "cell_type": "code",
   "execution_count": 157,
   "metadata": {},
   "outputs": [],
   "source": [
    "test_seq = tokenizer.texts_to_sequences(test['question'])\n",
    "test_seque = pad_sequences(test_seq,maxlen=30)\n",
    "test_pred = model.predict(test_seque)"
   ]
  },
  {
   "cell_type": "code",
   "execution_count": 158,
   "metadata": {},
   "outputs": [
    {
     "data": {
      "text/plain": [
       "42"
      ]
     },
     "execution_count": 158,
     "metadata": {},
     "output_type": "execute_result"
    }
   ],
   "source": [
    "test_pred[1].argmax()"
   ]
  },
  {
   "cell_type": "code",
   "execution_count": 80,
   "metadata": {},
   "outputs": [
    {
     "data": {
      "text/plain": [
       "6"
      ]
     },
     "execution_count": 80,
     "metadata": {},
     "output_type": "execute_result"
    }
   ],
   "source": []
  },
  {
   "cell_type": "code",
   "execution_count": 159,
   "metadata": {},
   "outputs": [
    {
     "data": {
      "text/plain": [
       "15"
      ]
     },
     "execution_count": 159,
     "metadata": {},
     "output_type": "execute_result"
    }
   ],
   "source": [
    "np.argmin(test_pred[6])"
   ]
  },
  {
   "cell_type": "code",
   "execution_count": 208,
   "metadata": {},
   "outputs": [
    {
     "ename": "KeyError",
     "evalue": "'question'",
     "output_type": "error",
     "traceback": [
      "\u001b[1;31m---------------------------------------------------------------------------\u001b[0m",
      "\u001b[1;31mKeyError\u001b[0m                                  Traceback (most recent call last)",
      "\u001b[1;32mD:\\Anaconda3\\lib\\site-packages\\pandas\\core\\indexes\\base.py\u001b[0m in \u001b[0;36mget_loc\u001b[1;34m(self, key, method, tolerance)\u001b[0m\n\u001b[0;32m   3063\u001b[0m             \u001b[1;32mtry\u001b[0m\u001b[1;33m:\u001b[0m\u001b[1;33m\u001b[0m\u001b[0m\n\u001b[1;32m-> 3064\u001b[1;33m                 \u001b[1;32mreturn\u001b[0m \u001b[0mself\u001b[0m\u001b[1;33m.\u001b[0m\u001b[0m_engine\u001b[0m\u001b[1;33m.\u001b[0m\u001b[0mget_loc\u001b[0m\u001b[1;33m(\u001b[0m\u001b[0mkey\u001b[0m\u001b[1;33m)\u001b[0m\u001b[1;33m\u001b[0m\u001b[0m\n\u001b[0m\u001b[0;32m   3065\u001b[0m             \u001b[1;32mexcept\u001b[0m \u001b[0mKeyError\u001b[0m\u001b[1;33m:\u001b[0m\u001b[1;33m\u001b[0m\u001b[0m\n",
      "\u001b[1;32mpandas/_libs/index.pyx\u001b[0m in \u001b[0;36mpandas._libs.index.IndexEngine.get_loc\u001b[1;34m()\u001b[0m\n",
      "\u001b[1;32mpandas/_libs/index.pyx\u001b[0m in \u001b[0;36mpandas._libs.index.IndexEngine.get_loc\u001b[1;34m()\u001b[0m\n",
      "\u001b[1;32mpandas/_libs/hashtable_class_helper.pxi\u001b[0m in \u001b[0;36mpandas._libs.hashtable.PyObjectHashTable.get_item\u001b[1;34m()\u001b[0m\n",
      "\u001b[1;32mpandas/_libs/hashtable_class_helper.pxi\u001b[0m in \u001b[0;36mpandas._libs.hashtable.PyObjectHashTable.get_item\u001b[1;34m()\u001b[0m\n",
      "\u001b[1;31mKeyError\u001b[0m: 'question'",
      "\nDuring handling of the above exception, another exception occurred:\n",
      "\u001b[1;31mKeyError\u001b[0m                                  Traceback (most recent call last)",
      "\u001b[1;32m<ipython-input-208-026ec61c1707>\u001b[0m in \u001b[0;36m<module>\u001b[1;34m()\u001b[0m\n\u001b[0;32m      4\u001b[0m \u001b[1;33m\u001b[0m\u001b[0m\n\u001b[0;32m      5\u001b[0m \u001b[1;32mfor\u001b[0m \u001b[0mi\u001b[0m \u001b[1;32min\u001b[0m \u001b[0mrange\u001b[0m\u001b[1;33m(\u001b[0m\u001b[1;36m2035\u001b[0m\u001b[1;33m)\u001b[0m\u001b[1;33m:\u001b[0m\u001b[1;33m\u001b[0m\u001b[0m\n\u001b[1;32m----> 6\u001b[1;33m     \u001b[0mtest\u001b[0m\u001b[1;33m[\u001b[0m\u001b[1;34m'question'\u001b[0m\u001b[1;33m]\u001b[0m\u001b[1;33m[\u001b[0m\u001b[0mi\u001b[0m\u001b[1;33m]\u001b[0m \u001b[1;33m=\u001b[0m \u001b[0mreturn_int\u001b[0m\u001b[1;33m(\u001b[0m\u001b[0mtest_pred\u001b[0m\u001b[1;33m[\u001b[0m\u001b[0mi\u001b[0m\u001b[1;33m]\u001b[0m\u001b[1;33m)\u001b[0m\u001b[1;33m\u001b[0m\u001b[0m\n\u001b[0m",
      "\u001b[1;32mD:\\Anaconda3\\lib\\site-packages\\pandas\\core\\frame.py\u001b[0m in \u001b[0;36m__getitem__\u001b[1;34m(self, key)\u001b[0m\n\u001b[0;32m   2684\u001b[0m             \u001b[1;32mreturn\u001b[0m \u001b[0mself\u001b[0m\u001b[1;33m.\u001b[0m\u001b[0m_getitem_frame\u001b[0m\u001b[1;33m(\u001b[0m\u001b[0mkey\u001b[0m\u001b[1;33m)\u001b[0m\u001b[1;33m\u001b[0m\u001b[0m\n\u001b[0;32m   2685\u001b[0m         \u001b[1;32melif\u001b[0m \u001b[0mis_mi_columns\u001b[0m\u001b[1;33m:\u001b[0m\u001b[1;33m\u001b[0m\u001b[0m\n\u001b[1;32m-> 2686\u001b[1;33m             \u001b[1;32mreturn\u001b[0m \u001b[0mself\u001b[0m\u001b[1;33m.\u001b[0m\u001b[0m_getitem_multilevel\u001b[0m\u001b[1;33m(\u001b[0m\u001b[0mkey\u001b[0m\u001b[1;33m)\u001b[0m\u001b[1;33m\u001b[0m\u001b[0m\n\u001b[0m\u001b[0;32m   2687\u001b[0m         \u001b[1;32melse\u001b[0m\u001b[1;33m:\u001b[0m\u001b[1;33m\u001b[0m\u001b[0m\n\u001b[0;32m   2688\u001b[0m             \u001b[1;32mreturn\u001b[0m \u001b[0mself\u001b[0m\u001b[1;33m.\u001b[0m\u001b[0m_getitem_column\u001b[0m\u001b[1;33m(\u001b[0m\u001b[0mkey\u001b[0m\u001b[1;33m)\u001b[0m\u001b[1;33m\u001b[0m\u001b[0m\n",
      "\u001b[1;32mD:\\Anaconda3\\lib\\site-packages\\pandas\\core\\frame.py\u001b[0m in \u001b[0;36m_getitem_multilevel\u001b[1;34m(self, key)\u001b[0m\n\u001b[0;32m   2728\u001b[0m \u001b[1;33m\u001b[0m\u001b[0m\n\u001b[0;32m   2729\u001b[0m     \u001b[1;32mdef\u001b[0m \u001b[0m_getitem_multilevel\u001b[0m\u001b[1;33m(\u001b[0m\u001b[0mself\u001b[0m\u001b[1;33m,\u001b[0m \u001b[0mkey\u001b[0m\u001b[1;33m)\u001b[0m\u001b[1;33m:\u001b[0m\u001b[1;33m\u001b[0m\u001b[0m\n\u001b[1;32m-> 2730\u001b[1;33m         \u001b[0mloc\u001b[0m \u001b[1;33m=\u001b[0m \u001b[0mself\u001b[0m\u001b[1;33m.\u001b[0m\u001b[0mcolumns\u001b[0m\u001b[1;33m.\u001b[0m\u001b[0mget_loc\u001b[0m\u001b[1;33m(\u001b[0m\u001b[0mkey\u001b[0m\u001b[1;33m)\u001b[0m\u001b[1;33m\u001b[0m\u001b[0m\n\u001b[0m\u001b[0;32m   2731\u001b[0m         \u001b[1;32mif\u001b[0m \u001b[0misinstance\u001b[0m\u001b[1;33m(\u001b[0m\u001b[0mloc\u001b[0m\u001b[1;33m,\u001b[0m \u001b[1;33m(\u001b[0m\u001b[0mslice\u001b[0m\u001b[1;33m,\u001b[0m \u001b[0mSeries\u001b[0m\u001b[1;33m,\u001b[0m \u001b[0mnp\u001b[0m\u001b[1;33m.\u001b[0m\u001b[0mndarray\u001b[0m\u001b[1;33m,\u001b[0m \u001b[0mIndex\u001b[0m\u001b[1;33m)\u001b[0m\u001b[1;33m)\u001b[0m\u001b[1;33m:\u001b[0m\u001b[1;33m\u001b[0m\u001b[0m\n\u001b[0;32m   2732\u001b[0m             \u001b[0mnew_columns\u001b[0m \u001b[1;33m=\u001b[0m \u001b[0mself\u001b[0m\u001b[1;33m.\u001b[0m\u001b[0mcolumns\u001b[0m\u001b[1;33m[\u001b[0m\u001b[0mloc\u001b[0m\u001b[1;33m]\u001b[0m\u001b[1;33m\u001b[0m\u001b[0m\n",
      "\u001b[1;32mD:\\Anaconda3\\lib\\site-packages\\pandas\\core\\indexes\\multi.py\u001b[0m in \u001b[0;36mget_loc\u001b[1;34m(self, key, method)\u001b[0m\n\u001b[0;32m   2262\u001b[0m \u001b[1;33m\u001b[0m\u001b[0m\n\u001b[0;32m   2263\u001b[0m         \u001b[1;32mif\u001b[0m \u001b[1;32mnot\u001b[0m \u001b[0misinstance\u001b[0m\u001b[1;33m(\u001b[0m\u001b[0mkey\u001b[0m\u001b[1;33m,\u001b[0m \u001b[0mtuple\u001b[0m\u001b[1;33m)\u001b[0m\u001b[1;33m:\u001b[0m\u001b[1;33m\u001b[0m\u001b[0m\n\u001b[1;32m-> 2264\u001b[1;33m             \u001b[0mloc\u001b[0m \u001b[1;33m=\u001b[0m \u001b[0mself\u001b[0m\u001b[1;33m.\u001b[0m\u001b[0m_get_level_indexer\u001b[0m\u001b[1;33m(\u001b[0m\u001b[0mkey\u001b[0m\u001b[1;33m,\u001b[0m \u001b[0mlevel\u001b[0m\u001b[1;33m=\u001b[0m\u001b[1;36m0\u001b[0m\u001b[1;33m)\u001b[0m\u001b[1;33m\u001b[0m\u001b[0m\n\u001b[0m\u001b[0;32m   2265\u001b[0m \u001b[1;33m\u001b[0m\u001b[0m\n\u001b[0;32m   2266\u001b[0m             \u001b[1;31m# _get_level_indexer returns an empty slice if the key has\u001b[0m\u001b[1;33m\u001b[0m\u001b[1;33m\u001b[0m\u001b[0m\n",
      "\u001b[1;32mD:\\Anaconda3\\lib\\site-packages\\pandas\\core\\indexes\\multi.py\u001b[0m in \u001b[0;36m_get_level_indexer\u001b[1;34m(self, key, level, indexer)\u001b[0m\n\u001b[0;32m   2521\u001b[0m         \u001b[1;32melse\u001b[0m\u001b[1;33m:\u001b[0m\u001b[1;33m\u001b[0m\u001b[0m\n\u001b[0;32m   2522\u001b[0m \u001b[1;33m\u001b[0m\u001b[0m\n\u001b[1;32m-> 2523\u001b[1;33m             \u001b[0mloc\u001b[0m \u001b[1;33m=\u001b[0m \u001b[0mlevel_index\u001b[0m\u001b[1;33m.\u001b[0m\u001b[0mget_loc\u001b[0m\u001b[1;33m(\u001b[0m\u001b[0mkey\u001b[0m\u001b[1;33m)\u001b[0m\u001b[1;33m\u001b[0m\u001b[0m\n\u001b[0m\u001b[0;32m   2524\u001b[0m             \u001b[1;32mif\u001b[0m \u001b[0misinstance\u001b[0m\u001b[1;33m(\u001b[0m\u001b[0mloc\u001b[0m\u001b[1;33m,\u001b[0m \u001b[0mslice\u001b[0m\u001b[1;33m)\u001b[0m\u001b[1;33m:\u001b[0m\u001b[1;33m\u001b[0m\u001b[0m\n\u001b[0;32m   2525\u001b[0m                 \u001b[1;32mreturn\u001b[0m \u001b[0mloc\u001b[0m\u001b[1;33m\u001b[0m\u001b[0m\n",
      "\u001b[1;32mD:\\Anaconda3\\lib\\site-packages\\pandas\\core\\indexes\\base.py\u001b[0m in \u001b[0;36mget_loc\u001b[1;34m(self, key, method, tolerance)\u001b[0m\n\u001b[0;32m   3064\u001b[0m                 \u001b[1;32mreturn\u001b[0m \u001b[0mself\u001b[0m\u001b[1;33m.\u001b[0m\u001b[0m_engine\u001b[0m\u001b[1;33m.\u001b[0m\u001b[0mget_loc\u001b[0m\u001b[1;33m(\u001b[0m\u001b[0mkey\u001b[0m\u001b[1;33m)\u001b[0m\u001b[1;33m\u001b[0m\u001b[0m\n\u001b[0;32m   3065\u001b[0m             \u001b[1;32mexcept\u001b[0m \u001b[0mKeyError\u001b[0m\u001b[1;33m:\u001b[0m\u001b[1;33m\u001b[0m\u001b[0m\n\u001b[1;32m-> 3066\u001b[1;33m                 \u001b[1;32mreturn\u001b[0m \u001b[0mself\u001b[0m\u001b[1;33m.\u001b[0m\u001b[0m_engine\u001b[0m\u001b[1;33m.\u001b[0m\u001b[0mget_loc\u001b[0m\u001b[1;33m(\u001b[0m\u001b[0mself\u001b[0m\u001b[1;33m.\u001b[0m\u001b[0m_maybe_cast_indexer\u001b[0m\u001b[1;33m(\u001b[0m\u001b[0mkey\u001b[0m\u001b[1;33m)\u001b[0m\u001b[1;33m)\u001b[0m\u001b[1;33m\u001b[0m\u001b[0m\n\u001b[0m\u001b[0;32m   3067\u001b[0m \u001b[1;33m\u001b[0m\u001b[0m\n\u001b[0;32m   3068\u001b[0m         \u001b[0mindexer\u001b[0m \u001b[1;33m=\u001b[0m \u001b[0mself\u001b[0m\u001b[1;33m.\u001b[0m\u001b[0mget_indexer\u001b[0m\u001b[1;33m(\u001b[0m\u001b[1;33m[\u001b[0m\u001b[0mkey\u001b[0m\u001b[1;33m]\u001b[0m\u001b[1;33m,\u001b[0m \u001b[0mmethod\u001b[0m\u001b[1;33m=\u001b[0m\u001b[0mmethod\u001b[0m\u001b[1;33m,\u001b[0m \u001b[0mtolerance\u001b[0m\u001b[1;33m=\u001b[0m\u001b[0mtolerance\u001b[0m\u001b[1;33m)\u001b[0m\u001b[1;33m\u001b[0m\u001b[0m\n",
      "\u001b[1;32mpandas/_libs/index.pyx\u001b[0m in \u001b[0;36mpandas._libs.index.IndexEngine.get_loc\u001b[1;34m()\u001b[0m\n",
      "\u001b[1;32mpandas/_libs/index.pyx\u001b[0m in \u001b[0;36mpandas._libs.index.IndexEngine.get_loc\u001b[1;34m()\u001b[0m\n",
      "\u001b[1;32mpandas/_libs/hashtable_class_helper.pxi\u001b[0m in \u001b[0;36mpandas._libs.hashtable.PyObjectHashTable.get_item\u001b[1;34m()\u001b[0m\n",
      "\u001b[1;32mpandas/_libs/hashtable_class_helper.pxi\u001b[0m in \u001b[0;36mpandas._libs.hashtable.PyObjectHashTable.get_item\u001b[1;34m()\u001b[0m\n",
      "\u001b[1;31mKeyError\u001b[0m: 'question'"
     ]
    }
   ],
   "source": [
    "def return_int(lst):\n",
    "    index = np.argmax(lst)\n",
    "    return index\n",
    "\n",
    "for i in range(2035):\n",
    "    test['question'][i] = return_int(test_pred[i])"
   ]
  },
  {
   "cell_type": "code",
   "execution_count": 161,
   "metadata": {},
   "outputs": [
    {
     "data": {
      "text/html": [
       "<div>\n",
       "<style scoped>\n",
       "    .dataframe tbody tr th:only-of-type {\n",
       "        vertical-align: middle;\n",
       "    }\n",
       "\n",
       "    .dataframe tbody tr th {\n",
       "        vertical-align: top;\n",
       "    }\n",
       "\n",
       "    .dataframe thead tr th {\n",
       "        text-align: left;\n",
       "    }\n",
       "</style>\n",
       "<table border=\"1\" class=\"dataframe\">\n",
       "  <thead>\n",
       "    <tr>\n",
       "      <th></th>\n",
       "      <th>ID</th>\n",
       "      <th>Intention</th>\n",
       "    </tr>\n",
       "  </thead>\n",
       "  <tbody>\n",
       "    <tr>\n",
       "      <th>0</th>\n",
       "      <td>8028</td>\n",
       "      <td>22</td>\n",
       "    </tr>\n",
       "    <tr>\n",
       "      <th>1</th>\n",
       "      <td>8029</td>\n",
       "      <td>42</td>\n",
       "    </tr>\n",
       "    <tr>\n",
       "      <th>2</th>\n",
       "      <td>8030</td>\n",
       "      <td>31</td>\n",
       "    </tr>\n",
       "    <tr>\n",
       "      <th>3</th>\n",
       "      <td>8031</td>\n",
       "      <td>32</td>\n",
       "    </tr>\n",
       "    <tr>\n",
       "      <th>4</th>\n",
       "      <td>8032</td>\n",
       "      <td>44</td>\n",
       "    </tr>\n",
       "  </tbody>\n",
       "</table>\n",
       "</div>"
      ],
      "text/plain": [
       "     ID Intention\n",
       "0  8028        22\n",
       "1  8029        42\n",
       "2  8030        31\n",
       "3  8031        32\n",
       "4  8032        44"
      ]
     },
     "execution_count": 161,
     "metadata": {},
     "output_type": "execute_result"
    }
   ],
   "source": [
    "test.columns = [['ID', 'Intention']]\n",
    "test.head()"
   ]
  },
  {
   "cell_type": "code",
   "execution_count": 162,
   "metadata": {},
   "outputs": [],
   "source": [
    "test.to_csv(r\"C:\\Users\\elonm\\Desktop\\timepass\\output_test.csv\",index=False, sep=\";\")"
   ]
  },
  {
   "cell_type": "code",
   "execution_count": 211,
   "metadata": {},
   "outputs": [],
   "source": [
    "# %load C:/Users/elonm/Desktop/timepass/public_accuracy.py\n",
    "import numpy as np\n",
    "            \n",
    "def score_function(y_true, y_pred):\n",
    "    score = 0\n",
    "    length1 = y_true.shape[0]\n",
    "    for i in range(length1):\n",
    "        if y_pred[i, :] == y_true[i, :]:\n",
    "            score += 1\n",
    "    return float(score)/float(length1)"
   ]
  },
  {
   "cell_type": "code",
   "execution_count": null,
   "metadata": {},
   "outputs": [],
   "source": []
  },
  {
   "cell_type": "markdown",
   "metadata": {},
   "source": [
    "## Using BOW and TF-Idf with Dense layers"
   ]
  },
  {
   "cell_type": "code",
   "execution_count": 200,
   "metadata": {},
   "outputs": [
    {
     "name": "stdout",
     "output_type": "stream",
     "text": [
      "(6021, 29319)\n",
      "(2007, 29319)\n"
     ]
    }
   ],
   "source": [
    "from sklearn.linear_model import SGDClassifier\n",
    "from sklearn.pipeline import Pipeline\n",
    "from sklearn.feature_extraction.text import CountVectorizer\n",
    "from sklearn.feature_extraction.text import TfidfTransformer\n",
    "\n",
    "count_vectorizer = TfidfVectorizer(ngram_range=(2,2), max_df=0.80,\n",
    "                        tokenizer=nltk.word_tokenize,\n",
    "                        strip_accents='unicode',\n",
    "                        lowercase =True, analyzer='word', token_pattern=r'\\w+',\n",
    "                        use_idf=True, smooth_idf=True, sublinear_tf=False, \n",
    "                        stop_words = 'english')\n",
    "bag_of_words = count_vectorizer.fit_transform(X_train)\n",
    "print(bag_of_words.shape)\n",
    "X_test = count_vectorizer.transform(X_test)\n",
    "print(X_test.shape)"
   ]
  },
  {
   "cell_type": "code",
   "execution_count": 201,
   "metadata": {},
   "outputs": [
    {
     "name": "stdout",
     "output_type": "stream",
     "text": [
      "(6021, 29319)\n",
      "(2007, 29319)\n"
     ]
    }
   ],
   "source": [
    "transformer = TfidfTransformer(use_idf=True, smooth_idf=True, sublinear_tf=False)\n",
    "transformer_bag_of_words = transformer.fit_transform(bag_of_words)\n",
    "X_test_transformer = transformer.transform(X_test)\n",
    "print (transformer_bag_of_words.shape)\n",
    "print (X_test_transformer.shape)"
   ]
  },
  {
   "cell_type": "code",
   "execution_count": 203,
   "metadata": {},
   "outputs": [
    {
     "name": "stdout",
     "output_type": "stream",
     "text": [
      "_________________________________________________________________\n",
      "Layer (type)                 Output Shape              Param #   \n",
      "=================================================================\n",
      "dense_81 (Dense)             (None, 512)               15011840  \n",
      "_________________________________________________________________\n",
      "dropout_85 (Dropout)         (None, 512)               0         \n",
      "_________________________________________________________________\n",
      "dense_82 (Dense)             (None, 512)               262656    \n",
      "_________________________________________________________________\n",
      "dropout_86 (Dropout)         (None, 512)               0         \n",
      "_________________________________________________________________\n",
      "dense_83 (Dense)             (None, 512)               262656    \n",
      "_________________________________________________________________\n",
      "dropout_87 (Dropout)         (None, 512)               0         \n",
      "_________________________________________________________________\n",
      "dense_84 (Dense)             (None, 512)               262656    \n",
      "_________________________________________________________________\n",
      "dense_85 (Dense)             (None, 256)               131328    \n",
      "_________________________________________________________________\n",
      "dense_86 (Dense)             (None, 51)                13107     \n",
      "=================================================================\n",
      "Total params: 15,944,243\n",
      "Trainable params: 15,944,243\n",
      "Non-trainable params: 0\n",
      "_________________________________________________________________\n"
     ]
    }
   ],
   "source": [
    "model = Sequential()\n",
    "model.add(Dense(512, input_dim=transformer_bag_of_words.shape[1]))\n",
    "model.add(Dropout(0.15))\n",
    "model.add(Dense(512, activation='relu'))\n",
    "model.add(Dropout(0.15))\n",
    "model.add(Dense(512, activation='relu'))\n",
    "model.add(Dropout(0.15))\n",
    "model.add(Dense(512, activation='relu'))\n",
    "model.add(Dense(256, activation='relu'))\n",
    "model.add(Dense(51, activation=\"softmax\"))\n",
    "model.compile(loss='categorical_crossentropy', optimizer='adam', metrics=['categorical_crossentropy'])\n",
    "\n",
    "model.summary()"
   ]
  },
  {
   "cell_type": "code",
   "execution_count": 206,
   "metadata": {},
   "outputs": [
    {
     "name": "stdout",
     "output_type": "stream",
     "text": [
      "Train on 4816 samples, validate on 1205 samples\n",
      "Epoch 1/30\n",
      "4352/4816 [==========================>...] - ETA: 46s - loss: 2.9373 - categorical_crossentropy: 2.937 - ETA: 44s - loss: 2.8986 - categorical_crossentropy: 2.898 - ETA: 43s - loss: 2.8878 - categorical_crossentropy: 2.887 - ETA: 43s - loss: 2.8759 - categorical_crossentropy: 2.875 - ETA: 43s - loss: 2.9071 - categorical_crossentropy: 2.907 - ETA: 43s - loss: 2.9882 - categorical_crossentropy: 2.988 - ETA: 42s - loss: 2.9587 - categorical_crossentropy: 2.958 - ETA: 42s - loss: 3.0161 - categorical_crossentropy: 3.016 - ETA: 42s - loss: 3.0176 - categorical_crossentropy: 3.017 - ETA: 42s - loss: 3.0172 - categorical_crossentropy: 3.017 - ETA: 42s - loss: 3.0091 - categorical_crossentropy: 3.009 - ETA: 42s - loss: 3.0045 - categorical_crossentropy: 3.004 - ETA: 41s - loss: 3.0355 - categorical_crossentropy: 3.035 - ETA: 41s - loss: 3.0459 - categorical_crossentropy: 3.045 - ETA: 41s - loss: 3.0564 - categorical_crossentropy: 3.056 - ETA: 40s - loss: 3.0684 - categorical_crossentropy: 3.068 - ETA: 40s - loss: 3.0528 - categorical_crossentropy: 3.052 - ETA: 40s - loss: 3.0823 - categorical_crossentropy: 3.082 - ETA: 39s - loss: 3.0803 - categorical_crossentropy: 3.080 - ETA: 39s - loss: 3.0834 - categorical_crossentropy: 3.083 - ETA: 40s - loss: 3.0853 - categorical_crossentropy: 3.085 - ETA: 39s - loss: 3.0874 - categorical_crossentropy: 3.087 - ETA: 39s - loss: 3.0879 - categorical_crossentropy: 3.087 - ETA: 39s - loss: 3.0976 - categorical_crossentropy: 3.097 - ETA: 39s - loss: 3.0901 - categorical_crossentropy: 3.090 - ETA: 39s - loss: 3.0979 - categorical_crossentropy: 3.097 - ETA: 39s - loss: 3.1002 - categorical_crossentropy: 3.100 - ETA: 39s - loss: 3.0956 - categorical_crossentropy: 3.095 - ETA: 38s - loss: 3.0959 - categorical_crossentropy: 3.095 - ETA: 38s - loss: 3.0970 - categorical_crossentropy: 3.097 - ETA: 38s - loss: 3.1077 - categorical_crossentropy: 3.107 - ETA: 37s - loss: 3.1072 - categorical_crossentropy: 3.107 - ETA: 37s - loss: 3.0972 - categorical_crossentropy: 3.097 - ETA: 36s - loss: 3.0847 - categorical_crossentropy: 3.084 - ETA: 36s - loss: 3.0758 - categorical_crossentropy: 3.075 - ETA: 36s - loss: 3.0704 - categorical_crossentropy: 3.070 - ETA: 35s - loss: 3.0912 - categorical_crossentropy: 3.091 - ETA: 35s - loss: 3.0922 - categorical_crossentropy: 3.092 - ETA: 35s - loss: 3.0948 - categorical_crossentropy: 3.094 - ETA: 34s - loss: 3.0898 - categorical_crossentropy: 3.089 - ETA: 34s - loss: 3.0904 - categorical_crossentropy: 3.090 - ETA: 33s - loss: 3.0944 - categorical_crossentropy: 3.094 - ETA: 33s - loss: 3.0884 - categorical_crossentropy: 3.088 - ETA: 33s - loss: 3.0896 - categorical_crossentropy: 3.089 - ETA: 32s - loss: 3.0920 - categorical_crossentropy: 3.092 - ETA: 32s - loss: 3.0920 - categorical_crossentropy: 3.092 - ETA: 32s - loss: 3.0938 - categorical_crossentropy: 3.093 - ETA: 32s - loss: 3.0908 - categorical_crossentropy: 3.090 - ETA: 31s - loss: 3.0907 - categorical_crossentropy: 3.090 - ETA: 31s - loss: 3.0892 - categorical_crossentropy: 3.089 - ETA: 31s - loss: 3.0845 - categorical_crossentropy: 3.084 - ETA: 30s - loss: 3.0900 - categorical_crossentropy: 3.090 - ETA: 30s - loss: 3.0850 - categorical_crossentropy: 3.085 - ETA: 30s - loss: 3.0731 - categorical_crossentropy: 3.073 - ETA: 29s - loss: 3.0719 - categorical_crossentropy: 3.071 - ETA: 29s - loss: 3.0709 - categorical_crossentropy: 3.070 - ETA: 29s - loss: 3.0743 - categorical_crossentropy: 3.074 - ETA: 28s - loss: 3.0766 - categorical_crossentropy: 3.076 - ETA: 28s - loss: 3.0743 - categorical_crossentropy: 3.074 - ETA: 28s - loss: 3.0791 - categorical_crossentropy: 3.079 - ETA: 27s - loss: 3.0779 - categorical_crossentropy: 3.077 - ETA: 27s - loss: 3.0783 - categorical_crossentropy: 3.078 - ETA: 27s - loss: 3.0852 - categorical_crossentropy: 3.085 - ETA: 26s - loss: 3.0804 - categorical_crossentropy: 3.080 - ETA: 26s - loss: 3.0770 - categorical_crossentropy: 3.077 - ETA: 26s - loss: 3.0733 - categorical_crossentropy: 3.073 - ETA: 25s - loss: 3.0766 - categorical_crossentropy: 3.076 - ETA: 25s - loss: 3.0819 - categorical_crossentropy: 3.081 - ETA: 25s - loss: 3.0824 - categorical_crossentropy: 3.082 - ETA: 25s - loss: 3.0862 - categorical_crossentropy: 3.086 - ETA: 24s - loss: 3.0908 - categorical_crossentropy: 3.090 - ETA: 24s - loss: 3.0951 - categorical_crossentropy: 3.095 - ETA: 24s - loss: 3.0948 - categorical_crossentropy: 3.094 - ETA: 23s - loss: 3.0929 - categorical_crossentropy: 3.092 - ETA: 23s - loss: 3.0973 - categorical_crossentropy: 3.097 - ETA: 23s - loss: 3.0926 - categorical_crossentropy: 3.092 - ETA: 22s - loss: 3.0884 - categorical_crossentropy: 3.088 - ETA: 22s - loss: 3.0836 - categorical_crossentropy: 3.083 - ETA: 22s - loss: 3.0839 - categorical_crossentropy: 3.083 - ETA: 21s - loss: 3.0953 - categorical_crossentropy: 3.095 - ETA: 21s - loss: 3.0957 - categorical_crossentropy: 3.095 - ETA: 21s - loss: 3.1001 - categorical_crossentropy: 3.100 - ETA: 21s - loss: 3.1056 - categorical_crossentropy: 3.105 - ETA: 20s - loss: 3.1056 - categorical_crossentropy: 3.105 - ETA: 20s - loss: 3.1084 - categorical_crossentropy: 3.108 - ETA: 20s - loss: 3.1122 - categorical_crossentropy: 3.112 - ETA: 19s - loss: 3.1147 - categorical_crossentropy: 3.114 - ETA: 19s - loss: 3.1136 - categorical_crossentropy: 3.113 - ETA: 19s - loss: 3.1158 - categorical_crossentropy: 3.115 - ETA: 18s - loss: 3.1149 - categorical_crossentropy: 3.114 - ETA: 18s - loss: 3.1175 - categorical_crossentropy: 3.117 - ETA: 18s - loss: 3.1181 - categorical_crossentropy: 3.118 - ETA: 17s - loss: 3.1178 - categorical_crossentropy: 3.117 - ETA: 17s - loss: 3.1171 - categorical_crossentropy: 3.117 - ETA: 17s - loss: 3.1190 - categorical_crossentropy: 3.119 - ETA: 17s - loss: 3.1157 - categorical_crossentropy: 3.115 - ETA: 16s - loss: 3.1152 - categorical_crossentropy: 3.115 - ETA: 16s - loss: 3.1101 - categorical_crossentropy: 3.110 - ETA: 16s - loss: 3.1150 - categorical_crossentropy: 3.115 - ETA: 15s - loss: 3.1103 - categorical_crossentropy: 3.110 - ETA: 15s - loss: 3.1085 - categorical_crossentropy: 3.108 - ETA: 15s - loss: 3.1098 - categorical_crossentropy: 3.109 - ETA: 14s - loss: 3.1089 - categorical_crossentropy: 3.108 - ETA: 14s - loss: 3.1090 - categorical_crossentropy: 3.109 - ETA: 14s - loss: 3.1085 - categorical_crossentropy: 3.108 - ETA: 13s - loss: 3.1106 - categorical_crossentropy: 3.110 - ETA: 13s - loss: 3.1089 - categorical_crossentropy: 3.108 - ETA: 13s - loss: 3.1049 - categorical_crossentropy: 3.104 - ETA: 13s - loss: 3.1048 - categorical_crossentropy: 3.104 - ETA: 12s - loss: 3.1038 - categorical_crossentropy: 3.103 - ETA: 12s - loss: 3.1043 - categorical_crossentropy: 3.104 - ETA: 12s - loss: 3.1059 - categorical_crossentropy: 3.105 - ETA: 11s - loss: 3.1104 - categorical_crossentropy: 3.110 - ETA: 11s - loss: 3.1088 - categorical_crossentropy: 3.108 - ETA: 11s - loss: 3.1097 - categorical_crossentropy: 3.109 - ETA: 10s - loss: 3.1109 - categorical_crossentropy: 3.110 - ETA: 10s - loss: 3.1114 - categorical_crossentropy: 3.111 - ETA: 10s - loss: 3.1098 - categorical_crossentropy: 3.109 - ETA: 9s - loss: 3.1078 - categorical_crossentropy: 3.107 - ETA: 9s - loss: 3.1088 - categorical_crossentropy: 3.10 - ETA: 9s - loss: 3.1094 - categorical_crossentropy: 3.10 - ETA: 8s - loss: 3.1076 - categorical_crossentropy: 3.10 - ETA: 8s - loss: 3.1055 - categorical_crossentropy: 3.10 - ETA: 8s - loss: 3.1068 - categorical_crossentropy: 3.10 - ETA: 7s - loss: 3.1085 - categorical_crossentropy: 3.10 - ETA: 7s - loss: 3.1071 - categorical_crossentropy: 3.10 - ETA: 7s - loss: 3.1075 - categorical_crossentropy: 3.10 - ETA: 7s - loss: 3.1077 - categorical_crossentropy: 3.10 - ETA: 6s - loss: 3.1080 - categorical_crossentropy: 3.10 - ETA: 6s - loss: 3.1080 - categorical_crossentropy: 3.10 - ETA: 6s - loss: 3.1083 - categorical_crossentropy: 3.10 - ETA: 5s - loss: 3.1042 - categorical_crossentropy: 3.10 - ETA: 5s - loss: 3.1023 - categorical_crossentropy: 3.10 - ETA: 5s - loss: 3.1035 - categorical_crossentropy: 3.10 - ETA: 4s - loss: 3.1058 - categorical_crossentropy: 3.10 - ETA: 4s - loss: 3.1074 - categorical_crossentropy: 3.104816/4816 [==============================] - ETA: 4s - loss: 3.1066 - categorical_crossentropy: 3.10 - ETA: 3s - loss: 3.1024 - categorical_crossentropy: 3.10 - ETA: 3s - loss: 3.1016 - categorical_crossentropy: 3.10 - ETA: 3s - loss: 3.1003 - categorical_crossentropy: 3.10 - ETA: 2s - loss: 3.1026 - categorical_crossentropy: 3.10 - ETA: 2s - loss: 3.1048 - categorical_crossentropy: 3.10 - ETA: 2s - loss: 3.1013 - categorical_crossentropy: 3.10 - ETA: 2s - loss: 3.1013 - categorical_crossentropy: 3.10 - ETA: 1s - loss: 3.1006 - categorical_crossentropy: 3.10 - ETA: 1s - loss: 3.0982 - categorical_crossentropy: 3.09 - ETA: 1s - loss: 3.0954 - categorical_crossentropy: 3.09 - ETA: 0s - loss: 3.0965 - categorical_crossentropy: 3.09 - ETA: 0s - loss: 3.0957 - categorical_crossentropy: 3.09 - ETA: 0s - loss: 3.0943 - categorical_crossentropy: 3.09 - 48s 10ms/step - loss: 3.0940 - categorical_crossentropy: 3.0940 - val_loss: 3.1173 - val_categorical_crossentropy: 3.1173\n",
      "Epoch 2/30\n"
     ]
    },
    {
     "name": "stdout",
     "output_type": "stream",
     "text": [
      "4384/4816 [==========================>...] - ETA: 44s - loss: 2.2985 - categorical_crossentropy: 2.298 - ETA: 45s - loss: 2.5325 - categorical_crossentropy: 2.532 - ETA: 43s - loss: 2.6413 - categorical_crossentropy: 2.641 - ETA: 45s - loss: 2.6378 - categorical_crossentropy: 2.637 - ETA: 46s - loss: 2.6848 - categorical_crossentropy: 2.684 - ETA: 45s - loss: 2.6631 - categorical_crossentropy: 2.663 - ETA: 44s - loss: 2.6444 - categorical_crossentropy: 2.644 - ETA: 43s - loss: 2.5721 - categorical_crossentropy: 2.572 - ETA: 43s - loss: 2.5824 - categorical_crossentropy: 2.582 - ETA: 43s - loss: 2.5131 - categorical_crossentropy: 2.513 - ETA: 42s - loss: 2.4933 - categorical_crossentropy: 2.493 - ETA: 42s - loss: 2.5499 - categorical_crossentropy: 2.549 - ETA: 41s - loss: 2.5727 - categorical_crossentropy: 2.572 - ETA: 41s - loss: 2.5497 - categorical_crossentropy: 2.549 - ETA: 40s - loss: 2.5491 - categorical_crossentropy: 2.549 - ETA: 40s - loss: 2.5559 - categorical_crossentropy: 2.555 - ETA: 40s - loss: 2.5588 - categorical_crossentropy: 2.558 - ETA: 39s - loss: 2.5738 - categorical_crossentropy: 2.573 - ETA: 39s - loss: 2.5971 - categorical_crossentropy: 2.597 - ETA: 39s - loss: 2.5711 - categorical_crossentropy: 2.571 - ETA: 38s - loss: 2.5656 - categorical_crossentropy: 2.565 - ETA: 38s - loss: 2.5674 - categorical_crossentropy: 2.567 - ETA: 38s - loss: 2.5580 - categorical_crossentropy: 2.558 - ETA: 37s - loss: 2.5730 - categorical_crossentropy: 2.573 - ETA: 37s - loss: 2.5669 - categorical_crossentropy: 2.566 - ETA: 37s - loss: 2.5706 - categorical_crossentropy: 2.570 - ETA: 37s - loss: 2.5627 - categorical_crossentropy: 2.562 - ETA: 37s - loss: 2.5602 - categorical_crossentropy: 2.560 - ETA: 36s - loss: 2.5490 - categorical_crossentropy: 2.549 - ETA: 36s - loss: 2.5519 - categorical_crossentropy: 2.551 - ETA: 36s - loss: 2.5434 - categorical_crossentropy: 2.543 - ETA: 35s - loss: 2.5371 - categorical_crossentropy: 2.537 - ETA: 35s - loss: 2.5299 - categorical_crossentropy: 2.529 - ETA: 35s - loss: 2.5232 - categorical_crossentropy: 2.523 - ETA: 34s - loss: 2.5174 - categorical_crossentropy: 2.517 - ETA: 34s - loss: 2.5121 - categorical_crossentropy: 2.512 - ETA: 34s - loss: 2.5185 - categorical_crossentropy: 2.518 - ETA: 33s - loss: 2.5161 - categorical_crossentropy: 2.516 - ETA: 33s - loss: 2.5113 - categorical_crossentropy: 2.511 - ETA: 33s - loss: 2.5105 - categorical_crossentropy: 2.510 - ETA: 32s - loss: 2.5192 - categorical_crossentropy: 2.519 - ETA: 32s - loss: 2.5196 - categorical_crossentropy: 2.519 - ETA: 32s - loss: 2.5213 - categorical_crossentropy: 2.521 - ETA: 32s - loss: 2.5210 - categorical_crossentropy: 2.521 - ETA: 31s - loss: 2.5105 - categorical_crossentropy: 2.510 - ETA: 31s - loss: 2.5028 - categorical_crossentropy: 2.502 - ETA: 31s - loss: 2.4988 - categorical_crossentropy: 2.498 - ETA: 30s - loss: 2.4970 - categorical_crossentropy: 2.497 - ETA: 30s - loss: 2.4969 - categorical_crossentropy: 2.496 - ETA: 30s - loss: 2.4934 - categorical_crossentropy: 2.493 - ETA: 30s - loss: 2.4947 - categorical_crossentropy: 2.494 - ETA: 30s - loss: 2.4985 - categorical_crossentropy: 2.498 - ETA: 29s - loss: 2.5087 - categorical_crossentropy: 2.508 - ETA: 29s - loss: 2.5051 - categorical_crossentropy: 2.505 - ETA: 29s - loss: 2.5087 - categorical_crossentropy: 2.508 - ETA: 29s - loss: 2.5058 - categorical_crossentropy: 2.505 - ETA: 28s - loss: 2.5017 - categorical_crossentropy: 2.501 - ETA: 28s - loss: 2.4937 - categorical_crossentropy: 2.493 - ETA: 28s - loss: 2.4974 - categorical_crossentropy: 2.497 - ETA: 27s - loss: 2.4942 - categorical_crossentropy: 2.494 - ETA: 27s - loss: 2.4925 - categorical_crossentropy: 2.492 - ETA: 27s - loss: 2.4935 - categorical_crossentropy: 2.493 - ETA: 27s - loss: 2.4921 - categorical_crossentropy: 2.492 - ETA: 26s - loss: 2.4845 - categorical_crossentropy: 2.484 - ETA: 26s - loss: 2.4743 - categorical_crossentropy: 2.474 - ETA: 26s - loss: 2.4774 - categorical_crossentropy: 2.477 - ETA: 25s - loss: 2.4729 - categorical_crossentropy: 2.472 - ETA: 25s - loss: 2.4729 - categorical_crossentropy: 2.472 - ETA: 25s - loss: 2.4674 - categorical_crossentropy: 2.467 - ETA: 24s - loss: 2.4709 - categorical_crossentropy: 2.470 - ETA: 24s - loss: 2.4639 - categorical_crossentropy: 2.463 - ETA: 24s - loss: 2.4622 - categorical_crossentropy: 2.462 - ETA: 23s - loss: 2.4611 - categorical_crossentropy: 2.461 - ETA: 23s - loss: 2.4566 - categorical_crossentropy: 2.456 - ETA: 23s - loss: 2.4549 - categorical_crossentropy: 2.454 - ETA: 22s - loss: 2.4556 - categorical_crossentropy: 2.455 - ETA: 22s - loss: 2.4504 - categorical_crossentropy: 2.450 - ETA: 22s - loss: 2.4503 - categorical_crossentropy: 2.450 - ETA: 21s - loss: 2.4513 - categorical_crossentropy: 2.451 - ETA: 21s - loss: 2.4449 - categorical_crossentropy: 2.444 - ETA: 21s - loss: 2.4435 - categorical_crossentropy: 2.443 - ETA: 20s - loss: 2.4350 - categorical_crossentropy: 2.435 - ETA: 20s - loss: 2.4349 - categorical_crossentropy: 2.434 - ETA: 20s - loss: 2.4300 - categorical_crossentropy: 2.430 - ETA: 19s - loss: 2.4261 - categorical_crossentropy: 2.426 - ETA: 19s - loss: 2.4230 - categorical_crossentropy: 2.423 - ETA: 19s - loss: 2.4207 - categorical_crossentropy: 2.420 - ETA: 18s - loss: 2.4189 - categorical_crossentropy: 2.418 - ETA: 18s - loss: 2.4201 - categorical_crossentropy: 2.420 - ETA: 18s - loss: 2.4200 - categorical_crossentropy: 2.420 - ETA: 18s - loss: 2.4074 - categorical_crossentropy: 2.407 - ETA: 17s - loss: 2.4085 - categorical_crossentropy: 2.408 - ETA: 17s - loss: 2.4076 - categorical_crossentropy: 2.407 - ETA: 17s - loss: 2.3988 - categorical_crossentropy: 2.398 - ETA: 16s - loss: 2.3962 - categorical_crossentropy: 2.396 - ETA: 16s - loss: 2.3918 - categorical_crossentropy: 2.391 - ETA: 16s - loss: 2.3910 - categorical_crossentropy: 2.391 - ETA: 15s - loss: 2.3903 - categorical_crossentropy: 2.390 - ETA: 15s - loss: 2.3903 - categorical_crossentropy: 2.390 - ETA: 15s - loss: 2.3897 - categorical_crossentropy: 2.389 - ETA: 14s - loss: 2.3912 - categorical_crossentropy: 2.391 - ETA: 14s - loss: 2.3951 - categorical_crossentropy: 2.395 - ETA: 14s - loss: 2.4002 - categorical_crossentropy: 2.400 - ETA: 14s - loss: 2.4004 - categorical_crossentropy: 2.400 - ETA: 13s - loss: 2.3960 - categorical_crossentropy: 2.396 - ETA: 13s - loss: 2.3972 - categorical_crossentropy: 2.397 - ETA: 13s - loss: 2.3968 - categorical_crossentropy: 2.396 - ETA: 12s - loss: 2.3967 - categorical_crossentropy: 2.396 - ETA: 12s - loss: 2.3982 - categorical_crossentropy: 2.398 - ETA: 12s - loss: 2.3965 - categorical_crossentropy: 2.396 - ETA: 11s - loss: 2.3921 - categorical_crossentropy: 2.392 - ETA: 11s - loss: 2.3891 - categorical_crossentropy: 2.389 - ETA: 11s - loss: 2.3880 - categorical_crossentropy: 2.388 - ETA: 11s - loss: 2.3849 - categorical_crossentropy: 2.384 - ETA: 10s - loss: 2.3816 - categorical_crossentropy: 2.381 - ETA: 10s - loss: 2.3769 - categorical_crossentropy: 2.376 - ETA: 10s - loss: 2.3757 - categorical_crossentropy: 2.375 - ETA: 9s - loss: 2.3699 - categorical_crossentropy: 2.369 - ETA: 9s - loss: 2.3693 - categorical_crossentropy: 2.36 - ETA: 9s - loss: 2.3718 - categorical_crossentropy: 2.37 - ETA: 8s - loss: 2.3715 - categorical_crossentropy: 2.37 - ETA: 8s - loss: 2.3707 - categorical_crossentropy: 2.37 - ETA: 8s - loss: 2.3653 - categorical_crossentropy: 2.36 - ETA: 7s - loss: 2.3607 - categorical_crossentropy: 2.36 - ETA: 7s - loss: 2.3598 - categorical_crossentropy: 2.35 - ETA: 7s - loss: 2.3563 - categorical_crossentropy: 2.35 - ETA: 7s - loss: 2.3537 - categorical_crossentropy: 2.35 - ETA: 6s - loss: 2.3537 - categorical_crossentropy: 2.35 - ETA: 6s - loss: 2.3514 - categorical_crossentropy: 2.35 - ETA: 6s - loss: 2.3519 - categorical_crossentropy: 2.35 - ETA: 5s - loss: 2.3482 - categorical_crossentropy: 2.34 - ETA: 5s - loss: 2.3447 - categorical_crossentropy: 2.34 - ETA: 5s - loss: 2.3420 - categorical_crossentropy: 2.34 - ETA: 4s - loss: 2.3368 - categorical_crossentropy: 2.33 - ETA: 4s - loss: 2.3339 - categorical_crossentropy: 2.33 - ETA: 4s - loss: 2.3315 - categorical_crossentropy: 2.33 - ETA: 4s - loss: 2.3280 - categorical_crossentropy: 2.3280"
     ]
    },
    {
     "name": "stdout",
     "output_type": "stream",
     "text": [
      "4816/4816 [==============================] - ETA: 3s - loss: 2.3278 - categorical_crossentropy: 2.32 - ETA: 3s - loss: 2.3238 - categorical_crossentropy: 2.32 - ETA: 3s - loss: 2.3211 - categorical_crossentropy: 2.32 - ETA: 2s - loss: 2.3182 - categorical_crossentropy: 2.31 - ETA: 2s - loss: 2.3153 - categorical_crossentropy: 2.31 - ETA: 2s - loss: 2.3156 - categorical_crossentropy: 2.31 - ETA: 1s - loss: 2.3095 - categorical_crossentropy: 2.30 - ETA: 1s - loss: 2.3071 - categorical_crossentropy: 2.30 - ETA: 1s - loss: 2.3046 - categorical_crossentropy: 2.30 - ETA: 1s - loss: 2.3038 - categorical_crossentropy: 2.30 - ETA: 0s - loss: 2.3005 - categorical_crossentropy: 2.30 - ETA: 0s - loss: 2.2974 - categorical_crossentropy: 2.29 - ETA: 0s - loss: 2.2959 - categorical_crossentropy: 2.29 - 46s 10ms/step - loss: 2.2960 - categorical_crossentropy: 2.2960 - val_loss: 3.1106 - val_categorical_crossentropy: 3.1106\n",
      "Epoch 3/30\n",
      "4384/4816 [==========================>...] - ETA: 44s - loss: 1.6477 - categorical_crossentropy: 1.647 - ETA: 42s - loss: 1.5905 - categorical_crossentropy: 1.590 - ETA: 43s - loss: 1.6266 - categorical_crossentropy: 1.626 - ETA: 42s - loss: 1.7248 - categorical_crossentropy: 1.724 - ETA: 42s - loss: 1.7505 - categorical_crossentropy: 1.750 - ETA: 42s - loss: 1.6733 - categorical_crossentropy: 1.673 - ETA: 41s - loss: 1.6790 - categorical_crossentropy: 1.679 - ETA: 41s - loss: 1.6692 - categorical_crossentropy: 1.669 - ETA: 41s - loss: 1.6507 - categorical_crossentropy: 1.650 - ETA: 41s - loss: 1.6366 - categorical_crossentropy: 1.636 - ETA: 41s - loss: 1.6386 - categorical_crossentropy: 1.638 - ETA: 40s - loss: 1.6329 - categorical_crossentropy: 1.632 - ETA: 40s - loss: 1.6656 - categorical_crossentropy: 1.665 - ETA: 40s - loss: 1.6746 - categorical_crossentropy: 1.674 - ETA: 39s - loss: 1.6551 - categorical_crossentropy: 1.655 - ETA: 39s - loss: 1.6460 - categorical_crossentropy: 1.646 - ETA: 39s - loss: 1.6811 - categorical_crossentropy: 1.681 - ETA: 38s - loss: 1.6414 - categorical_crossentropy: 1.641 - ETA: 38s - loss: 1.6111 - categorical_crossentropy: 1.611 - ETA: 38s - loss: 1.6343 - categorical_crossentropy: 1.634 - ETA: 37s - loss: 1.6254 - categorical_crossentropy: 1.625 - ETA: 37s - loss: 1.6089 - categorical_crossentropy: 1.608 - ETA: 37s - loss: 1.5834 - categorical_crossentropy: 1.583 - ETA: 37s - loss: 1.5858 - categorical_crossentropy: 1.585 - ETA: 36s - loss: 1.5503 - categorical_crossentropy: 1.550 - ETA: 36s - loss: 1.5270 - categorical_crossentropy: 1.527 - ETA: 36s - loss: 1.5133 - categorical_crossentropy: 1.513 - ETA: 35s - loss: 1.5196 - categorical_crossentropy: 1.519 - ETA: 35s - loss: 1.5240 - categorical_crossentropy: 1.524 - ETA: 35s - loss: 1.5212 - categorical_crossentropy: 1.521 - ETA: 34s - loss: 1.5196 - categorical_crossentropy: 1.519 - ETA: 34s - loss: 1.5171 - categorical_crossentropy: 1.517 - ETA: 34s - loss: 1.5116 - categorical_crossentropy: 1.511 - ETA: 33s - loss: 1.5282 - categorical_crossentropy: 1.528 - ETA: 33s - loss: 1.5292 - categorical_crossentropy: 1.529 - ETA: 33s - loss: 1.5170 - categorical_crossentropy: 1.517 - ETA: 33s - loss: 1.5120 - categorical_crossentropy: 1.512 - ETA: 32s - loss: 1.5248 - categorical_crossentropy: 1.524 - ETA: 32s - loss: 1.5263 - categorical_crossentropy: 1.526 - ETA: 32s - loss: 1.5148 - categorical_crossentropy: 1.514 - ETA: 31s - loss: 1.4996 - categorical_crossentropy: 1.499 - ETA: 31s - loss: 1.5102 - categorical_crossentropy: 1.510 - ETA: 31s - loss: 1.5151 - categorical_crossentropy: 1.515 - ETA: 30s - loss: 1.5062 - categorical_crossentropy: 1.506 - ETA: 30s - loss: 1.5062 - categorical_crossentropy: 1.506 - ETA: 30s - loss: 1.4960 - categorical_crossentropy: 1.496 - ETA: 30s - loss: 1.5014 - categorical_crossentropy: 1.501 - ETA: 29s - loss: 1.4920 - categorical_crossentropy: 1.492 - ETA: 29s - loss: 1.4965 - categorical_crossentropy: 1.496 - ETA: 29s - loss: 1.4990 - categorical_crossentropy: 1.499 - ETA: 29s - loss: 1.5038 - categorical_crossentropy: 1.503 - ETA: 28s - loss: 1.5046 - categorical_crossentropy: 1.504 - ETA: 28s - loss: 1.5124 - categorical_crossentropy: 1.512 - ETA: 28s - loss: 1.5151 - categorical_crossentropy: 1.515 - ETA: 27s - loss: 1.5083 - categorical_crossentropy: 1.508 - ETA: 27s - loss: 1.5081 - categorical_crossentropy: 1.508 - ETA: 27s - loss: 1.5133 - categorical_crossentropy: 1.513 - ETA: 27s - loss: 1.5120 - categorical_crossentropy: 1.512 - ETA: 26s - loss: 1.5127 - categorical_crossentropy: 1.512 - ETA: 26s - loss: 1.5068 - categorical_crossentropy: 1.506 - ETA: 26s - loss: 1.5075 - categorical_crossentropy: 1.507 - ETA: 25s - loss: 1.5032 - categorical_crossentropy: 1.503 - ETA: 25s - loss: 1.4976 - categorical_crossentropy: 1.497 - ETA: 25s - loss: 1.4931 - categorical_crossentropy: 1.493 - ETA: 24s - loss: 1.4850 - categorical_crossentropy: 1.485 - ETA: 24s - loss: 1.4850 - categorical_crossentropy: 1.485 - ETA: 24s - loss: 1.4815 - categorical_crossentropy: 1.481 - ETA: 24s - loss: 1.4925 - categorical_crossentropy: 1.492 - ETA: 23s - loss: 1.4930 - categorical_crossentropy: 1.493 - ETA: 23s - loss: 1.5027 - categorical_crossentropy: 1.502 - ETA: 23s - loss: 1.5023 - categorical_crossentropy: 1.502 - ETA: 22s - loss: 1.5008 - categorical_crossentropy: 1.500 - ETA: 22s - loss: 1.5003 - categorical_crossentropy: 1.500 - ETA: 22s - loss: 1.5033 - categorical_crossentropy: 1.503 - ETA: 22s - loss: 1.5004 - categorical_crossentropy: 1.500 - ETA: 21s - loss: 1.4967 - categorical_crossentropy: 1.496 - ETA: 21s - loss: 1.4980 - categorical_crossentropy: 1.498 - ETA: 21s - loss: 1.4942 - categorical_crossentropy: 1.494 - ETA: 20s - loss: 1.4911 - categorical_crossentropy: 1.491 - ETA: 20s - loss: 1.4932 - categorical_crossentropy: 1.493 - ETA: 20s - loss: 1.4952 - categorical_crossentropy: 1.495 - ETA: 20s - loss: 1.4910 - categorical_crossentropy: 1.491 - ETA: 19s - loss: 1.4858 - categorical_crossentropy: 1.485 - ETA: 19s - loss: 1.4910 - categorical_crossentropy: 1.491 - ETA: 19s - loss: 1.4858 - categorical_crossentropy: 1.485 - ETA: 18s - loss: 1.4868 - categorical_crossentropy: 1.486 - ETA: 18s - loss: 1.4839 - categorical_crossentropy: 1.483 - ETA: 18s - loss: 1.4820 - categorical_crossentropy: 1.482 - ETA: 18s - loss: 1.4818 - categorical_crossentropy: 1.481 - ETA: 17s - loss: 1.4808 - categorical_crossentropy: 1.480 - ETA: 17s - loss: 1.4813 - categorical_crossentropy: 1.481 - ETA: 17s - loss: 1.4875 - categorical_crossentropy: 1.487 - ETA: 16s - loss: 1.4890 - categorical_crossentropy: 1.489 - ETA: 16s - loss: 1.4834 - categorical_crossentropy: 1.483 - ETA: 16s - loss: 1.4805 - categorical_crossentropy: 1.480 - ETA: 16s - loss: 1.4762 - categorical_crossentropy: 1.476 - ETA: 15s - loss: 1.4744 - categorical_crossentropy: 1.474 - ETA: 15s - loss: 1.4766 - categorical_crossentropy: 1.476 - ETA: 15s - loss: 1.4706 - categorical_crossentropy: 1.470 - ETA: 14s - loss: 1.4691 - categorical_crossentropy: 1.469 - ETA: 14s - loss: 1.4684 - categorical_crossentropy: 1.468 - ETA: 14s - loss: 1.4679 - categorical_crossentropy: 1.467 - ETA: 14s - loss: 1.4666 - categorical_crossentropy: 1.466 - ETA: 13s - loss: 1.4627 - categorical_crossentropy: 1.462 - ETA: 13s - loss: 1.4633 - categorical_crossentropy: 1.463 - ETA: 13s - loss: 1.4579 - categorical_crossentropy: 1.457 - ETA: 12s - loss: 1.4550 - categorical_crossentropy: 1.455 - ETA: 12s - loss: 1.4564 - categorical_crossentropy: 1.456 - ETA: 12s - loss: 1.4531 - categorical_crossentropy: 1.453 - ETA: 11s - loss: 1.4506 - categorical_crossentropy: 1.450 - ETA: 11s - loss: 1.4493 - categorical_crossentropy: 1.449 - ETA: 11s - loss: 1.4480 - categorical_crossentropy: 1.448 - ETA: 11s - loss: 1.4454 - categorical_crossentropy: 1.445 - ETA: 10s - loss: 1.4453 - categorical_crossentropy: 1.445 - ETA: 10s - loss: 1.4437 - categorical_crossentropy: 1.443 - ETA: 10s - loss: 1.4411 - categorical_crossentropy: 1.441 - ETA: 9s - loss: 1.4389 - categorical_crossentropy: 1.438 - ETA: 9s - loss: 1.4340 - categorical_crossentropy: 1.43 - ETA: 9s - loss: 1.4284 - categorical_crossentropy: 1.42 - ETA: 9s - loss: 1.4272 - categorical_crossentropy: 1.42 - ETA: 8s - loss: 1.4245 - categorical_crossentropy: 1.42 - ETA: 8s - loss: 1.4232 - categorical_crossentropy: 1.42 - ETA: 8s - loss: 1.4205 - categorical_crossentropy: 1.42 - ETA: 7s - loss: 1.4214 - categorical_crossentropy: 1.42 - ETA: 7s - loss: 1.4231 - categorical_crossentropy: 1.42 - ETA: 7s - loss: 1.4186 - categorical_crossentropy: 1.41 - ETA: 6s - loss: 1.4174 - categorical_crossentropy: 1.41 - ETA: 6s - loss: 1.4157 - categorical_crossentropy: 1.41 - ETA: 6s - loss: 1.4206 - categorical_crossentropy: 1.42 - ETA: 6s - loss: 1.4212 - categorical_crossentropy: 1.42 - ETA: 5s - loss: 1.4198 - categorical_crossentropy: 1.41 - ETA: 5s - loss: 1.4181 - categorical_crossentropy: 1.41 - ETA: 5s - loss: 1.4213 - categorical_crossentropy: 1.42 - ETA: 4s - loss: 1.4188 - categorical_crossentropy: 1.41 - ETA: 4s - loss: 1.4182 - categorical_crossentropy: 1.41 - ETA: 4s - loss: 1.4170 - categorical_crossentropy: 1.41 - ETA: 3s - loss: 1.4190 - categorical_crossentropy: 1.41904816/4816 [==============================] - ETA: 3s - loss: 1.4178 - categorical_crossentropy: 1.41 - ETA: 3s - loss: 1.4171 - categorical_crossentropy: 1.41 - ETA: 3s - loss: 1.4214 - categorical_crossentropy: 1.42 - ETA: 2s - loss: 1.4255 - categorical_crossentropy: 1.42 - ETA: 2s - loss: 1.4227 - categorical_crossentropy: 1.42 - ETA: 2s - loss: 1.4218 - categorical_crossentropy: 1.42 - ETA: 1s - loss: 1.4214 - categorical_crossentropy: 1.42 - ETA: 1s - loss: 1.4234 - categorical_crossentropy: 1.42 - ETA: 1s - loss: 1.4231 - categorical_crossentropy: 1.42 - ETA: 1s - loss: 1.4204 - categorical_crossentropy: 1.42 - ETA: 0s - loss: 1.4205 - categorical_crossentropy: 1.42 - ETA: 0s - loss: 1.4204 - categorical_crossentropy: 1.42 - ETA: 0s - loss: 1.4194 - categorical_crossentropy: 1.41 - 46s 9ms/step - loss: 1.4199 - categorical_crossentropy: 1.4199 - val_loss: 3.6940 - val_categorical_crossentropy: 3.6940\n",
      "Epoch 4/30\n"
     ]
    },
    {
     "name": "stdout",
     "output_type": "stream",
     "text": [
      "4384/4816 [==========================>...] - ETA: 42s - loss: 0.6510 - categorical_crossentropy: 0.651 - ETA: 41s - loss: 0.7251 - categorical_crossentropy: 0.725 - ETA: 44s - loss: 0.6714 - categorical_crossentropy: 0.671 - ETA: 43s - loss: 0.6804 - categorical_crossentropy: 0.680 - ETA: 43s - loss: 0.7353 - categorical_crossentropy: 0.735 - ETA: 43s - loss: 0.7384 - categorical_crossentropy: 0.738 - ETA: 43s - loss: 0.7842 - categorical_crossentropy: 0.784 - ETA: 42s - loss: 0.8405 - categorical_crossentropy: 0.840 - ETA: 42s - loss: 0.8504 - categorical_crossentropy: 0.850 - ETA: 42s - loss: 0.8287 - categorical_crossentropy: 0.828 - ETA: 42s - loss: 0.8357 - categorical_crossentropy: 0.835 - ETA: 41s - loss: 0.8603 - categorical_crossentropy: 0.860 - ETA: 41s - loss: 0.8755 - categorical_crossentropy: 0.875 - ETA: 40s - loss: 0.8654 - categorical_crossentropy: 0.865 - ETA: 40s - loss: 0.8851 - categorical_crossentropy: 0.885 - ETA: 40s - loss: 0.8641 - categorical_crossentropy: 0.864 - ETA: 40s - loss: 0.9063 - categorical_crossentropy: 0.906 - ETA: 40s - loss: 0.9417 - categorical_crossentropy: 0.941 - ETA: 39s - loss: 0.9361 - categorical_crossentropy: 0.936 - ETA: 39s - loss: 0.9381 - categorical_crossentropy: 0.938 - ETA: 39s - loss: 0.9511 - categorical_crossentropy: 0.951 - ETA: 38s - loss: 0.9468 - categorical_crossentropy: 0.946 - ETA: 38s - loss: 0.9576 - categorical_crossentropy: 0.957 - ETA: 38s - loss: 0.9630 - categorical_crossentropy: 0.963 - ETA: 38s - loss: 0.9443 - categorical_crossentropy: 0.944 - ETA: 37s - loss: 0.9285 - categorical_crossentropy: 0.928 - ETA: 37s - loss: 0.9130 - categorical_crossentropy: 0.913 - ETA: 37s - loss: 0.9078 - categorical_crossentropy: 0.907 - ETA: 37s - loss: 0.9086 - categorical_crossentropy: 0.908 - ETA: 36s - loss: 0.9064 - categorical_crossentropy: 0.906 - ETA: 36s - loss: 0.8883 - categorical_crossentropy: 0.888 - ETA: 36s - loss: 0.9050 - categorical_crossentropy: 0.905 - ETA: 36s - loss: 0.9203 - categorical_crossentropy: 0.920 - ETA: 35s - loss: 0.9317 - categorical_crossentropy: 0.931 - ETA: 35s - loss: 0.9432 - categorical_crossentropy: 0.943 - ETA: 35s - loss: 0.9376 - categorical_crossentropy: 0.937 - ETA: 34s - loss: 0.9538 - categorical_crossentropy: 0.953 - ETA: 34s - loss: 0.9626 - categorical_crossentropy: 0.962 - ETA: 34s - loss: 0.9668 - categorical_crossentropy: 0.966 - ETA: 34s - loss: 0.9591 - categorical_crossentropy: 0.959 - ETA: 33s - loss: 0.9536 - categorical_crossentropy: 0.953 - ETA: 33s - loss: 0.9531 - categorical_crossentropy: 0.953 - ETA: 33s - loss: 0.9503 - categorical_crossentropy: 0.950 - ETA: 32s - loss: 0.9377 - categorical_crossentropy: 0.937 - ETA: 32s - loss: 0.9410 - categorical_crossentropy: 0.941 - ETA: 32s - loss: 0.9473 - categorical_crossentropy: 0.947 - ETA: 32s - loss: 0.9514 - categorical_crossentropy: 0.951 - ETA: 31s - loss: 0.9501 - categorical_crossentropy: 0.950 - ETA: 31s - loss: 0.9503 - categorical_crossentropy: 0.950 - ETA: 31s - loss: 0.9592 - categorical_crossentropy: 0.959 - ETA: 30s - loss: 0.9620 - categorical_crossentropy: 0.962 - ETA: 30s - loss: 0.9654 - categorical_crossentropy: 0.965 - ETA: 30s - loss: 0.9587 - categorical_crossentropy: 0.958 - ETA: 29s - loss: 0.9509 - categorical_crossentropy: 0.950 - ETA: 29s - loss: 0.9521 - categorical_crossentropy: 0.952 - ETA: 29s - loss: 0.9525 - categorical_crossentropy: 0.952 - ETA: 29s - loss: 0.9573 - categorical_crossentropy: 0.957 - ETA: 28s - loss: 0.9554 - categorical_crossentropy: 0.955 - ETA: 28s - loss: 0.9519 - categorical_crossentropy: 0.951 - ETA: 28s - loss: 0.9531 - categorical_crossentropy: 0.953 - ETA: 27s - loss: 0.9500 - categorical_crossentropy: 0.950 - ETA: 27s - loss: 0.9512 - categorical_crossentropy: 0.951 - ETA: 27s - loss: 0.9482 - categorical_crossentropy: 0.948 - ETA: 26s - loss: 0.9430 - categorical_crossentropy: 0.943 - ETA: 26s - loss: 0.9347 - categorical_crossentropy: 0.934 - ETA: 26s - loss: 0.9350 - categorical_crossentropy: 0.935 - ETA: 26s - loss: 0.9320 - categorical_crossentropy: 0.932 - ETA: 25s - loss: 0.9252 - categorical_crossentropy: 0.925 - ETA: 25s - loss: 0.9315 - categorical_crossentropy: 0.931 - ETA: 25s - loss: 0.9289 - categorical_crossentropy: 0.928 - ETA: 24s - loss: 0.9247 - categorical_crossentropy: 0.924 - ETA: 24s - loss: 0.9189 - categorical_crossentropy: 0.918 - ETA: 24s - loss: 0.9131 - categorical_crossentropy: 0.913 - ETA: 23s - loss: 0.9114 - categorical_crossentropy: 0.911 - ETA: 23s - loss: 0.9118 - categorical_crossentropy: 0.911 - ETA: 23s - loss: 0.9104 - categorical_crossentropy: 0.910 - ETA: 22s - loss: 0.9052 - categorical_crossentropy: 0.905 - ETA: 22s - loss: 0.9055 - categorical_crossentropy: 0.905 - ETA: 22s - loss: 0.9023 - categorical_crossentropy: 0.902 - ETA: 22s - loss: 0.9032 - categorical_crossentropy: 0.903 - ETA: 21s - loss: 0.9019 - categorical_crossentropy: 0.901 - ETA: 21s - loss: 0.8985 - categorical_crossentropy: 0.898 - ETA: 21s - loss: 0.8962 - categorical_crossentropy: 0.896 - ETA: 20s - loss: 0.8960 - categorical_crossentropy: 0.896 - ETA: 20s - loss: 0.9008 - categorical_crossentropy: 0.900 - ETA: 20s - loss: 0.8981 - categorical_crossentropy: 0.898 - ETA: 19s - loss: 0.8911 - categorical_crossentropy: 0.891 - ETA: 19s - loss: 0.8902 - categorical_crossentropy: 0.890 - ETA: 19s - loss: 0.8890 - categorical_crossentropy: 0.889 - ETA: 18s - loss: 0.8895 - categorical_crossentropy: 0.889 - ETA: 18s - loss: 0.8852 - categorical_crossentropy: 0.885 - ETA: 18s - loss: 0.8816 - categorical_crossentropy: 0.881 - ETA: 17s - loss: 0.8796 - categorical_crossentropy: 0.879 - ETA: 17s - loss: 0.8783 - categorical_crossentropy: 0.878 - ETA: 17s - loss: 0.8773 - categorical_crossentropy: 0.877 - ETA: 17s - loss: 0.8799 - categorical_crossentropy: 0.879 - ETA: 16s - loss: 0.8876 - categorical_crossentropy: 0.887 - ETA: 16s - loss: 0.8923 - categorical_crossentropy: 0.892 - ETA: 16s - loss: 0.8911 - categorical_crossentropy: 0.891 - ETA: 15s - loss: 0.8880 - categorical_crossentropy: 0.888 - ETA: 15s - loss: 0.8857 - categorical_crossentropy: 0.885 - ETA: 15s - loss: 0.8842 - categorical_crossentropy: 0.884 - ETA: 14s - loss: 0.8816 - categorical_crossentropy: 0.881 - ETA: 14s - loss: 0.8826 - categorical_crossentropy: 0.882 - ETA: 14s - loss: 0.8840 - categorical_crossentropy: 0.884 - ETA: 13s - loss: 0.8881 - categorical_crossentropy: 0.888 - ETA: 13s - loss: 0.8835 - categorical_crossentropy: 0.883 - ETA: 13s - loss: 0.8829 - categorical_crossentropy: 0.882 - ETA: 13s - loss: 0.8863 - categorical_crossentropy: 0.886 - ETA: 12s - loss: 0.8863 - categorical_crossentropy: 0.886 - ETA: 12s - loss: 0.8862 - categorical_crossentropy: 0.886 - ETA: 12s - loss: 0.8851 - categorical_crossentropy: 0.885 - ETA: 11s - loss: 0.8863 - categorical_crossentropy: 0.886 - ETA: 11s - loss: 0.8858 - categorical_crossentropy: 0.885 - ETA: 11s - loss: 0.8856 - categorical_crossentropy: 0.885 - ETA: 10s - loss: 0.8839 - categorical_crossentropy: 0.883 - ETA: 10s - loss: 0.8833 - categorical_crossentropy: 0.883 - ETA: 10s - loss: 0.8810 - categorical_crossentropy: 0.881 - ETA: 9s - loss: 0.8813 - categorical_crossentropy: 0.881 - ETA: 9s - loss: 0.8776 - categorical_crossentropy: 0.87 - ETA: 9s - loss: 0.8780 - categorical_crossentropy: 0.87 - ETA: 9s - loss: 0.8759 - categorical_crossentropy: 0.87 - ETA: 8s - loss: 0.8777 - categorical_crossentropy: 0.87 - ETA: 8s - loss: 0.8786 - categorical_crossentropy: 0.87 - ETA: 8s - loss: 0.8759 - categorical_crossentropy: 0.87 - ETA: 7s - loss: 0.8747 - categorical_crossentropy: 0.87 - ETA: 7s - loss: 0.8744 - categorical_crossentropy: 0.87 - ETA: 7s - loss: 0.8735 - categorical_crossentropy: 0.87 - ETA: 6s - loss: 0.8741 - categorical_crossentropy: 0.87 - ETA: 6s - loss: 0.8731 - categorical_crossentropy: 0.87 - ETA: 6s - loss: 0.8706 - categorical_crossentropy: 0.87 - ETA: 5s - loss: 0.8709 - categorical_crossentropy: 0.87 - ETA: 5s - loss: 0.8726 - categorical_crossentropy: 0.87 - ETA: 5s - loss: 0.8703 - categorical_crossentropy: 0.87 - ETA: 4s - loss: 0.8711 - categorical_crossentropy: 0.87 - ETA: 4s - loss: 0.8693 - categorical_crossentropy: 0.86 - ETA: 4s - loss: 0.8733 - categorical_crossentropy: 0.8733"
     ]
    },
    {
     "name": "stdout",
     "output_type": "stream",
     "text": [
      "4816/4816 [==============================] - ETA: 3s - loss: 0.8726 - categorical_crossentropy: 0.87 - ETA: 3s - loss: 0.8721 - categorical_crossentropy: 0.87 - ETA: 3s - loss: 0.8719 - categorical_crossentropy: 0.87 - ETA: 3s - loss: 0.8724 - categorical_crossentropy: 0.87 - ETA: 2s - loss: 0.8753 - categorical_crossentropy: 0.87 - ETA: 2s - loss: 0.8788 - categorical_crossentropy: 0.87 - ETA: 2s - loss: 0.8813 - categorical_crossentropy: 0.88 - ETA: 1s - loss: 0.8780 - categorical_crossentropy: 0.87 - ETA: 1s - loss: 0.8771 - categorical_crossentropy: 0.87 - ETA: 1s - loss: 0.8754 - categorical_crossentropy: 0.87 - ETA: 0s - loss: 0.8732 - categorical_crossentropy: 0.87 - ETA: 0s - loss: 0.8729 - categorical_crossentropy: 0.87 - ETA: 0s - loss: 0.8753 - categorical_crossentropy: 0.87 - 48s 10ms/step - loss: 0.8749 - categorical_crossentropy: 0.8749 - val_loss: 4.3884 - val_categorical_crossentropy: 4.3884\n",
      "Epoch 5/30\n",
      "4384/4816 [==========================>...] - ETA: 39s - loss: 0.6846 - categorical_crossentropy: 0.684 - ETA: 47s - loss: 0.9063 - categorical_crossentropy: 0.906 - ETA: 49s - loss: 0.8522 - categorical_crossentropy: 0.852 - ETA: 48s - loss: 0.8487 - categorical_crossentropy: 0.848 - ETA: 46s - loss: 0.7753 - categorical_crossentropy: 0.775 - ETA: 45s - loss: 0.7877 - categorical_crossentropy: 0.787 - ETA: 44s - loss: 0.8060 - categorical_crossentropy: 0.806 - ETA: 45s - loss: 0.7890 - categorical_crossentropy: 0.789 - ETA: 44s - loss: 0.7770 - categorical_crossentropy: 0.777 - ETA: 43s - loss: 0.7663 - categorical_crossentropy: 0.766 - ETA: 43s - loss: 0.7565 - categorical_crossentropy: 0.756 - ETA: 42s - loss: 0.7542 - categorical_crossentropy: 0.754 - ETA: 42s - loss: 0.7748 - categorical_crossentropy: 0.774 - ETA: 42s - loss: 0.7680 - categorical_crossentropy: 0.768 - ETA: 41s - loss: 0.7834 - categorical_crossentropy: 0.783 - ETA: 41s - loss: 0.7834 - categorical_crossentropy: 0.783 - ETA: 40s - loss: 0.7705 - categorical_crossentropy: 0.770 - ETA: 40s - loss: 0.7519 - categorical_crossentropy: 0.751 - ETA: 40s - loss: 0.7506 - categorical_crossentropy: 0.750 - ETA: 40s - loss: 0.7439 - categorical_crossentropy: 0.743 - ETA: 39s - loss: 0.7179 - categorical_crossentropy: 0.717 - ETA: 39s - loss: 0.7193 - categorical_crossentropy: 0.719 - ETA: 39s - loss: 0.7199 - categorical_crossentropy: 0.719 - ETA: 38s - loss: 0.7176 - categorical_crossentropy: 0.717 - ETA: 38s - loss: 0.7008 - categorical_crossentropy: 0.700 - ETA: 38s - loss: 0.7034 - categorical_crossentropy: 0.703 - ETA: 37s - loss: 0.6916 - categorical_crossentropy: 0.691 - ETA: 37s - loss: 0.6892 - categorical_crossentropy: 0.689 - ETA: 37s - loss: 0.6854 - categorical_crossentropy: 0.685 - ETA: 36s - loss: 0.6823 - categorical_crossentropy: 0.682 - ETA: 36s - loss: 0.6833 - categorical_crossentropy: 0.683 - ETA: 36s - loss: 0.6862 - categorical_crossentropy: 0.686 - ETA: 35s - loss: 0.6886 - categorical_crossentropy: 0.688 - ETA: 35s - loss: 0.6781 - categorical_crossentropy: 0.678 - ETA: 35s - loss: 0.6686 - categorical_crossentropy: 0.668 - ETA: 34s - loss: 0.6719 - categorical_crossentropy: 0.671 - ETA: 34s - loss: 0.6618 - categorical_crossentropy: 0.661 - ETA: 34s - loss: 0.6561 - categorical_crossentropy: 0.656 - ETA: 33s - loss: 0.6494 - categorical_crossentropy: 0.649 - ETA: 33s - loss: 0.6451 - categorical_crossentropy: 0.645 - ETA: 33s - loss: 0.6368 - categorical_crossentropy: 0.636 - ETA: 32s - loss: 0.6359 - categorical_crossentropy: 0.635 - ETA: 32s - loss: 0.6391 - categorical_crossentropy: 0.639 - ETA: 32s - loss: 0.6331 - categorical_crossentropy: 0.633 - ETA: 32s - loss: 0.6276 - categorical_crossentropy: 0.627 - ETA: 31s - loss: 0.6337 - categorical_crossentropy: 0.633 - ETA: 31s - loss: 0.6355 - categorical_crossentropy: 0.635 - ETA: 31s - loss: 0.6391 - categorical_crossentropy: 0.639 - ETA: 31s - loss: 0.6336 - categorical_crossentropy: 0.633 - ETA: 30s - loss: 0.6388 - categorical_crossentropy: 0.638 - ETA: 30s - loss: 0.6366 - categorical_crossentropy: 0.636 - ETA: 30s - loss: 0.6342 - categorical_crossentropy: 0.634 - ETA: 30s - loss: 0.6329 - categorical_crossentropy: 0.632 - ETA: 29s - loss: 0.6316 - categorical_crossentropy: 0.631 - ETA: 29s - loss: 0.6269 - categorical_crossentropy: 0.626 - ETA: 29s - loss: 0.6290 - categorical_crossentropy: 0.629 - ETA: 28s - loss: 0.6337 - categorical_crossentropy: 0.633 - ETA: 28s - loss: 0.6354 - categorical_crossentropy: 0.635 - ETA: 28s - loss: 0.6344 - categorical_crossentropy: 0.634 - ETA: 27s - loss: 0.6283 - categorical_crossentropy: 0.628 - ETA: 27s - loss: 0.6276 - categorical_crossentropy: 0.627 - ETA: 27s - loss: 0.6313 - categorical_crossentropy: 0.631 - ETA: 27s - loss: 0.6278 - categorical_crossentropy: 0.627 - ETA: 26s - loss: 0.6299 - categorical_crossentropy: 0.629 - ETA: 26s - loss: 0.6318 - categorical_crossentropy: 0.631 - ETA: 26s - loss: 0.6347 - categorical_crossentropy: 0.634 - ETA: 25s - loss: 0.6346 - categorical_crossentropy: 0.634 - ETA: 25s - loss: 0.6333 - categorical_crossentropy: 0.633 - ETA: 25s - loss: 0.6386 - categorical_crossentropy: 0.638 - ETA: 25s - loss: 0.6392 - categorical_crossentropy: 0.639 - ETA: 24s - loss: 0.6432 - categorical_crossentropy: 0.643 - ETA: 24s - loss: 0.6386 - categorical_crossentropy: 0.638 - ETA: 24s - loss: 0.6402 - categorical_crossentropy: 0.640 - ETA: 23s - loss: 0.6401 - categorical_crossentropy: 0.640 - ETA: 23s - loss: 0.6439 - categorical_crossentropy: 0.643 - ETA: 23s - loss: 0.6416 - categorical_crossentropy: 0.641 - ETA: 22s - loss: 0.6382 - categorical_crossentropy: 0.638 - ETA: 22s - loss: 0.6401 - categorical_crossentropy: 0.640 - ETA: 22s - loss: 0.6355 - categorical_crossentropy: 0.635 - ETA: 22s - loss: 0.6357 - categorical_crossentropy: 0.635 - ETA: 21s - loss: 0.6334 - categorical_crossentropy: 0.633 - ETA: 21s - loss: 0.6281 - categorical_crossentropy: 0.628 - ETA: 21s - loss: 0.6279 - categorical_crossentropy: 0.627 - ETA: 20s - loss: 0.6243 - categorical_crossentropy: 0.624 - ETA: 20s - loss: 0.6227 - categorical_crossentropy: 0.622 - ETA: 20s - loss: 0.6184 - categorical_crossentropy: 0.618 - ETA: 19s - loss: 0.6174 - categorical_crossentropy: 0.617 - ETA: 19s - loss: 0.6231 - categorical_crossentropy: 0.623 - ETA: 19s - loss: 0.6234 - categorical_crossentropy: 0.623 - ETA: 18s - loss: 0.6210 - categorical_crossentropy: 0.621 - ETA: 18s - loss: 0.6187 - categorical_crossentropy: 0.618 - ETA: 18s - loss: 0.6188 - categorical_crossentropy: 0.618 - ETA: 18s - loss: 0.6210 - categorical_crossentropy: 0.621 - ETA: 17s - loss: 0.6213 - categorical_crossentropy: 0.621 - ETA: 17s - loss: 0.6208 - categorical_crossentropy: 0.620 - ETA: 17s - loss: 0.6217 - categorical_crossentropy: 0.621 - ETA: 16s - loss: 0.6200 - categorical_crossentropy: 0.620 - ETA: 16s - loss: 0.6165 - categorical_crossentropy: 0.616 - ETA: 16s - loss: 0.6149 - categorical_crossentropy: 0.614 - ETA: 15s - loss: 0.6183 - categorical_crossentropy: 0.618 - ETA: 15s - loss: 0.6167 - categorical_crossentropy: 0.616 - ETA: 15s - loss: 0.6166 - categorical_crossentropy: 0.616 - ETA: 14s - loss: 0.6175 - categorical_crossentropy: 0.617 - ETA: 14s - loss: 0.6217 - categorical_crossentropy: 0.621 - ETA: 14s - loss: 0.6212 - categorical_crossentropy: 0.621 - ETA: 14s - loss: 0.6186 - categorical_crossentropy: 0.618 - ETA: 13s - loss: 0.6168 - categorical_crossentropy: 0.616 - ETA: 13s - loss: 0.6165 - categorical_crossentropy: 0.616 - ETA: 13s - loss: 0.6146 - categorical_crossentropy: 0.614 - ETA: 12s - loss: 0.6145 - categorical_crossentropy: 0.614 - ETA: 12s - loss: 0.6170 - categorical_crossentropy: 0.617 - ETA: 12s - loss: 0.6152 - categorical_crossentropy: 0.615 - ETA: 11s - loss: 0.6160 - categorical_crossentropy: 0.616 - ETA: 11s - loss: 0.6176 - categorical_crossentropy: 0.617 - ETA: 11s - loss: 0.6193 - categorical_crossentropy: 0.619 - ETA: 10s - loss: 0.6188 - categorical_crossentropy: 0.618 - ETA: 10s - loss: 0.6190 - categorical_crossentropy: 0.619 - ETA: 10s - loss: 0.6194 - categorical_crossentropy: 0.619 - ETA: 9s - loss: 0.6196 - categorical_crossentropy: 0.619 - ETA: 9s - loss: 0.6198 - categorical_crossentropy: 0.61 - ETA: 9s - loss: 0.6213 - categorical_crossentropy: 0.62 - ETA: 8s - loss: 0.6186 - categorical_crossentropy: 0.61 - ETA: 8s - loss: 0.6194 - categorical_crossentropy: 0.61 - ETA: 8s - loss: 0.6217 - categorical_crossentropy: 0.62 - ETA: 8s - loss: 0.6212 - categorical_crossentropy: 0.62 - ETA: 7s - loss: 0.6209 - categorical_crossentropy: 0.62 - ETA: 7s - loss: 0.6186 - categorical_crossentropy: 0.61 - ETA: 7s - loss: 0.6178 - categorical_crossentropy: 0.61 - ETA: 6s - loss: 0.6184 - categorical_crossentropy: 0.61 - ETA: 6s - loss: 0.6229 - categorical_crossentropy: 0.62 - ETA: 6s - loss: 0.6236 - categorical_crossentropy: 0.62 - ETA: 5s - loss: 0.6246 - categorical_crossentropy: 0.62 - ETA: 5s - loss: 0.6256 - categorical_crossentropy: 0.62 - ETA: 5s - loss: 0.6274 - categorical_crossentropy: 0.62 - ETA: 4s - loss: 0.6247 - categorical_crossentropy: 0.62 - ETA: 4s - loss: 0.6220 - categorical_crossentropy: 0.62 - ETA: 4s - loss: 0.6226 - categorical_crossentropy: 0.62264816/4816 [==============================] - ETA: 3s - loss: 0.6210 - categorical_crossentropy: 0.62 - ETA: 3s - loss: 0.6191 - categorical_crossentropy: 0.61 - ETA: 3s - loss: 0.6187 - categorical_crossentropy: 0.61 - ETA: 3s - loss: 0.6185 - categorical_crossentropy: 0.61 - ETA: 2s - loss: 0.6156 - categorical_crossentropy: 0.61 - ETA: 2s - loss: 0.6131 - categorical_crossentropy: 0.61 - ETA: 2s - loss: 0.6113 - categorical_crossentropy: 0.61 - ETA: 1s - loss: 0.6121 - categorical_crossentropy: 0.61 - ETA: 1s - loss: 0.6142 - categorical_crossentropy: 0.61 - ETA: 1s - loss: 0.6132 - categorical_crossentropy: 0.61 - ETA: 0s - loss: 0.6154 - categorical_crossentropy: 0.61 - ETA: 0s - loss: 0.6167 - categorical_crossentropy: 0.61 - ETA: 0s - loss: 0.6182 - categorical_crossentropy: 0.61 - 48s 10ms/step - loss: 0.6187 - categorical_crossentropy: 0.6187 - val_loss: 4.0270 - val_categorical_crossentropy: 4.0270\n",
      "Epoch 6/30\n"
     ]
    },
    {
     "name": "stdout",
     "output_type": "stream",
     "text": [
      "4384/4816 [==========================>...] - ETA: 39s - loss: 0.6869 - categorical_crossentropy: 0.686 - ETA: 41s - loss: 0.4393 - categorical_crossentropy: 0.439 - ETA: 42s - loss: 0.4319 - categorical_crossentropy: 0.431 - ETA: 42s - loss: 0.4433 - categorical_crossentropy: 0.443 - ETA: 42s - loss: 0.4266 - categorical_crossentropy: 0.426 - ETA: 42s - loss: 0.5174 - categorical_crossentropy: 0.517 - ETA: 42s - loss: 0.4954 - categorical_crossentropy: 0.495 - ETA: 41s - loss: 0.4695 - categorical_crossentropy: 0.469 - ETA: 41s - loss: 0.4712 - categorical_crossentropy: 0.471 - ETA: 41s - loss: 0.5150 - categorical_crossentropy: 0.515 - ETA: 40s - loss: 0.5563 - categorical_crossentropy: 0.556 - ETA: 40s - loss: 0.5562 - categorical_crossentropy: 0.556 - ETA: 40s - loss: 0.5666 - categorical_crossentropy: 0.566 - ETA: 40s - loss: 0.5703 - categorical_crossentropy: 0.570 - ETA: 40s - loss: 0.5659 - categorical_crossentropy: 0.565 - ETA: 40s - loss: 0.5515 - categorical_crossentropy: 0.551 - ETA: 40s - loss: 0.5484 - categorical_crossentropy: 0.548 - ETA: 39s - loss: 0.5327 - categorical_crossentropy: 0.532 - ETA: 39s - loss: 0.5492 - categorical_crossentropy: 0.549 - ETA: 39s - loss: 0.5486 - categorical_crossentropy: 0.548 - ETA: 39s - loss: 0.5393 - categorical_crossentropy: 0.539 - ETA: 38s - loss: 0.5426 - categorical_crossentropy: 0.542 - ETA: 38s - loss: 0.5385 - categorical_crossentropy: 0.538 - ETA: 38s - loss: 0.5342 - categorical_crossentropy: 0.534 - ETA: 37s - loss: 0.5248 - categorical_crossentropy: 0.524 - ETA: 37s - loss: 0.5277 - categorical_crossentropy: 0.527 - ETA: 37s - loss: 0.5267 - categorical_crossentropy: 0.526 - ETA: 36s - loss: 0.5267 - categorical_crossentropy: 0.526 - ETA: 36s - loss: 0.5191 - categorical_crossentropy: 0.519 - ETA: 36s - loss: 0.5168 - categorical_crossentropy: 0.516 - ETA: 36s - loss: 0.5196 - categorical_crossentropy: 0.519 - ETA: 35s - loss: 0.5226 - categorical_crossentropy: 0.522 - ETA: 35s - loss: 0.5212 - categorical_crossentropy: 0.521 - ETA: 35s - loss: 0.5112 - categorical_crossentropy: 0.511 - ETA: 34s - loss: 0.5089 - categorical_crossentropy: 0.508 - ETA: 34s - loss: 0.4974 - categorical_crossentropy: 0.497 - ETA: 34s - loss: 0.4935 - categorical_crossentropy: 0.493 - ETA: 33s - loss: 0.4899 - categorical_crossentropy: 0.489 - ETA: 33s - loss: 0.4848 - categorical_crossentropy: 0.484 - ETA: 33s - loss: 0.4767 - categorical_crossentropy: 0.476 - ETA: 32s - loss: 0.4716 - categorical_crossentropy: 0.471 - ETA: 32s - loss: 0.4690 - categorical_crossentropy: 0.469 - ETA: 32s - loss: 0.4689 - categorical_crossentropy: 0.468 - ETA: 31s - loss: 0.4689 - categorical_crossentropy: 0.468 - ETA: 31s - loss: 0.4664 - categorical_crossentropy: 0.466 - ETA: 31s - loss: 0.4697 - categorical_crossentropy: 0.469 - ETA: 31s - loss: 0.4723 - categorical_crossentropy: 0.472 - ETA: 30s - loss: 0.4692 - categorical_crossentropy: 0.469 - ETA: 30s - loss: 0.4733 - categorical_crossentropy: 0.473 - ETA: 30s - loss: 0.4758 - categorical_crossentropy: 0.475 - ETA: 29s - loss: 0.4797 - categorical_crossentropy: 0.479 - ETA: 29s - loss: 0.4833 - categorical_crossentropy: 0.483 - ETA: 29s - loss: 0.4799 - categorical_crossentropy: 0.479 - ETA: 29s - loss: 0.4821 - categorical_crossentropy: 0.482 - ETA: 28s - loss: 0.4794 - categorical_crossentropy: 0.479 - ETA: 28s - loss: 0.4811 - categorical_crossentropy: 0.481 - ETA: 28s - loss: 0.4763 - categorical_crossentropy: 0.476 - ETA: 27s - loss: 0.4795 - categorical_crossentropy: 0.479 - ETA: 27s - loss: 0.4786 - categorical_crossentropy: 0.478 - ETA: 27s - loss: 0.4711 - categorical_crossentropy: 0.471 - ETA: 26s - loss: 0.4744 - categorical_crossentropy: 0.474 - ETA: 26s - loss: 0.4750 - categorical_crossentropy: 0.475 - ETA: 26s - loss: 0.4728 - categorical_crossentropy: 0.472 - ETA: 26s - loss: 0.4707 - categorical_crossentropy: 0.470 - ETA: 25s - loss: 0.4747 - categorical_crossentropy: 0.474 - ETA: 25s - loss: 0.4771 - categorical_crossentropy: 0.477 - ETA: 25s - loss: 0.4753 - categorical_crossentropy: 0.475 - ETA: 25s - loss: 0.4737 - categorical_crossentropy: 0.473 - ETA: 24s - loss: 0.4757 - categorical_crossentropy: 0.475 - ETA: 24s - loss: 0.4797 - categorical_crossentropy: 0.479 - ETA: 24s - loss: 0.4799 - categorical_crossentropy: 0.479 - ETA: 23s - loss: 0.4783 - categorical_crossentropy: 0.478 - ETA: 23s - loss: 0.4804 - categorical_crossentropy: 0.480 - ETA: 23s - loss: 0.4816 - categorical_crossentropy: 0.481 - ETA: 23s - loss: 0.4831 - categorical_crossentropy: 0.483 - ETA: 22s - loss: 0.4805 - categorical_crossentropy: 0.480 - ETA: 22s - loss: 0.4764 - categorical_crossentropy: 0.476 - ETA: 22s - loss: 0.4743 - categorical_crossentropy: 0.474 - ETA: 21s - loss: 0.4707 - categorical_crossentropy: 0.470 - ETA: 21s - loss: 0.4716 - categorical_crossentropy: 0.471 - ETA: 21s - loss: 0.4756 - categorical_crossentropy: 0.475 - ETA: 20s - loss: 0.4761 - categorical_crossentropy: 0.476 - ETA: 20s - loss: 0.4720 - categorical_crossentropy: 0.472 - ETA: 20s - loss: 0.4713 - categorical_crossentropy: 0.471 - ETA: 19s - loss: 0.4735 - categorical_crossentropy: 0.473 - ETA: 19s - loss: 0.4741 - categorical_crossentropy: 0.474 - ETA: 19s - loss: 0.4768 - categorical_crossentropy: 0.476 - ETA: 19s - loss: 0.4763 - categorical_crossentropy: 0.476 - ETA: 18s - loss: 0.4761 - categorical_crossentropy: 0.476 - ETA: 18s - loss: 0.4752 - categorical_crossentropy: 0.475 - ETA: 18s - loss: 0.4707 - categorical_crossentropy: 0.470 - ETA: 17s - loss: 0.4696 - categorical_crossentropy: 0.469 - ETA: 17s - loss: 0.4701 - categorical_crossentropy: 0.470 - ETA: 17s - loss: 0.4714 - categorical_crossentropy: 0.471 - ETA: 16s - loss: 0.4734 - categorical_crossentropy: 0.473 - ETA: 16s - loss: 0.4801 - categorical_crossentropy: 0.480 - ETA: 16s - loss: 0.4805 - categorical_crossentropy: 0.480 - ETA: 15s - loss: 0.4839 - categorical_crossentropy: 0.483 - ETA: 15s - loss: 0.4835 - categorical_crossentropy: 0.483 - ETA: 15s - loss: 0.4818 - categorical_crossentropy: 0.481 - ETA: 14s - loss: 0.4795 - categorical_crossentropy: 0.479 - ETA: 14s - loss: 0.4809 - categorical_crossentropy: 0.480 - ETA: 14s - loss: 0.4789 - categorical_crossentropy: 0.478 - ETA: 13s - loss: 0.4777 - categorical_crossentropy: 0.477 - ETA: 13s - loss: 0.4761 - categorical_crossentropy: 0.476 - ETA: 13s - loss: 0.4775 - categorical_crossentropy: 0.477 - ETA: 13s - loss: 0.4760 - categorical_crossentropy: 0.476 - ETA: 12s - loss: 0.4764 - categorical_crossentropy: 0.476 - ETA: 12s - loss: 0.4755 - categorical_crossentropy: 0.475 - ETA: 12s - loss: 0.4754 - categorical_crossentropy: 0.475 - ETA: 11s - loss: 0.4730 - categorical_crossentropy: 0.473 - ETA: 11s - loss: 0.4742 - categorical_crossentropy: 0.474 - ETA: 11s - loss: 0.4740 - categorical_crossentropy: 0.474 - ETA: 10s - loss: 0.4733 - categorical_crossentropy: 0.473 - ETA: 10s - loss: 0.4777 - categorical_crossentropy: 0.477 - ETA: 10s - loss: 0.4785 - categorical_crossentropy: 0.478 - ETA: 9s - loss: 0.4780 - categorical_crossentropy: 0.478 - ETA: 9s - loss: 0.4772 - categorical_crossentropy: 0.47 - ETA: 9s - loss: 0.4752 - categorical_crossentropy: 0.47 - ETA: 9s - loss: 0.4768 - categorical_crossentropy: 0.47 - ETA: 8s - loss: 0.4744 - categorical_crossentropy: 0.47 - ETA: 8s - loss: 0.4766 - categorical_crossentropy: 0.47 - ETA: 8s - loss: 0.4756 - categorical_crossentropy: 0.47 - ETA: 7s - loss: 0.4765 - categorical_crossentropy: 0.47 - ETA: 7s - loss: 0.4739 - categorical_crossentropy: 0.47 - ETA: 7s - loss: 0.4722 - categorical_crossentropy: 0.47 - ETA: 6s - loss: 0.4743 - categorical_crossentropy: 0.47 - ETA: 6s - loss: 0.4761 - categorical_crossentropy: 0.47 - ETA: 6s - loss: 0.4737 - categorical_crossentropy: 0.47 - ETA: 6s - loss: 0.4720 - categorical_crossentropy: 0.47 - ETA: 5s - loss: 0.4706 - categorical_crossentropy: 0.47 - ETA: 5s - loss: 0.4697 - categorical_crossentropy: 0.46 - ETA: 5s - loss: 0.4732 - categorical_crossentropy: 0.47 - ETA: 4s - loss: 0.4725 - categorical_crossentropy: 0.47 - ETA: 4s - loss: 0.4742 - categorical_crossentropy: 0.47 - ETA: 4s - loss: 0.4771 - categorical_crossentropy: 0.47 - ETA: 3s - loss: 0.4767 - categorical_crossentropy: 0.4767"
     ]
    },
    {
     "name": "stdout",
     "output_type": "stream",
     "text": [
      "4816/4816 [==============================] - ETA: 3s - loss: 0.4754 - categorical_crossentropy: 0.47 - ETA: 3s - loss: 0.4744 - categorical_crossentropy: 0.47 - ETA: 3s - loss: 0.4732 - categorical_crossentropy: 0.47 - ETA: 2s - loss: 0.4717 - categorical_crossentropy: 0.47 - ETA: 2s - loss: 0.4715 - categorical_crossentropy: 0.47 - ETA: 2s - loss: 0.4720 - categorical_crossentropy: 0.47 - ETA: 1s - loss: 0.4710 - categorical_crossentropy: 0.47 - ETA: 1s - loss: 0.4731 - categorical_crossentropy: 0.47 - ETA: 1s - loss: 0.4743 - categorical_crossentropy: 0.47 - ETA: 1s - loss: 0.4735 - categorical_crossentropy: 0.47 - ETA: 0s - loss: 0.4735 - categorical_crossentropy: 0.47 - ETA: 0s - loss: 0.4720 - categorical_crossentropy: 0.47 - ETA: 0s - loss: 0.4719 - categorical_crossentropy: 0.47 - 45s 9ms/step - loss: 0.4718 - categorical_crossentropy: 0.4718 - val_loss: 4.1558 - val_categorical_crossentropy: 4.1558\n",
      "Epoch 7/30\n",
      "4384/4816 [==========================>...] - ETA: 37s - loss: 0.4013 - categorical_crossentropy: 0.401 - ETA: 39s - loss: 0.4996 - categorical_crossentropy: 0.499 - ETA: 39s - loss: 0.4062 - categorical_crossentropy: 0.406 - ETA: 38s - loss: 0.4053 - categorical_crossentropy: 0.405 - ETA: 39s - loss: 0.3621 - categorical_crossentropy: 0.362 - ETA: 38s - loss: 0.3545 - categorical_crossentropy: 0.354 - ETA: 38s - loss: 0.3256 - categorical_crossentropy: 0.325 - ETA: 38s - loss: 0.3553 - categorical_crossentropy: 0.355 - ETA: 38s - loss: 0.3489 - categorical_crossentropy: 0.348 - ETA: 37s - loss: 0.3302 - categorical_crossentropy: 0.330 - ETA: 37s - loss: 0.3381 - categorical_crossentropy: 0.338 - ETA: 37s - loss: 0.3247 - categorical_crossentropy: 0.324 - ETA: 36s - loss: 0.3358 - categorical_crossentropy: 0.335 - ETA: 36s - loss: 0.3435 - categorical_crossentropy: 0.343 - ETA: 36s - loss: 0.3228 - categorical_crossentropy: 0.322 - ETA: 36s - loss: 0.3307 - categorical_crossentropy: 0.330 - ETA: 35s - loss: 0.3333 - categorical_crossentropy: 0.333 - ETA: 35s - loss: 0.3237 - categorical_crossentropy: 0.323 - ETA: 35s - loss: 0.3354 - categorical_crossentropy: 0.335 - ETA: 35s - loss: 0.3369 - categorical_crossentropy: 0.336 - ETA: 34s - loss: 0.3402 - categorical_crossentropy: 0.340 - ETA: 34s - loss: 0.3395 - categorical_crossentropy: 0.339 - ETA: 34s - loss: 0.3290 - categorical_crossentropy: 0.329 - ETA: 34s - loss: 0.3275 - categorical_crossentropy: 0.327 - ETA: 33s - loss: 0.3326 - categorical_crossentropy: 0.332 - ETA: 33s - loss: 0.3358 - categorical_crossentropy: 0.335 - ETA: 33s - loss: 0.3311 - categorical_crossentropy: 0.331 - ETA: 32s - loss: 0.3311 - categorical_crossentropy: 0.331 - ETA: 32s - loss: 0.3505 - categorical_crossentropy: 0.350 - ETA: 32s - loss: 0.3535 - categorical_crossentropy: 0.353 - ETA: 32s - loss: 0.3625 - categorical_crossentropy: 0.362 - ETA: 31s - loss: 0.3568 - categorical_crossentropy: 0.356 - ETA: 31s - loss: 0.3684 - categorical_crossentropy: 0.368 - ETA: 31s - loss: 0.3592 - categorical_crossentropy: 0.359 - ETA: 31s - loss: 0.3585 - categorical_crossentropy: 0.358 - ETA: 30s - loss: 0.3518 - categorical_crossentropy: 0.351 - ETA: 30s - loss: 0.3471 - categorical_crossentropy: 0.347 - ETA: 30s - loss: 0.3495 - categorical_crossentropy: 0.349 - ETA: 29s - loss: 0.3464 - categorical_crossentropy: 0.346 - ETA: 29s - loss: 0.3504 - categorical_crossentropy: 0.350 - ETA: 29s - loss: 0.3517 - categorical_crossentropy: 0.351 - ETA: 29s - loss: 0.3520 - categorical_crossentropy: 0.352 - ETA: 28s - loss: 0.3500 - categorical_crossentropy: 0.350 - ETA: 28s - loss: 0.3451 - categorical_crossentropy: 0.345 - ETA: 28s - loss: 0.3450 - categorical_crossentropy: 0.345 - ETA: 28s - loss: 0.3445 - categorical_crossentropy: 0.344 - ETA: 27s - loss: 0.3503 - categorical_crossentropy: 0.350 - ETA: 27s - loss: 0.3485 - categorical_crossentropy: 0.348 - ETA: 27s - loss: 0.3447 - categorical_crossentropy: 0.344 - ETA: 26s - loss: 0.3418 - categorical_crossentropy: 0.341 - ETA: 26s - loss: 0.3496 - categorical_crossentropy: 0.349 - ETA: 26s - loss: 0.3514 - categorical_crossentropy: 0.351 - ETA: 26s - loss: 0.3524 - categorical_crossentropy: 0.352 - ETA: 25s - loss: 0.3474 - categorical_crossentropy: 0.347 - ETA: 25s - loss: 0.3449 - categorical_crossentropy: 0.344 - ETA: 25s - loss: 0.3435 - categorical_crossentropy: 0.343 - ETA: 25s - loss: 0.3456 - categorical_crossentropy: 0.345 - ETA: 24s - loss: 0.3516 - categorical_crossentropy: 0.351 - ETA: 24s - loss: 0.3465 - categorical_crossentropy: 0.346 - ETA: 24s - loss: 0.3445 - categorical_crossentropy: 0.344 - ETA: 24s - loss: 0.3412 - categorical_crossentropy: 0.341 - ETA: 23s - loss: 0.3404 - categorical_crossentropy: 0.340 - ETA: 23s - loss: 0.3410 - categorical_crossentropy: 0.341 - ETA: 23s - loss: 0.3369 - categorical_crossentropy: 0.336 - ETA: 22s - loss: 0.3345 - categorical_crossentropy: 0.334 - ETA: 22s - loss: 0.3357 - categorical_crossentropy: 0.335 - ETA: 22s - loss: 0.3431 - categorical_crossentropy: 0.343 - ETA: 22s - loss: 0.3468 - categorical_crossentropy: 0.346 - ETA: 21s - loss: 0.3449 - categorical_crossentropy: 0.344 - ETA: 21s - loss: 0.3465 - categorical_crossentropy: 0.346 - ETA: 21s - loss: 0.3508 - categorical_crossentropy: 0.350 - ETA: 21s - loss: 0.3463 - categorical_crossentropy: 0.346 - ETA: 20s - loss: 0.3453 - categorical_crossentropy: 0.345 - ETA: 20s - loss: 0.3478 - categorical_crossentropy: 0.347 - ETA: 20s - loss: 0.3501 - categorical_crossentropy: 0.350 - ETA: 19s - loss: 0.3500 - categorical_crossentropy: 0.350 - ETA: 19s - loss: 0.3479 - categorical_crossentropy: 0.347 - ETA: 19s - loss: 0.3491 - categorical_crossentropy: 0.349 - ETA: 19s - loss: 0.3489 - categorical_crossentropy: 0.348 - ETA: 18s - loss: 0.3475 - categorical_crossentropy: 0.347 - ETA: 18s - loss: 0.3486 - categorical_crossentropy: 0.348 - ETA: 18s - loss: 0.3464 - categorical_crossentropy: 0.346 - ETA: 18s - loss: 0.3456 - categorical_crossentropy: 0.345 - ETA: 17s - loss: 0.3428 - categorical_crossentropy: 0.342 - ETA: 17s - loss: 0.3425 - categorical_crossentropy: 0.342 - ETA: 17s - loss: 0.3430 - categorical_crossentropy: 0.343 - ETA: 17s - loss: 0.3412 - categorical_crossentropy: 0.341 - ETA: 16s - loss: 0.3384 - categorical_crossentropy: 0.338 - ETA: 16s - loss: 0.3358 - categorical_crossentropy: 0.335 - ETA: 16s - loss: 0.3347 - categorical_crossentropy: 0.334 - ETA: 15s - loss: 0.3363 - categorical_crossentropy: 0.336 - ETA: 15s - loss: 0.3349 - categorical_crossentropy: 0.334 - ETA: 15s - loss: 0.3404 - categorical_crossentropy: 0.340 - ETA: 15s - loss: 0.3405 - categorical_crossentropy: 0.340 - ETA: 14s - loss: 0.3412 - categorical_crossentropy: 0.341 - ETA: 14s - loss: 0.3409 - categorical_crossentropy: 0.340 - ETA: 14s - loss: 0.3411 - categorical_crossentropy: 0.341 - ETA: 14s - loss: 0.3421 - categorical_crossentropy: 0.342 - ETA: 13s - loss: 0.3441 - categorical_crossentropy: 0.344 - ETA: 13s - loss: 0.3429 - categorical_crossentropy: 0.342 - ETA: 13s - loss: 0.3409 - categorical_crossentropy: 0.340 - ETA: 13s - loss: 0.3395 - categorical_crossentropy: 0.339 - ETA: 12s - loss: 0.3406 - categorical_crossentropy: 0.340 - ETA: 12s - loss: 0.3436 - categorical_crossentropy: 0.343 - ETA: 12s - loss: 0.3457 - categorical_crossentropy: 0.345 - ETA: 11s - loss: 0.3437 - categorical_crossentropy: 0.343 - ETA: 11s - loss: 0.3446 - categorical_crossentropy: 0.344 - ETA: 11s - loss: 0.3463 - categorical_crossentropy: 0.346 - ETA: 11s - loss: 0.3488 - categorical_crossentropy: 0.348 - ETA: 10s - loss: 0.3506 - categorical_crossentropy: 0.350 - ETA: 10s - loss: 0.3499 - categorical_crossentropy: 0.349 - ETA: 10s - loss: 0.3496 - categorical_crossentropy: 0.349 - ETA: 10s - loss: 0.3500 - categorical_crossentropy: 0.350 - ETA: 9s - loss: 0.3505 - categorical_crossentropy: 0.350 - ETA: 9s - loss: 0.3511 - categorical_crossentropy: 0.35 - ETA: 9s - loss: 0.3490 - categorical_crossentropy: 0.34 - ETA: 9s - loss: 0.3477 - categorical_crossentropy: 0.34 - ETA: 8s - loss: 0.3479 - categorical_crossentropy: 0.34 - ETA: 8s - loss: 0.3465 - categorical_crossentropy: 0.34 - ETA: 8s - loss: 0.3445 - categorical_crossentropy: 0.34 - ETA: 7s - loss: 0.3439 - categorical_crossentropy: 0.34 - ETA: 7s - loss: 0.3426 - categorical_crossentropy: 0.34 - ETA: 7s - loss: 0.3423 - categorical_crossentropy: 0.34 - ETA: 7s - loss: 0.3429 - categorical_crossentropy: 0.34 - ETA: 6s - loss: 0.3440 - categorical_crossentropy: 0.34 - ETA: 6s - loss: 0.3428 - categorical_crossentropy: 0.34 - ETA: 6s - loss: 0.3434 - categorical_crossentropy: 0.34 - ETA: 6s - loss: 0.3425 - categorical_crossentropy: 0.34 - ETA: 5s - loss: 0.3418 - categorical_crossentropy: 0.34 - ETA: 5s - loss: 0.3405 - categorical_crossentropy: 0.34 - ETA: 5s - loss: 0.3431 - categorical_crossentropy: 0.34 - ETA: 4s - loss: 0.3413 - categorical_crossentropy: 0.34 - ETA: 4s - loss: 0.3395 - categorical_crossentropy: 0.33 - ETA: 4s - loss: 0.3404 - categorical_crossentropy: 0.34 - ETA: 4s - loss: 0.3381 - categorical_crossentropy: 0.33 - ETA: 3s - loss: 0.3369 - categorical_crossentropy: 0.33 - ETA: 3s - loss: 0.3367 - categorical_crossentropy: 0.33674816/4816 [==============================] - ETA: 3s - loss: 0.3359 - categorical_crossentropy: 0.33 - ETA: 3s - loss: 0.3347 - categorical_crossentropy: 0.33 - ETA: 2s - loss: 0.3329 - categorical_crossentropy: 0.33 - ETA: 2s - loss: 0.3313 - categorical_crossentropy: 0.33 - ETA: 2s - loss: 0.3319 - categorical_crossentropy: 0.33 - ETA: 2s - loss: 0.3315 - categorical_crossentropy: 0.33 - ETA: 1s - loss: 0.3348 - categorical_crossentropy: 0.33 - ETA: 1s - loss: 0.3328 - categorical_crossentropy: 0.33 - ETA: 1s - loss: 0.3318 - categorical_crossentropy: 0.33 - ETA: 0s - loss: 0.3304 - categorical_crossentropy: 0.33 - ETA: 0s - loss: 0.3299 - categorical_crossentropy: 0.32 - ETA: 0s - loss: 0.3295 - categorical_crossentropy: 0.32 - ETA: 0s - loss: 0.3312 - categorical_crossentropy: 0.33 - 41s 9ms/step - loss: 0.3306 - categorical_crossentropy: 0.3306 - val_loss: 4.4156 - val_categorical_crossentropy: 4.4156\n",
      "Epoch 8/30\n"
     ]
    },
    {
     "name": "stdout",
     "output_type": "stream",
     "text": [
      "4384/4816 [==========================>...] - ETA: 39s - loss: 0.0484 - categorical_crossentropy: 0.048 - ETA: 39s - loss: 0.2586 - categorical_crossentropy: 0.258 - ETA: 39s - loss: 0.2460 - categorical_crossentropy: 0.246 - ETA: 38s - loss: 0.1940 - categorical_crossentropy: 0.194 - ETA: 39s - loss: 0.1714 - categorical_crossentropy: 0.171 - ETA: 38s - loss: 0.1969 - categorical_crossentropy: 0.196 - ETA: 38s - loss: 0.2036 - categorical_crossentropy: 0.203 - ETA: 38s - loss: 0.2089 - categorical_crossentropy: 0.208 - ETA: 38s - loss: 0.1879 - categorical_crossentropy: 0.187 - ETA: 37s - loss: 0.1984 - categorical_crossentropy: 0.198 - ETA: 37s - loss: 0.1944 - categorical_crossentropy: 0.194 - ETA: 37s - loss: 0.2167 - categorical_crossentropy: 0.216 - ETA: 37s - loss: 0.2015 - categorical_crossentropy: 0.201 - ETA: 36s - loss: 0.1937 - categorical_crossentropy: 0.193 - ETA: 36s - loss: 0.1886 - categorical_crossentropy: 0.188 - ETA: 36s - loss: 0.1813 - categorical_crossentropy: 0.181 - ETA: 35s - loss: 0.1910 - categorical_crossentropy: 0.191 - ETA: 35s - loss: 0.1856 - categorical_crossentropy: 0.185 - ETA: 35s - loss: 0.1885 - categorical_crossentropy: 0.188 - ETA: 35s - loss: 0.1870 - categorical_crossentropy: 0.187 - ETA: 34s - loss: 0.1834 - categorical_crossentropy: 0.183 - ETA: 34s - loss: 0.2043 - categorical_crossentropy: 0.204 - ETA: 34s - loss: 0.1968 - categorical_crossentropy: 0.196 - ETA: 33s - loss: 0.2137 - categorical_crossentropy: 0.213 - ETA: 33s - loss: 0.2129 - categorical_crossentropy: 0.212 - ETA: 33s - loss: 0.2089 - categorical_crossentropy: 0.208 - ETA: 33s - loss: 0.2057 - categorical_crossentropy: 0.205 - ETA: 32s - loss: 0.2212 - categorical_crossentropy: 0.221 - ETA: 32s - loss: 0.2195 - categorical_crossentropy: 0.219 - ETA: 32s - loss: 0.2156 - categorical_crossentropy: 0.215 - ETA: 32s - loss: 0.2181 - categorical_crossentropy: 0.218 - ETA: 31s - loss: 0.2465 - categorical_crossentropy: 0.246 - ETA: 31s - loss: 0.2544 - categorical_crossentropy: 0.254 - ETA: 31s - loss: 0.2493 - categorical_crossentropy: 0.249 - ETA: 30s - loss: 0.2484 - categorical_crossentropy: 0.248 - ETA: 30s - loss: 0.2428 - categorical_crossentropy: 0.242 - ETA: 30s - loss: 0.2418 - categorical_crossentropy: 0.241 - ETA: 30s - loss: 0.2394 - categorical_crossentropy: 0.239 - ETA: 29s - loss: 0.2375 - categorical_crossentropy: 0.237 - ETA: 29s - loss: 0.2372 - categorical_crossentropy: 0.237 - ETA: 29s - loss: 0.2368 - categorical_crossentropy: 0.236 - ETA: 29s - loss: 0.2390 - categorical_crossentropy: 0.239 - ETA: 28s - loss: 0.2445 - categorical_crossentropy: 0.244 - ETA: 28s - loss: 0.2418 - categorical_crossentropy: 0.241 - ETA: 28s - loss: 0.2414 - categorical_crossentropy: 0.241 - ETA: 28s - loss: 0.2404 - categorical_crossentropy: 0.240 - ETA: 27s - loss: 0.2402 - categorical_crossentropy: 0.240 - ETA: 27s - loss: 0.2392 - categorical_crossentropy: 0.239 - ETA: 27s - loss: 0.2409 - categorical_crossentropy: 0.240 - ETA: 26s - loss: 0.2440 - categorical_crossentropy: 0.244 - ETA: 26s - loss: 0.2436 - categorical_crossentropy: 0.243 - ETA: 26s - loss: 0.2496 - categorical_crossentropy: 0.249 - ETA: 26s - loss: 0.2489 - categorical_crossentropy: 0.248 - ETA: 25s - loss: 0.2482 - categorical_crossentropy: 0.248 - ETA: 25s - loss: 0.2477 - categorical_crossentropy: 0.247 - ETA: 25s - loss: 0.2467 - categorical_crossentropy: 0.246 - ETA: 25s - loss: 0.2444 - categorical_crossentropy: 0.244 - ETA: 24s - loss: 0.2411 - categorical_crossentropy: 0.241 - ETA: 24s - loss: 0.2430 - categorical_crossentropy: 0.243 - ETA: 24s - loss: 0.2437 - categorical_crossentropy: 0.243 - ETA: 24s - loss: 0.2428 - categorical_crossentropy: 0.242 - ETA: 23s - loss: 0.2432 - categorical_crossentropy: 0.243 - ETA: 23s - loss: 0.2440 - categorical_crossentropy: 0.244 - ETA: 23s - loss: 0.2409 - categorical_crossentropy: 0.240 - ETA: 22s - loss: 0.2391 - categorical_crossentropy: 0.239 - ETA: 22s - loss: 0.2408 - categorical_crossentropy: 0.240 - ETA: 22s - loss: 0.2423 - categorical_crossentropy: 0.242 - ETA: 22s - loss: 0.2414 - categorical_crossentropy: 0.241 - ETA: 21s - loss: 0.2389 - categorical_crossentropy: 0.238 - ETA: 21s - loss: 0.2421 - categorical_crossentropy: 0.242 - ETA: 21s - loss: 0.2433 - categorical_crossentropy: 0.243 - ETA: 21s - loss: 0.2451 - categorical_crossentropy: 0.245 - ETA: 20s - loss: 0.2441 - categorical_crossentropy: 0.244 - ETA: 20s - loss: 0.2419 - categorical_crossentropy: 0.241 - ETA: 20s - loss: 0.2413 - categorical_crossentropy: 0.241 - ETA: 20s - loss: 0.2386 - categorical_crossentropy: 0.238 - ETA: 19s - loss: 0.2368 - categorical_crossentropy: 0.236 - ETA: 19s - loss: 0.2367 - categorical_crossentropy: 0.236 - ETA: 19s - loss: 0.2356 - categorical_crossentropy: 0.235 - ETA: 18s - loss: 0.2343 - categorical_crossentropy: 0.234 - ETA: 18s - loss: 0.2351 - categorical_crossentropy: 0.235 - ETA: 18s - loss: 0.2343 - categorical_crossentropy: 0.234 - ETA: 18s - loss: 0.2323 - categorical_crossentropy: 0.232 - ETA: 17s - loss: 0.2352 - categorical_crossentropy: 0.235 - ETA: 17s - loss: 0.2352 - categorical_crossentropy: 0.235 - ETA: 17s - loss: 0.2338 - categorical_crossentropy: 0.233 - ETA: 17s - loss: 0.2335 - categorical_crossentropy: 0.233 - ETA: 16s - loss: 0.2329 - categorical_crossentropy: 0.232 - ETA: 16s - loss: 0.2307 - categorical_crossentropy: 0.230 - ETA: 16s - loss: 0.2369 - categorical_crossentropy: 0.236 - ETA: 15s - loss: 0.2373 - categorical_crossentropy: 0.237 - ETA: 15s - loss: 0.2361 - categorical_crossentropy: 0.236 - ETA: 15s - loss: 0.2391 - categorical_crossentropy: 0.239 - ETA: 15s - loss: 0.2375 - categorical_crossentropy: 0.237 - ETA: 14s - loss: 0.2403 - categorical_crossentropy: 0.240 - ETA: 14s - loss: 0.2403 - categorical_crossentropy: 0.240 - ETA: 14s - loss: 0.2397 - categorical_crossentropy: 0.239 - ETA: 14s - loss: 0.2394 - categorical_crossentropy: 0.239 - ETA: 13s - loss: 0.2396 - categorical_crossentropy: 0.239 - ETA: 13s - loss: 0.2417 - categorical_crossentropy: 0.241 - ETA: 13s - loss: 0.2414 - categorical_crossentropy: 0.241 - ETA: 13s - loss: 0.2416 - categorical_crossentropy: 0.241 - ETA: 12s - loss: 0.2425 - categorical_crossentropy: 0.242 - ETA: 12s - loss: 0.2439 - categorical_crossentropy: 0.243 - ETA: 12s - loss: 0.2434 - categorical_crossentropy: 0.243 - ETA: 11s - loss: 0.2430 - categorical_crossentropy: 0.243 - ETA: 11s - loss: 0.2433 - categorical_crossentropy: 0.243 - ETA: 11s - loss: 0.2441 - categorical_crossentropy: 0.244 - ETA: 11s - loss: 0.2429 - categorical_crossentropy: 0.242 - ETA: 10s - loss: 0.2428 - categorical_crossentropy: 0.242 - ETA: 10s - loss: 0.2423 - categorical_crossentropy: 0.242 - ETA: 10s - loss: 0.2418 - categorical_crossentropy: 0.241 - ETA: 10s - loss: 0.2408 - categorical_crossentropy: 0.240 - ETA: 9s - loss: 0.2444 - categorical_crossentropy: 0.244 - ETA: 9s - loss: 0.2440 - categorical_crossentropy: 0.24 - ETA: 9s - loss: 0.2439 - categorical_crossentropy: 0.24 - ETA: 8s - loss: 0.2471 - categorical_crossentropy: 0.24 - ETA: 8s - loss: 0.2468 - categorical_crossentropy: 0.24 - ETA: 8s - loss: 0.2466 - categorical_crossentropy: 0.24 - ETA: 8s - loss: 0.2459 - categorical_crossentropy: 0.24 - ETA: 7s - loss: 0.2470 - categorical_crossentropy: 0.24 - ETA: 7s - loss: 0.2454 - categorical_crossentropy: 0.24 - ETA: 7s - loss: 0.2456 - categorical_crossentropy: 0.24 - ETA: 7s - loss: 0.2477 - categorical_crossentropy: 0.24 - ETA: 6s - loss: 0.2461 - categorical_crossentropy: 0.24 - ETA: 6s - loss: 0.2450 - categorical_crossentropy: 0.24 - ETA: 6s - loss: 0.2446 - categorical_crossentropy: 0.24 - ETA: 6s - loss: 0.2461 - categorical_crossentropy: 0.24 - ETA: 5s - loss: 0.2443 - categorical_crossentropy: 0.24 - ETA: 5s - loss: 0.2426 - categorical_crossentropy: 0.24 - ETA: 5s - loss: 0.2422 - categorical_crossentropy: 0.24 - ETA: 4s - loss: 0.2426 - categorical_crossentropy: 0.24 - ETA: 4s - loss: 0.2423 - categorical_crossentropy: 0.24 - ETA: 4s - loss: 0.2411 - categorical_crossentropy: 0.24 - ETA: 4s - loss: 0.2421 - categorical_crossentropy: 0.24 - ETA: 3s - loss: 0.2409 - categorical_crossentropy: 0.24 - ETA: 3s - loss: 0.2404 - categorical_crossentropy: 0.2404"
     ]
    },
    {
     "name": "stdout",
     "output_type": "stream",
     "text": [
      "4816/4816 [==============================] - ETA: 3s - loss: 0.2388 - categorical_crossentropy: 0.23 - ETA: 3s - loss: 0.2381 - categorical_crossentropy: 0.23 - ETA: 2s - loss: 0.2383 - categorical_crossentropy: 0.23 - ETA: 2s - loss: 0.2387 - categorical_crossentropy: 0.23 - ETA: 2s - loss: 0.2381 - categorical_crossentropy: 0.23 - ETA: 2s - loss: 0.2377 - categorical_crossentropy: 0.23 - ETA: 1s - loss: 0.2384 - categorical_crossentropy: 0.23 - ETA: 1s - loss: 0.2372 - categorical_crossentropy: 0.23 - ETA: 1s - loss: 0.2400 - categorical_crossentropy: 0.24 - ETA: 0s - loss: 0.2417 - categorical_crossentropy: 0.24 - ETA: 0s - loss: 0.2425 - categorical_crossentropy: 0.24 - ETA: 0s - loss: 0.2420 - categorical_crossentropy: 0.24 - ETA: 0s - loss: 0.2447 - categorical_crossentropy: 0.24 - 41s 9ms/step - loss: 0.2455 - categorical_crossentropy: 0.2455 - val_loss: 4.8384 - val_categorical_crossentropy: 4.8384\n",
      "Epoch 9/30\n",
      "4384/4816 [==========================>...] - ETA: 37s - loss: 0.2562 - categorical_crossentropy: 0.256 - ETA: 38s - loss: 0.2229 - categorical_crossentropy: 0.222 - ETA: 38s - loss: 0.3535 - categorical_crossentropy: 0.353 - ETA: 38s - loss: 0.3167 - categorical_crossentropy: 0.316 - ETA: 38s - loss: 0.3382 - categorical_crossentropy: 0.338 - ETA: 37s - loss: 0.3101 - categorical_crossentropy: 0.310 - ETA: 38s - loss: 0.2809 - categorical_crossentropy: 0.280 - ETA: 37s - loss: 0.2937 - categorical_crossentropy: 0.293 - ETA: 37s - loss: 0.2945 - categorical_crossentropy: 0.294 - ETA: 37s - loss: 0.2794 - categorical_crossentropy: 0.279 - ETA: 37s - loss: 0.2560 - categorical_crossentropy: 0.256 - ETA: 36s - loss: 0.2452 - categorical_crossentropy: 0.245 - ETA: 36s - loss: 0.2498 - categorical_crossentropy: 0.249 - ETA: 36s - loss: 0.2585 - categorical_crossentropy: 0.258 - ETA: 35s - loss: 0.2715 - categorical_crossentropy: 0.271 - ETA: 35s - loss: 0.2786 - categorical_crossentropy: 0.278 - ETA: 35s - loss: 0.3039 - categorical_crossentropy: 0.303 - ETA: 35s - loss: 0.2919 - categorical_crossentropy: 0.291 - ETA: 35s - loss: 0.2820 - categorical_crossentropy: 0.282 - ETA: 34s - loss: 0.2739 - categorical_crossentropy: 0.273 - ETA: 34s - loss: 0.2707 - categorical_crossentropy: 0.270 - ETA: 34s - loss: 0.2601 - categorical_crossentropy: 0.260 - ETA: 33s - loss: 0.2576 - categorical_crossentropy: 0.257 - ETA: 33s - loss: 0.2602 - categorical_crossentropy: 0.260 - ETA: 33s - loss: 0.2558 - categorical_crossentropy: 0.255 - ETA: 33s - loss: 0.2499 - categorical_crossentropy: 0.249 - ETA: 32s - loss: 0.2433 - categorical_crossentropy: 0.243 - ETA: 32s - loss: 0.2468 - categorical_crossentropy: 0.246 - ETA: 32s - loss: 0.2409 - categorical_crossentropy: 0.240 - ETA: 32s - loss: 0.2381 - categorical_crossentropy: 0.238 - ETA: 31s - loss: 0.2316 - categorical_crossentropy: 0.231 - ETA: 31s - loss: 0.2258 - categorical_crossentropy: 0.225 - ETA: 31s - loss: 0.2217 - categorical_crossentropy: 0.221 - ETA: 31s - loss: 0.2204 - categorical_crossentropy: 0.220 - ETA: 30s - loss: 0.2212 - categorical_crossentropy: 0.221 - ETA: 30s - loss: 0.2229 - categorical_crossentropy: 0.222 - ETA: 30s - loss: 0.2187 - categorical_crossentropy: 0.218 - ETA: 30s - loss: 0.2192 - categorical_crossentropy: 0.219 - ETA: 29s - loss: 0.2195 - categorical_crossentropy: 0.219 - ETA: 29s - loss: 0.2152 - categorical_crossentropy: 0.215 - ETA: 29s - loss: 0.2143 - categorical_crossentropy: 0.214 - ETA: 28s - loss: 0.2100 - categorical_crossentropy: 0.210 - ETA: 28s - loss: 0.2119 - categorical_crossentropy: 0.211 - ETA: 28s - loss: 0.2156 - categorical_crossentropy: 0.215 - ETA: 28s - loss: 0.2150 - categorical_crossentropy: 0.215 - ETA: 27s - loss: 0.2231 - categorical_crossentropy: 0.223 - ETA: 27s - loss: 0.2230 - categorical_crossentropy: 0.223 - ETA: 27s - loss: 0.2224 - categorical_crossentropy: 0.222 - ETA: 27s - loss: 0.2194 - categorical_crossentropy: 0.219 - ETA: 26s - loss: 0.2180 - categorical_crossentropy: 0.218 - ETA: 26s - loss: 0.2204 - categorical_crossentropy: 0.220 - ETA: 26s - loss: 0.2202 - categorical_crossentropy: 0.220 - ETA: 26s - loss: 0.2250 - categorical_crossentropy: 0.225 - ETA: 25s - loss: 0.2247 - categorical_crossentropy: 0.224 - ETA: 25s - loss: 0.2253 - categorical_crossentropy: 0.225 - ETA: 25s - loss: 0.2235 - categorical_crossentropy: 0.223 - ETA: 24s - loss: 0.2229 - categorical_crossentropy: 0.222 - ETA: 24s - loss: 0.2281 - categorical_crossentropy: 0.228 - ETA: 24s - loss: 0.2246 - categorical_crossentropy: 0.224 - ETA: 24s - loss: 0.2248 - categorical_crossentropy: 0.224 - ETA: 23s - loss: 0.2218 - categorical_crossentropy: 0.221 - ETA: 23s - loss: 0.2204 - categorical_crossentropy: 0.220 - ETA: 23s - loss: 0.2215 - categorical_crossentropy: 0.221 - ETA: 23s - loss: 0.2191 - categorical_crossentropy: 0.219 - ETA: 22s - loss: 0.2227 - categorical_crossentropy: 0.222 - ETA: 22s - loss: 0.2230 - categorical_crossentropy: 0.223 - ETA: 22s - loss: 0.2239 - categorical_crossentropy: 0.223 - ETA: 22s - loss: 0.2221 - categorical_crossentropy: 0.222 - ETA: 21s - loss: 0.2206 - categorical_crossentropy: 0.220 - ETA: 21s - loss: 0.2179 - categorical_crossentropy: 0.217 - ETA: 21s - loss: 0.2156 - categorical_crossentropy: 0.215 - ETA: 20s - loss: 0.2168 - categorical_crossentropy: 0.216 - ETA: 20s - loss: 0.2158 - categorical_crossentropy: 0.215 - ETA: 20s - loss: 0.2138 - categorical_crossentropy: 0.213 - ETA: 20s - loss: 0.2145 - categorical_crossentropy: 0.214 - ETA: 19s - loss: 0.2138 - categorical_crossentropy: 0.213 - ETA: 19s - loss: 0.2136 - categorical_crossentropy: 0.213 - ETA: 19s - loss: 0.2132 - categorical_crossentropy: 0.213 - ETA: 19s - loss: 0.2129 - categorical_crossentropy: 0.212 - ETA: 18s - loss: 0.2178 - categorical_crossentropy: 0.217 - ETA: 18s - loss: 0.2157 - categorical_crossentropy: 0.215 - ETA: 18s - loss: 0.2145 - categorical_crossentropy: 0.214 - ETA: 18s - loss: 0.2124 - categorical_crossentropy: 0.212 - ETA: 17s - loss: 0.2113 - categorical_crossentropy: 0.211 - ETA: 17s - loss: 0.2093 - categorical_crossentropy: 0.209 - ETA: 17s - loss: 0.2093 - categorical_crossentropy: 0.209 - ETA: 16s - loss: 0.2076 - categorical_crossentropy: 0.207 - ETA: 16s - loss: 0.2066 - categorical_crossentropy: 0.206 - ETA: 16s - loss: 0.2051 - categorical_crossentropy: 0.205 - ETA: 16s - loss: 0.2070 - categorical_crossentropy: 0.207 - ETA: 15s - loss: 0.2098 - categorical_crossentropy: 0.209 - ETA: 15s - loss: 0.2111 - categorical_crossentropy: 0.211 - ETA: 15s - loss: 0.2101 - categorical_crossentropy: 0.210 - ETA: 15s - loss: 0.2119 - categorical_crossentropy: 0.211 - ETA: 14s - loss: 0.2119 - categorical_crossentropy: 0.211 - ETA: 14s - loss: 0.2145 - categorical_crossentropy: 0.214 - ETA: 14s - loss: 0.2148 - categorical_crossentropy: 0.214 - ETA: 14s - loss: 0.2156 - categorical_crossentropy: 0.215 - ETA: 13s - loss: 0.2145 - categorical_crossentropy: 0.214 - ETA: 13s - loss: 0.2141 - categorical_crossentropy: 0.214 - ETA: 13s - loss: 0.2144 - categorical_crossentropy: 0.214 - ETA: 12s - loss: 0.2173 - categorical_crossentropy: 0.217 - ETA: 12s - loss: 0.2162 - categorical_crossentropy: 0.216 - ETA: 12s - loss: 0.2152 - categorical_crossentropy: 0.215 - ETA: 12s - loss: 0.2136 - categorical_crossentropy: 0.213 - ETA: 11s - loss: 0.2131 - categorical_crossentropy: 0.213 - ETA: 11s - loss: 0.2134 - categorical_crossentropy: 0.213 - ETA: 11s - loss: 0.2135 - categorical_crossentropy: 0.213 - ETA: 11s - loss: 0.2167 - categorical_crossentropy: 0.216 - ETA: 10s - loss: 0.2164 - categorical_crossentropy: 0.216 - ETA: 10s - loss: 0.2156 - categorical_crossentropy: 0.215 - ETA: 10s - loss: 0.2159 - categorical_crossentropy: 0.215 - ETA: 10s - loss: 0.2143 - categorical_crossentropy: 0.214 - ETA: 9s - loss: 0.2135 - categorical_crossentropy: 0.213 - ETA: 9s - loss: 0.2153 - categorical_crossentropy: 0.21 - ETA: 9s - loss: 0.2137 - categorical_crossentropy: 0.21 - ETA: 8s - loss: 0.2141 - categorical_crossentropy: 0.21 - ETA: 8s - loss: 0.2143 - categorical_crossentropy: 0.21 - ETA: 8s - loss: 0.2140 - categorical_crossentropy: 0.21 - ETA: 8s - loss: 0.2122 - categorical_crossentropy: 0.21 - ETA: 7s - loss: 0.2108 - categorical_crossentropy: 0.21 - ETA: 7s - loss: 0.2100 - categorical_crossentropy: 0.21 - ETA: 7s - loss: 0.2126 - categorical_crossentropy: 0.21 - ETA: 7s - loss: 0.2127 - categorical_crossentropy: 0.21 - ETA: 6s - loss: 0.2117 - categorical_crossentropy: 0.21 - ETA: 6s - loss: 0.2128 - categorical_crossentropy: 0.21 - ETA: 6s - loss: 0.2155 - categorical_crossentropy: 0.21 - ETA: 6s - loss: 0.2164 - categorical_crossentropy: 0.21 - ETA: 5s - loss: 0.2149 - categorical_crossentropy: 0.21 - ETA: 5s - loss: 0.2147 - categorical_crossentropy: 0.21 - ETA: 5s - loss: 0.2154 - categorical_crossentropy: 0.21 - ETA: 4s - loss: 0.2144 - categorical_crossentropy: 0.21 - ETA: 4s - loss: 0.2141 - categorical_crossentropy: 0.21 - ETA: 4s - loss: 0.2132 - categorical_crossentropy: 0.21 - ETA: 4s - loss: 0.2117 - categorical_crossentropy: 0.21 - ETA: 3s - loss: 0.2116 - categorical_crossentropy: 0.21 - ETA: 3s - loss: 0.2107 - categorical_crossentropy: 0.21074816/4816 [==============================] - ETA: 3s - loss: 0.2104 - categorical_crossentropy: 0.21 - ETA: 3s - loss: 0.2094 - categorical_crossentropy: 0.20 - ETA: 2s - loss: 0.2086 - categorical_crossentropy: 0.20 - ETA: 2s - loss: 0.2097 - categorical_crossentropy: 0.20 - ETA: 2s - loss: 0.2092 - categorical_crossentropy: 0.20 - ETA: 2s - loss: 0.2114 - categorical_crossentropy: 0.21 - ETA: 1s - loss: 0.2109 - categorical_crossentropy: 0.21 - ETA: 1s - loss: 0.2101 - categorical_crossentropy: 0.21 - ETA: 1s - loss: 0.2105 - categorical_crossentropy: 0.21 - ETA: 0s - loss: 0.2115 - categorical_crossentropy: 0.21 - ETA: 0s - loss: 0.2101 - categorical_crossentropy: 0.21 - ETA: 0s - loss: 0.2092 - categorical_crossentropy: 0.20 - ETA: 0s - loss: 0.2089 - categorical_crossentropy: 0.20 - 41s 9ms/step - loss: 0.2088 - categorical_crossentropy: 0.2088 - val_loss: 4.6279 - val_categorical_crossentropy: 4.6279\n",
      "Epoch 10/30\n"
     ]
    },
    {
     "name": "stdout",
     "output_type": "stream",
     "text": [
      "4384/4816 [==========================>...] - ETA: 37s - loss: 0.1011 - categorical_crossentropy: 0.101 - ETA: 38s - loss: 0.0992 - categorical_crossentropy: 0.099 - ETA: 38s - loss: 0.0723 - categorical_crossentropy: 0.072 - ETA: 38s - loss: 0.0774 - categorical_crossentropy: 0.077 - ETA: 38s - loss: 0.1114 - categorical_crossentropy: 0.111 - ETA: 38s - loss: 0.1791 - categorical_crossentropy: 0.179 - ETA: 38s - loss: 0.1930 - categorical_crossentropy: 0.193 - ETA: 37s - loss: 0.1815 - categorical_crossentropy: 0.181 - ETA: 37s - loss: 0.1788 - categorical_crossentropy: 0.178 - ETA: 37s - loss: 0.1877 - categorical_crossentropy: 0.187 - ETA: 37s - loss: 0.1942 - categorical_crossentropy: 0.194 - ETA: 36s - loss: 0.1915 - categorical_crossentropy: 0.191 - ETA: 36s - loss: 0.2201 - categorical_crossentropy: 0.220 - ETA: 36s - loss: 0.2423 - categorical_crossentropy: 0.242 - ETA: 36s - loss: 0.2299 - categorical_crossentropy: 0.229 - ETA: 35s - loss: 0.2241 - categorical_crossentropy: 0.224 - ETA: 35s - loss: 0.2191 - categorical_crossentropy: 0.219 - ETA: 35s - loss: 0.2085 - categorical_crossentropy: 0.208 - ETA: 35s - loss: 0.2036 - categorical_crossentropy: 0.203 - ETA: 34s - loss: 0.1962 - categorical_crossentropy: 0.196 - ETA: 34s - loss: 0.2025 - categorical_crossentropy: 0.202 - ETA: 34s - loss: 0.2148 - categorical_crossentropy: 0.214 - ETA: 34s - loss: 0.2212 - categorical_crossentropy: 0.221 - ETA: 33s - loss: 0.2251 - categorical_crossentropy: 0.225 - ETA: 33s - loss: 0.2174 - categorical_crossentropy: 0.217 - ETA: 33s - loss: 0.2118 - categorical_crossentropy: 0.211 - ETA: 33s - loss: 0.2165 - categorical_crossentropy: 0.216 - ETA: 32s - loss: 0.2178 - categorical_crossentropy: 0.217 - ETA: 32s - loss: 0.2151 - categorical_crossentropy: 0.215 - ETA: 32s - loss: 0.2185 - categorical_crossentropy: 0.218 - ETA: 31s - loss: 0.2117 - categorical_crossentropy: 0.211 - ETA: 31s - loss: 0.2146 - categorical_crossentropy: 0.214 - ETA: 31s - loss: 0.2127 - categorical_crossentropy: 0.212 - ETA: 31s - loss: 0.2124 - categorical_crossentropy: 0.212 - ETA: 30s - loss: 0.2125 - categorical_crossentropy: 0.212 - ETA: 30s - loss: 0.2078 - categorical_crossentropy: 0.207 - ETA: 30s - loss: 0.2063 - categorical_crossentropy: 0.206 - ETA: 30s - loss: 0.2152 - categorical_crossentropy: 0.215 - ETA: 29s - loss: 0.2129 - categorical_crossentropy: 0.212 - ETA: 29s - loss: 0.2111 - categorical_crossentropy: 0.211 - ETA: 29s - loss: 0.2081 - categorical_crossentropy: 0.208 - ETA: 29s - loss: 0.2156 - categorical_crossentropy: 0.215 - ETA: 28s - loss: 0.2159 - categorical_crossentropy: 0.215 - ETA: 28s - loss: 0.2170 - categorical_crossentropy: 0.217 - ETA: 28s - loss: 0.2167 - categorical_crossentropy: 0.216 - ETA: 28s - loss: 0.2185 - categorical_crossentropy: 0.218 - ETA: 27s - loss: 0.2156 - categorical_crossentropy: 0.215 - ETA: 27s - loss: 0.2245 - categorical_crossentropy: 0.224 - ETA: 27s - loss: 0.2294 - categorical_crossentropy: 0.229 - ETA: 26s - loss: 0.2296 - categorical_crossentropy: 0.229 - ETA: 26s - loss: 0.2299 - categorical_crossentropy: 0.229 - ETA: 26s - loss: 0.2264 - categorical_crossentropy: 0.226 - ETA: 26s - loss: 0.2251 - categorical_crossentropy: 0.225 - ETA: 25s - loss: 0.2220 - categorical_crossentropy: 0.222 - ETA: 25s - loss: 0.2203 - categorical_crossentropy: 0.220 - ETA: 25s - loss: 0.2175 - categorical_crossentropy: 0.217 - ETA: 25s - loss: 0.2177 - categorical_crossentropy: 0.217 - ETA: 24s - loss: 0.2150 - categorical_crossentropy: 0.215 - ETA: 24s - loss: 0.2121 - categorical_crossentropy: 0.212 - ETA: 24s - loss: 0.2150 - categorical_crossentropy: 0.215 - ETA: 23s - loss: 0.2170 - categorical_crossentropy: 0.217 - ETA: 23s - loss: 0.2152 - categorical_crossentropy: 0.215 - ETA: 23s - loss: 0.2166 - categorical_crossentropy: 0.216 - ETA: 23s - loss: 0.2162 - categorical_crossentropy: 0.216 - ETA: 22s - loss: 0.2155 - categorical_crossentropy: 0.215 - ETA: 22s - loss: 0.2143 - categorical_crossentropy: 0.214 - ETA: 22s - loss: 0.2115 - categorical_crossentropy: 0.211 - ETA: 22s - loss: 0.2101 - categorical_crossentropy: 0.210 - ETA: 21s - loss: 0.2115 - categorical_crossentropy: 0.211 - ETA: 21s - loss: 0.2090 - categorical_crossentropy: 0.209 - ETA: 21s - loss: 0.2094 - categorical_crossentropy: 0.209 - ETA: 21s - loss: 0.2080 - categorical_crossentropy: 0.208 - ETA: 20s - loss: 0.2116 - categorical_crossentropy: 0.211 - ETA: 20s - loss: 0.2124 - categorical_crossentropy: 0.212 - ETA: 20s - loss: 0.2104 - categorical_crossentropy: 0.210 - ETA: 19s - loss: 0.2095 - categorical_crossentropy: 0.209 - ETA: 19s - loss: 0.2100 - categorical_crossentropy: 0.210 - ETA: 19s - loss: 0.2103 - categorical_crossentropy: 0.210 - ETA: 19s - loss: 0.2119 - categorical_crossentropy: 0.211 - ETA: 18s - loss: 0.2100 - categorical_crossentropy: 0.210 - ETA: 18s - loss: 0.2094 - categorical_crossentropy: 0.209 - ETA: 18s - loss: 0.2104 - categorical_crossentropy: 0.210 - ETA: 18s - loss: 0.2107 - categorical_crossentropy: 0.210 - ETA: 17s - loss: 0.2087 - categorical_crossentropy: 0.208 - ETA: 17s - loss: 0.2101 - categorical_crossentropy: 0.210 - ETA: 17s - loss: 0.2106 - categorical_crossentropy: 0.210 - ETA: 17s - loss: 0.2091 - categorical_crossentropy: 0.209 - ETA: 16s - loss: 0.2092 - categorical_crossentropy: 0.209 - ETA: 16s - loss: 0.2076 - categorical_crossentropy: 0.207 - ETA: 16s - loss: 0.2066 - categorical_crossentropy: 0.206 - ETA: 15s - loss: 0.2059 - categorical_crossentropy: 0.205 - ETA: 15s - loss: 0.2046 - categorical_crossentropy: 0.204 - ETA: 15s - loss: 0.2035 - categorical_crossentropy: 0.203 - ETA: 15s - loss: 0.2032 - categorical_crossentropy: 0.203 - ETA: 14s - loss: 0.2020 - categorical_crossentropy: 0.202 - ETA: 14s - loss: 0.2019 - categorical_crossentropy: 0.201 - ETA: 14s - loss: 0.2012 - categorical_crossentropy: 0.201 - ETA: 14s - loss: 0.2007 - categorical_crossentropy: 0.200 - ETA: 13s - loss: 0.2008 - categorical_crossentropy: 0.200 - ETA: 13s - loss: 0.1990 - categorical_crossentropy: 0.199 - ETA: 13s - loss: 0.1985 - categorical_crossentropy: 0.198 - ETA: 12s - loss: 0.1977 - categorical_crossentropy: 0.197 - ETA: 12s - loss: 0.1966 - categorical_crossentropy: 0.196 - ETA: 12s - loss: 0.1949 - categorical_crossentropy: 0.194 - ETA: 12s - loss: 0.1931 - categorical_crossentropy: 0.193 - ETA: 11s - loss: 0.1922 - categorical_crossentropy: 0.192 - ETA: 11s - loss: 0.1913 - categorical_crossentropy: 0.191 - ETA: 11s - loss: 0.1919 - categorical_crossentropy: 0.191 - ETA: 11s - loss: 0.1904 - categorical_crossentropy: 0.190 - ETA: 10s - loss: 0.1901 - categorical_crossentropy: 0.190 - ETA: 10s - loss: 0.1903 - categorical_crossentropy: 0.190 - ETA: 10s - loss: 0.1888 - categorical_crossentropy: 0.188 - ETA: 10s - loss: 0.1902 - categorical_crossentropy: 0.190 - ETA: 9s - loss: 0.1895 - categorical_crossentropy: 0.189 - ETA: 9s - loss: 0.1889 - categorical_crossentropy: 0.18 - ETA: 9s - loss: 0.1880 - categorical_crossentropy: 0.18 - ETA: 8s - loss: 0.1865 - categorical_crossentropy: 0.18 - ETA: 8s - loss: 0.1850 - categorical_crossentropy: 0.18 - ETA: 8s - loss: 0.1879 - categorical_crossentropy: 0.18 - ETA: 8s - loss: 0.1872 - categorical_crossentropy: 0.18 - ETA: 7s - loss: 0.1876 - categorical_crossentropy: 0.18 - ETA: 7s - loss: 0.1863 - categorical_crossentropy: 0.18 - ETA: 7s - loss: 0.1850 - categorical_crossentropy: 0.18 - ETA: 7s - loss: 0.1868 - categorical_crossentropy: 0.18 - ETA: 6s - loss: 0.1862 - categorical_crossentropy: 0.18 - ETA: 6s - loss: 0.1852 - categorical_crossentropy: 0.18 - ETA: 6s - loss: 0.1838 - categorical_crossentropy: 0.18 - ETA: 6s - loss: 0.1836 - categorical_crossentropy: 0.18 - ETA: 5s - loss: 0.1826 - categorical_crossentropy: 0.18 - ETA: 5s - loss: 0.1836 - categorical_crossentropy: 0.18 - ETA: 5s - loss: 0.1829 - categorical_crossentropy: 0.18 - ETA: 4s - loss: 0.1830 - categorical_crossentropy: 0.18 - ETA: 4s - loss: 0.1817 - categorical_crossentropy: 0.18 - ETA: 4s - loss: 0.1855 - categorical_crossentropy: 0.18 - ETA: 4s - loss: 0.1844 - categorical_crossentropy: 0.18 - ETA: 3s - loss: 0.1840 - categorical_crossentropy: 0.18 - ETA: 3s - loss: 0.1834 - categorical_crossentropy: 0.1834"
     ]
    },
    {
     "name": "stdout",
     "output_type": "stream",
     "text": [
      "4816/4816 [==============================] - ETA: 3s - loss: 0.1821 - categorical_crossentropy: 0.18 - ETA: 3s - loss: 0.1811 - categorical_crossentropy: 0.18 - ETA: 2s - loss: 0.1831 - categorical_crossentropy: 0.18 - ETA: 2s - loss: 0.1832 - categorical_crossentropy: 0.18 - ETA: 2s - loss: 0.1826 - categorical_crossentropy: 0.18 - ETA: 2s - loss: 0.1829 - categorical_crossentropy: 0.18 - ETA: 1s - loss: 0.1839 - categorical_crossentropy: 0.18 - ETA: 1s - loss: 0.1832 - categorical_crossentropy: 0.18 - ETA: 1s - loss: 0.1835 - categorical_crossentropy: 0.18 - ETA: 0s - loss: 0.1842 - categorical_crossentropy: 0.18 - ETA: 0s - loss: 0.1831 - categorical_crossentropy: 0.18 - ETA: 0s - loss: 0.1827 - categorical_crossentropy: 0.18 - ETA: 0s - loss: 0.1816 - categorical_crossentropy: 0.18 - 41s 9ms/step - loss: 0.1810 - categorical_crossentropy: 0.1810 - val_loss: 4.5325 - val_categorical_crossentropy: 4.5325\n",
      "Epoch 11/30\n",
      "4384/4816 [==========================>...] - ETA: 39s - loss: 0.0421 - categorical_crossentropy: 0.042 - ETA: 39s - loss: 0.0598 - categorical_crossentropy: 0.059 - ETA: 39s - loss: 0.1300 - categorical_crossentropy: 0.130 - ETA: 38s - loss: 0.1288 - categorical_crossentropy: 0.128 - ETA: 38s - loss: 0.1086 - categorical_crossentropy: 0.108 - ETA: 38s - loss: 0.1815 - categorical_crossentropy: 0.181 - ETA: 38s - loss: 0.1937 - categorical_crossentropy: 0.193 - ETA: 38s - loss: 0.1763 - categorical_crossentropy: 0.176 - ETA: 37s - loss: 0.2222 - categorical_crossentropy: 0.222 - ETA: 37s - loss: 0.2332 - categorical_crossentropy: 0.233 - ETA: 37s - loss: 0.2147 - categorical_crossentropy: 0.214 - ETA: 37s - loss: 0.2062 - categorical_crossentropy: 0.206 - ETA: 36s - loss: 0.1910 - categorical_crossentropy: 0.191 - ETA: 36s - loss: 0.1819 - categorical_crossentropy: 0.181 - ETA: 36s - loss: 0.1876 - categorical_crossentropy: 0.187 - ETA: 36s - loss: 0.1820 - categorical_crossentropy: 0.182 - ETA: 35s - loss: 0.1758 - categorical_crossentropy: 0.175 - ETA: 35s - loss: 0.1713 - categorical_crossentropy: 0.171 - ETA: 35s - loss: 0.1671 - categorical_crossentropy: 0.167 - ETA: 35s - loss: 0.1699 - categorical_crossentropy: 0.169 - ETA: 34s - loss: 0.1621 - categorical_crossentropy: 0.162 - ETA: 34s - loss: 0.1590 - categorical_crossentropy: 0.159 - ETA: 34s - loss: 0.1635 - categorical_crossentropy: 0.163 - ETA: 33s - loss: 0.1568 - categorical_crossentropy: 0.156 - ETA: 33s - loss: 0.1554 - categorical_crossentropy: 0.155 - ETA: 33s - loss: 0.1587 - categorical_crossentropy: 0.158 - ETA: 33s - loss: 0.1548 - categorical_crossentropy: 0.154 - ETA: 32s - loss: 0.1523 - categorical_crossentropy: 0.152 - ETA: 32s - loss: 0.1484 - categorical_crossentropy: 0.148 - ETA: 32s - loss: 0.1505 - categorical_crossentropy: 0.150 - ETA: 32s - loss: 0.1505 - categorical_crossentropy: 0.150 - ETA: 31s - loss: 0.1493 - categorical_crossentropy: 0.149 - ETA: 31s - loss: 0.1539 - categorical_crossentropy: 0.153 - ETA: 31s - loss: 0.1653 - categorical_crossentropy: 0.165 - ETA: 30s - loss: 0.1646 - categorical_crossentropy: 0.164 - ETA: 30s - loss: 0.1636 - categorical_crossentropy: 0.163 - ETA: 30s - loss: 0.1597 - categorical_crossentropy: 0.159 - ETA: 30s - loss: 0.1578 - categorical_crossentropy: 0.157 - ETA: 29s - loss: 0.1560 - categorical_crossentropy: 0.156 - ETA: 29s - loss: 0.1532 - categorical_crossentropy: 0.153 - ETA: 29s - loss: 0.1523 - categorical_crossentropy: 0.152 - ETA: 29s - loss: 0.1490 - categorical_crossentropy: 0.149 - ETA: 28s - loss: 0.1461 - categorical_crossentropy: 0.146 - ETA: 28s - loss: 0.1471 - categorical_crossentropy: 0.147 - ETA: 28s - loss: 0.1448 - categorical_crossentropy: 0.144 - ETA: 28s - loss: 0.1416 - categorical_crossentropy: 0.141 - ETA: 27s - loss: 0.1402 - categorical_crossentropy: 0.140 - ETA: 27s - loss: 0.1444 - categorical_crossentropy: 0.144 - ETA: 27s - loss: 0.1487 - categorical_crossentropy: 0.148 - ETA: 26s - loss: 0.1461 - categorical_crossentropy: 0.146 - ETA: 26s - loss: 0.1452 - categorical_crossentropy: 0.145 - ETA: 26s - loss: 0.1451 - categorical_crossentropy: 0.145 - ETA: 26s - loss: 0.1427 - categorical_crossentropy: 0.142 - ETA: 25s - loss: 0.1407 - categorical_crossentropy: 0.140 - ETA: 25s - loss: 0.1401 - categorical_crossentropy: 0.140 - ETA: 25s - loss: 0.1379 - categorical_crossentropy: 0.137 - ETA: 25s - loss: 0.1421 - categorical_crossentropy: 0.142 - ETA: 24s - loss: 0.1434 - categorical_crossentropy: 0.143 - ETA: 24s - loss: 0.1410 - categorical_crossentropy: 0.141 - ETA: 24s - loss: 0.1415 - categorical_crossentropy: 0.141 - ETA: 24s - loss: 0.1410 - categorical_crossentropy: 0.141 - ETA: 23s - loss: 0.1393 - categorical_crossentropy: 0.139 - ETA: 23s - loss: 0.1397 - categorical_crossentropy: 0.139 - ETA: 23s - loss: 0.1394 - categorical_crossentropy: 0.139 - ETA: 22s - loss: 0.1397 - categorical_crossentropy: 0.139 - ETA: 22s - loss: 0.1381 - categorical_crossentropy: 0.138 - ETA: 22s - loss: 0.1396 - categorical_crossentropy: 0.139 - ETA: 22s - loss: 0.1384 - categorical_crossentropy: 0.138 - ETA: 21s - loss: 0.1383 - categorical_crossentropy: 0.138 - ETA: 21s - loss: 0.1367 - categorical_crossentropy: 0.136 - ETA: 21s - loss: 0.1359 - categorical_crossentropy: 0.135 - ETA: 21s - loss: 0.1370 - categorical_crossentropy: 0.137 - ETA: 20s - loss: 0.1362 - categorical_crossentropy: 0.136 - ETA: 20s - loss: 0.1351 - categorical_crossentropy: 0.135 - ETA: 20s - loss: 0.1344 - categorical_crossentropy: 0.134 - ETA: 19s - loss: 0.1366 - categorical_crossentropy: 0.136 - ETA: 19s - loss: 0.1359 - categorical_crossentropy: 0.135 - ETA: 19s - loss: 0.1347 - categorical_crossentropy: 0.134 - ETA: 19s - loss: 0.1374 - categorical_crossentropy: 0.137 - ETA: 18s - loss: 0.1357 - categorical_crossentropy: 0.135 - ETA: 18s - loss: 0.1345 - categorical_crossentropy: 0.134 - ETA: 18s - loss: 0.1339 - categorical_crossentropy: 0.133 - ETA: 18s - loss: 0.1337 - categorical_crossentropy: 0.133 - ETA: 17s - loss: 0.1331 - categorical_crossentropy: 0.133 - ETA: 17s - loss: 0.1324 - categorical_crossentropy: 0.132 - ETA: 17s - loss: 0.1311 - categorical_crossentropy: 0.131 - ETA: 17s - loss: 0.1310 - categorical_crossentropy: 0.131 - ETA: 16s - loss: 0.1311 - categorical_crossentropy: 0.131 - ETA: 16s - loss: 0.1298 - categorical_crossentropy: 0.129 - ETA: 16s - loss: 0.1333 - categorical_crossentropy: 0.133 - ETA: 15s - loss: 0.1352 - categorical_crossentropy: 0.135 - ETA: 15s - loss: 0.1345 - categorical_crossentropy: 0.134 - ETA: 15s - loss: 0.1364 - categorical_crossentropy: 0.136 - ETA: 15s - loss: 0.1391 - categorical_crossentropy: 0.139 - ETA: 14s - loss: 0.1396 - categorical_crossentropy: 0.139 - ETA: 14s - loss: 0.1393 - categorical_crossentropy: 0.139 - ETA: 14s - loss: 0.1382 - categorical_crossentropy: 0.138 - ETA: 14s - loss: 0.1369 - categorical_crossentropy: 0.136 - ETA: 13s - loss: 0.1366 - categorical_crossentropy: 0.136 - ETA: 13s - loss: 0.1367 - categorical_crossentropy: 0.136 - ETA: 13s - loss: 0.1374 - categorical_crossentropy: 0.137 - ETA: 13s - loss: 0.1376 - categorical_crossentropy: 0.137 - ETA: 12s - loss: 0.1379 - categorical_crossentropy: 0.137 - ETA: 12s - loss: 0.1383 - categorical_crossentropy: 0.138 - ETA: 12s - loss: 0.1401 - categorical_crossentropy: 0.140 - ETA: 11s - loss: 0.1392 - categorical_crossentropy: 0.139 - ETA: 11s - loss: 0.1381 - categorical_crossentropy: 0.138 - ETA: 11s - loss: 0.1370 - categorical_crossentropy: 0.137 - ETA: 11s - loss: 0.1369 - categorical_crossentropy: 0.136 - ETA: 10s - loss: 0.1365 - categorical_crossentropy: 0.136 - ETA: 10s - loss: 0.1361 - categorical_crossentropy: 0.136 - ETA: 10s - loss: 0.1393 - categorical_crossentropy: 0.139 - ETA: 10s - loss: 0.1432 - categorical_crossentropy: 0.143 - ETA: 9s - loss: 0.1424 - categorical_crossentropy: 0.142 - ETA: 9s - loss: 0.1415 - categorical_crossentropy: 0.14 - ETA: 9s - loss: 0.1404 - categorical_crossentropy: 0.14 - ETA: 8s - loss: 0.1399 - categorical_crossentropy: 0.13 - ETA: 8s - loss: 0.1417 - categorical_crossentropy: 0.14 - ETA: 8s - loss: 0.1431 - categorical_crossentropy: 0.14 - ETA: 8s - loss: 0.1427 - categorical_crossentropy: 0.14 - ETA: 7s - loss: 0.1435 - categorical_crossentropy: 0.14 - ETA: 7s - loss: 0.1427 - categorical_crossentropy: 0.14 - ETA: 7s - loss: 0.1421 - categorical_crossentropy: 0.14 - ETA: 7s - loss: 0.1432 - categorical_crossentropy: 0.14 - ETA: 6s - loss: 0.1430 - categorical_crossentropy: 0.14 - ETA: 6s - loss: 0.1419 - categorical_crossentropy: 0.14 - ETA: 6s - loss: 0.1459 - categorical_crossentropy: 0.14 - ETA: 6s - loss: 0.1455 - categorical_crossentropy: 0.14 - ETA: 5s - loss: 0.1458 - categorical_crossentropy: 0.14 - ETA: 5s - loss: 0.1456 - categorical_crossentropy: 0.14 - ETA: 5s - loss: 0.1451 - categorical_crossentropy: 0.14 - ETA: 4s - loss: 0.1453 - categorical_crossentropy: 0.14 - ETA: 4s - loss: 0.1445 - categorical_crossentropy: 0.14 - ETA: 4s - loss: 0.1441 - categorical_crossentropy: 0.14 - ETA: 4s - loss: 0.1440 - categorical_crossentropy: 0.14 - ETA: 3s - loss: 0.1437 - categorical_crossentropy: 0.14 - ETA: 3s - loss: 0.1436 - categorical_crossentropy: 0.14364816/4816 [==============================] - ETA: 3s - loss: 0.1427 - categorical_crossentropy: 0.14 - ETA: 3s - loss: 0.1446 - categorical_crossentropy: 0.14 - ETA: 2s - loss: 0.1453 - categorical_crossentropy: 0.14 - ETA: 2s - loss: 0.1457 - categorical_crossentropy: 0.14 - ETA: 2s - loss: 0.1452 - categorical_crossentropy: 0.14 - ETA: 2s - loss: 0.1447 - categorical_crossentropy: 0.14 - ETA: 1s - loss: 0.1444 - categorical_crossentropy: 0.14 - ETA: 1s - loss: 0.1439 - categorical_crossentropy: 0.14 - ETA: 1s - loss: 0.1440 - categorical_crossentropy: 0.14 - ETA: 0s - loss: 0.1459 - categorical_crossentropy: 0.14 - ETA: 0s - loss: 0.1461 - categorical_crossentropy: 0.14 - ETA: 0s - loss: 0.1455 - categorical_crossentropy: 0.14 - ETA: 0s - loss: 0.1461 - categorical_crossentropy: 0.14 - 41s 9ms/step - loss: 0.1490 - categorical_crossentropy: 0.1490 - val_loss: 4.2916 - val_categorical_crossentropy: 4.2916\n",
      "Epoch 12/30\n"
     ]
    },
    {
     "name": "stdout",
     "output_type": "stream",
     "text": [
      "4384/4816 [==========================>...] - ETA: 37s - loss: 0.0979 - categorical_crossentropy: 0.097 - ETA: 38s - loss: 0.0577 - categorical_crossentropy: 0.057 - ETA: 38s - loss: 0.0955 - categorical_crossentropy: 0.095 - ETA: 38s - loss: 0.1006 - categorical_crossentropy: 0.100 - ETA: 38s - loss: 0.0837 - categorical_crossentropy: 0.083 - ETA: 38s - loss: 0.1043 - categorical_crossentropy: 0.104 - ETA: 38s - loss: 0.1305 - categorical_crossentropy: 0.130 - ETA: 37s - loss: 0.1212 - categorical_crossentropy: 0.121 - ETA: 37s - loss: 0.1130 - categorical_crossentropy: 0.113 - ETA: 37s - loss: 0.1171 - categorical_crossentropy: 0.117 - ETA: 37s - loss: 0.1147 - categorical_crossentropy: 0.114 - ETA: 37s - loss: 0.1121 - categorical_crossentropy: 0.112 - ETA: 36s - loss: 0.1073 - categorical_crossentropy: 0.107 - ETA: 36s - loss: 0.1140 - categorical_crossentropy: 0.114 - ETA: 36s - loss: 0.1075 - categorical_crossentropy: 0.107 - ETA: 35s - loss: 0.1015 - categorical_crossentropy: 0.101 - ETA: 35s - loss: 0.1213 - categorical_crossentropy: 0.121 - ETA: 35s - loss: 0.1332 - categorical_crossentropy: 0.133 - ETA: 35s - loss: 0.1347 - categorical_crossentropy: 0.134 - ETA: 34s - loss: 0.1341 - categorical_crossentropy: 0.134 - ETA: 34s - loss: 0.1370 - categorical_crossentropy: 0.137 - ETA: 34s - loss: 0.1343 - categorical_crossentropy: 0.134 - ETA: 34s - loss: 0.1294 - categorical_crossentropy: 0.129 - ETA: 33s - loss: 0.1296 - categorical_crossentropy: 0.129 - ETA: 33s - loss: 0.1272 - categorical_crossentropy: 0.127 - ETA: 33s - loss: 0.1258 - categorical_crossentropy: 0.125 - ETA: 33s - loss: 0.1250 - categorical_crossentropy: 0.125 - ETA: 32s - loss: 0.1277 - categorical_crossentropy: 0.127 - ETA: 32s - loss: 0.1256 - categorical_crossentropy: 0.125 - ETA: 32s - loss: 0.1223 - categorical_crossentropy: 0.122 - ETA: 31s - loss: 0.1203 - categorical_crossentropy: 0.120 - ETA: 31s - loss: 0.1243 - categorical_crossentropy: 0.124 - ETA: 31s - loss: 0.1283 - categorical_crossentropy: 0.128 - ETA: 31s - loss: 0.1247 - categorical_crossentropy: 0.124 - ETA: 30s - loss: 0.1217 - categorical_crossentropy: 0.121 - ETA: 30s - loss: 0.1209 - categorical_crossentropy: 0.120 - ETA: 30s - loss: 0.1190 - categorical_crossentropy: 0.119 - ETA: 30s - loss: 0.1170 - categorical_crossentropy: 0.117 - ETA: 29s - loss: 0.1150 - categorical_crossentropy: 0.115 - ETA: 29s - loss: 0.1127 - categorical_crossentropy: 0.112 - ETA: 29s - loss: 0.1122 - categorical_crossentropy: 0.112 - ETA: 29s - loss: 0.1103 - categorical_crossentropy: 0.110 - ETA: 28s - loss: 0.1120 - categorical_crossentropy: 0.112 - ETA: 28s - loss: 0.1096 - categorical_crossentropy: 0.109 - ETA: 28s - loss: 0.1082 - categorical_crossentropy: 0.108 - ETA: 28s - loss: 0.1096 - categorical_crossentropy: 0.109 - ETA: 27s - loss: 0.1075 - categorical_crossentropy: 0.107 - ETA: 27s - loss: 0.1075 - categorical_crossentropy: 0.107 - ETA: 27s - loss: 0.1090 - categorical_crossentropy: 0.109 - ETA: 26s - loss: 0.1074 - categorical_crossentropy: 0.107 - ETA: 26s - loss: 0.1090 - categorical_crossentropy: 0.109 - ETA: 26s - loss: 0.1071 - categorical_crossentropy: 0.107 - ETA: 26s - loss: 0.1054 - categorical_crossentropy: 0.105 - ETA: 25s - loss: 0.1038 - categorical_crossentropy: 0.103 - ETA: 25s - loss: 0.1041 - categorical_crossentropy: 0.104 - ETA: 25s - loss: 0.1029 - categorical_crossentropy: 0.102 - ETA: 25s - loss: 0.1013 - categorical_crossentropy: 0.101 - ETA: 24s - loss: 0.1030 - categorical_crossentropy: 0.103 - ETA: 24s - loss: 0.1040 - categorical_crossentropy: 0.104 - ETA: 24s - loss: 0.1046 - categorical_crossentropy: 0.104 - ETA: 24s - loss: 0.1035 - categorical_crossentropy: 0.103 - ETA: 23s - loss: 0.1021 - categorical_crossentropy: 0.102 - ETA: 23s - loss: 0.1026 - categorical_crossentropy: 0.102 - ETA: 23s - loss: 0.1026 - categorical_crossentropy: 0.102 - ETA: 22s - loss: 0.1014 - categorical_crossentropy: 0.101 - ETA: 22s - loss: 0.1001 - categorical_crossentropy: 0.100 - ETA: 22s - loss: 0.1056 - categorical_crossentropy: 0.105 - ETA: 22s - loss: 0.1060 - categorical_crossentropy: 0.106 - ETA: 21s - loss: 0.1056 - categorical_crossentropy: 0.105 - ETA: 21s - loss: 0.1074 - categorical_crossentropy: 0.107 - ETA: 21s - loss: 0.1089 - categorical_crossentropy: 0.108 - ETA: 21s - loss: 0.1078 - categorical_crossentropy: 0.107 - ETA: 20s - loss: 0.1080 - categorical_crossentropy: 0.108 - ETA: 20s - loss: 0.1073 - categorical_crossentropy: 0.107 - ETA: 20s - loss: 0.1064 - categorical_crossentropy: 0.106 - ETA: 19s - loss: 0.1051 - categorical_crossentropy: 0.105 - ETA: 19s - loss: 0.1067 - categorical_crossentropy: 0.106 - ETA: 19s - loss: 0.1077 - categorical_crossentropy: 0.107 - ETA: 19s - loss: 0.1065 - categorical_crossentropy: 0.106 - ETA: 18s - loss: 0.1054 - categorical_crossentropy: 0.105 - ETA: 18s - loss: 0.1057 - categorical_crossentropy: 0.105 - ETA: 18s - loss: 0.1083 - categorical_crossentropy: 0.108 - ETA: 18s - loss: 0.1072 - categorical_crossentropy: 0.107 - ETA: 17s - loss: 0.1065 - categorical_crossentropy: 0.106 - ETA: 17s - loss: 0.1052 - categorical_crossentropy: 0.105 - ETA: 17s - loss: 0.1062 - categorical_crossentropy: 0.106 - ETA: 17s - loss: 0.1062 - categorical_crossentropy: 0.106 - ETA: 16s - loss: 0.1062 - categorical_crossentropy: 0.106 - ETA: 16s - loss: 0.1075 - categorical_crossentropy: 0.107 - ETA: 16s - loss: 0.1082 - categorical_crossentropy: 0.108 - ETA: 15s - loss: 0.1080 - categorical_crossentropy: 0.108 - ETA: 15s - loss: 0.1091 - categorical_crossentropy: 0.109 - ETA: 15s - loss: 0.1088 - categorical_crossentropy: 0.108 - ETA: 15s - loss: 0.1084 - categorical_crossentropy: 0.108 - ETA: 14s - loss: 0.1076 - categorical_crossentropy: 0.107 - ETA: 14s - loss: 0.1168 - categorical_crossentropy: 0.116 - ETA: 14s - loss: 0.1169 - categorical_crossentropy: 0.116 - ETA: 14s - loss: 0.1174 - categorical_crossentropy: 0.117 - ETA: 13s - loss: 0.1167 - categorical_crossentropy: 0.116 - ETA: 13s - loss: 0.1157 - categorical_crossentropy: 0.115 - ETA: 13s - loss: 0.1152 - categorical_crossentropy: 0.115 - ETA: 13s - loss: 0.1141 - categorical_crossentropy: 0.114 - ETA: 12s - loss: 0.1141 - categorical_crossentropy: 0.114 - ETA: 12s - loss: 0.1135 - categorical_crossentropy: 0.113 - ETA: 12s - loss: 0.1140 - categorical_crossentropy: 0.114 - ETA: 11s - loss: 0.1149 - categorical_crossentropy: 0.114 - ETA: 11s - loss: 0.1151 - categorical_crossentropy: 0.115 - ETA: 11s - loss: 0.1161 - categorical_crossentropy: 0.116 - ETA: 11s - loss: 0.1164 - categorical_crossentropy: 0.116 - ETA: 10s - loss: 0.1158 - categorical_crossentropy: 0.115 - ETA: 10s - loss: 0.1163 - categorical_crossentropy: 0.116 - ETA: 10s - loss: 0.1171 - categorical_crossentropy: 0.117 - ETA: 10s - loss: 0.1164 - categorical_crossentropy: 0.116 - ETA: 9s - loss: 0.1168 - categorical_crossentropy: 0.116 - ETA: 9s - loss: 0.1163 - categorical_crossentropy: 0.11 - ETA: 9s - loss: 0.1156 - categorical_crossentropy: 0.11 - ETA: 9s - loss: 0.1155 - categorical_crossentropy: 0.11 - ETA: 8s - loss: 0.1152 - categorical_crossentropy: 0.11 - ETA: 8s - loss: 0.1142 - categorical_crossentropy: 0.11 - ETA: 8s - loss: 0.1149 - categorical_crossentropy: 0.11 - ETA: 7s - loss: 0.1142 - categorical_crossentropy: 0.11 - ETA: 7s - loss: 0.1155 - categorical_crossentropy: 0.11 - ETA: 7s - loss: 0.1147 - categorical_crossentropy: 0.11 - ETA: 7s - loss: 0.1155 - categorical_crossentropy: 0.11 - ETA: 6s - loss: 0.1161 - categorical_crossentropy: 0.11 - ETA: 6s - loss: 0.1154 - categorical_crossentropy: 0.11 - ETA: 6s - loss: 0.1147 - categorical_crossentropy: 0.11 - ETA: 6s - loss: 0.1141 - categorical_crossentropy: 0.11 - ETA: 5s - loss: 0.1166 - categorical_crossentropy: 0.11 - ETA: 5s - loss: 0.1159 - categorical_crossentropy: 0.11 - ETA: 5s - loss: 0.1161 - categorical_crossentropy: 0.11 - ETA: 4s - loss: 0.1155 - categorical_crossentropy: 0.11 - ETA: 4s - loss: 0.1156 - categorical_crossentropy: 0.11 - ETA: 4s - loss: 0.1156 - categorical_crossentropy: 0.11 - ETA: 4s - loss: 0.1152 - categorical_crossentropy: 0.11 - ETA: 3s - loss: 0.1168 - categorical_crossentropy: 0.11 - ETA: 3s - loss: 0.1163 - categorical_crossentropy: 0.1163"
     ]
    },
    {
     "name": "stdout",
     "output_type": "stream",
     "text": [
      "4816/4816 [==============================] - ETA: 3s - loss: 0.1156 - categorical_crossentropy: 0.11 - ETA: 3s - loss: 0.1150 - categorical_crossentropy: 0.11 - ETA: 2s - loss: 0.1162 - categorical_crossentropy: 0.11 - ETA: 2s - loss: 0.1170 - categorical_crossentropy: 0.11 - ETA: 2s - loss: 0.1163 - categorical_crossentropy: 0.11 - ETA: 2s - loss: 0.1175 - categorical_crossentropy: 0.11 - ETA: 1s - loss: 0.1178 - categorical_crossentropy: 0.11 - ETA: 1s - loss: 0.1187 - categorical_crossentropy: 0.11 - ETA: 1s - loss: 0.1189 - categorical_crossentropy: 0.11 - ETA: 0s - loss: 0.1183 - categorical_crossentropy: 0.11 - ETA: 0s - loss: 0.1175 - categorical_crossentropy: 0.11 - ETA: 0s - loss: 0.1203 - categorical_crossentropy: 0.12 - ETA: 0s - loss: 0.1196 - categorical_crossentropy: 0.11 - 41s 9ms/step - loss: 0.1193 - categorical_crossentropy: 0.1193 - val_loss: 4.0786 - val_categorical_crossentropy: 4.0786\n",
      "Epoch 13/30\n",
      "4384/4816 [==========================>...] - ETA: 39s - loss: 0.0812 - categorical_crossentropy: 0.081 - ETA: 38s - loss: 0.0953 - categorical_crossentropy: 0.095 - ETA: 39s - loss: 0.0643 - categorical_crossentropy: 0.064 - ETA: 38s - loss: 0.0691 - categorical_crossentropy: 0.069 - ETA: 38s - loss: 0.0591 - categorical_crossentropy: 0.059 - ETA: 38s - loss: 0.1238 - categorical_crossentropy: 0.123 - ETA: 38s - loss: 0.1067 - categorical_crossentropy: 0.106 - ETA: 37s - loss: 0.1289 - categorical_crossentropy: 0.128 - ETA: 37s - loss: 0.1156 - categorical_crossentropy: 0.115 - ETA: 37s - loss: 0.1167 - categorical_crossentropy: 0.116 - ETA: 37s - loss: 0.1190 - categorical_crossentropy: 0.119 - ETA: 37s - loss: 0.1367 - categorical_crossentropy: 0.136 - ETA: 36s - loss: 0.1283 - categorical_crossentropy: 0.128 - ETA: 36s - loss: 0.1193 - categorical_crossentropy: 0.119 - ETA: 36s - loss: 0.1270 - categorical_crossentropy: 0.127 - ETA: 36s - loss: 0.1328 - categorical_crossentropy: 0.132 - ETA: 35s - loss: 0.1255 - categorical_crossentropy: 0.125 - ETA: 35s - loss: 0.1266 - categorical_crossentropy: 0.126 - ETA: 35s - loss: 0.1249 - categorical_crossentropy: 0.124 - ETA: 35s - loss: 0.1188 - categorical_crossentropy: 0.118 - ETA: 34s - loss: 0.1181 - categorical_crossentropy: 0.118 - ETA: 34s - loss: 0.1136 - categorical_crossentropy: 0.113 - ETA: 34s - loss: 0.1095 - categorical_crossentropy: 0.109 - ETA: 33s - loss: 0.1070 - categorical_crossentropy: 0.107 - ETA: 33s - loss: 0.1032 - categorical_crossentropy: 0.103 - ETA: 33s - loss: 0.1051 - categorical_crossentropy: 0.105 - ETA: 33s - loss: 0.1122 - categorical_crossentropy: 0.112 - ETA: 32s - loss: 0.1154 - categorical_crossentropy: 0.115 - ETA: 32s - loss: 0.1143 - categorical_crossentropy: 0.114 - ETA: 32s - loss: 0.1111 - categorical_crossentropy: 0.111 - ETA: 32s - loss: 0.1076 - categorical_crossentropy: 0.107 - ETA: 31s - loss: 0.1069 - categorical_crossentropy: 0.106 - ETA: 31s - loss: 0.1044 - categorical_crossentropy: 0.104 - ETA: 31s - loss: 0.1060 - categorical_crossentropy: 0.106 - ETA: 30s - loss: 0.1057 - categorical_crossentropy: 0.105 - ETA: 30s - loss: 0.1028 - categorical_crossentropy: 0.102 - ETA: 30s - loss: 0.1073 - categorical_crossentropy: 0.107 - ETA: 30s - loss: 0.1057 - categorical_crossentropy: 0.105 - ETA: 29s - loss: 0.1046 - categorical_crossentropy: 0.104 - ETA: 29s - loss: 0.1020 - categorical_crossentropy: 0.102 - ETA: 29s - loss: 0.1018 - categorical_crossentropy: 0.101 - ETA: 29s - loss: 0.1004 - categorical_crossentropy: 0.100 - ETA: 28s - loss: 0.1049 - categorical_crossentropy: 0.104 - ETA: 28s - loss: 0.1031 - categorical_crossentropy: 0.103 - ETA: 28s - loss: 0.1100 - categorical_crossentropy: 0.110 - ETA: 28s - loss: 0.1111 - categorical_crossentropy: 0.111 - ETA: 27s - loss: 0.1102 - categorical_crossentropy: 0.110 - ETA: 27s - loss: 0.1199 - categorical_crossentropy: 0.119 - ETA: 27s - loss: 0.1183 - categorical_crossentropy: 0.118 - ETA: 26s - loss: 0.1170 - categorical_crossentropy: 0.117 - ETA: 26s - loss: 0.1169 - categorical_crossentropy: 0.116 - ETA: 26s - loss: 0.1148 - categorical_crossentropy: 0.114 - ETA: 26s - loss: 0.1186 - categorical_crossentropy: 0.118 - ETA: 25s - loss: 0.1184 - categorical_crossentropy: 0.118 - ETA: 25s - loss: 0.1169 - categorical_crossentropy: 0.116 - ETA: 25s - loss: 0.1193 - categorical_crossentropy: 0.119 - ETA: 25s - loss: 0.1175 - categorical_crossentropy: 0.117 - ETA: 24s - loss: 0.1164 - categorical_crossentropy: 0.116 - ETA: 24s - loss: 0.1146 - categorical_crossentropy: 0.114 - ETA: 24s - loss: 0.1136 - categorical_crossentropy: 0.113 - ETA: 23s - loss: 0.1154 - categorical_crossentropy: 0.115 - ETA: 23s - loss: 0.1152 - categorical_crossentropy: 0.115 - ETA: 23s - loss: 0.1179 - categorical_crossentropy: 0.117 - ETA: 23s - loss: 0.1253 - categorical_crossentropy: 0.125 - ETA: 22s - loss: 0.1235 - categorical_crossentropy: 0.123 - ETA: 22s - loss: 0.1232 - categorical_crossentropy: 0.123 - ETA: 22s - loss: 0.1230 - categorical_crossentropy: 0.123 - ETA: 22s - loss: 0.1218 - categorical_crossentropy: 0.121 - ETA: 21s - loss: 0.1201 - categorical_crossentropy: 0.120 - ETA: 21s - loss: 0.1194 - categorical_crossentropy: 0.119 - ETA: 21s - loss: 0.1180 - categorical_crossentropy: 0.118 - ETA: 21s - loss: 0.1166 - categorical_crossentropy: 0.116 - ETA: 20s - loss: 0.1175 - categorical_crossentropy: 0.117 - ETA: 20s - loss: 0.1163 - categorical_crossentropy: 0.116 - ETA: 20s - loss: 0.1169 - categorical_crossentropy: 0.116 - ETA: 19s - loss: 0.1175 - categorical_crossentropy: 0.117 - ETA: 19s - loss: 0.1167 - categorical_crossentropy: 0.116 - ETA: 19s - loss: 0.1155 - categorical_crossentropy: 0.115 - ETA: 19s - loss: 0.1178 - categorical_crossentropy: 0.117 - ETA: 18s - loss: 0.1166 - categorical_crossentropy: 0.116 - ETA: 18s - loss: 0.1155 - categorical_crossentropy: 0.115 - ETA: 18s - loss: 0.1159 - categorical_crossentropy: 0.115 - ETA: 18s - loss: 0.1146 - categorical_crossentropy: 0.114 - ETA: 17s - loss: 0.1134 - categorical_crossentropy: 0.113 - ETA: 17s - loss: 0.1125 - categorical_crossentropy: 0.112 - ETA: 17s - loss: 0.1115 - categorical_crossentropy: 0.111 - ETA: 17s - loss: 0.1108 - categorical_crossentropy: 0.110 - ETA: 16s - loss: 0.1100 - categorical_crossentropy: 0.110 - ETA: 16s - loss: 0.1124 - categorical_crossentropy: 0.112 - ETA: 16s - loss: 0.1124 - categorical_crossentropy: 0.112 - ETA: 15s - loss: 0.1121 - categorical_crossentropy: 0.112 - ETA: 15s - loss: 0.1129 - categorical_crossentropy: 0.112 - ETA: 15s - loss: 0.1118 - categorical_crossentropy: 0.111 - ETA: 15s - loss: 0.1108 - categorical_crossentropy: 0.110 - ETA: 14s - loss: 0.1108 - categorical_crossentropy: 0.110 - ETA: 14s - loss: 0.1117 - categorical_crossentropy: 0.111 - ETA: 14s - loss: 0.1130 - categorical_crossentropy: 0.113 - ETA: 14s - loss: 0.1135 - categorical_crossentropy: 0.113 - ETA: 13s - loss: 0.1124 - categorical_crossentropy: 0.112 - ETA: 13s - loss: 0.1127 - categorical_crossentropy: 0.112 - ETA: 13s - loss: 0.1147 - categorical_crossentropy: 0.114 - ETA: 13s - loss: 0.1138 - categorical_crossentropy: 0.113 - ETA: 12s - loss: 0.1131 - categorical_crossentropy: 0.113 - ETA: 12s - loss: 0.1126 - categorical_crossentropy: 0.112 - ETA: 12s - loss: 0.1116 - categorical_crossentropy: 0.111 - ETA: 11s - loss: 0.1107 - categorical_crossentropy: 0.110 - ETA: 11s - loss: 0.1101 - categorical_crossentropy: 0.110 - ETA: 11s - loss: 0.1105 - categorical_crossentropy: 0.110 - ETA: 11s - loss: 0.1095 - categorical_crossentropy: 0.109 - ETA: 10s - loss: 0.1087 - categorical_crossentropy: 0.108 - ETA: 10s - loss: 0.1077 - categorical_crossentropy: 0.107 - ETA: 10s - loss: 0.1086 - categorical_crossentropy: 0.108 - ETA: 10s - loss: 0.1081 - categorical_crossentropy: 0.108 - ETA: 9s - loss: 0.1078 - categorical_crossentropy: 0.107 - ETA: 9s - loss: 0.1071 - categorical_crossentropy: 0.10 - ETA: 9s - loss: 0.1062 - categorical_crossentropy: 0.10 - ETA: 8s - loss: 0.1065 - categorical_crossentropy: 0.10 - ETA: 8s - loss: 0.1058 - categorical_crossentropy: 0.10 - ETA: 8s - loss: 0.1050 - categorical_crossentropy: 0.10 - ETA: 8s - loss: 0.1042 - categorical_crossentropy: 0.10 - ETA: 7s - loss: 0.1058 - categorical_crossentropy: 0.10 - ETA: 7s - loss: 0.1052 - categorical_crossentropy: 0.10 - ETA: 7s - loss: 0.1050 - categorical_crossentropy: 0.10 - ETA: 7s - loss: 0.1043 - categorical_crossentropy: 0.10 - ETA: 6s - loss: 0.1035 - categorical_crossentropy: 0.10 - ETA: 6s - loss: 0.1031 - categorical_crossentropy: 0.10 - ETA: 6s - loss: 0.1026 - categorical_crossentropy: 0.10 - ETA: 6s - loss: 0.1056 - categorical_crossentropy: 0.10 - ETA: 5s - loss: 0.1049 - categorical_crossentropy: 0.10 - ETA: 5s - loss: 0.1054 - categorical_crossentropy: 0.10 - ETA: 5s - loss: 0.1046 - categorical_crossentropy: 0.10 - ETA: 4s - loss: 0.1039 - categorical_crossentropy: 0.10 - ETA: 4s - loss: 0.1032 - categorical_crossentropy: 0.10 - ETA: 4s - loss: 0.1027 - categorical_crossentropy: 0.10 - ETA: 4s - loss: 0.1020 - categorical_crossentropy: 0.10 - ETA: 3s - loss: 0.1014 - categorical_crossentropy: 0.10 - ETA: 3s - loss: 0.1007 - categorical_crossentropy: 0.10074816/4816 [==============================] - ETA: 3s - loss: 0.1001 - categorical_crossentropy: 0.10 - ETA: 3s - loss: 0.0996 - categorical_crossentropy: 0.09 - ETA: 2s - loss: 0.0993 - categorical_crossentropy: 0.09 - ETA: 2s - loss: 0.0998 - categorical_crossentropy: 0.09 - ETA: 2s - loss: 0.1005 - categorical_crossentropy: 0.10 - ETA: 2s - loss: 0.1006 - categorical_crossentropy: 0.10 - ETA: 1s - loss: 0.0999 - categorical_crossentropy: 0.09 - ETA: 1s - loss: 0.1004 - categorical_crossentropy: 0.10 - ETA: 1s - loss: 0.1005 - categorical_crossentropy: 0.10 - ETA: 0s - loss: 0.1009 - categorical_crossentropy: 0.10 - ETA: 0s - loss: 0.1016 - categorical_crossentropy: 0.10 - ETA: 0s - loss: 0.1025 - categorical_crossentropy: 0.10 - ETA: 0s - loss: 0.1019 - categorical_crossentropy: 0.10 - 41s 9ms/step - loss: 0.1018 - categorical_crossentropy: 0.1018 - val_loss: 4.8226 - val_categorical_crossentropy: 4.8226\n",
      "Epoch 14/30\n"
     ]
    },
    {
     "name": "stdout",
     "output_type": "stream",
     "text": [
      "4384/4816 [==========================>...] - ETA: 37s - loss: 0.0654 - categorical_crossentropy: 0.065 - ETA: 38s - loss: 0.1317 - categorical_crossentropy: 0.131 - ETA: 38s - loss: 0.1404 - categorical_crossentropy: 0.140 - ETA: 38s - loss: 0.1088 - categorical_crossentropy: 0.108 - ETA: 38s - loss: 0.1092 - categorical_crossentropy: 0.109 - ETA: 37s - loss: 0.0958 - categorical_crossentropy: 0.095 - ETA: 38s - loss: 0.0834 - categorical_crossentropy: 0.083 - ETA: 37s - loss: 0.0882 - categorical_crossentropy: 0.088 - ETA: 37s - loss: 0.0791 - categorical_crossentropy: 0.079 - ETA: 37s - loss: 0.1244 - categorical_crossentropy: 0.124 - ETA: 37s - loss: 0.1324 - categorical_crossentropy: 0.132 - ETA: 37s - loss: 0.1215 - categorical_crossentropy: 0.121 - ETA: 36s - loss: 0.1142 - categorical_crossentropy: 0.114 - ETA: 36s - loss: 0.1174 - categorical_crossentropy: 0.117 - ETA: 36s - loss: 0.1190 - categorical_crossentropy: 0.119 - ETA: 35s - loss: 0.1200 - categorical_crossentropy: 0.120 - ETA: 35s - loss: 0.1194 - categorical_crossentropy: 0.119 - ETA: 35s - loss: 0.1203 - categorical_crossentropy: 0.120 - ETA: 35s - loss: 0.1260 - categorical_crossentropy: 0.126 - ETA: 34s - loss: 0.1254 - categorical_crossentropy: 0.125 - ETA: 34s - loss: 0.1236 - categorical_crossentropy: 0.123 - ETA: 34s - loss: 0.1226 - categorical_crossentropy: 0.122 - ETA: 34s - loss: 0.1180 - categorical_crossentropy: 0.118 - ETA: 33s - loss: 0.1160 - categorical_crossentropy: 0.116 - ETA: 33s - loss: 0.1188 - categorical_crossentropy: 0.118 - ETA: 33s - loss: 0.1199 - categorical_crossentropy: 0.119 - ETA: 33s - loss: 0.1213 - categorical_crossentropy: 0.121 - ETA: 32s - loss: 0.1179 - categorical_crossentropy: 0.117 - ETA: 32s - loss: 0.1218 - categorical_crossentropy: 0.121 - ETA: 32s - loss: 0.1193 - categorical_crossentropy: 0.119 - ETA: 32s - loss: 0.1170 - categorical_crossentropy: 0.117 - ETA: 31s - loss: 0.1160 - categorical_crossentropy: 0.116 - ETA: 31s - loss: 0.1147 - categorical_crossentropy: 0.114 - ETA: 31s - loss: 0.1115 - categorical_crossentropy: 0.111 - ETA: 31s - loss: 0.1171 - categorical_crossentropy: 0.117 - ETA: 30s - loss: 0.1139 - categorical_crossentropy: 0.113 - ETA: 30s - loss: 0.1146 - categorical_crossentropy: 0.114 - ETA: 30s - loss: 0.1117 - categorical_crossentropy: 0.111 - ETA: 30s - loss: 0.1106 - categorical_crossentropy: 0.110 - ETA: 29s - loss: 0.1099 - categorical_crossentropy: 0.109 - ETA: 29s - loss: 0.1076 - categorical_crossentropy: 0.107 - ETA: 29s - loss: 0.1056 - categorical_crossentropy: 0.105 - ETA: 28s - loss: 0.1055 - categorical_crossentropy: 0.105 - ETA: 28s - loss: 0.1066 - categorical_crossentropy: 0.106 - ETA: 28s - loss: 0.1045 - categorical_crossentropy: 0.104 - ETA: 28s - loss: 0.1023 - categorical_crossentropy: 0.102 - ETA: 27s - loss: 0.1004 - categorical_crossentropy: 0.100 - ETA: 27s - loss: 0.0984 - categorical_crossentropy: 0.098 - ETA: 27s - loss: 0.0964 - categorical_crossentropy: 0.096 - ETA: 27s - loss: 0.0999 - categorical_crossentropy: 0.099 - ETA: 26s - loss: 0.1036 - categorical_crossentropy: 0.103 - ETA: 26s - loss: 0.1026 - categorical_crossentropy: 0.102 - ETA: 26s - loss: 0.1017 - categorical_crossentropy: 0.101 - ETA: 25s - loss: 0.0998 - categorical_crossentropy: 0.099 - ETA: 25s - loss: 0.0991 - categorical_crossentropy: 0.099 - ETA: 25s - loss: 0.0974 - categorical_crossentropy: 0.097 - ETA: 25s - loss: 0.0958 - categorical_crossentropy: 0.095 - ETA: 24s - loss: 0.0948 - categorical_crossentropy: 0.094 - ETA: 24s - loss: 0.0948 - categorical_crossentropy: 0.094 - ETA: 24s - loss: 0.0979 - categorical_crossentropy: 0.097 - ETA: 24s - loss: 0.0970 - categorical_crossentropy: 0.097 - ETA: 23s - loss: 0.0955 - categorical_crossentropy: 0.095 - ETA: 23s - loss: 0.0942 - categorical_crossentropy: 0.094 - ETA: 23s - loss: 0.0928 - categorical_crossentropy: 0.092 - ETA: 22s - loss: 0.0927 - categorical_crossentropy: 0.092 - ETA: 22s - loss: 0.0934 - categorical_crossentropy: 0.093 - ETA: 22s - loss: 0.0938 - categorical_crossentropy: 0.093 - ETA: 22s - loss: 0.0939 - categorical_crossentropy: 0.093 - ETA: 21s - loss: 0.0933 - categorical_crossentropy: 0.093 - ETA: 21s - loss: 0.0930 - categorical_crossentropy: 0.093 - ETA: 21s - loss: 0.0932 - categorical_crossentropy: 0.093 - ETA: 21s - loss: 0.0920 - categorical_crossentropy: 0.092 - ETA: 20s - loss: 0.0916 - categorical_crossentropy: 0.091 - ETA: 20s - loss: 0.0913 - categorical_crossentropy: 0.091 - ETA: 20s - loss: 0.0905 - categorical_crossentropy: 0.090 - ETA: 20s - loss: 0.0922 - categorical_crossentropy: 0.092 - ETA: 19s - loss: 0.0913 - categorical_crossentropy: 0.091 - ETA: 19s - loss: 0.0911 - categorical_crossentropy: 0.091 - ETA: 19s - loss: 0.0900 - categorical_crossentropy: 0.090 - ETA: 18s - loss: 0.0898 - categorical_crossentropy: 0.089 - ETA: 18s - loss: 0.0906 - categorical_crossentropy: 0.090 - ETA: 18s - loss: 0.0897 - categorical_crossentropy: 0.089 - ETA: 18s - loss: 0.0887 - categorical_crossentropy: 0.088 - ETA: 17s - loss: 0.0894 - categorical_crossentropy: 0.089 - ETA: 17s - loss: 0.0892 - categorical_crossentropy: 0.089 - ETA: 17s - loss: 0.0882 - categorical_crossentropy: 0.088 - ETA: 17s - loss: 0.0873 - categorical_crossentropy: 0.087 - ETA: 16s - loss: 0.0865 - categorical_crossentropy: 0.086 - ETA: 16s - loss: 0.0857 - categorical_crossentropy: 0.085 - ETA: 16s - loss: 0.0864 - categorical_crossentropy: 0.086 - ETA: 15s - loss: 0.0874 - categorical_crossentropy: 0.087 - ETA: 15s - loss: 0.0864 - categorical_crossentropy: 0.086 - ETA: 15s - loss: 0.0860 - categorical_crossentropy: 0.086 - ETA: 15s - loss: 0.0851 - categorical_crossentropy: 0.085 - ETA: 14s - loss: 0.0858 - categorical_crossentropy: 0.085 - ETA: 14s - loss: 0.0867 - categorical_crossentropy: 0.086 - ETA: 14s - loss: 0.0869 - categorical_crossentropy: 0.086 - ETA: 14s - loss: 0.0876 - categorical_crossentropy: 0.087 - ETA: 13s - loss: 0.0871 - categorical_crossentropy: 0.087 - ETA: 13s - loss: 0.0868 - categorical_crossentropy: 0.086 - ETA: 13s - loss: 0.0862 - categorical_crossentropy: 0.086 - ETA: 13s - loss: 0.0858 - categorical_crossentropy: 0.085 - ETA: 12s - loss: 0.0849 - categorical_crossentropy: 0.084 - ETA: 12s - loss: 0.0857 - categorical_crossentropy: 0.085 - ETA: 12s - loss: 0.0855 - categorical_crossentropy: 0.085 - ETA: 11s - loss: 0.0850 - categorical_crossentropy: 0.085 - ETA: 11s - loss: 0.0842 - categorical_crossentropy: 0.084 - ETA: 11s - loss: 0.0837 - categorical_crossentropy: 0.083 - ETA: 11s - loss: 0.0834 - categorical_crossentropy: 0.083 - ETA: 10s - loss: 0.0834 - categorical_crossentropy: 0.083 - ETA: 10s - loss: 0.0829 - categorical_crossentropy: 0.082 - ETA: 10s - loss: 0.0824 - categorical_crossentropy: 0.082 - ETA: 10s - loss: 0.0823 - categorical_crossentropy: 0.082 - ETA: 9s - loss: 0.0827 - categorical_crossentropy: 0.082 - ETA: 9s - loss: 0.0834 - categorical_crossentropy: 0.08 - ETA: 9s - loss: 0.0829 - categorical_crossentropy: 0.08 - ETA: 9s - loss: 0.0824 - categorical_crossentropy: 0.08 - ETA: 8s - loss: 0.0836 - categorical_crossentropy: 0.08 - ETA: 8s - loss: 0.0833 - categorical_crossentropy: 0.08 - ETA: 8s - loss: 0.0828 - categorical_crossentropy: 0.08 - ETA: 7s - loss: 0.0822 - categorical_crossentropy: 0.08 - ETA: 7s - loss: 0.0815 - categorical_crossentropy: 0.08 - ETA: 7s - loss: 0.0810 - categorical_crossentropy: 0.08 - ETA: 7s - loss: 0.0817 - categorical_crossentropy: 0.08 - ETA: 6s - loss: 0.0811 - categorical_crossentropy: 0.08 - ETA: 6s - loss: 0.0804 - categorical_crossentropy: 0.08 - ETA: 6s - loss: 0.0811 - categorical_crossentropy: 0.08 - ETA: 6s - loss: 0.0806 - categorical_crossentropy: 0.08 - ETA: 5s - loss: 0.0831 - categorical_crossentropy: 0.08 - ETA: 5s - loss: 0.0832 - categorical_crossentropy: 0.08 - ETA: 5s - loss: 0.0833 - categorical_crossentropy: 0.08 - ETA: 4s - loss: 0.0841 - categorical_crossentropy: 0.08 - ETA: 4s - loss: 0.0846 - categorical_crossentropy: 0.08 - ETA: 4s - loss: 0.0860 - categorical_crossentropy: 0.08 - ETA: 4s - loss: 0.0865 - categorical_crossentropy: 0.08 - ETA: 3s - loss: 0.0868 - categorical_crossentropy: 0.08 - ETA: 3s - loss: 0.0862 - categorical_crossentropy: 0.0862"
     ]
    },
    {
     "name": "stdout",
     "output_type": "stream",
     "text": [
      "4816/4816 [==============================] - ETA: 3s - loss: 0.0867 - categorical_crossentropy: 0.08 - ETA: 3s - loss: 0.0863 - categorical_crossentropy: 0.08 - ETA: 2s - loss: 0.0860 - categorical_crossentropy: 0.08 - ETA: 2s - loss: 0.0854 - categorical_crossentropy: 0.08 - ETA: 2s - loss: 0.0858 - categorical_crossentropy: 0.08 - ETA: 2s - loss: 0.0854 - categorical_crossentropy: 0.08 - ETA: 1s - loss: 0.0850 - categorical_crossentropy: 0.08 - ETA: 1s - loss: 0.0847 - categorical_crossentropy: 0.08 - ETA: 1s - loss: 0.0848 - categorical_crossentropy: 0.08 - ETA: 0s - loss: 0.0843 - categorical_crossentropy: 0.08 - ETA: 0s - loss: 0.0839 - categorical_crossentropy: 0.08 - ETA: 0s - loss: 0.0838 - categorical_crossentropy: 0.08 - ETA: 0s - loss: 0.0837 - categorical_crossentropy: 0.08 - 41s 9ms/step - loss: 0.0835 - categorical_crossentropy: 0.0835 - val_loss: 4.4045 - val_categorical_crossentropy: 4.4045\n",
      "Epoch 15/30\n",
      "4384/4816 [==========================>...] - ETA: 37s - loss: 0.0864 - categorical_crossentropy: 0.086 - ETA: 38s - loss: 0.0546 - categorical_crossentropy: 0.054 - ETA: 38s - loss: 0.0382 - categorical_crossentropy: 0.038 - ETA: 38s - loss: 0.0520 - categorical_crossentropy: 0.052 - ETA: 38s - loss: 0.0419 - categorical_crossentropy: 0.041 - ETA: 37s - loss: 0.0603 - categorical_crossentropy: 0.060 - ETA: 38s - loss: 0.0716 - categorical_crossentropy: 0.071 - ETA: 37s - loss: 0.0652 - categorical_crossentropy: 0.065 - ETA: 37s - loss: 0.0609 - categorical_crossentropy: 0.060 - ETA: 37s - loss: 0.0579 - categorical_crossentropy: 0.057 - ETA: 37s - loss: 0.0588 - categorical_crossentropy: 0.058 - ETA: 37s - loss: 0.0550 - categorical_crossentropy: 0.055 - ETA: 36s - loss: 0.0626 - categorical_crossentropy: 0.062 - ETA: 36s - loss: 0.0717 - categorical_crossentropy: 0.071 - ETA: 36s - loss: 0.0670 - categorical_crossentropy: 0.067 - ETA: 35s - loss: 0.0693 - categorical_crossentropy: 0.069 - ETA: 35s - loss: 0.0653 - categorical_crossentropy: 0.065 - ETA: 35s - loss: 0.0619 - categorical_crossentropy: 0.061 - ETA: 35s - loss: 0.0603 - categorical_crossentropy: 0.060 - ETA: 34s - loss: 0.0663 - categorical_crossentropy: 0.066 - ETA: 34s - loss: 0.0728 - categorical_crossentropy: 0.072 - ETA: 34s - loss: 0.0753 - categorical_crossentropy: 0.075 - ETA: 34s - loss: 0.0786 - categorical_crossentropy: 0.078 - ETA: 33s - loss: 0.0805 - categorical_crossentropy: 0.080 - ETA: 33s - loss: 0.0828 - categorical_crossentropy: 0.082 - ETA: 33s - loss: 0.0910 - categorical_crossentropy: 0.091 - ETA: 33s - loss: 0.0895 - categorical_crossentropy: 0.089 - ETA: 32s - loss: 0.0864 - categorical_crossentropy: 0.086 - ETA: 32s - loss: 0.0836 - categorical_crossentropy: 0.083 - ETA: 32s - loss: 0.0815 - categorical_crossentropy: 0.081 - ETA: 32s - loss: 0.0842 - categorical_crossentropy: 0.084 - ETA: 31s - loss: 0.0823 - categorical_crossentropy: 0.082 - ETA: 31s - loss: 0.0846 - categorical_crossentropy: 0.084 - ETA: 31s - loss: 0.0821 - categorical_crossentropy: 0.082 - ETA: 30s - loss: 0.0850 - categorical_crossentropy: 0.085 - ETA: 30s - loss: 0.0864 - categorical_crossentropy: 0.086 - ETA: 30s - loss: 0.0851 - categorical_crossentropy: 0.085 - ETA: 30s - loss: 0.0829 - categorical_crossentropy: 0.082 - ETA: 29s - loss: 0.0864 - categorical_crossentropy: 0.086 - ETA: 29s - loss: 0.0879 - categorical_crossentropy: 0.087 - ETA: 29s - loss: 0.0876 - categorical_crossentropy: 0.087 - ETA: 29s - loss: 0.0864 - categorical_crossentropy: 0.086 - ETA: 28s - loss: 0.0890 - categorical_crossentropy: 0.089 - ETA: 28s - loss: 0.0876 - categorical_crossentropy: 0.087 - ETA: 28s - loss: 0.0863 - categorical_crossentropy: 0.086 - ETA: 28s - loss: 0.0883 - categorical_crossentropy: 0.088 - ETA: 27s - loss: 0.0889 - categorical_crossentropy: 0.088 - ETA: 27s - loss: 0.0874 - categorical_crossentropy: 0.087 - ETA: 27s - loss: 0.0857 - categorical_crossentropy: 0.085 - ETA: 26s - loss: 0.0849 - categorical_crossentropy: 0.084 - ETA: 26s - loss: 0.0884 - categorical_crossentropy: 0.088 - ETA: 26s - loss: 0.0881 - categorical_crossentropy: 0.088 - ETA: 26s - loss: 0.0882 - categorical_crossentropy: 0.088 - ETA: 25s - loss: 0.0866 - categorical_crossentropy: 0.086 - ETA: 25s - loss: 0.0875 - categorical_crossentropy: 0.087 - ETA: 25s - loss: 0.0863 - categorical_crossentropy: 0.086 - ETA: 25s - loss: 0.0881 - categorical_crossentropy: 0.088 - ETA: 24s - loss: 0.0880 - categorical_crossentropy: 0.088 - ETA: 24s - loss: 0.0866 - categorical_crossentropy: 0.086 - ETA: 24s - loss: 0.0873 - categorical_crossentropy: 0.087 - ETA: 23s - loss: 0.0870 - categorical_crossentropy: 0.087 - ETA: 23s - loss: 0.0865 - categorical_crossentropy: 0.086 - ETA: 23s - loss: 0.0892 - categorical_crossentropy: 0.089 - ETA: 23s - loss: 0.0887 - categorical_crossentropy: 0.088 - ETA: 22s - loss: 0.0898 - categorical_crossentropy: 0.089 - ETA: 22s - loss: 0.0900 - categorical_crossentropy: 0.090 - ETA: 22s - loss: 0.0906 - categorical_crossentropy: 0.090 - ETA: 22s - loss: 0.0896 - categorical_crossentropy: 0.089 - ETA: 21s - loss: 0.0884 - categorical_crossentropy: 0.088 - ETA: 21s - loss: 0.0875 - categorical_crossentropy: 0.087 - ETA: 21s - loss: 0.0923 - categorical_crossentropy: 0.092 - ETA: 21s - loss: 0.0919 - categorical_crossentropy: 0.091 - ETA: 20s - loss: 0.0911 - categorical_crossentropy: 0.091 - ETA: 20s - loss: 0.0900 - categorical_crossentropy: 0.090 - ETA: 20s - loss: 0.0955 - categorical_crossentropy: 0.095 - ETA: 20s - loss: 0.0948 - categorical_crossentropy: 0.094 - ETA: 19s - loss: 0.0954 - categorical_crossentropy: 0.095 - ETA: 19s - loss: 0.0966 - categorical_crossentropy: 0.096 - ETA: 19s - loss: 0.0969 - categorical_crossentropy: 0.096 - ETA: 19s - loss: 0.0977 - categorical_crossentropy: 0.097 - ETA: 18s - loss: 0.0972 - categorical_crossentropy: 0.097 - ETA: 18s - loss: 0.0965 - categorical_crossentropy: 0.096 - ETA: 18s - loss: 0.0957 - categorical_crossentropy: 0.095 - ETA: 17s - loss: 0.0958 - categorical_crossentropy: 0.095 - ETA: 17s - loss: 0.0947 - categorical_crossentropy: 0.094 - ETA: 17s - loss: 0.0966 - categorical_crossentropy: 0.096 - ETA: 17s - loss: 0.0958 - categorical_crossentropy: 0.095 - ETA: 16s - loss: 0.0975 - categorical_crossentropy: 0.097 - ETA: 16s - loss: 0.0968 - categorical_crossentropy: 0.096 - ETA: 16s - loss: 0.0985 - categorical_crossentropy: 0.098 - ETA: 16s - loss: 0.1000 - categorical_crossentropy: 0.100 - ETA: 15s - loss: 0.0996 - categorical_crossentropy: 0.099 - ETA: 15s - loss: 0.0986 - categorical_crossentropy: 0.098 - ETA: 15s - loss: 0.1006 - categorical_crossentropy: 0.100 - ETA: 14s - loss: 0.1071 - categorical_crossentropy: 0.107 - ETA: 14s - loss: 0.1060 - categorical_crossentropy: 0.106 - ETA: 14s - loss: 0.1052 - categorical_crossentropy: 0.105 - ETA: 14s - loss: 0.1044 - categorical_crossentropy: 0.104 - ETA: 13s - loss: 0.1033 - categorical_crossentropy: 0.103 - ETA: 13s - loss: 0.1028 - categorical_crossentropy: 0.102 - ETA: 13s - loss: 0.1023 - categorical_crossentropy: 0.102 - ETA: 13s - loss: 0.1015 - categorical_crossentropy: 0.101 - ETA: 12s - loss: 0.1005 - categorical_crossentropy: 0.100 - ETA: 12s - loss: 0.1045 - categorical_crossentropy: 0.104 - ETA: 12s - loss: 0.1043 - categorical_crossentropy: 0.104 - ETA: 12s - loss: 0.1041 - categorical_crossentropy: 0.104 - ETA: 11s - loss: 0.1079 - categorical_crossentropy: 0.107 - ETA: 11s - loss: 0.1081 - categorical_crossentropy: 0.108 - ETA: 11s - loss: 0.1090 - categorical_crossentropy: 0.109 - ETA: 10s - loss: 0.1085 - categorical_crossentropy: 0.108 - ETA: 10s - loss: 0.1082 - categorical_crossentropy: 0.108 - ETA: 10s - loss: 0.1082 - categorical_crossentropy: 0.108 - ETA: 10s - loss: 0.1087 - categorical_crossentropy: 0.108 - ETA: 9s - loss: 0.1096 - categorical_crossentropy: 0.109 - ETA: 9s - loss: 0.1094 - categorical_crossentropy: 0.10 - ETA: 9s - loss: 0.1099 - categorical_crossentropy: 0.10 - ETA: 9s - loss: 0.1101 - categorical_crossentropy: 0.11 - ETA: 8s - loss: 0.1092 - categorical_crossentropy: 0.10 - ETA: 8s - loss: 0.1085 - categorical_crossentropy: 0.10 - ETA: 8s - loss: 0.1078 - categorical_crossentropy: 0.10 - ETA: 7s - loss: 0.1085 - categorical_crossentropy: 0.10 - ETA: 7s - loss: 0.1089 - categorical_crossentropy: 0.10 - ETA: 7s - loss: 0.1084 - categorical_crossentropy: 0.10 - ETA: 7s - loss: 0.1080 - categorical_crossentropy: 0.10 - ETA: 6s - loss: 0.1082 - categorical_crossentropy: 0.10 - ETA: 6s - loss: 0.1076 - categorical_crossentropy: 0.10 - ETA: 6s - loss: 0.1068 - categorical_crossentropy: 0.10 - ETA: 6s - loss: 0.1072 - categorical_crossentropy: 0.10 - ETA: 5s - loss: 0.1064 - categorical_crossentropy: 0.10 - ETA: 5s - loss: 0.1056 - categorical_crossentropy: 0.10 - ETA: 5s - loss: 0.1058 - categorical_crossentropy: 0.10 - ETA: 4s - loss: 0.1050 - categorical_crossentropy: 0.10 - ETA: 4s - loss: 0.1050 - categorical_crossentropy: 0.10 - ETA: 4s - loss: 0.1058 - categorical_crossentropy: 0.10 - ETA: 4s - loss: 0.1068 - categorical_crossentropy: 0.10 - ETA: 3s - loss: 0.1061 - categorical_crossentropy: 0.10 - ETA: 3s - loss: 0.1059 - categorical_crossentropy: 0.10594816/4816 [==============================] - ETA: 3s - loss: 0.1063 - categorical_crossentropy: 0.10 - ETA: 3s - loss: 0.1057 - categorical_crossentropy: 0.10 - ETA: 2s - loss: 0.1052 - categorical_crossentropy: 0.10 - ETA: 2s - loss: 0.1046 - categorical_crossentropy: 0.10 - ETA: 2s - loss: 0.1040 - categorical_crossentropy: 0.10 - ETA: 2s - loss: 0.1046 - categorical_crossentropy: 0.10 - ETA: 1s - loss: 0.1039 - categorical_crossentropy: 0.10 - ETA: 1s - loss: 0.1032 - categorical_crossentropy: 0.10 - ETA: 1s - loss: 0.1035 - categorical_crossentropy: 0.10 - ETA: 0s - loss: 0.1029 - categorical_crossentropy: 0.10 - ETA: 0s - loss: 0.1022 - categorical_crossentropy: 0.10 - ETA: 0s - loss: 0.1028 - categorical_crossentropy: 0.10 - ETA: 0s - loss: 0.1021 - categorical_crossentropy: 0.10 - 41s 9ms/step - loss: 0.1019 - categorical_crossentropy: 0.1019 - val_loss: 4.0696 - val_categorical_crossentropy: 4.0696\n",
      "Epoch 16/30\n"
     ]
    },
    {
     "name": "stdout",
     "output_type": "stream",
     "text": [
      "4384/4816 [==========================>...] - ETA: 39s - loss: 0.0028 - categorical_crossentropy: 0.002 - ETA: 38s - loss: 0.0261 - categorical_crossentropy: 0.026 - ETA: 38s - loss: 0.0177 - categorical_crossentropy: 0.017 - ETA: 38s - loss: 0.0612 - categorical_crossentropy: 0.061 - ETA: 39s - loss: 0.0563 - categorical_crossentropy: 0.056 - ETA: 38s - loss: 0.0644 - categorical_crossentropy: 0.064 - ETA: 38s - loss: 0.1171 - categorical_crossentropy: 0.117 - ETA: 38s - loss: 0.1026 - categorical_crossentropy: 0.102 - ETA: 37s - loss: 0.0925 - categorical_crossentropy: 0.092 - ETA: 37s - loss: 0.0973 - categorical_crossentropy: 0.097 - ETA: 37s - loss: 0.0885 - categorical_crossentropy: 0.088 - ETA: 37s - loss: 0.0848 - categorical_crossentropy: 0.084 - ETA: 36s - loss: 0.0784 - categorical_crossentropy: 0.078 - ETA: 36s - loss: 0.1023 - categorical_crossentropy: 0.102 - ETA: 36s - loss: 0.1008 - categorical_crossentropy: 0.100 - ETA: 36s - loss: 0.1016 - categorical_crossentropy: 0.101 - ETA: 36s - loss: 0.0957 - categorical_crossentropy: 0.095 - ETA: 35s - loss: 0.0905 - categorical_crossentropy: 0.090 - ETA: 35s - loss: 0.0942 - categorical_crossentropy: 0.094 - ETA: 35s - loss: 0.0897 - categorical_crossentropy: 0.089 - ETA: 34s - loss: 0.0866 - categorical_crossentropy: 0.086 - ETA: 34s - loss: 0.0827 - categorical_crossentropy: 0.082 - ETA: 34s - loss: 0.0797 - categorical_crossentropy: 0.079 - ETA: 34s - loss: 0.0766 - categorical_crossentropy: 0.076 - ETA: 33s - loss: 0.0782 - categorical_crossentropy: 0.078 - ETA: 33s - loss: 0.0840 - categorical_crossentropy: 0.084 - ETA: 33s - loss: 0.0818 - categorical_crossentropy: 0.081 - ETA: 33s - loss: 0.0802 - categorical_crossentropy: 0.080 - ETA: 32s - loss: 0.0831 - categorical_crossentropy: 0.083 - ETA: 32s - loss: 0.0804 - categorical_crossentropy: 0.080 - ETA: 32s - loss: 0.0778 - categorical_crossentropy: 0.077 - ETA: 31s - loss: 0.0758 - categorical_crossentropy: 0.075 - ETA: 31s - loss: 0.0797 - categorical_crossentropy: 0.079 - ETA: 31s - loss: 0.0778 - categorical_crossentropy: 0.077 - ETA: 31s - loss: 0.0782 - categorical_crossentropy: 0.078 - ETA: 30s - loss: 0.0786 - categorical_crossentropy: 0.078 - ETA: 30s - loss: 0.0812 - categorical_crossentropy: 0.081 - ETA: 30s - loss: 0.0795 - categorical_crossentropy: 0.079 - ETA: 30s - loss: 0.0775 - categorical_crossentropy: 0.077 - ETA: 29s - loss: 0.0756 - categorical_crossentropy: 0.075 - ETA: 29s - loss: 0.0744 - categorical_crossentropy: 0.074 - ETA: 29s - loss: 0.0767 - categorical_crossentropy: 0.076 - ETA: 28s - loss: 0.0756 - categorical_crossentropy: 0.075 - ETA: 28s - loss: 0.0774 - categorical_crossentropy: 0.077 - ETA: 28s - loss: 0.0766 - categorical_crossentropy: 0.076 - ETA: 28s - loss: 0.0752 - categorical_crossentropy: 0.075 - ETA: 27s - loss: 0.0766 - categorical_crossentropy: 0.076 - ETA: 27s - loss: 0.0761 - categorical_crossentropy: 0.076 - ETA: 27s - loss: 0.0748 - categorical_crossentropy: 0.074 - ETA: 27s - loss: 0.0733 - categorical_crossentropy: 0.073 - ETA: 26s - loss: 0.0738 - categorical_crossentropy: 0.073 - ETA: 26s - loss: 0.0731 - categorical_crossentropy: 0.073 - ETA: 26s - loss: 0.0719 - categorical_crossentropy: 0.071 - ETA: 25s - loss: 0.0725 - categorical_crossentropy: 0.072 - ETA: 25s - loss: 0.0722 - categorical_crossentropy: 0.072 - ETA: 25s - loss: 0.0752 - categorical_crossentropy: 0.075 - ETA: 25s - loss: 0.0773 - categorical_crossentropy: 0.077 - ETA: 24s - loss: 0.0765 - categorical_crossentropy: 0.076 - ETA: 24s - loss: 0.0752 - categorical_crossentropy: 0.075 - ETA: 24s - loss: 0.0758 - categorical_crossentropy: 0.075 - ETA: 24s - loss: 0.0774 - categorical_crossentropy: 0.077 - ETA: 23s - loss: 0.0766 - categorical_crossentropy: 0.076 - ETA: 23s - loss: 0.0754 - categorical_crossentropy: 0.075 - ETA: 23s - loss: 0.0758 - categorical_crossentropy: 0.075 - ETA: 23s - loss: 0.0758 - categorical_crossentropy: 0.075 - ETA: 22s - loss: 0.0751 - categorical_crossentropy: 0.075 - ETA: 22s - loss: 0.0745 - categorical_crossentropy: 0.074 - ETA: 22s - loss: 0.0772 - categorical_crossentropy: 0.077 - ETA: 21s - loss: 0.0784 - categorical_crossentropy: 0.078 - ETA: 21s - loss: 0.0799 - categorical_crossentropy: 0.079 - ETA: 21s - loss: 0.0795 - categorical_crossentropy: 0.079 - ETA: 21s - loss: 0.0784 - categorical_crossentropy: 0.078 - ETA: 20s - loss: 0.0795 - categorical_crossentropy: 0.079 - ETA: 20s - loss: 0.0792 - categorical_crossentropy: 0.079 - ETA: 20s - loss: 0.0816 - categorical_crossentropy: 0.081 - ETA: 20s - loss: 0.0815 - categorical_crossentropy: 0.081 - ETA: 19s - loss: 0.0805 - categorical_crossentropy: 0.080 - ETA: 19s - loss: 0.0797 - categorical_crossentropy: 0.079 - ETA: 19s - loss: 0.0854 - categorical_crossentropy: 0.085 - ETA: 18s - loss: 0.0844 - categorical_crossentropy: 0.084 - ETA: 18s - loss: 0.0854 - categorical_crossentropy: 0.085 - ETA: 18s - loss: 0.0844 - categorical_crossentropy: 0.084 - ETA: 18s - loss: 0.0834 - categorical_crossentropy: 0.083 - ETA: 17s - loss: 0.0864 - categorical_crossentropy: 0.086 - ETA: 17s - loss: 0.0860 - categorical_crossentropy: 0.086 - ETA: 17s - loss: 0.0905 - categorical_crossentropy: 0.090 - ETA: 17s - loss: 0.0899 - categorical_crossentropy: 0.089 - ETA: 16s - loss: 0.0889 - categorical_crossentropy: 0.088 - ETA: 16s - loss: 0.0882 - categorical_crossentropy: 0.088 - ETA: 16s - loss: 0.0873 - categorical_crossentropy: 0.087 - ETA: 16s - loss: 0.0867 - categorical_crossentropy: 0.086 - ETA: 15s - loss: 0.0875 - categorical_crossentropy: 0.087 - ETA: 15s - loss: 0.0873 - categorical_crossentropy: 0.087 - ETA: 15s - loss: 0.0868 - categorical_crossentropy: 0.086 - ETA: 14s - loss: 0.0867 - categorical_crossentropy: 0.086 - ETA: 14s - loss: 0.0859 - categorical_crossentropy: 0.085 - ETA: 14s - loss: 0.0850 - categorical_crossentropy: 0.085 - ETA: 14s - loss: 0.0860 - categorical_crossentropy: 0.086 - ETA: 13s - loss: 0.0855 - categorical_crossentropy: 0.085 - ETA: 13s - loss: 0.0855 - categorical_crossentropy: 0.085 - ETA: 13s - loss: 0.0856 - categorical_crossentropy: 0.085 - ETA: 13s - loss: 0.0848 - categorical_crossentropy: 0.084 - ETA: 12s - loss: 0.0839 - categorical_crossentropy: 0.083 - ETA: 12s - loss: 0.0839 - categorical_crossentropy: 0.083 - ETA: 12s - loss: 0.0833 - categorical_crossentropy: 0.083 - ETA: 11s - loss: 0.0835 - categorical_crossentropy: 0.083 - ETA: 11s - loss: 0.0829 - categorical_crossentropy: 0.082 - ETA: 11s - loss: 0.0843 - categorical_crossentropy: 0.084 - ETA: 11s - loss: 0.0837 - categorical_crossentropy: 0.083 - ETA: 10s - loss: 0.0835 - categorical_crossentropy: 0.083 - ETA: 10s - loss: 0.0829 - categorical_crossentropy: 0.082 - ETA: 10s - loss: 0.0832 - categorical_crossentropy: 0.083 - ETA: 10s - loss: 0.0830 - categorical_crossentropy: 0.083 - ETA: 9s - loss: 0.0827 - categorical_crossentropy: 0.082 - ETA: 9s - loss: 0.0820 - categorical_crossentropy: 0.08 - ETA: 9s - loss: 0.0815 - categorical_crossentropy: 0.08 - ETA: 9s - loss: 0.0822 - categorical_crossentropy: 0.08 - ETA: 8s - loss: 0.0816 - categorical_crossentropy: 0.08 - ETA: 8s - loss: 0.0810 - categorical_crossentropy: 0.08 - ETA: 8s - loss: 0.0817 - categorical_crossentropy: 0.08 - ETA: 7s - loss: 0.0817 - categorical_crossentropy: 0.08 - ETA: 7s - loss: 0.0812 - categorical_crossentropy: 0.08 - ETA: 7s - loss: 0.0827 - categorical_crossentropy: 0.08 - ETA: 7s - loss: 0.0821 - categorical_crossentropy: 0.08 - ETA: 6s - loss: 0.0816 - categorical_crossentropy: 0.08 - ETA: 6s - loss: 0.0812 - categorical_crossentropy: 0.08 - ETA: 6s - loss: 0.0818 - categorical_crossentropy: 0.08 - ETA: 6s - loss: 0.0858 - categorical_crossentropy: 0.08 - ETA: 5s - loss: 0.0881 - categorical_crossentropy: 0.08 - ETA: 5s - loss: 0.0876 - categorical_crossentropy: 0.08 - ETA: 5s - loss: 0.0928 - categorical_crossentropy: 0.09 - ETA: 4s - loss: 0.0930 - categorical_crossentropy: 0.09 - ETA: 4s - loss: 0.0923 - categorical_crossentropy: 0.09 - ETA: 4s - loss: 0.0929 - categorical_crossentropy: 0.09 - ETA: 4s - loss: 0.0923 - categorical_crossentropy: 0.09 - ETA: 3s - loss: 0.0925 - categorical_crossentropy: 0.09 - ETA: 3s - loss: 0.0923 - categorical_crossentropy: 0.0923"
     ]
    },
    {
     "name": "stdout",
     "output_type": "stream",
     "text": [
      "4816/4816 [==============================] - ETA: 3s - loss: 0.0925 - categorical_crossentropy: 0.09 - ETA: 3s - loss: 0.0928 - categorical_crossentropy: 0.09 - ETA: 2s - loss: 0.0922 - categorical_crossentropy: 0.09 - ETA: 2s - loss: 0.0917 - categorical_crossentropy: 0.09 - ETA: 2s - loss: 0.0916 - categorical_crossentropy: 0.09 - ETA: 2s - loss: 0.0913 - categorical_crossentropy: 0.09 - ETA: 1s - loss: 0.0914 - categorical_crossentropy: 0.09 - ETA: 1s - loss: 0.0920 - categorical_crossentropy: 0.09 - ETA: 1s - loss: 0.0923 - categorical_crossentropy: 0.09 - ETA: 0s - loss: 0.0937 - categorical_crossentropy: 0.09 - ETA: 0s - loss: 0.0945 - categorical_crossentropy: 0.09 - ETA: 0s - loss: 0.0940 - categorical_crossentropy: 0.09 - ETA: 0s - loss: 0.0943 - categorical_crossentropy: 0.09 - 41s 9ms/step - loss: 0.0944 - categorical_crossentropy: 0.0944 - val_loss: 4.6920 - val_categorical_crossentropy: 4.6920\n",
      "Epoch 17/30\n",
      "4384/4816 [==========================>...] - ETA: 39s - loss: 0.1488 - categorical_crossentropy: 0.148 - ETA: 39s - loss: 0.0864 - categorical_crossentropy: 0.086 - ETA: 39s - loss: 0.1688 - categorical_crossentropy: 0.168 - ETA: 38s - loss: 0.1331 - categorical_crossentropy: 0.133 - ETA: 38s - loss: 0.1066 - categorical_crossentropy: 0.106 - ETA: 38s - loss: 0.0910 - categorical_crossentropy: 0.091 - ETA: 38s - loss: 0.1042 - categorical_crossentropy: 0.104 - ETA: 38s - loss: 0.1011 - categorical_crossentropy: 0.101 - ETA: 38s - loss: 0.1214 - categorical_crossentropy: 0.121 - ETA: 37s - loss: 0.1098 - categorical_crossentropy: 0.109 - ETA: 37s - loss: 0.1021 - categorical_crossentropy: 0.102 - ETA: 37s - loss: 0.1052 - categorical_crossentropy: 0.105 - ETA: 37s - loss: 0.1490 - categorical_crossentropy: 0.149 - ETA: 36s - loss: 0.1524 - categorical_crossentropy: 0.152 - ETA: 36s - loss: 0.1484 - categorical_crossentropy: 0.148 - ETA: 36s - loss: 0.1493 - categorical_crossentropy: 0.149 - ETA: 36s - loss: 0.1424 - categorical_crossentropy: 0.142 - ETA: 35s - loss: 0.1374 - categorical_crossentropy: 0.137 - ETA: 35s - loss: 0.1310 - categorical_crossentropy: 0.131 - ETA: 35s - loss: 0.1310 - categorical_crossentropy: 0.131 - ETA: 34s - loss: 0.1258 - categorical_crossentropy: 0.125 - ETA: 34s - loss: 0.1206 - categorical_crossentropy: 0.120 - ETA: 34s - loss: 0.1194 - categorical_crossentropy: 0.119 - ETA: 34s - loss: 0.1159 - categorical_crossentropy: 0.115 - ETA: 33s - loss: 0.1141 - categorical_crossentropy: 0.114 - ETA: 33s - loss: 0.1238 - categorical_crossentropy: 0.123 - ETA: 33s - loss: 0.1208 - categorical_crossentropy: 0.120 - ETA: 33s - loss: 0.1187 - categorical_crossentropy: 0.118 - ETA: 32s - loss: 0.1147 - categorical_crossentropy: 0.114 - ETA: 32s - loss: 0.1126 - categorical_crossentropy: 0.112 - ETA: 32s - loss: 0.1136 - categorical_crossentropy: 0.113 - ETA: 31s - loss: 0.1233 - categorical_crossentropy: 0.123 - ETA: 31s - loss: 0.1349 - categorical_crossentropy: 0.134 - ETA: 31s - loss: 0.1325 - categorical_crossentropy: 0.132 - ETA: 31s - loss: 0.1327 - categorical_crossentropy: 0.132 - ETA: 30s - loss: 0.1291 - categorical_crossentropy: 0.129 - ETA: 30s - loss: 0.1282 - categorical_crossentropy: 0.128 - ETA: 30s - loss: 0.1250 - categorical_crossentropy: 0.125 - ETA: 30s - loss: 0.1238 - categorical_crossentropy: 0.123 - ETA: 29s - loss: 0.1242 - categorical_crossentropy: 0.124 - ETA: 29s - loss: 0.1229 - categorical_crossentropy: 0.122 - ETA: 29s - loss: 0.1202 - categorical_crossentropy: 0.120 - ETA: 28s - loss: 0.1224 - categorical_crossentropy: 0.122 - ETA: 28s - loss: 0.1229 - categorical_crossentropy: 0.122 - ETA: 28s - loss: 0.1234 - categorical_crossentropy: 0.123 - ETA: 28s - loss: 0.1228 - categorical_crossentropy: 0.122 - ETA: 27s - loss: 0.1266 - categorical_crossentropy: 0.126 - ETA: 27s - loss: 0.1291 - categorical_crossentropy: 0.129 - ETA: 27s - loss: 0.1343 - categorical_crossentropy: 0.134 - ETA: 27s - loss: 0.1324 - categorical_crossentropy: 0.132 - ETA: 26s - loss: 0.1298 - categorical_crossentropy: 0.129 - ETA: 26s - loss: 0.1287 - categorical_crossentropy: 0.128 - ETA: 26s - loss: 0.1287 - categorical_crossentropy: 0.128 - ETA: 25s - loss: 0.1268 - categorical_crossentropy: 0.126 - ETA: 25s - loss: 0.1247 - categorical_crossentropy: 0.124 - ETA: 25s - loss: 0.1303 - categorical_crossentropy: 0.130 - ETA: 25s - loss: 0.1281 - categorical_crossentropy: 0.128 - ETA: 24s - loss: 0.1264 - categorical_crossentropy: 0.126 - ETA: 24s - loss: 0.1253 - categorical_crossentropy: 0.125 - ETA: 24s - loss: 0.1250 - categorical_crossentropy: 0.125 - ETA: 24s - loss: 0.1314 - categorical_crossentropy: 0.131 - ETA: 23s - loss: 0.1302 - categorical_crossentropy: 0.130 - ETA: 23s - loss: 0.1285 - categorical_crossentropy: 0.128 - ETA: 23s - loss: 0.1291 - categorical_crossentropy: 0.129 - ETA: 22s - loss: 0.1272 - categorical_crossentropy: 0.127 - ETA: 22s - loss: 0.1271 - categorical_crossentropy: 0.127 - ETA: 22s - loss: 0.1260 - categorical_crossentropy: 0.126 - ETA: 22s - loss: 0.1273 - categorical_crossentropy: 0.127 - ETA: 21s - loss: 0.1284 - categorical_crossentropy: 0.128 - ETA: 21s - loss: 0.1270 - categorical_crossentropy: 0.127 - ETA: 21s - loss: 0.1273 - categorical_crossentropy: 0.127 - ETA: 21s - loss: 0.1284 - categorical_crossentropy: 0.128 - ETA: 20s - loss: 0.1297 - categorical_crossentropy: 0.129 - ETA: 20s - loss: 0.1282 - categorical_crossentropy: 0.128 - ETA: 20s - loss: 0.1272 - categorical_crossentropy: 0.127 - ETA: 20s - loss: 0.1256 - categorical_crossentropy: 0.125 - ETA: 19s - loss: 0.1251 - categorical_crossentropy: 0.125 - ETA: 19s - loss: 0.1243 - categorical_crossentropy: 0.124 - ETA: 19s - loss: 0.1227 - categorical_crossentropy: 0.122 - ETA: 18s - loss: 0.1218 - categorical_crossentropy: 0.121 - ETA: 18s - loss: 0.1206 - categorical_crossentropy: 0.120 - ETA: 18s - loss: 0.1201 - categorical_crossentropy: 0.120 - ETA: 18s - loss: 0.1189 - categorical_crossentropy: 0.118 - ETA: 17s - loss: 0.1201 - categorical_crossentropy: 0.120 - ETA: 17s - loss: 0.1201 - categorical_crossentropy: 0.120 - ETA: 17s - loss: 0.1191 - categorical_crossentropy: 0.119 - ETA: 17s - loss: 0.1247 - categorical_crossentropy: 0.124 - ETA: 16s - loss: 0.1245 - categorical_crossentropy: 0.124 - ETA: 16s - loss: 0.1231 - categorical_crossentropy: 0.123 - ETA: 16s - loss: 0.1220 - categorical_crossentropy: 0.122 - ETA: 15s - loss: 0.1206 - categorical_crossentropy: 0.120 - ETA: 15s - loss: 0.1210 - categorical_crossentropy: 0.121 - ETA: 15s - loss: 0.1199 - categorical_crossentropy: 0.119 - ETA: 15s - loss: 0.1186 - categorical_crossentropy: 0.118 - ETA: 14s - loss: 0.1181 - categorical_crossentropy: 0.118 - ETA: 14s - loss: 0.1170 - categorical_crossentropy: 0.117 - ETA: 14s - loss: 0.1180 - categorical_crossentropy: 0.118 - ETA: 14s - loss: 0.1169 - categorical_crossentropy: 0.116 - ETA: 13s - loss: 0.1158 - categorical_crossentropy: 0.115 - ETA: 13s - loss: 0.1147 - categorical_crossentropy: 0.114 - ETA: 13s - loss: 0.1149 - categorical_crossentropy: 0.114 - ETA: 13s - loss: 0.1138 - categorical_crossentropy: 0.113 - ETA: 12s - loss: 0.1135 - categorical_crossentropy: 0.113 - ETA: 12s - loss: 0.1131 - categorical_crossentropy: 0.113 - ETA: 12s - loss: 0.1122 - categorical_crossentropy: 0.112 - ETA: 11s - loss: 0.1122 - categorical_crossentropy: 0.112 - ETA: 11s - loss: 0.1113 - categorical_crossentropy: 0.111 - ETA: 11s - loss: 0.1103 - categorical_crossentropy: 0.110 - ETA: 11s - loss: 0.1103 - categorical_crossentropy: 0.110 - ETA: 10s - loss: 0.1093 - categorical_crossentropy: 0.109 - ETA: 10s - loss: 0.1112 - categorical_crossentropy: 0.111 - ETA: 10s - loss: 0.1113 - categorical_crossentropy: 0.111 - ETA: 10s - loss: 0.1124 - categorical_crossentropy: 0.112 - ETA: 9s - loss: 0.1136 - categorical_crossentropy: 0.113 - ETA: 9s - loss: 0.1135 - categorical_crossentropy: 0.11 - ETA: 9s - loss: 0.1126 - categorical_crossentropy: 0.11 - ETA: 9s - loss: 0.1116 - categorical_crossentropy: 0.11 - ETA: 8s - loss: 0.1108 - categorical_crossentropy: 0.11 - ETA: 8s - loss: 0.1101 - categorical_crossentropy: 0.11 - ETA: 8s - loss: 0.1097 - categorical_crossentropy: 0.10 - ETA: 7s - loss: 0.1095 - categorical_crossentropy: 0.10 - ETA: 7s - loss: 0.1088 - categorical_crossentropy: 0.10 - ETA: 7s - loss: 0.1091 - categorical_crossentropy: 0.10 - ETA: 7s - loss: 0.1090 - categorical_crossentropy: 0.10 - ETA: 6s - loss: 0.1106 - categorical_crossentropy: 0.11 - ETA: 6s - loss: 0.1111 - categorical_crossentropy: 0.11 - ETA: 6s - loss: 0.1112 - categorical_crossentropy: 0.11 - ETA: 6s - loss: 0.1105 - categorical_crossentropy: 0.11 - ETA: 5s - loss: 0.1109 - categorical_crossentropy: 0.11 - ETA: 5s - loss: 0.1108 - categorical_crossentropy: 0.11 - ETA: 5s - loss: 0.1101 - categorical_crossentropy: 0.11 - ETA: 4s - loss: 0.1099 - categorical_crossentropy: 0.10 - ETA: 4s - loss: 0.1092 - categorical_crossentropy: 0.10 - ETA: 4s - loss: 0.1087 - categorical_crossentropy: 0.10 - ETA: 4s - loss: 0.1118 - categorical_crossentropy: 0.11 - ETA: 3s - loss: 0.1110 - categorical_crossentropy: 0.11 - ETA: 3s - loss: 0.1118 - categorical_crossentropy: 0.11184816/4816 [==============================] - ETA: 3s - loss: 0.1115 - categorical_crossentropy: 0.11 - ETA: 3s - loss: 0.1113 - categorical_crossentropy: 0.11 - ETA: 2s - loss: 0.1112 - categorical_crossentropy: 0.11 - ETA: 2s - loss: 0.1112 - categorical_crossentropy: 0.11 - ETA: 2s - loss: 0.1125 - categorical_crossentropy: 0.11 - ETA: 2s - loss: 0.1136 - categorical_crossentropy: 0.11 - ETA: 1s - loss: 0.1129 - categorical_crossentropy: 0.11 - ETA: 1s - loss: 0.1135 - categorical_crossentropy: 0.11 - ETA: 1s - loss: 0.1130 - categorical_crossentropy: 0.11 - ETA: 0s - loss: 0.1156 - categorical_crossentropy: 0.11 - ETA: 0s - loss: 0.1165 - categorical_crossentropy: 0.11 - ETA: 0s - loss: 0.1171 - categorical_crossentropy: 0.11 - ETA: 0s - loss: 0.1176 - categorical_crossentropy: 0.11 - 41s 9ms/step - loss: 0.1173 - categorical_crossentropy: 0.1173 - val_loss: 5.3531 - val_categorical_crossentropy: 5.3531\n",
      "Epoch 18/30\n"
     ]
    },
    {
     "name": "stdout",
     "output_type": "stream",
     "text": [
      "4384/4816 [==========================>...] - ETA: 37s - loss: 0.0888 - categorical_crossentropy: 0.088 - ETA: 38s - loss: 0.0529 - categorical_crossentropy: 0.052 - ETA: 38s - loss: 0.0355 - categorical_crossentropy: 0.035 - ETA: 38s - loss: 0.0497 - categorical_crossentropy: 0.049 - ETA: 38s - loss: 0.0677 - categorical_crossentropy: 0.067 - ETA: 38s - loss: 0.0583 - categorical_crossentropy: 0.058 - ETA: 38s - loss: 0.1132 - categorical_crossentropy: 0.113 - ETA: 38s - loss: 0.0994 - categorical_crossentropy: 0.099 - ETA: 37s - loss: 0.0961 - categorical_crossentropy: 0.096 - ETA: 37s - loss: 0.0969 - categorical_crossentropy: 0.096 - ETA: 37s - loss: 0.1123 - categorical_crossentropy: 0.112 - ETA: 36s - loss: 0.1049 - categorical_crossentropy: 0.104 - ETA: 36s - loss: 0.1116 - categorical_crossentropy: 0.111 - ETA: 36s - loss: 0.1169 - categorical_crossentropy: 0.116 - ETA: 36s - loss: 0.1116 - categorical_crossentropy: 0.111 - ETA: 35s - loss: 0.1050 - categorical_crossentropy: 0.105 - ETA: 35s - loss: 0.1078 - categorical_crossentropy: 0.107 - ETA: 35s - loss: 0.1094 - categorical_crossentropy: 0.109 - ETA: 35s - loss: 0.1104 - categorical_crossentropy: 0.110 - ETA: 34s - loss: 0.1060 - categorical_crossentropy: 0.106 - ETA: 34s - loss: 0.1192 - categorical_crossentropy: 0.119 - ETA: 34s - loss: 0.1194 - categorical_crossentropy: 0.119 - ETA: 34s - loss: 0.1234 - categorical_crossentropy: 0.123 - ETA: 33s - loss: 0.1194 - categorical_crossentropy: 0.119 - ETA: 33s - loss: 0.1300 - categorical_crossentropy: 0.130 - ETA: 33s - loss: 0.1304 - categorical_crossentropy: 0.130 - ETA: 33s - loss: 0.1304 - categorical_crossentropy: 0.130 - ETA: 32s - loss: 0.1333 - categorical_crossentropy: 0.133 - ETA: 32s - loss: 0.1348 - categorical_crossentropy: 0.134 - ETA: 32s - loss: 0.1379 - categorical_crossentropy: 0.137 - ETA: 31s - loss: 0.1364 - categorical_crossentropy: 0.136 - ETA: 31s - loss: 0.1435 - categorical_crossentropy: 0.143 - ETA: 31s - loss: 0.1515 - categorical_crossentropy: 0.151 - ETA: 31s - loss: 0.1512 - categorical_crossentropy: 0.151 - ETA: 30s - loss: 0.1499 - categorical_crossentropy: 0.149 - ETA: 30s - loss: 0.1541 - categorical_crossentropy: 0.154 - ETA: 30s - loss: 0.1585 - categorical_crossentropy: 0.158 - ETA: 30s - loss: 0.1549 - categorical_crossentropy: 0.154 - ETA: 30s - loss: 0.1520 - categorical_crossentropy: 0.152 - ETA: 29s - loss: 0.1527 - categorical_crossentropy: 0.152 - ETA: 29s - loss: 0.1571 - categorical_crossentropy: 0.157 - ETA: 29s - loss: 0.1546 - categorical_crossentropy: 0.154 - ETA: 28s - loss: 0.1534 - categorical_crossentropy: 0.153 - ETA: 28s - loss: 0.1533 - categorical_crossentropy: 0.153 - ETA: 28s - loss: 0.1506 - categorical_crossentropy: 0.150 - ETA: 28s - loss: 0.1480 - categorical_crossentropy: 0.148 - ETA: 27s - loss: 0.1518 - categorical_crossentropy: 0.151 - ETA: 27s - loss: 0.1509 - categorical_crossentropy: 0.150 - ETA: 27s - loss: 0.1537 - categorical_crossentropy: 0.153 - ETA: 27s - loss: 0.1507 - categorical_crossentropy: 0.150 - ETA: 26s - loss: 0.1484 - categorical_crossentropy: 0.148 - ETA: 26s - loss: 0.1458 - categorical_crossentropy: 0.145 - ETA: 26s - loss: 0.1439 - categorical_crossentropy: 0.143 - ETA: 25s - loss: 0.1460 - categorical_crossentropy: 0.146 - ETA: 25s - loss: 0.1442 - categorical_crossentropy: 0.144 - ETA: 25s - loss: 0.1433 - categorical_crossentropy: 0.143 - ETA: 25s - loss: 0.1427 - categorical_crossentropy: 0.142 - ETA: 24s - loss: 0.1439 - categorical_crossentropy: 0.143 - ETA: 24s - loss: 0.1415 - categorical_crossentropy: 0.141 - ETA: 24s - loss: 0.1407 - categorical_crossentropy: 0.140 - ETA: 24s - loss: 0.1416 - categorical_crossentropy: 0.141 - ETA: 23s - loss: 0.1413 - categorical_crossentropy: 0.141 - ETA: 23s - loss: 0.1401 - categorical_crossentropy: 0.140 - ETA: 23s - loss: 0.1392 - categorical_crossentropy: 0.139 - ETA: 23s - loss: 0.1378 - categorical_crossentropy: 0.137 - ETA: 22s - loss: 0.1377 - categorical_crossentropy: 0.137 - ETA: 22s - loss: 0.1357 - categorical_crossentropy: 0.135 - ETA: 22s - loss: 0.1357 - categorical_crossentropy: 0.135 - ETA: 22s - loss: 0.1365 - categorical_crossentropy: 0.136 - ETA: 21s - loss: 0.1377 - categorical_crossentropy: 0.137 - ETA: 21s - loss: 0.1358 - categorical_crossentropy: 0.135 - ETA: 21s - loss: 0.1350 - categorical_crossentropy: 0.135 - ETA: 20s - loss: 0.1335 - categorical_crossentropy: 0.133 - ETA: 20s - loss: 0.1319 - categorical_crossentropy: 0.131 - ETA: 20s - loss: 0.1320 - categorical_crossentropy: 0.132 - ETA: 20s - loss: 0.1313 - categorical_crossentropy: 0.131 - ETA: 19s - loss: 0.1312 - categorical_crossentropy: 0.131 - ETA: 19s - loss: 0.1310 - categorical_crossentropy: 0.131 - ETA: 19s - loss: 0.1316 - categorical_crossentropy: 0.131 - ETA: 19s - loss: 0.1320 - categorical_crossentropy: 0.132 - ETA: 18s - loss: 0.1324 - categorical_crossentropy: 0.132 - ETA: 18s - loss: 0.1315 - categorical_crossentropy: 0.131 - ETA: 18s - loss: 0.1301 - categorical_crossentropy: 0.130 - ETA: 17s - loss: 0.1294 - categorical_crossentropy: 0.129 - ETA: 17s - loss: 0.1307 - categorical_crossentropy: 0.130 - ETA: 17s - loss: 0.1346 - categorical_crossentropy: 0.134 - ETA: 17s - loss: 0.1333 - categorical_crossentropy: 0.133 - ETA: 16s - loss: 0.1326 - categorical_crossentropy: 0.132 - ETA: 16s - loss: 0.1321 - categorical_crossentropy: 0.132 - ETA: 16s - loss: 0.1322 - categorical_crossentropy: 0.132 - ETA: 16s - loss: 0.1308 - categorical_crossentropy: 0.130 - ETA: 15s - loss: 0.1339 - categorical_crossentropy: 0.133 - ETA: 15s - loss: 0.1331 - categorical_crossentropy: 0.133 - ETA: 15s - loss: 0.1328 - categorical_crossentropy: 0.132 - ETA: 14s - loss: 0.1326 - categorical_crossentropy: 0.132 - ETA: 14s - loss: 0.1341 - categorical_crossentropy: 0.134 - ETA: 14s - loss: 0.1330 - categorical_crossentropy: 0.133 - ETA: 14s - loss: 0.1345 - categorical_crossentropy: 0.134 - ETA: 13s - loss: 0.1346 - categorical_crossentropy: 0.134 - ETA: 13s - loss: 0.1334 - categorical_crossentropy: 0.133 - ETA: 13s - loss: 0.1325 - categorical_crossentropy: 0.132 - ETA: 13s - loss: 0.1332 - categorical_crossentropy: 0.133 - ETA: 12s - loss: 0.1320 - categorical_crossentropy: 0.132 - ETA: 12s - loss: 0.1379 - categorical_crossentropy: 0.137 - ETA: 12s - loss: 0.1367 - categorical_crossentropy: 0.136 - ETA: 12s - loss: 0.1355 - categorical_crossentropy: 0.135 - ETA: 11s - loss: 0.1345 - categorical_crossentropy: 0.134 - ETA: 11s - loss: 0.1357 - categorical_crossentropy: 0.135 - ETA: 11s - loss: 0.1357 - categorical_crossentropy: 0.135 - ETA: 10s - loss: 0.1346 - categorical_crossentropy: 0.134 - ETA: 10s - loss: 0.1334 - categorical_crossentropy: 0.133 - ETA: 10s - loss: 0.1330 - categorical_crossentropy: 0.133 - ETA: 10s - loss: 0.1345 - categorical_crossentropy: 0.134 - ETA: 9s - loss: 0.1357 - categorical_crossentropy: 0.135 - ETA: 9s - loss: 0.1361 - categorical_crossentropy: 0.13 - ETA: 9s - loss: 0.1351 - categorical_crossentropy: 0.13 - ETA: 9s - loss: 0.1342 - categorical_crossentropy: 0.13 - ETA: 8s - loss: 0.1339 - categorical_crossentropy: 0.13 - ETA: 8s - loss: 0.1344 - categorical_crossentropy: 0.13 - ETA: 8s - loss: 0.1335 - categorical_crossentropy: 0.13 - ETA: 7s - loss: 0.1339 - categorical_crossentropy: 0.13 - ETA: 7s - loss: 0.1335 - categorical_crossentropy: 0.13 - ETA: 7s - loss: 0.1325 - categorical_crossentropy: 0.13 - ETA: 7s - loss: 0.1326 - categorical_crossentropy: 0.13 - ETA: 6s - loss: 0.1326 - categorical_crossentropy: 0.13 - ETA: 6s - loss: 0.1322 - categorical_crossentropy: 0.13 - ETA: 6s - loss: 0.1318 - categorical_crossentropy: 0.13 - ETA: 6s - loss: 0.1308 - categorical_crossentropy: 0.13 - ETA: 5s - loss: 0.1306 - categorical_crossentropy: 0.13 - ETA: 5s - loss: 0.1297 - categorical_crossentropy: 0.12 - ETA: 5s - loss: 0.1291 - categorical_crossentropy: 0.12 - ETA: 4s - loss: 0.1298 - categorical_crossentropy: 0.12 - ETA: 4s - loss: 0.1340 - categorical_crossentropy: 0.13 - ETA: 4s - loss: 0.1338 - categorical_crossentropy: 0.13 - ETA: 4s - loss: 0.1328 - categorical_crossentropy: 0.13 - ETA: 3s - loss: 0.1328 - categorical_crossentropy: 0.13 - ETA: 3s - loss: 0.1323 - categorical_crossentropy: 0.1323"
     ]
    },
    {
     "name": "stdout",
     "output_type": "stream",
     "text": [
      "4816/4816 [==============================] - ETA: 3s - loss: 0.1326 - categorical_crossentropy: 0.13 - ETA: 3s - loss: 0.1326 - categorical_crossentropy: 0.13 - ETA: 2s - loss: 0.1354 - categorical_crossentropy: 0.13 - ETA: 2s - loss: 0.1346 - categorical_crossentropy: 0.13 - ETA: 2s - loss: 0.1372 - categorical_crossentropy: 0.13 - ETA: 2s - loss: 0.1375 - categorical_crossentropy: 0.13 - ETA: 1s - loss: 0.1366 - categorical_crossentropy: 0.13 - ETA: 1s - loss: 0.1360 - categorical_crossentropy: 0.13 - ETA: 1s - loss: 0.1352 - categorical_crossentropy: 0.13 - ETA: 0s - loss: 0.1343 - categorical_crossentropy: 0.13 - ETA: 0s - loss: 0.1343 - categorical_crossentropy: 0.13 - ETA: 0s - loss: 0.1334 - categorical_crossentropy: 0.13 - ETA: 0s - loss: 0.1329 - categorical_crossentropy: 0.13 - 41s 9ms/step - loss: 0.1341 - categorical_crossentropy: 0.1341 - val_loss: 4.8352 - val_categorical_crossentropy: 4.8352\n",
      "Epoch 19/30\n",
      "4384/4816 [==========================>...] - ETA: 37s - loss: 0.0070 - categorical_crossentropy: 0.007 - ETA: 39s - loss: 0.0360 - categorical_crossentropy: 0.036 - ETA: 40s - loss: 0.1192 - categorical_crossentropy: 0.119 - ETA: 40s - loss: 0.0895 - categorical_crossentropy: 0.089 - ETA: 39s - loss: 0.1000 - categorical_crossentropy: 0.100 - ETA: 39s - loss: 0.0930 - categorical_crossentropy: 0.093 - ETA: 38s - loss: 0.0801 - categorical_crossentropy: 0.080 - ETA: 38s - loss: 0.0766 - categorical_crossentropy: 0.076 - ETA: 38s - loss: 0.0683 - categorical_crossentropy: 0.068 - ETA: 37s - loss: 0.1065 - categorical_crossentropy: 0.106 - ETA: 37s - loss: 0.1064 - categorical_crossentropy: 0.106 - ETA: 37s - loss: 0.0979 - categorical_crossentropy: 0.097 - ETA: 36s - loss: 0.1013 - categorical_crossentropy: 0.101 - ETA: 36s - loss: 0.1101 - categorical_crossentropy: 0.110 - ETA: 36s - loss: 0.1038 - categorical_crossentropy: 0.103 - ETA: 35s - loss: 0.0975 - categorical_crossentropy: 0.097 - ETA: 35s - loss: 0.1041 - categorical_crossentropy: 0.104 - ETA: 35s - loss: 0.1087 - categorical_crossentropy: 0.108 - ETA: 35s - loss: 0.1101 - categorical_crossentropy: 0.110 - ETA: 34s - loss: 0.1055 - categorical_crossentropy: 0.105 - ETA: 34s - loss: 0.1031 - categorical_crossentropy: 0.103 - ETA: 34s - loss: 0.1000 - categorical_crossentropy: 0.100 - ETA: 34s - loss: 0.1009 - categorical_crossentropy: 0.100 - ETA: 33s - loss: 0.1003 - categorical_crossentropy: 0.100 - ETA: 33s - loss: 0.1042 - categorical_crossentropy: 0.104 - ETA: 33s - loss: 0.1043 - categorical_crossentropy: 0.104 - ETA: 33s - loss: 0.1024 - categorical_crossentropy: 0.102 - ETA: 32s - loss: 0.1013 - categorical_crossentropy: 0.101 - ETA: 32s - loss: 0.0980 - categorical_crossentropy: 0.098 - ETA: 32s - loss: 0.0967 - categorical_crossentropy: 0.096 - ETA: 32s - loss: 0.0936 - categorical_crossentropy: 0.093 - ETA: 31s - loss: 0.0926 - categorical_crossentropy: 0.092 - ETA: 31s - loss: 0.0956 - categorical_crossentropy: 0.095 - ETA: 31s - loss: 0.0995 - categorical_crossentropy: 0.099 - ETA: 30s - loss: 0.1018 - categorical_crossentropy: 0.101 - ETA: 30s - loss: 0.1007 - categorical_crossentropy: 0.100 - ETA: 30s - loss: 0.0987 - categorical_crossentropy: 0.098 - ETA: 30s - loss: 0.1026 - categorical_crossentropy: 0.102 - ETA: 29s - loss: 0.1042 - categorical_crossentropy: 0.104 - ETA: 29s - loss: 0.1034 - categorical_crossentropy: 0.103 - ETA: 29s - loss: 0.1024 - categorical_crossentropy: 0.102 - ETA: 29s - loss: 0.1188 - categorical_crossentropy: 0.118 - ETA: 28s - loss: 0.1187 - categorical_crossentropy: 0.118 - ETA: 28s - loss: 0.1185 - categorical_crossentropy: 0.118 - ETA: 28s - loss: 0.1161 - categorical_crossentropy: 0.116 - ETA: 28s - loss: 0.1197 - categorical_crossentropy: 0.119 - ETA: 27s - loss: 0.1182 - categorical_crossentropy: 0.118 - ETA: 27s - loss: 0.1162 - categorical_crossentropy: 0.116 - ETA: 27s - loss: 0.1153 - categorical_crossentropy: 0.115 - ETA: 26s - loss: 0.1213 - categorical_crossentropy: 0.121 - ETA: 26s - loss: 0.1190 - categorical_crossentropy: 0.119 - ETA: 26s - loss: 0.1175 - categorical_crossentropy: 0.117 - ETA: 26s - loss: 0.1177 - categorical_crossentropy: 0.117 - ETA: 25s - loss: 0.1156 - categorical_crossentropy: 0.115 - ETA: 25s - loss: 0.1138 - categorical_crossentropy: 0.113 - ETA: 25s - loss: 0.1140 - categorical_crossentropy: 0.114 - ETA: 25s - loss: 0.1135 - categorical_crossentropy: 0.113 - ETA: 24s - loss: 0.1116 - categorical_crossentropy: 0.111 - ETA: 24s - loss: 0.1098 - categorical_crossentropy: 0.109 - ETA: 24s - loss: 0.1081 - categorical_crossentropy: 0.108 - ETA: 24s - loss: 0.1064 - categorical_crossentropy: 0.106 - ETA: 23s - loss: 0.1067 - categorical_crossentropy: 0.106 - ETA: 23s - loss: 0.1050 - categorical_crossentropy: 0.105 - ETA: 23s - loss: 0.1036 - categorical_crossentropy: 0.103 - ETA: 22s - loss: 0.1021 - categorical_crossentropy: 0.102 - ETA: 22s - loss: 0.1022 - categorical_crossentropy: 0.102 - ETA: 22s - loss: 0.1011 - categorical_crossentropy: 0.101 - ETA: 22s - loss: 0.0999 - categorical_crossentropy: 0.099 - ETA: 21s - loss: 0.1048 - categorical_crossentropy: 0.104 - ETA: 21s - loss: 0.1053 - categorical_crossentropy: 0.105 - ETA: 21s - loss: 0.1041 - categorical_crossentropy: 0.104 - ETA: 21s - loss: 0.1030 - categorical_crossentropy: 0.103 - ETA: 20s - loss: 0.1018 - categorical_crossentropy: 0.101 - ETA: 20s - loss: 0.1057 - categorical_crossentropy: 0.105 - ETA: 20s - loss: 0.1107 - categorical_crossentropy: 0.110 - ETA: 19s - loss: 0.1096 - categorical_crossentropy: 0.109 - ETA: 19s - loss: 0.1091 - categorical_crossentropy: 0.109 - ETA: 19s - loss: 0.1077 - categorical_crossentropy: 0.107 - ETA: 19s - loss: 0.1090 - categorical_crossentropy: 0.109 - ETA: 18s - loss: 0.1092 - categorical_crossentropy: 0.109 - ETA: 18s - loss: 0.1081 - categorical_crossentropy: 0.108 - ETA: 18s - loss: 0.1070 - categorical_crossentropy: 0.107 - ETA: 18s - loss: 0.1057 - categorical_crossentropy: 0.105 - ETA: 17s - loss: 0.1049 - categorical_crossentropy: 0.104 - ETA: 17s - loss: 0.1104 - categorical_crossentropy: 0.110 - ETA: 17s - loss: 0.1098 - categorical_crossentropy: 0.109 - ETA: 17s - loss: 0.1087 - categorical_crossentropy: 0.108 - ETA: 16s - loss: 0.1096 - categorical_crossentropy: 0.109 - ETA: 16s - loss: 0.1089 - categorical_crossentropy: 0.108 - ETA: 16s - loss: 0.1087 - categorical_crossentropy: 0.108 - ETA: 15s - loss: 0.1083 - categorical_crossentropy: 0.108 - ETA: 15s - loss: 0.1093 - categorical_crossentropy: 0.109 - ETA: 15s - loss: 0.1086 - categorical_crossentropy: 0.108 - ETA: 15s - loss: 0.1107 - categorical_crossentropy: 0.110 - ETA: 14s - loss: 0.1095 - categorical_crossentropy: 0.109 - ETA: 14s - loss: 0.1084 - categorical_crossentropy: 0.108 - ETA: 14s - loss: 0.1073 - categorical_crossentropy: 0.107 - ETA: 14s - loss: 0.1140 - categorical_crossentropy: 0.114 - ETA: 13s - loss: 0.1129 - categorical_crossentropy: 0.112 - ETA: 13s - loss: 0.1118 - categorical_crossentropy: 0.111 - ETA: 13s - loss: 0.1130 - categorical_crossentropy: 0.113 - ETA: 12s - loss: 0.1127 - categorical_crossentropy: 0.112 - ETA: 12s - loss: 0.1125 - categorical_crossentropy: 0.112 - ETA: 12s - loss: 0.1198 - categorical_crossentropy: 0.119 - ETA: 12s - loss: 0.1208 - categorical_crossentropy: 0.120 - ETA: 11s - loss: 0.1197 - categorical_crossentropy: 0.119 - ETA: 11s - loss: 0.1189 - categorical_crossentropy: 0.118 - ETA: 11s - loss: 0.1189 - categorical_crossentropy: 0.118 - ETA: 11s - loss: 0.1193 - categorical_crossentropy: 0.119 - ETA: 10s - loss: 0.1192 - categorical_crossentropy: 0.119 - ETA: 10s - loss: 0.1192 - categorical_crossentropy: 0.119 - ETA: 10s - loss: 0.1182 - categorical_crossentropy: 0.118 - ETA: 10s - loss: 0.1195 - categorical_crossentropy: 0.119 - ETA: 9s - loss: 0.1194 - categorical_crossentropy: 0.119 - ETA: 9s - loss: 0.1237 - categorical_crossentropy: 0.12 - ETA: 9s - loss: 0.1233 - categorical_crossentropy: 0.12 - ETA: 8s - loss: 0.1229 - categorical_crossentropy: 0.12 - ETA: 8s - loss: 0.1232 - categorical_crossentropy: 0.12 - ETA: 8s - loss: 0.1224 - categorical_crossentropy: 0.12 - ETA: 8s - loss: 0.1215 - categorical_crossentropy: 0.12 - ETA: 7s - loss: 0.1209 - categorical_crossentropy: 0.12 - ETA: 7s - loss: 0.1199 - categorical_crossentropy: 0.11 - ETA: 7s - loss: 0.1202 - categorical_crossentropy: 0.12 - ETA: 7s - loss: 0.1202 - categorical_crossentropy: 0.12 - ETA: 6s - loss: 0.1208 - categorical_crossentropy: 0.12 - ETA: 6s - loss: 0.1246 - categorical_crossentropy: 0.12 - ETA: 6s - loss: 0.1252 - categorical_crossentropy: 0.12 - ETA: 6s - loss: 0.1254 - categorical_crossentropy: 0.12 - ETA: 5s - loss: 0.1259 - categorical_crossentropy: 0.12 - ETA: 5s - loss: 0.1250 - categorical_crossentropy: 0.12 - ETA: 5s - loss: 0.1249 - categorical_crossentropy: 0.12 - ETA: 4s - loss: 0.1241 - categorical_crossentropy: 0.12 - ETA: 4s - loss: 0.1233 - categorical_crossentropy: 0.12 - ETA: 4s - loss: 0.1230 - categorical_crossentropy: 0.12 - ETA: 4s - loss: 0.1241 - categorical_crossentropy: 0.12 - ETA: 3s - loss: 0.1239 - categorical_crossentropy: 0.12 - ETA: 3s - loss: 0.1236 - categorical_crossentropy: 0.12364816/4816 [==============================] - ETA: 3s - loss: 0.1227 - categorical_crossentropy: 0.12 - ETA: 3s - loss: 0.1228 - categorical_crossentropy: 0.12 - ETA: 2s - loss: 0.1223 - categorical_crossentropy: 0.12 - ETA: 2s - loss: 0.1215 - categorical_crossentropy: 0.12 - ETA: 2s - loss: 0.1228 - categorical_crossentropy: 0.12 - ETA: 2s - loss: 0.1233 - categorical_crossentropy: 0.12 - ETA: 1s - loss: 0.1225 - categorical_crossentropy: 0.12 - ETA: 1s - loss: 0.1241 - categorical_crossentropy: 0.12 - ETA: 1s - loss: 0.1247 - categorical_crossentropy: 0.12 - ETA: 0s - loss: 0.1239 - categorical_crossentropy: 0.12 - ETA: 0s - loss: 0.1231 - categorical_crossentropy: 0.12 - ETA: 0s - loss: 0.1223 - categorical_crossentropy: 0.12 - ETA: 0s - loss: 0.1230 - categorical_crossentropy: 0.12 - 41s 9ms/step - loss: 0.1226 - categorical_crossentropy: 0.1226 - val_loss: 4.7594 - val_categorical_crossentropy: 4.7594\n",
      "Epoch 20/30\n"
     ]
    },
    {
     "name": "stdout",
     "output_type": "stream",
     "text": [
      "4384/4816 [==========================>...] - ETA: 37s - loss: 0.0113 - categorical_crossentropy: 0.011 - ETA: 38s - loss: 0.0370 - categorical_crossentropy: 0.037 - ETA: 38s - loss: 0.0315 - categorical_crossentropy: 0.031 - ETA: 38s - loss: 0.0576 - categorical_crossentropy: 0.057 - ETA: 38s - loss: 0.0608 - categorical_crossentropy: 0.060 - ETA: 38s - loss: 0.0797 - categorical_crossentropy: 0.079 - ETA: 38s - loss: 0.0795 - categorical_crossentropy: 0.079 - ETA: 37s - loss: 0.0712 - categorical_crossentropy: 0.071 - ETA: 37s - loss: 0.0821 - categorical_crossentropy: 0.082 - ETA: 37s - loss: 0.0806 - categorical_crossentropy: 0.080 - ETA: 37s - loss: 0.0744 - categorical_crossentropy: 0.074 - ETA: 36s - loss: 0.0689 - categorical_crossentropy: 0.068 - ETA: 36s - loss: 0.0708 - categorical_crossentropy: 0.070 - ETA: 36s - loss: 0.0675 - categorical_crossentropy: 0.067 - ETA: 36s - loss: 0.0638 - categorical_crossentropy: 0.063 - ETA: 36s - loss: 0.0836 - categorical_crossentropy: 0.083 - ETA: 35s - loss: 0.0856 - categorical_crossentropy: 0.085 - ETA: 35s - loss: 0.0934 - categorical_crossentropy: 0.093 - ETA: 35s - loss: 0.0897 - categorical_crossentropy: 0.089 - ETA: 34s - loss: 0.0951 - categorical_crossentropy: 0.095 - ETA: 34s - loss: 0.1129 - categorical_crossentropy: 0.112 - ETA: 34s - loss: 0.1127 - categorical_crossentropy: 0.112 - ETA: 34s - loss: 0.1095 - categorical_crossentropy: 0.109 - ETA: 33s - loss: 0.1057 - categorical_crossentropy: 0.105 - ETA: 33s - loss: 0.1015 - categorical_crossentropy: 0.101 - ETA: 33s - loss: 0.1037 - categorical_crossentropy: 0.103 - ETA: 33s - loss: 0.1026 - categorical_crossentropy: 0.102 - ETA: 32s - loss: 0.0994 - categorical_crossentropy: 0.099 - ETA: 32s - loss: 0.1079 - categorical_crossentropy: 0.107 - ETA: 32s - loss: 0.1060 - categorical_crossentropy: 0.106 - ETA: 32s - loss: 0.1077 - categorical_crossentropy: 0.107 - ETA: 31s - loss: 0.1051 - categorical_crossentropy: 0.105 - ETA: 31s - loss: 0.1031 - categorical_crossentropy: 0.103 - ETA: 31s - loss: 0.1005 - categorical_crossentropy: 0.100 - ETA: 30s - loss: 0.0979 - categorical_crossentropy: 0.097 - ETA: 30s - loss: 0.0963 - categorical_crossentropy: 0.096 - ETA: 30s - loss: 0.0937 - categorical_crossentropy: 0.093 - ETA: 30s - loss: 0.0956 - categorical_crossentropy: 0.095 - ETA: 29s - loss: 0.0937 - categorical_crossentropy: 0.093 - ETA: 29s - loss: 0.0936 - categorical_crossentropy: 0.093 - ETA: 29s - loss: 0.0925 - categorical_crossentropy: 0.092 - ETA: 29s - loss: 0.0908 - categorical_crossentropy: 0.090 - ETA: 28s - loss: 0.0889 - categorical_crossentropy: 0.088 - ETA: 28s - loss: 0.0876 - categorical_crossentropy: 0.087 - ETA: 28s - loss: 0.0867 - categorical_crossentropy: 0.086 - ETA: 28s - loss: 0.0851 - categorical_crossentropy: 0.085 - ETA: 27s - loss: 0.0865 - categorical_crossentropy: 0.086 - ETA: 27s - loss: 0.0851 - categorical_crossentropy: 0.085 - ETA: 27s - loss: 0.0849 - categorical_crossentropy: 0.084 - ETA: 26s - loss: 0.1003 - categorical_crossentropy: 0.100 - ETA: 26s - loss: 0.0991 - categorical_crossentropy: 0.099 - ETA: 26s - loss: 0.1084 - categorical_crossentropy: 0.108 - ETA: 26s - loss: 0.1064 - categorical_crossentropy: 0.106 - ETA: 25s - loss: 0.1075 - categorical_crossentropy: 0.107 - ETA: 25s - loss: 0.1078 - categorical_crossentropy: 0.107 - ETA: 25s - loss: 0.1113 - categorical_crossentropy: 0.111 - ETA: 25s - loss: 0.1094 - categorical_crossentropy: 0.109 - ETA: 24s - loss: 0.1099 - categorical_crossentropy: 0.109 - ETA: 24s - loss: 0.1081 - categorical_crossentropy: 0.108 - ETA: 24s - loss: 0.1163 - categorical_crossentropy: 0.116 - ETA: 23s - loss: 0.1198 - categorical_crossentropy: 0.119 - ETA: 23s - loss: 0.1210 - categorical_crossentropy: 0.121 - ETA: 23s - loss: 0.1192 - categorical_crossentropy: 0.119 - ETA: 23s - loss: 0.1183 - categorical_crossentropy: 0.118 - ETA: 22s - loss: 0.1180 - categorical_crossentropy: 0.118 - ETA: 22s - loss: 0.1266 - categorical_crossentropy: 0.126 - ETA: 22s - loss: 0.1271 - categorical_crossentropy: 0.127 - ETA: 22s - loss: 0.1262 - categorical_crossentropy: 0.126 - ETA: 21s - loss: 0.1245 - categorical_crossentropy: 0.124 - ETA: 21s - loss: 0.1242 - categorical_crossentropy: 0.124 - ETA: 21s - loss: 0.1238 - categorical_crossentropy: 0.123 - ETA: 21s - loss: 0.1230 - categorical_crossentropy: 0.123 - ETA: 20s - loss: 0.1221 - categorical_crossentropy: 0.122 - ETA: 20s - loss: 0.1207 - categorical_crossentropy: 0.120 - ETA: 20s - loss: 0.1207 - categorical_crossentropy: 0.120 - ETA: 19s - loss: 0.1226 - categorical_crossentropy: 0.122 - ETA: 19s - loss: 0.1233 - categorical_crossentropy: 0.123 - ETA: 19s - loss: 0.1248 - categorical_crossentropy: 0.124 - ETA: 19s - loss: 0.1344 - categorical_crossentropy: 0.134 - ETA: 18s - loss: 0.1336 - categorical_crossentropy: 0.133 - ETA: 18s - loss: 0.1341 - categorical_crossentropy: 0.134 - ETA: 18s - loss: 0.1341 - categorical_crossentropy: 0.134 - ETA: 18s - loss: 0.1333 - categorical_crossentropy: 0.133 - ETA: 17s - loss: 0.1321 - categorical_crossentropy: 0.132 - ETA: 17s - loss: 0.1306 - categorical_crossentropy: 0.130 - ETA: 17s - loss: 0.1291 - categorical_crossentropy: 0.129 - ETA: 17s - loss: 0.1307 - categorical_crossentropy: 0.130 - ETA: 16s - loss: 0.1328 - categorical_crossentropy: 0.132 - ETA: 16s - loss: 0.1370 - categorical_crossentropy: 0.137 - ETA: 16s - loss: 0.1357 - categorical_crossentropy: 0.135 - ETA: 15s - loss: 0.1351 - categorical_crossentropy: 0.135 - ETA: 15s - loss: 0.1343 - categorical_crossentropy: 0.134 - ETA: 15s - loss: 0.1330 - categorical_crossentropy: 0.133 - ETA: 15s - loss: 0.1343 - categorical_crossentropy: 0.134 - ETA: 14s - loss: 0.1354 - categorical_crossentropy: 0.135 - ETA: 14s - loss: 0.1347 - categorical_crossentropy: 0.134 - ETA: 14s - loss: 0.1343 - categorical_crossentropy: 0.134 - ETA: 14s - loss: 0.1358 - categorical_crossentropy: 0.135 - ETA: 13s - loss: 0.1347 - categorical_crossentropy: 0.134 - ETA: 13s - loss: 0.1343 - categorical_crossentropy: 0.134 - ETA: 13s - loss: 0.1346 - categorical_crossentropy: 0.134 - ETA: 13s - loss: 0.1344 - categorical_crossentropy: 0.134 - ETA: 12s - loss: 0.1341 - categorical_crossentropy: 0.134 - ETA: 12s - loss: 0.1350 - categorical_crossentropy: 0.135 - ETA: 12s - loss: 0.1342 - categorical_crossentropy: 0.134 - ETA: 11s - loss: 0.1332 - categorical_crossentropy: 0.133 - ETA: 11s - loss: 0.1325 - categorical_crossentropy: 0.132 - ETA: 11s - loss: 0.1313 - categorical_crossentropy: 0.131 - ETA: 11s - loss: 0.1304 - categorical_crossentropy: 0.130 - ETA: 10s - loss: 0.1295 - categorical_crossentropy: 0.129 - ETA: 10s - loss: 0.1293 - categorical_crossentropy: 0.129 - ETA: 10s - loss: 0.1284 - categorical_crossentropy: 0.128 - ETA: 10s - loss: 0.1272 - categorical_crossentropy: 0.127 - ETA: 9s - loss: 0.1261 - categorical_crossentropy: 0.126 - ETA: 9s - loss: 0.1258 - categorical_crossentropy: 0.12 - ETA: 9s - loss: 0.1251 - categorical_crossentropy: 0.12 - ETA: 8s - loss: 0.1247 - categorical_crossentropy: 0.12 - ETA: 8s - loss: 0.1243 - categorical_crossentropy: 0.12 - ETA: 8s - loss: 0.1242 - categorical_crossentropy: 0.12 - ETA: 8s - loss: 0.1243 - categorical_crossentropy: 0.12 - ETA: 7s - loss: 0.1240 - categorical_crossentropy: 0.12 - ETA: 7s - loss: 0.1240 - categorical_crossentropy: 0.12 - ETA: 7s - loss: 0.1250 - categorical_crossentropy: 0.12 - ETA: 7s - loss: 0.1244 - categorical_crossentropy: 0.12 - ETA: 6s - loss: 0.1268 - categorical_crossentropy: 0.12 - ETA: 6s - loss: 0.1262 - categorical_crossentropy: 0.12 - ETA: 6s - loss: 0.1254 - categorical_crossentropy: 0.12 - ETA: 6s - loss: 0.1259 - categorical_crossentropy: 0.12 - ETA: 5s - loss: 0.1259 - categorical_crossentropy: 0.12 - ETA: 5s - loss: 0.1270 - categorical_crossentropy: 0.12 - ETA: 5s - loss: 0.1261 - categorical_crossentropy: 0.12 - ETA: 4s - loss: 0.1253 - categorical_crossentropy: 0.12 - ETA: 4s - loss: 0.1245 - categorical_crossentropy: 0.12 - ETA: 4s - loss: 0.1243 - categorical_crossentropy: 0.12 - ETA: 4s - loss: 0.1236 - categorical_crossentropy: 0.12 - ETA: 3s - loss: 0.1242 - categorical_crossentropy: 0.12 - ETA: 3s - loss: 0.1235 - categorical_crossentropy: 0.1235"
     ]
    },
    {
     "name": "stdout",
     "output_type": "stream",
     "text": [
      "4816/4816 [==============================] - ETA: 3s - loss: 0.1242 - categorical_crossentropy: 0.12 - ETA: 3s - loss: 0.1233 - categorical_crossentropy: 0.12 - ETA: 2s - loss: 0.1235 - categorical_crossentropy: 0.12 - ETA: 2s - loss: 0.1236 - categorical_crossentropy: 0.12 - ETA: 2s - loss: 0.1242 - categorical_crossentropy: 0.12 - ETA: 2s - loss: 0.1243 - categorical_crossentropy: 0.12 - ETA: 1s - loss: 0.1252 - categorical_crossentropy: 0.12 - ETA: 1s - loss: 0.1245 - categorical_crossentropy: 0.12 - ETA: 1s - loss: 0.1236 - categorical_crossentropy: 0.12 - ETA: 0s - loss: 0.1228 - categorical_crossentropy: 0.12 - ETA: 0s - loss: 0.1221 - categorical_crossentropy: 0.12 - ETA: 0s - loss: 0.1227 - categorical_crossentropy: 0.12 - ETA: 0s - loss: 0.1229 - categorical_crossentropy: 0.12 - 41s 9ms/step - loss: 0.1225 - categorical_crossentropy: 0.1225 - val_loss: 4.5014 - val_categorical_crossentropy: 4.5014\n",
      "Epoch 21/30\n",
      "4384/4816 [==========================>...] - ETA: 37s - loss: 0.0196 - categorical_crossentropy: 0.019 - ETA: 38s - loss: 0.0398 - categorical_crossentropy: 0.039 - ETA: 38s - loss: 0.0266 - categorical_crossentropy: 0.026 - ETA: 38s - loss: 0.0254 - categorical_crossentropy: 0.025 - ETA: 38s - loss: 0.0363 - categorical_crossentropy: 0.036 - ETA: 37s - loss: 0.0358 - categorical_crossentropy: 0.035 - ETA: 38s - loss: 0.0734 - categorical_crossentropy: 0.073 - ETA: 38s - loss: 0.0973 - categorical_crossentropy: 0.097 - ETA: 37s - loss: 0.1024 - categorical_crossentropy: 0.102 - ETA: 37s - loss: 0.0992 - categorical_crossentropy: 0.099 - ETA: 37s - loss: 0.0904 - categorical_crossentropy: 0.090 - ETA: 36s - loss: 0.1331 - categorical_crossentropy: 0.133 - ETA: 36s - loss: 0.1339 - categorical_crossentropy: 0.133 - ETA: 36s - loss: 0.1327 - categorical_crossentropy: 0.132 - ETA: 36s - loss: 0.1388 - categorical_crossentropy: 0.138 - ETA: 35s - loss: 0.1316 - categorical_crossentropy: 0.131 - ETA: 35s - loss: 0.1342 - categorical_crossentropy: 0.134 - ETA: 35s - loss: 0.1362 - categorical_crossentropy: 0.136 - ETA: 35s - loss: 0.1301 - categorical_crossentropy: 0.130 - ETA: 34s - loss: 0.1594 - categorical_crossentropy: 0.159 - ETA: 34s - loss: 0.1546 - categorical_crossentropy: 0.154 - ETA: 34s - loss: 0.1541 - categorical_crossentropy: 0.154 - ETA: 34s - loss: 0.1529 - categorical_crossentropy: 0.152 - ETA: 33s - loss: 0.1512 - categorical_crossentropy: 0.151 - ETA: 33s - loss: 0.1531 - categorical_crossentropy: 0.153 - ETA: 33s - loss: 0.1509 - categorical_crossentropy: 0.150 - ETA: 33s - loss: 0.1486 - categorical_crossentropy: 0.148 - ETA: 32s - loss: 0.1511 - categorical_crossentropy: 0.151 - ETA: 32s - loss: 0.1523 - categorical_crossentropy: 0.152 - ETA: 32s - loss: 0.1500 - categorical_crossentropy: 0.150 - ETA: 31s - loss: 0.1464 - categorical_crossentropy: 0.146 - ETA: 31s - loss: 0.1509 - categorical_crossentropy: 0.150 - ETA: 31s - loss: 0.1466 - categorical_crossentropy: 0.146 - ETA: 31s - loss: 0.1455 - categorical_crossentropy: 0.145 - ETA: 30s - loss: 0.1434 - categorical_crossentropy: 0.143 - ETA: 30s - loss: 0.1567 - categorical_crossentropy: 0.156 - ETA: 30s - loss: 0.1581 - categorical_crossentropy: 0.158 - ETA: 30s - loss: 0.1609 - categorical_crossentropy: 0.160 - ETA: 29s - loss: 0.1588 - categorical_crossentropy: 0.158 - ETA: 29s - loss: 0.1577 - categorical_crossentropy: 0.157 - ETA: 29s - loss: 0.1543 - categorical_crossentropy: 0.154 - ETA: 29s - loss: 0.1511 - categorical_crossentropy: 0.151 - ETA: 28s - loss: 0.1479 - categorical_crossentropy: 0.147 - ETA: 28s - loss: 0.1446 - categorical_crossentropy: 0.144 - ETA: 28s - loss: 0.1428 - categorical_crossentropy: 0.142 - ETA: 27s - loss: 0.1503 - categorical_crossentropy: 0.150 - ETA: 27s - loss: 0.1478 - categorical_crossentropy: 0.147 - ETA: 27s - loss: 0.1466 - categorical_crossentropy: 0.146 - ETA: 27s - loss: 0.1438 - categorical_crossentropy: 0.143 - ETA: 27s - loss: 0.1455 - categorical_crossentropy: 0.145 - ETA: 26s - loss: 0.1475 - categorical_crossentropy: 0.147 - ETA: 26s - loss: 0.1448 - categorical_crossentropy: 0.144 - ETA: 26s - loss: 0.1432 - categorical_crossentropy: 0.143 - ETA: 25s - loss: 0.1410 - categorical_crossentropy: 0.141 - ETA: 25s - loss: 0.1389 - categorical_crossentropy: 0.138 - ETA: 25s - loss: 0.1472 - categorical_crossentropy: 0.147 - ETA: 25s - loss: 0.1452 - categorical_crossentropy: 0.145 - ETA: 24s - loss: 0.1452 - categorical_crossentropy: 0.145 - ETA: 24s - loss: 0.1449 - categorical_crossentropy: 0.144 - ETA: 24s - loss: 0.1443 - categorical_crossentropy: 0.144 - ETA: 24s - loss: 0.1480 - categorical_crossentropy: 0.148 - ETA: 23s - loss: 0.1462 - categorical_crossentropy: 0.146 - ETA: 23s - loss: 0.1520 - categorical_crossentropy: 0.152 - ETA: 23s - loss: 0.1567 - categorical_crossentropy: 0.156 - ETA: 22s - loss: 0.1566 - categorical_crossentropy: 0.156 - ETA: 22s - loss: 0.1545 - categorical_crossentropy: 0.154 - ETA: 22s - loss: 0.1524 - categorical_crossentropy: 0.152 - ETA: 22s - loss: 0.1532 - categorical_crossentropy: 0.153 - ETA: 21s - loss: 0.1554 - categorical_crossentropy: 0.155 - ETA: 21s - loss: 0.1543 - categorical_crossentropy: 0.154 - ETA: 21s - loss: 0.1535 - categorical_crossentropy: 0.153 - ETA: 21s - loss: 0.1605 - categorical_crossentropy: 0.160 - ETA: 20s - loss: 0.1615 - categorical_crossentropy: 0.161 - ETA: 20s - loss: 0.1612 - categorical_crossentropy: 0.161 - ETA: 20s - loss: 0.1591 - categorical_crossentropy: 0.159 - ETA: 20s - loss: 0.1586 - categorical_crossentropy: 0.158 - ETA: 19s - loss: 0.1573 - categorical_crossentropy: 0.157 - ETA: 19s - loss: 0.1553 - categorical_crossentropy: 0.155 - ETA: 19s - loss: 0.1542 - categorical_crossentropy: 0.154 - ETA: 18s - loss: 0.1546 - categorical_crossentropy: 0.154 - ETA: 18s - loss: 0.1537 - categorical_crossentropy: 0.153 - ETA: 18s - loss: 0.1536 - categorical_crossentropy: 0.153 - ETA: 18s - loss: 0.1531 - categorical_crossentropy: 0.153 - ETA: 17s - loss: 0.1524 - categorical_crossentropy: 0.152 - ETA: 17s - loss: 0.1534 - categorical_crossentropy: 0.153 - ETA: 17s - loss: 0.1519 - categorical_crossentropy: 0.151 - ETA: 17s - loss: 0.1529 - categorical_crossentropy: 0.152 - ETA: 16s - loss: 0.1512 - categorical_crossentropy: 0.151 - ETA: 16s - loss: 0.1501 - categorical_crossentropy: 0.150 - ETA: 16s - loss: 0.1488 - categorical_crossentropy: 0.148 - ETA: 15s - loss: 0.1532 - categorical_crossentropy: 0.153 - ETA: 15s - loss: 0.1537 - categorical_crossentropy: 0.153 - ETA: 15s - loss: 0.1529 - categorical_crossentropy: 0.152 - ETA: 15s - loss: 0.1521 - categorical_crossentropy: 0.152 - ETA: 14s - loss: 0.1520 - categorical_crossentropy: 0.152 - ETA: 14s - loss: 0.1510 - categorical_crossentropy: 0.151 - ETA: 14s - loss: 0.1494 - categorical_crossentropy: 0.149 - ETA: 14s - loss: 0.1480 - categorical_crossentropy: 0.148 - ETA: 13s - loss: 0.1466 - categorical_crossentropy: 0.146 - ETA: 13s - loss: 0.1457 - categorical_crossentropy: 0.145 - ETA: 13s - loss: 0.1449 - categorical_crossentropy: 0.144 - ETA: 13s - loss: 0.1441 - categorical_crossentropy: 0.144 - ETA: 12s - loss: 0.1450 - categorical_crossentropy: 0.145 - ETA: 12s - loss: 0.1461 - categorical_crossentropy: 0.146 - ETA: 12s - loss: 0.1450 - categorical_crossentropy: 0.145 - ETA: 11s - loss: 0.1436 - categorical_crossentropy: 0.143 - ETA: 11s - loss: 0.1439 - categorical_crossentropy: 0.143 - ETA: 11s - loss: 0.1426 - categorical_crossentropy: 0.142 - ETA: 11s - loss: 0.1446 - categorical_crossentropy: 0.144 - ETA: 10s - loss: 0.1435 - categorical_crossentropy: 0.143 - ETA: 10s - loss: 0.1428 - categorical_crossentropy: 0.142 - ETA: 10s - loss: 0.1417 - categorical_crossentropy: 0.141 - ETA: 10s - loss: 0.1406 - categorical_crossentropy: 0.140 - ETA: 9s - loss: 0.1395 - categorical_crossentropy: 0.139 - ETA: 9s - loss: 0.1414 - categorical_crossentropy: 0.14 - ETA: 9s - loss: 0.1403 - categorical_crossentropy: 0.14 - ETA: 9s - loss: 0.1394 - categorical_crossentropy: 0.13 - ETA: 8s - loss: 0.1394 - categorical_crossentropy: 0.13 - ETA: 8s - loss: 0.1388 - categorical_crossentropy: 0.13 - ETA: 8s - loss: 0.1378 - categorical_crossentropy: 0.13 - ETA: 7s - loss: 0.1383 - categorical_crossentropy: 0.13 - ETA: 7s - loss: 0.1397 - categorical_crossentropy: 0.13 - ETA: 7s - loss: 0.1395 - categorical_crossentropy: 0.13 - ETA: 7s - loss: 0.1394 - categorical_crossentropy: 0.13 - ETA: 6s - loss: 0.1394 - categorical_crossentropy: 0.13 - ETA: 6s - loss: 0.1391 - categorical_crossentropy: 0.13 - ETA: 6s - loss: 0.1383 - categorical_crossentropy: 0.13 - ETA: 6s - loss: 0.1390 - categorical_crossentropy: 0.13 - ETA: 5s - loss: 0.1381 - categorical_crossentropy: 0.13 - ETA: 5s - loss: 0.1380 - categorical_crossentropy: 0.13 - ETA: 5s - loss: 0.1396 - categorical_crossentropy: 0.13 - ETA: 4s - loss: 0.1393 - categorical_crossentropy: 0.13 - ETA: 4s - loss: 0.1404 - categorical_crossentropy: 0.14 - ETA: 4s - loss: 0.1394 - categorical_crossentropy: 0.13 - ETA: 4s - loss: 0.1387 - categorical_crossentropy: 0.13 - ETA: 3s - loss: 0.1378 - categorical_crossentropy: 0.13 - ETA: 3s - loss: 0.1369 - categorical_crossentropy: 0.13694816/4816 [==============================] - ETA: 3s - loss: 0.1361 - categorical_crossentropy: 0.13 - ETA: 3s - loss: 0.1372 - categorical_crossentropy: 0.13 - ETA: 2s - loss: 0.1382 - categorical_crossentropy: 0.13 - ETA: 2s - loss: 0.1381 - categorical_crossentropy: 0.13 - ETA: 2s - loss: 0.1382 - categorical_crossentropy: 0.13 - ETA: 2s - loss: 0.1398 - categorical_crossentropy: 0.13 - ETA: 1s - loss: 0.1412 - categorical_crossentropy: 0.14 - ETA: 1s - loss: 0.1415 - categorical_crossentropy: 0.14 - ETA: 1s - loss: 0.1407 - categorical_crossentropy: 0.14 - ETA: 0s - loss: 0.1398 - categorical_crossentropy: 0.13 - ETA: 0s - loss: 0.1405 - categorical_crossentropy: 0.14 - ETA: 0s - loss: 0.1423 - categorical_crossentropy: 0.14 - ETA: 0s - loss: 0.1414 - categorical_crossentropy: 0.14 - 41s 9ms/step - loss: 0.1416 - categorical_crossentropy: 0.1416 - val_loss: 4.1006 - val_categorical_crossentropy: 4.1006\n",
      "Epoch 22/30\n"
     ]
    },
    {
     "name": "stdout",
     "output_type": "stream",
     "text": [
      "4384/4816 [==========================>...] - ETA: 37s - loss: 0.1470 - categorical_crossentropy: 0.147 - ETA: 38s - loss: 0.1334 - categorical_crossentropy: 0.133 - ETA: 38s - loss: 0.1225 - categorical_crossentropy: 0.122 - ETA: 38s - loss: 0.0948 - categorical_crossentropy: 0.094 - ETA: 38s - loss: 0.1151 - categorical_crossentropy: 0.115 - ETA: 38s - loss: 0.1188 - categorical_crossentropy: 0.118 - ETA: 38s - loss: 0.1116 - categorical_crossentropy: 0.111 - ETA: 37s - loss: 0.1138 - categorical_crossentropy: 0.113 - ETA: 37s - loss: 0.1073 - categorical_crossentropy: 0.107 - ETA: 37s - loss: 0.1057 - categorical_crossentropy: 0.105 - ETA: 37s - loss: 0.1144 - categorical_crossentropy: 0.114 - ETA: 36s - loss: 0.1065 - categorical_crossentropy: 0.106 - ETA: 36s - loss: 0.1068 - categorical_crossentropy: 0.106 - ETA: 36s - loss: 0.0992 - categorical_crossentropy: 0.099 - ETA: 36s - loss: 0.0928 - categorical_crossentropy: 0.092 - ETA: 35s - loss: 0.0903 - categorical_crossentropy: 0.090 - ETA: 35s - loss: 0.0931 - categorical_crossentropy: 0.093 - ETA: 35s - loss: 0.0940 - categorical_crossentropy: 0.094 - ETA: 34s - loss: 0.1089 - categorical_crossentropy: 0.108 - ETA: 34s - loss: 0.1103 - categorical_crossentropy: 0.110 - ETA: 34s - loss: 0.1106 - categorical_crossentropy: 0.110 - ETA: 34s - loss: 0.1120 - categorical_crossentropy: 0.112 - ETA: 33s - loss: 0.1126 - categorical_crossentropy: 0.112 - ETA: 33s - loss: 0.1111 - categorical_crossentropy: 0.111 - ETA: 33s - loss: 0.1074 - categorical_crossentropy: 0.107 - ETA: 33s - loss: 0.1057 - categorical_crossentropy: 0.105 - ETA: 32s - loss: 0.1064 - categorical_crossentropy: 0.106 - ETA: 32s - loss: 0.1075 - categorical_crossentropy: 0.107 - ETA: 32s - loss: 0.1087 - categorical_crossentropy: 0.108 - ETA: 32s - loss: 0.1111 - categorical_crossentropy: 0.111 - ETA: 31s - loss: 0.1177 - categorical_crossentropy: 0.117 - ETA: 31s - loss: 0.1151 - categorical_crossentropy: 0.115 - ETA: 31s - loss: 0.1125 - categorical_crossentropy: 0.112 - ETA: 31s - loss: 0.1260 - categorical_crossentropy: 0.126 - ETA: 30s - loss: 0.1255 - categorical_crossentropy: 0.125 - ETA: 30s - loss: 0.1264 - categorical_crossentropy: 0.126 - ETA: 30s - loss: 0.1247 - categorical_crossentropy: 0.124 - ETA: 30s - loss: 0.1251 - categorical_crossentropy: 0.125 - ETA: 29s - loss: 0.1221 - categorical_crossentropy: 0.122 - ETA: 29s - loss: 0.1224 - categorical_crossentropy: 0.122 - ETA: 29s - loss: 0.1233 - categorical_crossentropy: 0.123 - ETA: 29s - loss: 0.1253 - categorical_crossentropy: 0.125 - ETA: 28s - loss: 0.1229 - categorical_crossentropy: 0.122 - ETA: 28s - loss: 0.1254 - categorical_crossentropy: 0.125 - ETA: 28s - loss: 0.1238 - categorical_crossentropy: 0.123 - ETA: 27s - loss: 0.1212 - categorical_crossentropy: 0.121 - ETA: 27s - loss: 0.1194 - categorical_crossentropy: 0.119 - ETA: 27s - loss: 0.1178 - categorical_crossentropy: 0.117 - ETA: 27s - loss: 0.1183 - categorical_crossentropy: 0.118 - ETA: 26s - loss: 0.1177 - categorical_crossentropy: 0.117 - ETA: 26s - loss: 0.1155 - categorical_crossentropy: 0.115 - ETA: 26s - loss: 0.1136 - categorical_crossentropy: 0.113 - ETA: 26s - loss: 0.1137 - categorical_crossentropy: 0.113 - ETA: 25s - loss: 0.1209 - categorical_crossentropy: 0.120 - ETA: 25s - loss: 0.1264 - categorical_crossentropy: 0.126 - ETA: 25s - loss: 0.1282 - categorical_crossentropy: 0.128 - ETA: 25s - loss: 0.1268 - categorical_crossentropy: 0.126 - ETA: 24s - loss: 0.1251 - categorical_crossentropy: 0.125 - ETA: 24s - loss: 0.1240 - categorical_crossentropy: 0.124 - ETA: 24s - loss: 0.1220 - categorical_crossentropy: 0.122 - ETA: 23s - loss: 0.1226 - categorical_crossentropy: 0.122 - ETA: 23s - loss: 0.1284 - categorical_crossentropy: 0.128 - ETA: 23s - loss: 0.1284 - categorical_crossentropy: 0.128 - ETA: 23s - loss: 0.1276 - categorical_crossentropy: 0.127 - ETA: 22s - loss: 0.1265 - categorical_crossentropy: 0.126 - ETA: 22s - loss: 0.1260 - categorical_crossentropy: 0.126 - ETA: 22s - loss: 0.1264 - categorical_crossentropy: 0.126 - ETA: 22s - loss: 0.1258 - categorical_crossentropy: 0.125 - ETA: 21s - loss: 0.1243 - categorical_crossentropy: 0.124 - ETA: 21s - loss: 0.1240 - categorical_crossentropy: 0.124 - ETA: 21s - loss: 0.1231 - categorical_crossentropy: 0.123 - ETA: 21s - loss: 0.1216 - categorical_crossentropy: 0.121 - ETA: 20s - loss: 0.1212 - categorical_crossentropy: 0.121 - ETA: 20s - loss: 0.1224 - categorical_crossentropy: 0.122 - ETA: 20s - loss: 0.1210 - categorical_crossentropy: 0.121 - ETA: 19s - loss: 0.1216 - categorical_crossentropy: 0.121 - ETA: 19s - loss: 0.1219 - categorical_crossentropy: 0.121 - ETA: 19s - loss: 0.1214 - categorical_crossentropy: 0.121 - ETA: 19s - loss: 0.1212 - categorical_crossentropy: 0.121 - ETA: 18s - loss: 0.1220 - categorical_crossentropy: 0.122 - ETA: 18s - loss: 0.1257 - categorical_crossentropy: 0.125 - ETA: 18s - loss: 0.1250 - categorical_crossentropy: 0.125 - ETA: 18s - loss: 0.1258 - categorical_crossentropy: 0.125 - ETA: 17s - loss: 0.1288 - categorical_crossentropy: 0.128 - ETA: 17s - loss: 0.1273 - categorical_crossentropy: 0.127 - ETA: 17s - loss: 0.1270 - categorical_crossentropy: 0.127 - ETA: 17s - loss: 0.1308 - categorical_crossentropy: 0.130 - ETA: 16s - loss: 0.1351 - categorical_crossentropy: 0.135 - ETA: 16s - loss: 0.1338 - categorical_crossentropy: 0.133 - ETA: 16s - loss: 0.1325 - categorical_crossentropy: 0.132 - ETA: 15s - loss: 0.1311 - categorical_crossentropy: 0.131 - ETA: 15s - loss: 0.1297 - categorical_crossentropy: 0.129 - ETA: 15s - loss: 0.1335 - categorical_crossentropy: 0.133 - ETA: 15s - loss: 0.1330 - categorical_crossentropy: 0.133 - ETA: 14s - loss: 0.1341 - categorical_crossentropy: 0.134 - ETA: 14s - loss: 0.1337 - categorical_crossentropy: 0.133 - ETA: 14s - loss: 0.1328 - categorical_crossentropy: 0.132 - ETA: 14s - loss: 0.1315 - categorical_crossentropy: 0.131 - ETA: 13s - loss: 0.1305 - categorical_crossentropy: 0.130 - ETA: 13s - loss: 0.1292 - categorical_crossentropy: 0.129 - ETA: 13s - loss: 0.1280 - categorical_crossentropy: 0.128 - ETA: 13s - loss: 0.1273 - categorical_crossentropy: 0.127 - ETA: 12s - loss: 0.1277 - categorical_crossentropy: 0.127 - ETA: 12s - loss: 0.1265 - categorical_crossentropy: 0.126 - ETA: 12s - loss: 0.1260 - categorical_crossentropy: 0.126 - ETA: 11s - loss: 0.1250 - categorical_crossentropy: 0.125 - ETA: 11s - loss: 0.1252 - categorical_crossentropy: 0.125 - ETA: 11s - loss: 0.1283 - categorical_crossentropy: 0.128 - ETA: 11s - loss: 0.1276 - categorical_crossentropy: 0.127 - ETA: 10s - loss: 0.1265 - categorical_crossentropy: 0.126 - ETA: 10s - loss: 0.1256 - categorical_crossentropy: 0.125 - ETA: 10s - loss: 0.1251 - categorical_crossentropy: 0.125 - ETA: 10s - loss: 0.1252 - categorical_crossentropy: 0.125 - ETA: 9s - loss: 0.1249 - categorical_crossentropy: 0.124 - ETA: 9s - loss: 0.1239 - categorical_crossentropy: 0.12 - ETA: 9s - loss: 0.1231 - categorical_crossentropy: 0.12 - ETA: 8s - loss: 0.1223 - categorical_crossentropy: 0.12 - ETA: 8s - loss: 0.1229 - categorical_crossentropy: 0.12 - ETA: 8s - loss: 0.1218 - categorical_crossentropy: 0.12 - ETA: 8s - loss: 0.1222 - categorical_crossentropy: 0.12 - ETA: 7s - loss: 0.1234 - categorical_crossentropy: 0.12 - ETA: 7s - loss: 0.1239 - categorical_crossentropy: 0.12 - ETA: 7s - loss: 0.1273 - categorical_crossentropy: 0.12 - ETA: 7s - loss: 0.1263 - categorical_crossentropy: 0.12 - ETA: 6s - loss: 0.1253 - categorical_crossentropy: 0.12 - ETA: 6s - loss: 0.1245 - categorical_crossentropy: 0.12 - ETA: 6s - loss: 0.1284 - categorical_crossentropy: 0.12 - ETA: 6s - loss: 0.1275 - categorical_crossentropy: 0.12 - ETA: 5s - loss: 0.1272 - categorical_crossentropy: 0.12 - ETA: 5s - loss: 0.1279 - categorical_crossentropy: 0.12 - ETA: 5s - loss: 0.1269 - categorical_crossentropy: 0.12 - ETA: 4s - loss: 0.1261 - categorical_crossentropy: 0.12 - ETA: 4s - loss: 0.1270 - categorical_crossentropy: 0.12 - ETA: 4s - loss: 0.1282 - categorical_crossentropy: 0.12 - ETA: 4s - loss: 0.1274 - categorical_crossentropy: 0.12 - ETA: 3s - loss: 0.1266 - categorical_crossentropy: 0.12 - ETA: 3s - loss: 0.1257 - categorical_crossentropy: 0.1257"
     ]
    },
    {
     "name": "stdout",
     "output_type": "stream",
     "text": [
      "4816/4816 [==============================] - ETA: 3s - loss: 0.1248 - categorical_crossentropy: 0.12 - ETA: 3s - loss: 0.1239 - categorical_crossentropy: 0.12 - ETA: 2s - loss: 0.1262 - categorical_crossentropy: 0.12 - ETA: 2s - loss: 0.1259 - categorical_crossentropy: 0.12 - ETA: 2s - loss: 0.1252 - categorical_crossentropy: 0.12 - ETA: 2s - loss: 0.1254 - categorical_crossentropy: 0.12 - ETA: 1s - loss: 0.1247 - categorical_crossentropy: 0.12 - ETA: 1s - loss: 0.1239 - categorical_crossentropy: 0.12 - ETA: 1s - loss: 0.1237 - categorical_crossentropy: 0.12 - ETA: 0s - loss: 0.1228 - categorical_crossentropy: 0.12 - ETA: 0s - loss: 0.1231 - categorical_crossentropy: 0.12 - ETA: 0s - loss: 0.1223 - categorical_crossentropy: 0.12 - ETA: 0s - loss: 0.1252 - categorical_crossentropy: 0.12 - 41s 9ms/step - loss: 0.1255 - categorical_crossentropy: 0.1255 - val_loss: 4.8010 - val_categorical_crossentropy: 4.8010\n",
      "Epoch 23/30\n",
      "4384/4816 [==========================>...] - ETA: 37s - loss: 0.0029 - categorical_crossentropy: 0.002 - ETA: 38s - loss: 0.0257 - categorical_crossentropy: 0.025 - ETA: 39s - loss: 0.0215 - categorical_crossentropy: 0.021 - ETA: 39s - loss: 0.0273 - categorical_crossentropy: 0.027 - ETA: 39s - loss: 0.0569 - categorical_crossentropy: 0.056 - ETA: 38s - loss: 0.0535 - categorical_crossentropy: 0.053 - ETA: 38s - loss: 0.0653 - categorical_crossentropy: 0.065 - ETA: 38s - loss: 0.0649 - categorical_crossentropy: 0.064 - ETA: 38s - loss: 0.0587 - categorical_crossentropy: 0.058 - ETA: 37s - loss: 0.0544 - categorical_crossentropy: 0.054 - ETA: 37s - loss: 0.0606 - categorical_crossentropy: 0.060 - ETA: 37s - loss: 0.0721 - categorical_crossentropy: 0.072 - ETA: 37s - loss: 0.0666 - categorical_crossentropy: 0.066 - ETA: 36s - loss: 0.0677 - categorical_crossentropy: 0.067 - ETA: 36s - loss: 0.0707 - categorical_crossentropy: 0.070 - ETA: 36s - loss: 0.0671 - categorical_crossentropy: 0.067 - ETA: 35s - loss: 0.0678 - categorical_crossentropy: 0.067 - ETA: 35s - loss: 0.0663 - categorical_crossentropy: 0.066 - ETA: 35s - loss: 0.0631 - categorical_crossentropy: 0.063 - ETA: 35s - loss: 0.0607 - categorical_crossentropy: 0.060 - ETA: 34s - loss: 0.0584 - categorical_crossentropy: 0.058 - ETA: 34s - loss: 0.0656 - categorical_crossentropy: 0.065 - ETA: 34s - loss: 0.0722 - categorical_crossentropy: 0.072 - ETA: 34s - loss: 0.0724 - categorical_crossentropy: 0.072 - ETA: 33s - loss: 0.0792 - categorical_crossentropy: 0.079 - ETA: 33s - loss: 0.0788 - categorical_crossentropy: 0.078 - ETA: 33s - loss: 0.0763 - categorical_crossentropy: 0.076 - ETA: 32s - loss: 0.0743 - categorical_crossentropy: 0.074 - ETA: 32s - loss: 0.0750 - categorical_crossentropy: 0.075 - ETA: 32s - loss: 0.0726 - categorical_crossentropy: 0.072 - ETA: 32s - loss: 0.0712 - categorical_crossentropy: 0.071 - ETA: 31s - loss: 0.0746 - categorical_crossentropy: 0.074 - ETA: 31s - loss: 0.0738 - categorical_crossentropy: 0.073 - ETA: 31s - loss: 0.0717 - categorical_crossentropy: 0.071 - ETA: 31s - loss: 0.0712 - categorical_crossentropy: 0.071 - ETA: 30s - loss: 0.0708 - categorical_crossentropy: 0.070 - ETA: 30s - loss: 0.0690 - categorical_crossentropy: 0.069 - ETA: 30s - loss: 0.0708 - categorical_crossentropy: 0.070 - ETA: 29s - loss: 0.0702 - categorical_crossentropy: 0.070 - ETA: 29s - loss: 0.0685 - categorical_crossentropy: 0.068 - ETA: 29s - loss: 0.0734 - categorical_crossentropy: 0.073 - ETA: 29s - loss: 0.0747 - categorical_crossentropy: 0.074 - ETA: 28s - loss: 0.0753 - categorical_crossentropy: 0.075 - ETA: 28s - loss: 0.0736 - categorical_crossentropy: 0.073 - ETA: 28s - loss: 0.0741 - categorical_crossentropy: 0.074 - ETA: 28s - loss: 0.0757 - categorical_crossentropy: 0.075 - ETA: 27s - loss: 0.0749 - categorical_crossentropy: 0.074 - ETA: 27s - loss: 0.0774 - categorical_crossentropy: 0.077 - ETA: 27s - loss: 0.0763 - categorical_crossentropy: 0.076 - ETA: 26s - loss: 0.0779 - categorical_crossentropy: 0.077 - ETA: 26s - loss: 0.0764 - categorical_crossentropy: 0.076 - ETA: 26s - loss: 0.0758 - categorical_crossentropy: 0.075 - ETA: 26s - loss: 0.0743 - categorical_crossentropy: 0.074 - ETA: 25s - loss: 0.0741 - categorical_crossentropy: 0.074 - ETA: 25s - loss: 0.0742 - categorical_crossentropy: 0.074 - ETA: 25s - loss: 0.0760 - categorical_crossentropy: 0.076 - ETA: 25s - loss: 0.0807 - categorical_crossentropy: 0.080 - ETA: 24s - loss: 0.0820 - categorical_crossentropy: 0.082 - ETA: 24s - loss: 0.0807 - categorical_crossentropy: 0.080 - ETA: 24s - loss: 0.0868 - categorical_crossentropy: 0.086 - ETA: 23s - loss: 0.0855 - categorical_crossentropy: 0.085 - ETA: 23s - loss: 0.0862 - categorical_crossentropy: 0.086 - ETA: 23s - loss: 0.0853 - categorical_crossentropy: 0.085 - ETA: 23s - loss: 0.0847 - categorical_crossentropy: 0.084 - ETA: 22s - loss: 0.0850 - categorical_crossentropy: 0.085 - ETA: 22s - loss: 0.0848 - categorical_crossentropy: 0.084 - ETA: 22s - loss: 0.0939 - categorical_crossentropy: 0.093 - ETA: 22s - loss: 0.1006 - categorical_crossentropy: 0.100 - ETA: 21s - loss: 0.0992 - categorical_crossentropy: 0.099 - ETA: 21s - loss: 0.0987 - categorical_crossentropy: 0.098 - ETA: 21s - loss: 0.0979 - categorical_crossentropy: 0.097 - ETA: 21s - loss: 0.0966 - categorical_crossentropy: 0.096 - ETA: 20s - loss: 0.0959 - categorical_crossentropy: 0.095 - ETA: 20s - loss: 0.0954 - categorical_crossentropy: 0.095 - ETA: 20s - loss: 0.0944 - categorical_crossentropy: 0.094 - ETA: 19s - loss: 0.0949 - categorical_crossentropy: 0.094 - ETA: 19s - loss: 0.0945 - categorical_crossentropy: 0.094 - ETA: 19s - loss: 0.0933 - categorical_crossentropy: 0.093 - ETA: 19s - loss: 0.0946 - categorical_crossentropy: 0.094 - ETA: 18s - loss: 0.0947 - categorical_crossentropy: 0.094 - ETA: 18s - loss: 0.0954 - categorical_crossentropy: 0.095 - ETA: 18s - loss: 0.0978 - categorical_crossentropy: 0.097 - ETA: 18s - loss: 0.0969 - categorical_crossentropy: 0.096 - ETA: 17s - loss: 0.0958 - categorical_crossentropy: 0.095 - ETA: 17s - loss: 0.0997 - categorical_crossentropy: 0.099 - ETA: 17s - loss: 0.1000 - categorical_crossentropy: 0.100 - ETA: 17s - loss: 0.1001 - categorical_crossentropy: 0.100 - ETA: 16s - loss: 0.1009 - categorical_crossentropy: 0.100 - ETA: 16s - loss: 0.1032 - categorical_crossentropy: 0.103 - ETA: 16s - loss: 0.1086 - categorical_crossentropy: 0.108 - ETA: 15s - loss: 0.1078 - categorical_crossentropy: 0.107 - ETA: 15s - loss: 0.1071 - categorical_crossentropy: 0.107 - ETA: 15s - loss: 0.1069 - categorical_crossentropy: 0.106 - ETA: 15s - loss: 0.1064 - categorical_crossentropy: 0.106 - ETA: 14s - loss: 0.1088 - categorical_crossentropy: 0.108 - ETA: 14s - loss: 0.1094 - categorical_crossentropy: 0.109 - ETA: 14s - loss: 0.1097 - categorical_crossentropy: 0.109 - ETA: 14s - loss: 0.1087 - categorical_crossentropy: 0.108 - ETA: 13s - loss: 0.1090 - categorical_crossentropy: 0.109 - ETA: 13s - loss: 0.1131 - categorical_crossentropy: 0.113 - ETA: 13s - loss: 0.1137 - categorical_crossentropy: 0.113 - ETA: 13s - loss: 0.1155 - categorical_crossentropy: 0.115 - ETA: 12s - loss: 0.1179 - categorical_crossentropy: 0.117 - ETA: 12s - loss: 0.1168 - categorical_crossentropy: 0.116 - ETA: 12s - loss: 0.1176 - categorical_crossentropy: 0.117 - ETA: 12s - loss: 0.1171 - categorical_crossentropy: 0.117 - ETA: 11s - loss: 0.1163 - categorical_crossentropy: 0.116 - ETA: 11s - loss: 0.1190 - categorical_crossentropy: 0.119 - ETA: 11s - loss: 0.1180 - categorical_crossentropy: 0.118 - ETA: 10s - loss: 0.1173 - categorical_crossentropy: 0.117 - ETA: 10s - loss: 0.1174 - categorical_crossentropy: 0.117 - ETA: 10s - loss: 0.1182 - categorical_crossentropy: 0.118 - ETA: 10s - loss: 0.1189 - categorical_crossentropy: 0.118 - ETA: 9s - loss: 0.1184 - categorical_crossentropy: 0.118 - ETA: 9s - loss: 0.1174 - categorical_crossentropy: 0.11 - ETA: 9s - loss: 0.1200 - categorical_crossentropy: 0.12 - ETA: 9s - loss: 0.1200 - categorical_crossentropy: 0.12 - ETA: 8s - loss: 0.1190 - categorical_crossentropy: 0.11 - ETA: 8s - loss: 0.1182 - categorical_crossentropy: 0.11 - ETA: 8s - loss: 0.1187 - categorical_crossentropy: 0.11 - ETA: 7s - loss: 0.1189 - categorical_crossentropy: 0.11 - ETA: 7s - loss: 0.1203 - categorical_crossentropy: 0.12 - ETA: 7s - loss: 0.1213 - categorical_crossentropy: 0.12 - ETA: 7s - loss: 0.1204 - categorical_crossentropy: 0.12 - ETA: 6s - loss: 0.1194 - categorical_crossentropy: 0.11 - ETA: 6s - loss: 0.1189 - categorical_crossentropy: 0.11 - ETA: 6s - loss: 0.1182 - categorical_crossentropy: 0.11 - ETA: 6s - loss: 0.1173 - categorical_crossentropy: 0.11 - ETA: 5s - loss: 0.1189 - categorical_crossentropy: 0.11 - ETA: 5s - loss: 0.1213 - categorical_crossentropy: 0.12 - ETA: 5s - loss: 0.1212 - categorical_crossentropy: 0.12 - ETA: 4s - loss: 0.1207 - categorical_crossentropy: 0.12 - ETA: 4s - loss: 0.1231 - categorical_crossentropy: 0.12 - ETA: 4s - loss: 0.1226 - categorical_crossentropy: 0.12 - ETA: 4s - loss: 0.1218 - categorical_crossentropy: 0.12 - ETA: 3s - loss: 0.1216 - categorical_crossentropy: 0.12 - ETA: 3s - loss: 0.1209 - categorical_crossentropy: 0.12094816/4816 [==============================] - ETA: 3s - loss: 0.1204 - categorical_crossentropy: 0.12 - ETA: 3s - loss: 0.1207 - categorical_crossentropy: 0.12 - ETA: 2s - loss: 0.1208 - categorical_crossentropy: 0.12 - ETA: 2s - loss: 0.1248 - categorical_crossentropy: 0.12 - ETA: 2s - loss: 0.1241 - categorical_crossentropy: 0.12 - ETA: 2s - loss: 0.1233 - categorical_crossentropy: 0.12 - ETA: 1s - loss: 0.1226 - categorical_crossentropy: 0.12 - ETA: 1s - loss: 0.1242 - categorical_crossentropy: 0.12 - ETA: 1s - loss: 0.1235 - categorical_crossentropy: 0.12 - ETA: 0s - loss: 0.1228 - categorical_crossentropy: 0.12 - ETA: 0s - loss: 0.1220 - categorical_crossentropy: 0.12 - ETA: 0s - loss: 0.1212 - categorical_crossentropy: 0.12 - ETA: 0s - loss: 0.1206 - categorical_crossentropy: 0.12 - 41s 9ms/step - loss: 0.1210 - categorical_crossentropy: 0.1210 - val_loss: 4.6987 - val_categorical_crossentropy: 4.6987\n",
      "Epoch 24/30\n"
     ]
    },
    {
     "name": "stdout",
     "output_type": "stream",
     "text": [
      "4384/4816 [==========================>...] - ETA: 39s - loss: 0.2383 - categorical_crossentropy: 0.238 - ETA: 38s - loss: 0.2132 - categorical_crossentropy: 0.213 - ETA: 39s - loss: 0.1468 - categorical_crossentropy: 0.146 - ETA: 38s - loss: 0.1313 - categorical_crossentropy: 0.131 - ETA: 38s - loss: 0.1146 - categorical_crossentropy: 0.114 - ETA: 38s - loss: 0.0962 - categorical_crossentropy: 0.096 - ETA: 38s - loss: 0.1264 - categorical_crossentropy: 0.126 - ETA: 37s - loss: 0.1112 - categorical_crossentropy: 0.111 - ETA: 37s - loss: 0.1115 - categorical_crossentropy: 0.111 - ETA: 37s - loss: 0.1021 - categorical_crossentropy: 0.102 - ETA: 37s - loss: 0.1434 - categorical_crossentropy: 0.143 - ETA: 36s - loss: 0.1393 - categorical_crossentropy: 0.139 - ETA: 36s - loss: 0.1308 - categorical_crossentropy: 0.130 - ETA: 36s - loss: 0.1308 - categorical_crossentropy: 0.130 - ETA: 36s - loss: 0.1238 - categorical_crossentropy: 0.123 - ETA: 35s - loss: 0.1237 - categorical_crossentropy: 0.123 - ETA: 35s - loss: 0.1187 - categorical_crossentropy: 0.118 - ETA: 35s - loss: 0.1143 - categorical_crossentropy: 0.114 - ETA: 35s - loss: 0.1172 - categorical_crossentropy: 0.117 - ETA: 34s - loss: 0.1183 - categorical_crossentropy: 0.118 - ETA: 34s - loss: 0.1134 - categorical_crossentropy: 0.113 - ETA: 34s - loss: 0.1147 - categorical_crossentropy: 0.114 - ETA: 34s - loss: 0.1117 - categorical_crossentropy: 0.111 - ETA: 33s - loss: 0.1172 - categorical_crossentropy: 0.117 - ETA: 33s - loss: 0.1216 - categorical_crossentropy: 0.121 - ETA: 33s - loss: 0.1224 - categorical_crossentropy: 0.122 - ETA: 33s - loss: 0.1221 - categorical_crossentropy: 0.122 - ETA: 32s - loss: 0.1198 - categorical_crossentropy: 0.119 - ETA: 32s - loss: 0.1228 - categorical_crossentropy: 0.122 - ETA: 32s - loss: 0.1231 - categorical_crossentropy: 0.123 - ETA: 31s - loss: 0.1208 - categorical_crossentropy: 0.120 - ETA: 31s - loss: 0.1171 - categorical_crossentropy: 0.117 - ETA: 31s - loss: 0.1156 - categorical_crossentropy: 0.115 - ETA: 31s - loss: 0.1128 - categorical_crossentropy: 0.112 - ETA: 31s - loss: 0.1120 - categorical_crossentropy: 0.112 - ETA: 30s - loss: 0.1129 - categorical_crossentropy: 0.112 - ETA: 30s - loss: 0.1113 - categorical_crossentropy: 0.111 - ETA: 30s - loss: 0.1108 - categorical_crossentropy: 0.110 - ETA: 30s - loss: 0.1084 - categorical_crossentropy: 0.108 - ETA: 29s - loss: 0.1073 - categorical_crossentropy: 0.107 - ETA: 29s - loss: 0.1074 - categorical_crossentropy: 0.107 - ETA: 29s - loss: 0.1085 - categorical_crossentropy: 0.108 - ETA: 28s - loss: 0.1064 - categorical_crossentropy: 0.106 - ETA: 28s - loss: 0.1052 - categorical_crossentropy: 0.105 - ETA: 28s - loss: 0.1031 - categorical_crossentropy: 0.103 - ETA: 28s - loss: 0.1092 - categorical_crossentropy: 0.109 - ETA: 27s - loss: 0.1081 - categorical_crossentropy: 0.108 - ETA: 27s - loss: 0.1069 - categorical_crossentropy: 0.106 - ETA: 27s - loss: 0.1075 - categorical_crossentropy: 0.107 - ETA: 27s - loss: 0.1068 - categorical_crossentropy: 0.106 - ETA: 26s - loss: 0.1047 - categorical_crossentropy: 0.104 - ETA: 26s - loss: 0.1035 - categorical_crossentropy: 0.103 - ETA: 26s - loss: 0.1112 - categorical_crossentropy: 0.111 - ETA: 25s - loss: 0.1107 - categorical_crossentropy: 0.110 - ETA: 25s - loss: 0.1093 - categorical_crossentropy: 0.109 - ETA: 25s - loss: 0.1078 - categorical_crossentropy: 0.107 - ETA: 25s - loss: 0.1071 - categorical_crossentropy: 0.107 - ETA: 24s - loss: 0.1058 - categorical_crossentropy: 0.105 - ETA: 24s - loss: 0.1075 - categorical_crossentropy: 0.107 - ETA: 24s - loss: 0.1060 - categorical_crossentropy: 0.106 - ETA: 24s - loss: 0.1045 - categorical_crossentropy: 0.104 - ETA: 23s - loss: 0.1176 - categorical_crossentropy: 0.117 - ETA: 23s - loss: 0.1215 - categorical_crossentropy: 0.121 - ETA: 23s - loss: 0.1204 - categorical_crossentropy: 0.120 - ETA: 22s - loss: 0.1199 - categorical_crossentropy: 0.119 - ETA: 22s - loss: 0.1245 - categorical_crossentropy: 0.124 - ETA: 22s - loss: 0.1252 - categorical_crossentropy: 0.125 - ETA: 22s - loss: 0.1244 - categorical_crossentropy: 0.124 - ETA: 21s - loss: 0.1229 - categorical_crossentropy: 0.122 - ETA: 21s - loss: 0.1244 - categorical_crossentropy: 0.124 - ETA: 21s - loss: 0.1228 - categorical_crossentropy: 0.122 - ETA: 21s - loss: 0.1211 - categorical_crossentropy: 0.121 - ETA: 20s - loss: 0.1199 - categorical_crossentropy: 0.119 - ETA: 20s - loss: 0.1211 - categorical_crossentropy: 0.121 - ETA: 20s - loss: 0.1230 - categorical_crossentropy: 0.123 - ETA: 20s - loss: 0.1220 - categorical_crossentropy: 0.122 - ETA: 19s - loss: 0.1230 - categorical_crossentropy: 0.123 - ETA: 19s - loss: 0.1248 - categorical_crossentropy: 0.124 - ETA: 19s - loss: 0.1242 - categorical_crossentropy: 0.124 - ETA: 18s - loss: 0.1237 - categorical_crossentropy: 0.123 - ETA: 18s - loss: 0.1225 - categorical_crossentropy: 0.122 - ETA: 18s - loss: 0.1213 - categorical_crossentropy: 0.121 - ETA: 18s - loss: 0.1217 - categorical_crossentropy: 0.121 - ETA: 17s - loss: 0.1220 - categorical_crossentropy: 0.122 - ETA: 17s - loss: 0.1219 - categorical_crossentropy: 0.121 - ETA: 17s - loss: 0.1231 - categorical_crossentropy: 0.123 - ETA: 17s - loss: 0.1231 - categorical_crossentropy: 0.123 - ETA: 16s - loss: 0.1218 - categorical_crossentropy: 0.121 - ETA: 16s - loss: 0.1212 - categorical_crossentropy: 0.121 - ETA: 16s - loss: 0.1210 - categorical_crossentropy: 0.121 - ETA: 15s - loss: 0.1219 - categorical_crossentropy: 0.121 - ETA: 15s - loss: 0.1236 - categorical_crossentropy: 0.123 - ETA: 15s - loss: 0.1227 - categorical_crossentropy: 0.122 - ETA: 15s - loss: 0.1222 - categorical_crossentropy: 0.122 - ETA: 14s - loss: 0.1233 - categorical_crossentropy: 0.123 - ETA: 14s - loss: 0.1237 - categorical_crossentropy: 0.123 - ETA: 14s - loss: 0.1229 - categorical_crossentropy: 0.122 - ETA: 14s - loss: 0.1223 - categorical_crossentropy: 0.122 - ETA: 13s - loss: 0.1219 - categorical_crossentropy: 0.121 - ETA: 13s - loss: 0.1216 - categorical_crossentropy: 0.121 - ETA: 13s - loss: 0.1230 - categorical_crossentropy: 0.123 - ETA: 13s - loss: 0.1235 - categorical_crossentropy: 0.123 - ETA: 12s - loss: 0.1272 - categorical_crossentropy: 0.127 - ETA: 12s - loss: 0.1275 - categorical_crossentropy: 0.127 - ETA: 12s - loss: 0.1295 - categorical_crossentropy: 0.129 - ETA: 11s - loss: 0.1285 - categorical_crossentropy: 0.128 - ETA: 11s - loss: 0.1285 - categorical_crossentropy: 0.128 - ETA: 11s - loss: 0.1286 - categorical_crossentropy: 0.128 - ETA: 11s - loss: 0.1286 - categorical_crossentropy: 0.128 - ETA: 10s - loss: 0.1290 - categorical_crossentropy: 0.129 - ETA: 10s - loss: 0.1293 - categorical_crossentropy: 0.129 - ETA: 10s - loss: 0.1304 - categorical_crossentropy: 0.130 - ETA: 10s - loss: 0.1308 - categorical_crossentropy: 0.130 - ETA: 9s - loss: 0.1334 - categorical_crossentropy: 0.133 - ETA: 9s - loss: 0.1326 - categorical_crossentropy: 0.13 - ETA: 9s - loss: 0.1336 - categorical_crossentropy: 0.13 - ETA: 8s - loss: 0.1327 - categorical_crossentropy: 0.13 - ETA: 8s - loss: 0.1324 - categorical_crossentropy: 0.13 - ETA: 8s - loss: 0.1331 - categorical_crossentropy: 0.13 - ETA: 8s - loss: 0.1320 - categorical_crossentropy: 0.13 - ETA: 7s - loss: 0.1316 - categorical_crossentropy: 0.13 - ETA: 7s - loss: 0.1322 - categorical_crossentropy: 0.13 - ETA: 7s - loss: 0.1311 - categorical_crossentropy: 0.13 - ETA: 7s - loss: 0.1304 - categorical_crossentropy: 0.13 - ETA: 6s - loss: 0.1306 - categorical_crossentropy: 0.13 - ETA: 6s - loss: 0.1364 - categorical_crossentropy: 0.13 - ETA: 6s - loss: 0.1396 - categorical_crossentropy: 0.13 - ETA: 6s - loss: 0.1387 - categorical_crossentropy: 0.13 - ETA: 5s - loss: 0.1400 - categorical_crossentropy: 0.14 - ETA: 5s - loss: 0.1392 - categorical_crossentropy: 0.13 - ETA: 5s - loss: 0.1382 - categorical_crossentropy: 0.13 - ETA: 4s - loss: 0.1389 - categorical_crossentropy: 0.13 - ETA: 4s - loss: 0.1384 - categorical_crossentropy: 0.13 - ETA: 4s - loss: 0.1377 - categorical_crossentropy: 0.13 - ETA: 4s - loss: 0.1375 - categorical_crossentropy: 0.13 - ETA: 3s - loss: 0.1366 - categorical_crossentropy: 0.13 - ETA: 3s - loss: 0.1357 - categorical_crossentropy: 0.1357"
     ]
    },
    {
     "name": "stdout",
     "output_type": "stream",
     "text": [
      "4816/4816 [==============================] - ETA: 3s - loss: 0.1349 - categorical_crossentropy: 0.13 - ETA: 3s - loss: 0.1340 - categorical_crossentropy: 0.13 - ETA: 2s - loss: 0.1369 - categorical_crossentropy: 0.13 - ETA: 2s - loss: 0.1373 - categorical_crossentropy: 0.13 - ETA: 2s - loss: 0.1363 - categorical_crossentropy: 0.13 - ETA: 2s - loss: 0.1359 - categorical_crossentropy: 0.13 - ETA: 1s - loss: 0.1354 - categorical_crossentropy: 0.13 - ETA: 1s - loss: 0.1348 - categorical_crossentropy: 0.13 - ETA: 1s - loss: 0.1340 - categorical_crossentropy: 0.13 - ETA: 0s - loss: 0.1335 - categorical_crossentropy: 0.13 - ETA: 0s - loss: 0.1327 - categorical_crossentropy: 0.13 - ETA: 0s - loss: 0.1319 - categorical_crossentropy: 0.13 - ETA: 0s - loss: 0.1310 - categorical_crossentropy: 0.13 - 41s 9ms/step - loss: 0.1316 - categorical_crossentropy: 0.1316 - val_loss: 4.8197 - val_categorical_crossentropy: 4.8197\n",
      "Epoch 25/30\n",
      "4384/4816 [==========================>...] - ETA: 39s - loss: 0.5907 - categorical_crossentropy: 0.590 - ETA: 41s - loss: 0.3134 - categorical_crossentropy: 0.313 - ETA: 40s - loss: 0.2177 - categorical_crossentropy: 0.217 - ETA: 40s - loss: 0.1665 - categorical_crossentropy: 0.166 - ETA: 40s - loss: 0.1515 - categorical_crossentropy: 0.151 - ETA: 39s - loss: 0.1291 - categorical_crossentropy: 0.129 - ETA: 39s - loss: 0.1322 - categorical_crossentropy: 0.132 - ETA: 38s - loss: 0.1619 - categorical_crossentropy: 0.161 - ETA: 38s - loss: 0.1582 - categorical_crossentropy: 0.158 - ETA: 38s - loss: 0.1581 - categorical_crossentropy: 0.158 - ETA: 37s - loss: 0.1474 - categorical_crossentropy: 0.147 - ETA: 37s - loss: 0.1483 - categorical_crossentropy: 0.148 - ETA: 37s - loss: 0.1443 - categorical_crossentropy: 0.144 - ETA: 36s - loss: 0.1619 - categorical_crossentropy: 0.161 - ETA: 36s - loss: 0.1512 - categorical_crossentropy: 0.151 - ETA: 36s - loss: 0.1435 - categorical_crossentropy: 0.143 - ETA: 35s - loss: 0.1365 - categorical_crossentropy: 0.136 - ETA: 35s - loss: 0.1290 - categorical_crossentropy: 0.129 - ETA: 35s - loss: 0.1240 - categorical_crossentropy: 0.124 - ETA: 35s - loss: 0.1230 - categorical_crossentropy: 0.123 - ETA: 34s - loss: 0.1205 - categorical_crossentropy: 0.120 - ETA: 34s - loss: 0.1185 - categorical_crossentropy: 0.118 - ETA: 34s - loss: 0.1235 - categorical_crossentropy: 0.123 - ETA: 34s - loss: 0.1214 - categorical_crossentropy: 0.121 - ETA: 33s - loss: 0.1194 - categorical_crossentropy: 0.119 - ETA: 33s - loss: 0.1201 - categorical_crossentropy: 0.120 - ETA: 33s - loss: 0.1162 - categorical_crossentropy: 0.116 - ETA: 32s - loss: 0.1148 - categorical_crossentropy: 0.114 - ETA: 32s - loss: 0.1131 - categorical_crossentropy: 0.113 - ETA: 32s - loss: 0.1093 - categorical_crossentropy: 0.109 - ETA: 32s - loss: 0.1066 - categorical_crossentropy: 0.106 - ETA: 31s - loss: 0.1073 - categorical_crossentropy: 0.107 - ETA: 31s - loss: 0.1155 - categorical_crossentropy: 0.115 - ETA: 31s - loss: 0.1158 - categorical_crossentropy: 0.115 - ETA: 31s - loss: 0.1162 - categorical_crossentropy: 0.116 - ETA: 30s - loss: 0.1146 - categorical_crossentropy: 0.114 - ETA: 30s - loss: 0.1122 - categorical_crossentropy: 0.112 - ETA: 30s - loss: 0.1098 - categorical_crossentropy: 0.109 - ETA: 30s - loss: 0.1073 - categorical_crossentropy: 0.107 - ETA: 29s - loss: 0.1075 - categorical_crossentropy: 0.107 - ETA: 29s - loss: 0.1053 - categorical_crossentropy: 0.105 - ETA: 29s - loss: 0.1032 - categorical_crossentropy: 0.103 - ETA: 28s - loss: 0.1024 - categorical_crossentropy: 0.102 - ETA: 28s - loss: 0.1011 - categorical_crossentropy: 0.101 - ETA: 28s - loss: 0.0992 - categorical_crossentropy: 0.099 - ETA: 28s - loss: 0.0985 - categorical_crossentropy: 0.098 - ETA: 27s - loss: 0.0980 - categorical_crossentropy: 0.098 - ETA: 27s - loss: 0.0960 - categorical_crossentropy: 0.096 - ETA: 27s - loss: 0.0967 - categorical_crossentropy: 0.096 - ETA: 27s - loss: 0.0973 - categorical_crossentropy: 0.097 - ETA: 26s - loss: 0.0956 - categorical_crossentropy: 0.095 - ETA: 26s - loss: 0.0952 - categorical_crossentropy: 0.095 - ETA: 26s - loss: 0.0959 - categorical_crossentropy: 0.095 - ETA: 25s - loss: 0.0964 - categorical_crossentropy: 0.096 - ETA: 25s - loss: 0.0953 - categorical_crossentropy: 0.095 - ETA: 25s - loss: 0.0938 - categorical_crossentropy: 0.093 - ETA: 25s - loss: 0.0922 - categorical_crossentropy: 0.092 - ETA: 24s - loss: 0.0910 - categorical_crossentropy: 0.091 - ETA: 24s - loss: 0.0906 - categorical_crossentropy: 0.090 - ETA: 24s - loss: 0.0892 - categorical_crossentropy: 0.089 - ETA: 24s - loss: 0.0902 - categorical_crossentropy: 0.090 - ETA: 23s - loss: 0.0902 - categorical_crossentropy: 0.090 - ETA: 23s - loss: 0.0890 - categorical_crossentropy: 0.089 - ETA: 23s - loss: 0.0881 - categorical_crossentropy: 0.088 - ETA: 22s - loss: 0.0868 - categorical_crossentropy: 0.086 - ETA: 22s - loss: 0.0859 - categorical_crossentropy: 0.085 - ETA: 22s - loss: 0.0846 - categorical_crossentropy: 0.084 - ETA: 22s - loss: 0.0841 - categorical_crossentropy: 0.084 - ETA: 21s - loss: 0.0829 - categorical_crossentropy: 0.082 - ETA: 21s - loss: 0.0829 - categorical_crossentropy: 0.082 - ETA: 21s - loss: 0.0825 - categorical_crossentropy: 0.082 - ETA: 21s - loss: 0.0827 - categorical_crossentropy: 0.082 - ETA: 20s - loss: 0.0817 - categorical_crossentropy: 0.081 - ETA: 20s - loss: 0.0828 - categorical_crossentropy: 0.082 - ETA: 20s - loss: 0.0818 - categorical_crossentropy: 0.081 - ETA: 19s - loss: 0.0822 - categorical_crossentropy: 0.082 - ETA: 19s - loss: 0.0843 - categorical_crossentropy: 0.084 - ETA: 19s - loss: 0.0854 - categorical_crossentropy: 0.085 - ETA: 19s - loss: 0.0845 - categorical_crossentropy: 0.084 - ETA: 18s - loss: 0.0873 - categorical_crossentropy: 0.087 - ETA: 18s - loss: 0.0870 - categorical_crossentropy: 0.087 - ETA: 18s - loss: 0.0862 - categorical_crossentropy: 0.086 - ETA: 18s - loss: 0.0870 - categorical_crossentropy: 0.087 - ETA: 17s - loss: 0.0859 - categorical_crossentropy: 0.085 - ETA: 17s - loss: 0.0849 - categorical_crossentropy: 0.084 - ETA: 17s - loss: 0.0840 - categorical_crossentropy: 0.084 - ETA: 17s - loss: 0.0839 - categorical_crossentropy: 0.083 - ETA: 16s - loss: 0.0831 - categorical_crossentropy: 0.083 - ETA: 16s - loss: 0.0830 - categorical_crossentropy: 0.083 - ETA: 16s - loss: 0.0826 - categorical_crossentropy: 0.082 - ETA: 15s - loss: 0.0817 - categorical_crossentropy: 0.081 - ETA: 15s - loss: 0.0808 - categorical_crossentropy: 0.080 - ETA: 15s - loss: 0.0800 - categorical_crossentropy: 0.080 - ETA: 15s - loss: 0.0791 - categorical_crossentropy: 0.079 - ETA: 14s - loss: 0.0783 - categorical_crossentropy: 0.078 - ETA: 14s - loss: 0.0778 - categorical_crossentropy: 0.077 - ETA: 14s - loss: 0.0771 - categorical_crossentropy: 0.077 - ETA: 14s - loss: 0.0783 - categorical_crossentropy: 0.078 - ETA: 13s - loss: 0.0776 - categorical_crossentropy: 0.077 - ETA: 13s - loss: 0.0786 - categorical_crossentropy: 0.078 - ETA: 13s - loss: 0.0796 - categorical_crossentropy: 0.079 - ETA: 13s - loss: 0.0788 - categorical_crossentropy: 0.078 - ETA: 12s - loss: 0.0784 - categorical_crossentropy: 0.078 - ETA: 12s - loss: 0.0800 - categorical_crossentropy: 0.080 - ETA: 12s - loss: 0.0792 - categorical_crossentropy: 0.079 - ETA: 11s - loss: 0.0786 - categorical_crossentropy: 0.078 - ETA: 11s - loss: 0.0784 - categorical_crossentropy: 0.078 - ETA: 11s - loss: 0.0777 - categorical_crossentropy: 0.077 - ETA: 11s - loss: 0.0771 - categorical_crossentropy: 0.077 - ETA: 10s - loss: 0.0777 - categorical_crossentropy: 0.077 - ETA: 10s - loss: 0.0771 - categorical_crossentropy: 0.077 - ETA: 10s - loss: 0.0768 - categorical_crossentropy: 0.076 - ETA: 10s - loss: 0.0761 - categorical_crossentropy: 0.076 - ETA: 9s - loss: 0.0754 - categorical_crossentropy: 0.075 - ETA: 9s - loss: 0.0748 - categorical_crossentropy: 0.07 - ETA: 9s - loss: 0.0761 - categorical_crossentropy: 0.07 - ETA: 8s - loss: 0.0759 - categorical_crossentropy: 0.07 - ETA: 8s - loss: 0.0754 - categorical_crossentropy: 0.07 - ETA: 8s - loss: 0.0756 - categorical_crossentropy: 0.07 - ETA: 8s - loss: 0.0750 - categorical_crossentropy: 0.07 - ETA: 7s - loss: 0.0746 - categorical_crossentropy: 0.07 - ETA: 7s - loss: 0.0741 - categorical_crossentropy: 0.07 - ETA: 7s - loss: 0.0741 - categorical_crossentropy: 0.07 - ETA: 7s - loss: 0.0753 - categorical_crossentropy: 0.07 - ETA: 6s - loss: 0.0785 - categorical_crossentropy: 0.07 - ETA: 6s - loss: 0.0794 - categorical_crossentropy: 0.07 - ETA: 6s - loss: 0.0797 - categorical_crossentropy: 0.07 - ETA: 6s - loss: 0.0801 - categorical_crossentropy: 0.08 - ETA: 5s - loss: 0.0811 - categorical_crossentropy: 0.08 - ETA: 5s - loss: 0.0806 - categorical_crossentropy: 0.08 - ETA: 5s - loss: 0.0801 - categorical_crossentropy: 0.08 - ETA: 4s - loss: 0.0812 - categorical_crossentropy: 0.08 - ETA: 4s - loss: 0.0811 - categorical_crossentropy: 0.08 - ETA: 4s - loss: 0.0807 - categorical_crossentropy: 0.08 - ETA: 4s - loss: 0.0803 - categorical_crossentropy: 0.08 - ETA: 3s - loss: 0.0826 - categorical_crossentropy: 0.08 - ETA: 3s - loss: 0.0826 - categorical_crossentropy: 0.08264816/4816 [==============================] - ETA: 3s - loss: 0.0866 - categorical_crossentropy: 0.08 - ETA: 3s - loss: 0.0876 - categorical_crossentropy: 0.08 - ETA: 2s - loss: 0.0884 - categorical_crossentropy: 0.08 - ETA: 2s - loss: 0.0884 - categorical_crossentropy: 0.08 - ETA: 2s - loss: 0.0888 - categorical_crossentropy: 0.08 - ETA: 2s - loss: 0.0939 - categorical_crossentropy: 0.09 - ETA: 1s - loss: 0.0981 - categorical_crossentropy: 0.09 - ETA: 1s - loss: 0.0983 - categorical_crossentropy: 0.09 - ETA: 1s - loss: 0.0977 - categorical_crossentropy: 0.09 - ETA: 0s - loss: 0.0981 - categorical_crossentropy: 0.09 - ETA: 0s - loss: 0.0981 - categorical_crossentropy: 0.09 - ETA: 0s - loss: 0.0995 - categorical_crossentropy: 0.09 - ETA: 0s - loss: 0.0994 - categorical_crossentropy: 0.09 - 41s 9ms/step - loss: 0.0993 - categorical_crossentropy: 0.0993 - val_loss: 4.1410 - val_categorical_crossentropy: 4.1410\n",
      "Epoch 26/30\n"
     ]
    },
    {
     "name": "stdout",
     "output_type": "stream",
     "text": [
      "4384/4816 [==========================>...] - ETA: 39s - loss: 0.1008 - categorical_crossentropy: 0.100 - ETA: 39s - loss: 0.0740 - categorical_crossentropy: 0.074 - ETA: 39s - loss: 0.2487 - categorical_crossentropy: 0.248 - ETA: 38s - loss: 0.1909 - categorical_crossentropy: 0.190 - ETA: 40s - loss: 0.1567 - categorical_crossentropy: 0.156 - ETA: 39s - loss: 0.1513 - categorical_crossentropy: 0.151 - ETA: 38s - loss: 0.1494 - categorical_crossentropy: 0.149 - ETA: 38s - loss: 0.1322 - categorical_crossentropy: 0.132 - ETA: 38s - loss: 0.1196 - categorical_crossentropy: 0.119 - ETA: 37s - loss: 0.1259 - categorical_crossentropy: 0.125 - ETA: 37s - loss: 0.1163 - categorical_crossentropy: 0.116 - ETA: 37s - loss: 0.1097 - categorical_crossentropy: 0.109 - ETA: 37s - loss: 0.1080 - categorical_crossentropy: 0.108 - ETA: 36s - loss: 0.1138 - categorical_crossentropy: 0.113 - ETA: 36s - loss: 0.1152 - categorical_crossentropy: 0.115 - ETA: 36s - loss: 0.1196 - categorical_crossentropy: 0.119 - ETA: 35s - loss: 0.1162 - categorical_crossentropy: 0.116 - ETA: 35s - loss: 0.1107 - categorical_crossentropy: 0.110 - ETA: 35s - loss: 0.1184 - categorical_crossentropy: 0.118 - ETA: 35s - loss: 0.1185 - categorical_crossentropy: 0.118 - ETA: 34s - loss: 0.1129 - categorical_crossentropy: 0.112 - ETA: 34s - loss: 0.1078 - categorical_crossentropy: 0.107 - ETA: 34s - loss: 0.1110 - categorical_crossentropy: 0.111 - ETA: 34s - loss: 0.1131 - categorical_crossentropy: 0.113 - ETA: 33s - loss: 0.1086 - categorical_crossentropy: 0.108 - ETA: 33s - loss: 0.1051 - categorical_crossentropy: 0.105 - ETA: 33s - loss: 0.1013 - categorical_crossentropy: 0.101 - ETA: 33s - loss: 0.0986 - categorical_crossentropy: 0.098 - ETA: 32s - loss: 0.1016 - categorical_crossentropy: 0.101 - ETA: 32s - loss: 0.0983 - categorical_crossentropy: 0.098 - ETA: 32s - loss: 0.0952 - categorical_crossentropy: 0.095 - ETA: 31s - loss: 0.0986 - categorical_crossentropy: 0.098 - ETA: 31s - loss: 0.0974 - categorical_crossentropy: 0.097 - ETA: 31s - loss: 0.0972 - categorical_crossentropy: 0.097 - ETA: 31s - loss: 0.0945 - categorical_crossentropy: 0.094 - ETA: 30s - loss: 0.0919 - categorical_crossentropy: 0.091 - ETA: 30s - loss: 0.0921 - categorical_crossentropy: 0.092 - ETA: 30s - loss: 0.0911 - categorical_crossentropy: 0.091 - ETA: 30s - loss: 0.0891 - categorical_crossentropy: 0.089 - ETA: 29s - loss: 0.0872 - categorical_crossentropy: 0.087 - ETA: 29s - loss: 0.0851 - categorical_crossentropy: 0.085 - ETA: 29s - loss: 0.0831 - categorical_crossentropy: 0.083 - ETA: 28s - loss: 0.0812 - categorical_crossentropy: 0.081 - ETA: 28s - loss: 0.0795 - categorical_crossentropy: 0.079 - ETA: 28s - loss: 0.0778 - categorical_crossentropy: 0.077 - ETA: 28s - loss: 0.0770 - categorical_crossentropy: 0.077 - ETA: 27s - loss: 0.0767 - categorical_crossentropy: 0.076 - ETA: 27s - loss: 0.0756 - categorical_crossentropy: 0.075 - ETA: 27s - loss: 0.0744 - categorical_crossentropy: 0.074 - ETA: 27s - loss: 0.0729 - categorical_crossentropy: 0.072 - ETA: 26s - loss: 0.0732 - categorical_crossentropy: 0.073 - ETA: 26s - loss: 0.0735 - categorical_crossentropy: 0.073 - ETA: 26s - loss: 0.0738 - categorical_crossentropy: 0.073 - ETA: 25s - loss: 0.0725 - categorical_crossentropy: 0.072 - ETA: 25s - loss: 0.0713 - categorical_crossentropy: 0.071 - ETA: 25s - loss: 0.0701 - categorical_crossentropy: 0.070 - ETA: 25s - loss: 0.0690 - categorical_crossentropy: 0.069 - ETA: 24s - loss: 0.0693 - categorical_crossentropy: 0.069 - ETA: 24s - loss: 0.0682 - categorical_crossentropy: 0.068 - ETA: 24s - loss: 0.0671 - categorical_crossentropy: 0.067 - ETA: 24s - loss: 0.0696 - categorical_crossentropy: 0.069 - ETA: 23s - loss: 0.0691 - categorical_crossentropy: 0.069 - ETA: 23s - loss: 0.0686 - categorical_crossentropy: 0.068 - ETA: 23s - loss: 0.0691 - categorical_crossentropy: 0.069 - ETA: 23s - loss: 0.0723 - categorical_crossentropy: 0.072 - ETA: 22s - loss: 0.0792 - categorical_crossentropy: 0.079 - ETA: 22s - loss: 0.0782 - categorical_crossentropy: 0.078 - ETA: 22s - loss: 0.0777 - categorical_crossentropy: 0.077 - ETA: 21s - loss: 0.0765 - categorical_crossentropy: 0.076 - ETA: 21s - loss: 0.0754 - categorical_crossentropy: 0.075 - ETA: 21s - loss: 0.0753 - categorical_crossentropy: 0.075 - ETA: 21s - loss: 0.0760 - categorical_crossentropy: 0.076 - ETA: 20s - loss: 0.0774 - categorical_crossentropy: 0.077 - ETA: 20s - loss: 0.0774 - categorical_crossentropy: 0.077 - ETA: 20s - loss: 0.0783 - categorical_crossentropy: 0.078 - ETA: 20s - loss: 0.0775 - categorical_crossentropy: 0.077 - ETA: 19s - loss: 0.0767 - categorical_crossentropy: 0.076 - ETA: 19s - loss: 0.0757 - categorical_crossentropy: 0.075 - ETA: 19s - loss: 0.0759 - categorical_crossentropy: 0.075 - ETA: 18s - loss: 0.0788 - categorical_crossentropy: 0.078 - ETA: 18s - loss: 0.0807 - categorical_crossentropy: 0.080 - ETA: 18s - loss: 0.0818 - categorical_crossentropy: 0.081 - ETA: 18s - loss: 0.0819 - categorical_crossentropy: 0.081 - ETA: 17s - loss: 0.0809 - categorical_crossentropy: 0.080 - ETA: 17s - loss: 0.0802 - categorical_crossentropy: 0.080 - ETA: 17s - loss: 0.0798 - categorical_crossentropy: 0.079 - ETA: 17s - loss: 0.0801 - categorical_crossentropy: 0.080 - ETA: 16s - loss: 0.0792 - categorical_crossentropy: 0.079 - ETA: 16s - loss: 0.0786 - categorical_crossentropy: 0.078 - ETA: 16s - loss: 0.0793 - categorical_crossentropy: 0.079 - ETA: 15s - loss: 0.0820 - categorical_crossentropy: 0.082 - ETA: 15s - loss: 0.0811 - categorical_crossentropy: 0.081 - ETA: 15s - loss: 0.0806 - categorical_crossentropy: 0.080 - ETA: 15s - loss: 0.0827 - categorical_crossentropy: 0.082 - ETA: 14s - loss: 0.0837 - categorical_crossentropy: 0.083 - ETA: 14s - loss: 0.0831 - categorical_crossentropy: 0.083 - ETA: 14s - loss: 0.0829 - categorical_crossentropy: 0.082 - ETA: 14s - loss: 0.0842 - categorical_crossentropy: 0.084 - ETA: 13s - loss: 0.0834 - categorical_crossentropy: 0.083 - ETA: 13s - loss: 0.0834 - categorical_crossentropy: 0.083 - ETA: 13s - loss: 0.0835 - categorical_crossentropy: 0.083 - ETA: 13s - loss: 0.0827 - categorical_crossentropy: 0.082 - ETA: 12s - loss: 0.0819 - categorical_crossentropy: 0.081 - ETA: 12s - loss: 0.0815 - categorical_crossentropy: 0.081 - ETA: 12s - loss: 0.0820 - categorical_crossentropy: 0.082 - ETA: 11s - loss: 0.0827 - categorical_crossentropy: 0.082 - ETA: 11s - loss: 0.0819 - categorical_crossentropy: 0.081 - ETA: 11s - loss: 0.0830 - categorical_crossentropy: 0.083 - ETA: 11s - loss: 0.0829 - categorical_crossentropy: 0.082 - ETA: 10s - loss: 0.0823 - categorical_crossentropy: 0.082 - ETA: 10s - loss: 0.0839 - categorical_crossentropy: 0.083 - ETA: 10s - loss: 0.0836 - categorical_crossentropy: 0.083 - ETA: 10s - loss: 0.0829 - categorical_crossentropy: 0.082 - ETA: 9s - loss: 0.0825 - categorical_crossentropy: 0.082 - ETA: 9s - loss: 0.0820 - categorical_crossentropy: 0.08 - ETA: 9s - loss: 0.0813 - categorical_crossentropy: 0.08 - ETA: 8s - loss: 0.0809 - categorical_crossentropy: 0.08 - ETA: 8s - loss: 0.0804 - categorical_crossentropy: 0.08 - ETA: 8s - loss: 0.0811 - categorical_crossentropy: 0.08 - ETA: 8s - loss: 0.0809 - categorical_crossentropy: 0.08 - ETA: 7s - loss: 0.0803 - categorical_crossentropy: 0.08 - ETA: 7s - loss: 0.0797 - categorical_crossentropy: 0.07 - ETA: 7s - loss: 0.0820 - categorical_crossentropy: 0.08 - ETA: 7s - loss: 0.0831 - categorical_crossentropy: 0.08 - ETA: 6s - loss: 0.0824 - categorical_crossentropy: 0.08 - ETA: 6s - loss: 0.0818 - categorical_crossentropy: 0.08 - ETA: 6s - loss: 0.0822 - categorical_crossentropy: 0.08 - ETA: 6s - loss: 0.0830 - categorical_crossentropy: 0.08 - ETA: 5s - loss: 0.0824 - categorical_crossentropy: 0.08 - ETA: 5s - loss: 0.0819 - categorical_crossentropy: 0.08 - ETA: 5s - loss: 0.0819 - categorical_crossentropy: 0.08 - ETA: 4s - loss: 0.0816 - categorical_crossentropy: 0.08 - ETA: 4s - loss: 0.0811 - categorical_crossentropy: 0.08 - ETA: 4s - loss: 0.0806 - categorical_crossentropy: 0.08 - ETA: 4s - loss: 0.0802 - categorical_crossentropy: 0.08 - ETA: 3s - loss: 0.0800 - categorical_crossentropy: 0.08 - ETA: 3s - loss: 0.0808 - categorical_crossentropy: 0.0808"
     ]
    },
    {
     "name": "stdout",
     "output_type": "stream",
     "text": [
      "4816/4816 [==============================] - ETA: 3s - loss: 0.0811 - categorical_crossentropy: 0.08 - ETA: 3s - loss: 0.0815 - categorical_crossentropy: 0.08 - ETA: 2s - loss: 0.0814 - categorical_crossentropy: 0.08 - ETA: 2s - loss: 0.0819 - categorical_crossentropy: 0.08 - ETA: 2s - loss: 0.0815 - categorical_crossentropy: 0.08 - ETA: 2s - loss: 0.0810 - categorical_crossentropy: 0.08 - ETA: 1s - loss: 0.0805 - categorical_crossentropy: 0.08 - ETA: 1s - loss: 0.0824 - categorical_crossentropy: 0.08 - ETA: 1s - loss: 0.0840 - categorical_crossentropy: 0.08 - ETA: 0s - loss: 0.0838 - categorical_crossentropy: 0.08 - ETA: 0s - loss: 0.0832 - categorical_crossentropy: 0.08 - ETA: 0s - loss: 0.0838 - categorical_crossentropy: 0.08 - ETA: 0s - loss: 0.0834 - categorical_crossentropy: 0.08 - 41s 9ms/step - loss: 0.0836 - categorical_crossentropy: 0.0836 - val_loss: 5.1160 - val_categorical_crossentropy: 5.1160\n",
      "Epoch 27/30\n",
      "4384/4816 [==========================>...] - ETA: 35s - loss: 0.0017 - categorical_crossentropy: 0.001 - ETA: 38s - loss: 0.2892 - categorical_crossentropy: 0.289 - ETA: 38s - loss: 0.2003 - categorical_crossentropy: 0.200 - ETA: 38s - loss: 0.1510 - categorical_crossentropy: 0.151 - ETA: 38s - loss: 0.1866 - categorical_crossentropy: 0.186 - ETA: 37s - loss: 0.1613 - categorical_crossentropy: 0.161 - ETA: 37s - loss: 0.1503 - categorical_crossentropy: 0.150 - ETA: 37s - loss: 0.1316 - categorical_crossentropy: 0.131 - ETA: 37s - loss: 0.1341 - categorical_crossentropy: 0.134 - ETA: 37s - loss: 0.1283 - categorical_crossentropy: 0.128 - ETA: 36s - loss: 0.1247 - categorical_crossentropy: 0.124 - ETA: 36s - loss: 0.1152 - categorical_crossentropy: 0.115 - ETA: 36s - loss: 0.1065 - categorical_crossentropy: 0.106 - ETA: 36s - loss: 0.0990 - categorical_crossentropy: 0.099 - ETA: 35s - loss: 0.0929 - categorical_crossentropy: 0.092 - ETA: 35s - loss: 0.0885 - categorical_crossentropy: 0.088 - ETA: 35s - loss: 0.0955 - categorical_crossentropy: 0.095 - ETA: 35s - loss: 0.0903 - categorical_crossentropy: 0.090 - ETA: 35s - loss: 0.0863 - categorical_crossentropy: 0.086 - ETA: 34s - loss: 0.0884 - categorical_crossentropy: 0.088 - ETA: 34s - loss: 0.0843 - categorical_crossentropy: 0.084 - ETA: 34s - loss: 0.0840 - categorical_crossentropy: 0.084 - ETA: 34s - loss: 0.0808 - categorical_crossentropy: 0.080 - ETA: 34s - loss: 0.0811 - categorical_crossentropy: 0.081 - ETA: 33s - loss: 0.0786 - categorical_crossentropy: 0.078 - ETA: 33s - loss: 0.0758 - categorical_crossentropy: 0.075 - ETA: 33s - loss: 0.0743 - categorical_crossentropy: 0.074 - ETA: 33s - loss: 0.0716 - categorical_crossentropy: 0.071 - ETA: 32s - loss: 0.0714 - categorical_crossentropy: 0.071 - ETA: 32s - loss: 0.0697 - categorical_crossentropy: 0.069 - ETA: 32s - loss: 0.0746 - categorical_crossentropy: 0.074 - ETA: 31s - loss: 0.0784 - categorical_crossentropy: 0.078 - ETA: 31s - loss: 0.0761 - categorical_crossentropy: 0.076 - ETA: 31s - loss: 0.0742 - categorical_crossentropy: 0.074 - ETA: 31s - loss: 0.0739 - categorical_crossentropy: 0.073 - ETA: 30s - loss: 0.0751 - categorical_crossentropy: 0.075 - ETA: 30s - loss: 0.0736 - categorical_crossentropy: 0.073 - ETA: 30s - loss: 0.0717 - categorical_crossentropy: 0.071 - ETA: 30s - loss: 0.0699 - categorical_crossentropy: 0.069 - ETA: 29s - loss: 0.0716 - categorical_crossentropy: 0.071 - ETA: 29s - loss: 0.0727 - categorical_crossentropy: 0.072 - ETA: 29s - loss: 0.0757 - categorical_crossentropy: 0.075 - ETA: 28s - loss: 0.0744 - categorical_crossentropy: 0.074 - ETA: 28s - loss: 0.0729 - categorical_crossentropy: 0.072 - ETA: 28s - loss: 0.0724 - categorical_crossentropy: 0.072 - ETA: 28s - loss: 0.0731 - categorical_crossentropy: 0.073 - ETA: 27s - loss: 0.0757 - categorical_crossentropy: 0.075 - ETA: 27s - loss: 0.0749 - categorical_crossentropy: 0.074 - ETA: 27s - loss: 0.0743 - categorical_crossentropy: 0.074 - ETA: 27s - loss: 0.0740 - categorical_crossentropy: 0.074 - ETA: 26s - loss: 0.0889 - categorical_crossentropy: 0.088 - ETA: 26s - loss: 0.0872 - categorical_crossentropy: 0.087 - ETA: 26s - loss: 0.0861 - categorical_crossentropy: 0.086 - ETA: 25s - loss: 0.0891 - categorical_crossentropy: 0.089 - ETA: 25s - loss: 0.0875 - categorical_crossentropy: 0.087 - ETA: 25s - loss: 0.0860 - categorical_crossentropy: 0.086 - ETA: 25s - loss: 0.0865 - categorical_crossentropy: 0.086 - ETA: 24s - loss: 0.0851 - categorical_crossentropy: 0.085 - ETA: 24s - loss: 0.0845 - categorical_crossentropy: 0.084 - ETA: 24s - loss: 0.0838 - categorical_crossentropy: 0.083 - ETA: 24s - loss: 0.0839 - categorical_crossentropy: 0.083 - ETA: 23s - loss: 0.0859 - categorical_crossentropy: 0.085 - ETA: 23s - loss: 0.0849 - categorical_crossentropy: 0.084 - ETA: 23s - loss: 0.0840 - categorical_crossentropy: 0.084 - ETA: 23s - loss: 0.0827 - categorical_crossentropy: 0.082 - ETA: 22s - loss: 0.0815 - categorical_crossentropy: 0.081 - ETA: 22s - loss: 0.0812 - categorical_crossentropy: 0.081 - ETA: 22s - loss: 0.0800 - categorical_crossentropy: 0.080 - ETA: 21s - loss: 0.0791 - categorical_crossentropy: 0.079 - ETA: 21s - loss: 0.0785 - categorical_crossentropy: 0.078 - ETA: 21s - loss: 0.0774 - categorical_crossentropy: 0.077 - ETA: 21s - loss: 0.0789 - categorical_crossentropy: 0.078 - ETA: 20s - loss: 0.0781 - categorical_crossentropy: 0.078 - ETA: 20s - loss: 0.0774 - categorical_crossentropy: 0.077 - ETA: 20s - loss: 0.0766 - categorical_crossentropy: 0.076 - ETA: 20s - loss: 0.0778 - categorical_crossentropy: 0.077 - ETA: 19s - loss: 0.0836 - categorical_crossentropy: 0.083 - ETA: 19s - loss: 0.0836 - categorical_crossentropy: 0.083 - ETA: 19s - loss: 0.0833 - categorical_crossentropy: 0.083 - ETA: 18s - loss: 0.0827 - categorical_crossentropy: 0.082 - ETA: 18s - loss: 0.0820 - categorical_crossentropy: 0.082 - ETA: 18s - loss: 0.0815 - categorical_crossentropy: 0.081 - ETA: 18s - loss: 0.0806 - categorical_crossentropy: 0.080 - ETA: 17s - loss: 0.0823 - categorical_crossentropy: 0.082 - ETA: 17s - loss: 0.0820 - categorical_crossentropy: 0.082 - ETA: 17s - loss: 0.0855 - categorical_crossentropy: 0.085 - ETA: 17s - loss: 0.0852 - categorical_crossentropy: 0.085 - ETA: 16s - loss: 0.0843 - categorical_crossentropy: 0.084 - ETA: 16s - loss: 0.0834 - categorical_crossentropy: 0.083 - ETA: 16s - loss: 0.0824 - categorical_crossentropy: 0.082 - ETA: 16s - loss: 0.0815 - categorical_crossentropy: 0.081 - ETA: 15s - loss: 0.0822 - categorical_crossentropy: 0.082 - ETA: 15s - loss: 0.0822 - categorical_crossentropy: 0.082 - ETA: 15s - loss: 0.0828 - categorical_crossentropy: 0.082 - ETA: 14s - loss: 0.0834 - categorical_crossentropy: 0.083 - ETA: 14s - loss: 0.0843 - categorical_crossentropy: 0.084 - ETA: 14s - loss: 0.0864 - categorical_crossentropy: 0.086 - ETA: 14s - loss: 0.0857 - categorical_crossentropy: 0.085 - ETA: 13s - loss: 0.0850 - categorical_crossentropy: 0.085 - ETA: 13s - loss: 0.0844 - categorical_crossentropy: 0.084 - ETA: 13s - loss: 0.0851 - categorical_crossentropy: 0.085 - ETA: 13s - loss: 0.0855 - categorical_crossentropy: 0.085 - ETA: 12s - loss: 0.0855 - categorical_crossentropy: 0.085 - ETA: 12s - loss: 0.0852 - categorical_crossentropy: 0.085 - ETA: 12s - loss: 0.0845 - categorical_crossentropy: 0.084 - ETA: 11s - loss: 0.0840 - categorical_crossentropy: 0.084 - ETA: 11s - loss: 0.0833 - categorical_crossentropy: 0.083 - ETA: 11s - loss: 0.0826 - categorical_crossentropy: 0.082 - ETA: 11s - loss: 0.0822 - categorical_crossentropy: 0.082 - ETA: 10s - loss: 0.0815 - categorical_crossentropy: 0.081 - ETA: 10s - loss: 0.0808 - categorical_crossentropy: 0.080 - ETA: 10s - loss: 0.0808 - categorical_crossentropy: 0.080 - ETA: 10s - loss: 0.0808 - categorical_crossentropy: 0.080 - ETA: 9s - loss: 0.0821 - categorical_crossentropy: 0.082 - ETA: 9s - loss: 0.0832 - categorical_crossentropy: 0.08 - ETA: 9s - loss: 0.0825 - categorical_crossentropy: 0.08 - ETA: 9s - loss: 0.0819 - categorical_crossentropy: 0.08 - ETA: 8s - loss: 0.0815 - categorical_crossentropy: 0.08 - ETA: 8s - loss: 0.0809 - categorical_crossentropy: 0.08 - ETA: 8s - loss: 0.0805 - categorical_crossentropy: 0.08 - ETA: 7s - loss: 0.0813 - categorical_crossentropy: 0.08 - ETA: 7s - loss: 0.0812 - categorical_crossentropy: 0.08 - ETA: 7s - loss: 0.0808 - categorical_crossentropy: 0.08 - ETA: 7s - loss: 0.0811 - categorical_crossentropy: 0.08 - ETA: 6s - loss: 0.0809 - categorical_crossentropy: 0.08 - ETA: 6s - loss: 0.0803 - categorical_crossentropy: 0.08 - ETA: 6s - loss: 0.0798 - categorical_crossentropy: 0.07 - ETA: 6s - loss: 0.0792 - categorical_crossentropy: 0.07 - ETA: 5s - loss: 0.0788 - categorical_crossentropy: 0.07 - ETA: 5s - loss: 0.0791 - categorical_crossentropy: 0.07 - ETA: 5s - loss: 0.0785 - categorical_crossentropy: 0.07 - ETA: 4s - loss: 0.0784 - categorical_crossentropy: 0.07 - ETA: 4s - loss: 0.0794 - categorical_crossentropy: 0.07 - ETA: 4s - loss: 0.0791 - categorical_crossentropy: 0.07 - ETA: 4s - loss: 0.0786 - categorical_crossentropy: 0.07 - ETA: 3s - loss: 0.0782 - categorical_crossentropy: 0.07 - ETA: 3s - loss: 0.0782 - categorical_crossentropy: 0.07824816/4816 [==============================] - ETA: 3s - loss: 0.0823 - categorical_crossentropy: 0.08 - ETA: 3s - loss: 0.0818 - categorical_crossentropy: 0.08 - ETA: 2s - loss: 0.0816 - categorical_crossentropy: 0.08 - ETA: 2s - loss: 0.0820 - categorical_crossentropy: 0.08 - ETA: 2s - loss: 0.0825 - categorical_crossentropy: 0.08 - ETA: 2s - loss: 0.0819 - categorical_crossentropy: 0.08 - ETA: 1s - loss: 0.0815 - categorical_crossentropy: 0.08 - ETA: 1s - loss: 0.0818 - categorical_crossentropy: 0.08 - ETA: 1s - loss: 0.0817 - categorical_crossentropy: 0.08 - ETA: 0s - loss: 0.0840 - categorical_crossentropy: 0.08 - ETA: 0s - loss: 0.0835 - categorical_crossentropy: 0.08 - ETA: 0s - loss: 0.0829 - categorical_crossentropy: 0.08 - ETA: 0s - loss: 0.0825 - categorical_crossentropy: 0.08 - 41s 9ms/step - loss: 0.0822 - categorical_crossentropy: 0.0822 - val_loss: 4.3067 - val_categorical_crossentropy: 4.3067\n",
      "Epoch 28/30\n"
     ]
    },
    {
     "name": "stdout",
     "output_type": "stream",
     "text": [
      "4384/4816 [==========================>...] - ETA: 37s - loss: 6.6729e-04 - categorical_crossentropy: 6.6729e-0 - ETA: 38s - loss: 0.0815 - categorical_crossentropy: 0.0815        - ETA: 38s - loss: 0.0548 - categorical_crossentropy: 0.054 - ETA: 38s - loss: 0.0511 - categorical_crossentropy: 0.051 - ETA: 38s - loss: 0.0410 - categorical_crossentropy: 0.041 - ETA: 38s - loss: 0.0512 - categorical_crossentropy: 0.051 - ETA: 38s - loss: 0.0470 - categorical_crossentropy: 0.047 - ETA: 37s - loss: 0.0412 - categorical_crossentropy: 0.041 - ETA: 37s - loss: 0.0413 - categorical_crossentropy: 0.041 - ETA: 37s - loss: 0.0372 - categorical_crossentropy: 0.037 - ETA: 37s - loss: 0.0405 - categorical_crossentropy: 0.040 - ETA: 36s - loss: 0.0376 - categorical_crossentropy: 0.037 - ETA: 36s - loss: 0.0390 - categorical_crossentropy: 0.039 - ETA: 36s - loss: 0.0409 - categorical_crossentropy: 0.040 - ETA: 36s - loss: 0.0462 - categorical_crossentropy: 0.046 - ETA: 35s - loss: 0.0444 - categorical_crossentropy: 0.044 - ETA: 35s - loss: 0.0452 - categorical_crossentropy: 0.045 - ETA: 35s - loss: 0.0476 - categorical_crossentropy: 0.047 - ETA: 35s - loss: 0.0641 - categorical_crossentropy: 0.064 - ETA: 35s - loss: 0.0609 - categorical_crossentropy: 0.060 - ETA: 34s - loss: 0.0598 - categorical_crossentropy: 0.059 - ETA: 34s - loss: 0.0571 - categorical_crossentropy: 0.057 - ETA: 34s - loss: 0.0601 - categorical_crossentropy: 0.060 - ETA: 33s - loss: 0.0614 - categorical_crossentropy: 0.061 - ETA: 33s - loss: 0.0605 - categorical_crossentropy: 0.060 - ETA: 33s - loss: 0.0582 - categorical_crossentropy: 0.058 - ETA: 33s - loss: 0.0620 - categorical_crossentropy: 0.062 - ETA: 32s - loss: 0.0598 - categorical_crossentropy: 0.059 - ETA: 32s - loss: 0.0617 - categorical_crossentropy: 0.061 - ETA: 32s - loss: 0.0603 - categorical_crossentropy: 0.060 - ETA: 32s - loss: 0.0622 - categorical_crossentropy: 0.062 - ETA: 31s - loss: 0.0602 - categorical_crossentropy: 0.060 - ETA: 31s - loss: 0.0645 - categorical_crossentropy: 0.064 - ETA: 31s - loss: 0.0626 - categorical_crossentropy: 0.062 - ETA: 30s - loss: 0.0654 - categorical_crossentropy: 0.065 - ETA: 30s - loss: 0.0666 - categorical_crossentropy: 0.066 - ETA: 30s - loss: 0.0672 - categorical_crossentropy: 0.067 - ETA: 30s - loss: 0.0674 - categorical_crossentropy: 0.067 - ETA: 29s - loss: 0.0661 - categorical_crossentropy: 0.066 - ETA: 29s - loss: 0.0677 - categorical_crossentropy: 0.067 - ETA: 29s - loss: 0.0663 - categorical_crossentropy: 0.066 - ETA: 29s - loss: 0.0650 - categorical_crossentropy: 0.065 - ETA: 28s - loss: 0.0699 - categorical_crossentropy: 0.069 - ETA: 28s - loss: 0.0706 - categorical_crossentropy: 0.070 - ETA: 28s - loss: 0.0702 - categorical_crossentropy: 0.070 - ETA: 27s - loss: 0.0707 - categorical_crossentropy: 0.070 - ETA: 27s - loss: 0.0692 - categorical_crossentropy: 0.069 - ETA: 27s - loss: 0.0678 - categorical_crossentropy: 0.067 - ETA: 27s - loss: 0.0664 - categorical_crossentropy: 0.066 - ETA: 26s - loss: 0.0657 - categorical_crossentropy: 0.065 - ETA: 26s - loss: 0.0648 - categorical_crossentropy: 0.064 - ETA: 26s - loss: 0.0639 - categorical_crossentropy: 0.063 - ETA: 26s - loss: 0.0636 - categorical_crossentropy: 0.063 - ETA: 25s - loss: 0.0639 - categorical_crossentropy: 0.063 - ETA: 25s - loss: 0.0648 - categorical_crossentropy: 0.064 - ETA: 25s - loss: 0.0638 - categorical_crossentropy: 0.063 - ETA: 25s - loss: 0.0642 - categorical_crossentropy: 0.064 - ETA: 24s - loss: 0.0631 - categorical_crossentropy: 0.063 - ETA: 24s - loss: 0.0620 - categorical_crossentropy: 0.062 - ETA: 24s - loss: 0.0625 - categorical_crossentropy: 0.062 - ETA: 24s - loss: 0.0629 - categorical_crossentropy: 0.062 - ETA: 23s - loss: 0.0627 - categorical_crossentropy: 0.062 - ETA: 23s - loss: 0.0633 - categorical_crossentropy: 0.063 - ETA: 23s - loss: 0.0665 - categorical_crossentropy: 0.066 - ETA: 22s - loss: 0.0692 - categorical_crossentropy: 0.069 - ETA: 22s - loss: 0.0682 - categorical_crossentropy: 0.068 - ETA: 22s - loss: 0.0674 - categorical_crossentropy: 0.067 - ETA: 22s - loss: 0.0664 - categorical_crossentropy: 0.066 - ETA: 21s - loss: 0.0657 - categorical_crossentropy: 0.065 - ETA: 21s - loss: 0.0690 - categorical_crossentropy: 0.069 - ETA: 21s - loss: 0.0690 - categorical_crossentropy: 0.069 - ETA: 21s - loss: 0.0680 - categorical_crossentropy: 0.068 - ETA: 20s - loss: 0.0671 - categorical_crossentropy: 0.067 - ETA: 20s - loss: 0.0662 - categorical_crossentropy: 0.066 - ETA: 20s - loss: 0.0653 - categorical_crossentropy: 0.065 - ETA: 19s - loss: 0.0666 - categorical_crossentropy: 0.066 - ETA: 19s - loss: 0.0674 - categorical_crossentropy: 0.067 - ETA: 19s - loss: 0.0668 - categorical_crossentropy: 0.066 - ETA: 19s - loss: 0.0663 - categorical_crossentropy: 0.066 - ETA: 18s - loss: 0.0673 - categorical_crossentropy: 0.067 - ETA: 18s - loss: 0.0665 - categorical_crossentropy: 0.066 - ETA: 18s - loss: 0.0657 - categorical_crossentropy: 0.065 - ETA: 18s - loss: 0.0651 - categorical_crossentropy: 0.065 - ETA: 17s - loss: 0.0643 - categorical_crossentropy: 0.064 - ETA: 17s - loss: 0.0640 - categorical_crossentropy: 0.064 - ETA: 17s - loss: 0.0664 - categorical_crossentropy: 0.066 - ETA: 17s - loss: 0.0687 - categorical_crossentropy: 0.068 - ETA: 16s - loss: 0.0723 - categorical_crossentropy: 0.072 - ETA: 16s - loss: 0.0717 - categorical_crossentropy: 0.071 - ETA: 16s - loss: 0.0778 - categorical_crossentropy: 0.077 - ETA: 15s - loss: 0.0772 - categorical_crossentropy: 0.077 - ETA: 15s - loss: 0.0771 - categorical_crossentropy: 0.077 - ETA: 15s - loss: 0.0782 - categorical_crossentropy: 0.078 - ETA: 15s - loss: 0.0783 - categorical_crossentropy: 0.078 - ETA: 14s - loss: 0.0777 - categorical_crossentropy: 0.077 - ETA: 14s - loss: 0.0776 - categorical_crossentropy: 0.077 - ETA: 14s - loss: 0.0768 - categorical_crossentropy: 0.076 - ETA: 14s - loss: 0.0772 - categorical_crossentropy: 0.077 - ETA: 13s - loss: 0.0764 - categorical_crossentropy: 0.076 - ETA: 13s - loss: 0.0760 - categorical_crossentropy: 0.076 - ETA: 13s - loss: 0.0756 - categorical_crossentropy: 0.075 - ETA: 13s - loss: 0.0749 - categorical_crossentropy: 0.074 - ETA: 12s - loss: 0.0741 - categorical_crossentropy: 0.074 - ETA: 12s - loss: 0.0734 - categorical_crossentropy: 0.073 - ETA: 12s - loss: 0.0741 - categorical_crossentropy: 0.074 - ETA: 11s - loss: 0.0736 - categorical_crossentropy: 0.073 - ETA: 11s - loss: 0.0729 - categorical_crossentropy: 0.072 - ETA: 11s - loss: 0.0731 - categorical_crossentropy: 0.073 - ETA: 11s - loss: 0.0771 - categorical_crossentropy: 0.077 - ETA: 10s - loss: 0.0766 - categorical_crossentropy: 0.076 - ETA: 10s - loss: 0.0762 - categorical_crossentropy: 0.076 - ETA: 10s - loss: 0.0756 - categorical_crossentropy: 0.075 - ETA: 10s - loss: 0.0749 - categorical_crossentropy: 0.074 - ETA: 9s - loss: 0.0743 - categorical_crossentropy: 0.074 - ETA: 9s - loss: 0.0736 - categorical_crossentropy: 0.07 - ETA: 9s - loss: 0.0751 - categorical_crossentropy: 0.07 - ETA: 9s - loss: 0.0746 - categorical_crossentropy: 0.07 - ETA: 8s - loss: 0.0753 - categorical_crossentropy: 0.07 - ETA: 8s - loss: 0.0747 - categorical_crossentropy: 0.07 - ETA: 8s - loss: 0.0742 - categorical_crossentropy: 0.07 - ETA: 7s - loss: 0.0737 - categorical_crossentropy: 0.07 - ETA: 7s - loss: 0.0740 - categorical_crossentropy: 0.07 - ETA: 7s - loss: 0.0738 - categorical_crossentropy: 0.07 - ETA: 7s - loss: 0.0737 - categorical_crossentropy: 0.07 - ETA: 6s - loss: 0.0735 - categorical_crossentropy: 0.07 - ETA: 6s - loss: 0.0730 - categorical_crossentropy: 0.07 - ETA: 6s - loss: 0.0725 - categorical_crossentropy: 0.07 - ETA: 6s - loss: 0.0720 - categorical_crossentropy: 0.07 - ETA: 5s - loss: 0.0717 - categorical_crossentropy: 0.07 - ETA: 5s - loss: 0.0712 - categorical_crossentropy: 0.07 - ETA: 5s - loss: 0.0710 - categorical_crossentropy: 0.07 - ETA: 4s - loss: 0.0710 - categorical_crossentropy: 0.07 - ETA: 4s - loss: 0.0706 - categorical_crossentropy: 0.07 - ETA: 4s - loss: 0.0701 - categorical_crossentropy: 0.07 - ETA: 4s - loss: 0.0708 - categorical_crossentropy: 0.07 - ETA: 3s - loss: 0.0704 - categorical_crossentropy: 0.07 - ETA: 3s - loss: 0.0714 - categorical_crossentropy: 0.0714"
     ]
    },
    {
     "name": "stdout",
     "output_type": "stream",
     "text": [
      "4816/4816 [==============================] - ETA: 3s - loss: 0.0726 - categorical_crossentropy: 0.07 - ETA: 3s - loss: 0.0726 - categorical_crossentropy: 0.07 - ETA: 2s - loss: 0.0728 - categorical_crossentropy: 0.07 - ETA: 2s - loss: 0.0732 - categorical_crossentropy: 0.07 - ETA: 2s - loss: 0.0743 - categorical_crossentropy: 0.07 - ETA: 2s - loss: 0.0738 - categorical_crossentropy: 0.07 - ETA: 1s - loss: 0.0747 - categorical_crossentropy: 0.07 - ETA: 1s - loss: 0.0744 - categorical_crossentropy: 0.07 - ETA: 1s - loss: 0.0770 - categorical_crossentropy: 0.07 - ETA: 0s - loss: 0.0765 - categorical_crossentropy: 0.07 - ETA: 0s - loss: 0.0764 - categorical_crossentropy: 0.07 - ETA: 0s - loss: 0.0761 - categorical_crossentropy: 0.07 - ETA: 0s - loss: 0.0764 - categorical_crossentropy: 0.07 - 41s 9ms/step - loss: 0.0763 - categorical_crossentropy: 0.0763 - val_loss: 4.5685 - val_categorical_crossentropy: 4.5685\n",
      "Epoch 29/30\n",
      "4384/4816 [==========================>...] - ETA: 37s - loss: 0.8980 - categorical_crossentropy: 0.898 - ETA: 38s - loss: 0.5489 - categorical_crossentropy: 0.548 - ETA: 38s - loss: 0.3660 - categorical_crossentropy: 0.366 - ETA: 38s - loss: 0.2870 - categorical_crossentropy: 0.287 - ETA: 38s - loss: 0.2419 - categorical_crossentropy: 0.241 - ETA: 38s - loss: 0.2100 - categorical_crossentropy: 0.210 - ETA: 38s - loss: 0.1890 - categorical_crossentropy: 0.189 - ETA: 38s - loss: 0.1655 - categorical_crossentropy: 0.165 - ETA: 37s - loss: 0.1507 - categorical_crossentropy: 0.150 - ETA: 37s - loss: 0.1357 - categorical_crossentropy: 0.135 - ETA: 37s - loss: 0.1334 - categorical_crossentropy: 0.133 - ETA: 36s - loss: 0.1235 - categorical_crossentropy: 0.123 - ETA: 36s - loss: 0.1283 - categorical_crossentropy: 0.128 - ETA: 36s - loss: 0.1246 - categorical_crossentropy: 0.124 - ETA: 36s - loss: 0.1175 - categorical_crossentropy: 0.117 - ETA: 36s - loss: 0.1102 - categorical_crossentropy: 0.110 - ETA: 35s - loss: 0.1116 - categorical_crossentropy: 0.111 - ETA: 35s - loss: 0.1095 - categorical_crossentropy: 0.109 - ETA: 35s - loss: 0.1050 - categorical_crossentropy: 0.105 - ETA: 35s - loss: 0.1073 - categorical_crossentropy: 0.107 - ETA: 34s - loss: 0.1057 - categorical_crossentropy: 0.105 - ETA: 34s - loss: 0.1122 - categorical_crossentropy: 0.112 - ETA: 34s - loss: 0.1073 - categorical_crossentropy: 0.107 - ETA: 33s - loss: 0.1031 - categorical_crossentropy: 0.103 - ETA: 33s - loss: 0.1024 - categorical_crossentropy: 0.102 - ETA: 33s - loss: 0.0991 - categorical_crossentropy: 0.099 - ETA: 33s - loss: 0.1002 - categorical_crossentropy: 0.100 - ETA: 32s - loss: 0.1006 - categorical_crossentropy: 0.100 - ETA: 32s - loss: 0.0972 - categorical_crossentropy: 0.097 - ETA: 32s - loss: 0.0949 - categorical_crossentropy: 0.094 - ETA: 32s - loss: 0.1081 - categorical_crossentropy: 0.108 - ETA: 31s - loss: 0.1048 - categorical_crossentropy: 0.104 - ETA: 31s - loss: 0.1023 - categorical_crossentropy: 0.102 - ETA: 31s - loss: 0.0993 - categorical_crossentropy: 0.099 - ETA: 30s - loss: 0.0970 - categorical_crossentropy: 0.097 - ETA: 30s - loss: 0.0949 - categorical_crossentropy: 0.094 - ETA: 30s - loss: 0.0937 - categorical_crossentropy: 0.093 - ETA: 30s - loss: 0.0948 - categorical_crossentropy: 0.094 - ETA: 29s - loss: 0.0924 - categorical_crossentropy: 0.092 - ETA: 29s - loss: 0.0905 - categorical_crossentropy: 0.090 - ETA: 29s - loss: 0.0889 - categorical_crossentropy: 0.088 - ETA: 29s - loss: 0.0877 - categorical_crossentropy: 0.087 - ETA: 28s - loss: 0.0857 - categorical_crossentropy: 0.085 - ETA: 28s - loss: 0.0897 - categorical_crossentropy: 0.089 - ETA: 28s - loss: 0.0881 - categorical_crossentropy: 0.088 - ETA: 28s - loss: 0.0931 - categorical_crossentropy: 0.093 - ETA: 27s - loss: 0.0916 - categorical_crossentropy: 0.091 - ETA: 27s - loss: 0.0903 - categorical_crossentropy: 0.090 - ETA: 27s - loss: 0.0885 - categorical_crossentropy: 0.088 - ETA: 26s - loss: 0.0884 - categorical_crossentropy: 0.088 - ETA: 26s - loss: 0.0867 - categorical_crossentropy: 0.086 - ETA: 26s - loss: 0.0862 - categorical_crossentropy: 0.086 - ETA: 26s - loss: 0.0853 - categorical_crossentropy: 0.085 - ETA: 25s - loss: 0.0851 - categorical_crossentropy: 0.085 - ETA: 25s - loss: 0.0862 - categorical_crossentropy: 0.086 - ETA: 25s - loss: 0.0867 - categorical_crossentropy: 0.086 - ETA: 25s - loss: 0.0872 - categorical_crossentropy: 0.087 - ETA: 24s - loss: 0.0861 - categorical_crossentropy: 0.086 - ETA: 24s - loss: 0.0903 - categorical_crossentropy: 0.090 - ETA: 24s - loss: 0.0888 - categorical_crossentropy: 0.088 - ETA: 24s - loss: 0.0889 - categorical_crossentropy: 0.088 - ETA: 23s - loss: 0.0874 - categorical_crossentropy: 0.087 - ETA: 23s - loss: 0.0907 - categorical_crossentropy: 0.090 - ETA: 23s - loss: 0.0896 - categorical_crossentropy: 0.089 - ETA: 22s - loss: 0.0882 - categorical_crossentropy: 0.088 - ETA: 22s - loss: 0.0871 - categorical_crossentropy: 0.087 - ETA: 22s - loss: 0.0858 - categorical_crossentropy: 0.085 - ETA: 22s - loss: 0.0874 - categorical_crossentropy: 0.087 - ETA: 21s - loss: 0.0862 - categorical_crossentropy: 0.086 - ETA: 21s - loss: 0.0868 - categorical_crossentropy: 0.086 - ETA: 21s - loss: 0.0859 - categorical_crossentropy: 0.085 - ETA: 21s - loss: 0.0847 - categorical_crossentropy: 0.084 - ETA: 20s - loss: 0.0856 - categorical_crossentropy: 0.085 - ETA: 20s - loss: 0.0855 - categorical_crossentropy: 0.085 - ETA: 20s - loss: 0.0844 - categorical_crossentropy: 0.084 - ETA: 20s - loss: 0.0833 - categorical_crossentropy: 0.083 - ETA: 19s - loss: 0.0853 - categorical_crossentropy: 0.085 - ETA: 19s - loss: 0.0848 - categorical_crossentropy: 0.084 - ETA: 19s - loss: 0.0844 - categorical_crossentropy: 0.084 - ETA: 18s - loss: 0.0867 - categorical_crossentropy: 0.086 - ETA: 18s - loss: 0.0863 - categorical_crossentropy: 0.086 - ETA: 18s - loss: 0.0852 - categorical_crossentropy: 0.085 - ETA: 18s - loss: 0.0842 - categorical_crossentropy: 0.084 - ETA: 17s - loss: 0.0840 - categorical_crossentropy: 0.084 - ETA: 17s - loss: 0.0833 - categorical_crossentropy: 0.083 - ETA: 17s - loss: 0.0826 - categorical_crossentropy: 0.082 - ETA: 17s - loss: 0.0835 - categorical_crossentropy: 0.083 - ETA: 16s - loss: 0.0827 - categorical_crossentropy: 0.082 - ETA: 16s - loss: 0.0823 - categorical_crossentropy: 0.082 - ETA: 16s - loss: 0.0832 - categorical_crossentropy: 0.083 - ETA: 15s - loss: 0.0825 - categorical_crossentropy: 0.082 - ETA: 15s - loss: 0.0829 - categorical_crossentropy: 0.082 - ETA: 15s - loss: 0.0822 - categorical_crossentropy: 0.082 - ETA: 15s - loss: 0.0824 - categorical_crossentropy: 0.082 - ETA: 14s - loss: 0.0815 - categorical_crossentropy: 0.081 - ETA: 14s - loss: 0.0818 - categorical_crossentropy: 0.081 - ETA: 14s - loss: 0.0811 - categorical_crossentropy: 0.081 - ETA: 14s - loss: 0.0815 - categorical_crossentropy: 0.081 - ETA: 13s - loss: 0.0807 - categorical_crossentropy: 0.080 - ETA: 13s - loss: 0.0810 - categorical_crossentropy: 0.081 - ETA: 13s - loss: 0.0816 - categorical_crossentropy: 0.081 - ETA: 13s - loss: 0.0818 - categorical_crossentropy: 0.081 - ETA: 12s - loss: 0.0812 - categorical_crossentropy: 0.081 - ETA: 12s - loss: 0.0835 - categorical_crossentropy: 0.083 - ETA: 12s - loss: 0.0828 - categorical_crossentropy: 0.082 - ETA: 11s - loss: 0.0874 - categorical_crossentropy: 0.087 - ETA: 11s - loss: 0.0866 - categorical_crossentropy: 0.086 - ETA: 11s - loss: 0.0859 - categorical_crossentropy: 0.085 - ETA: 11s - loss: 0.0858 - categorical_crossentropy: 0.085 - ETA: 10s - loss: 0.0850 - categorical_crossentropy: 0.085 - ETA: 10s - loss: 0.0847 - categorical_crossentropy: 0.084 - ETA: 10s - loss: 0.0839 - categorical_crossentropy: 0.083 - ETA: 10s - loss: 0.0832 - categorical_crossentropy: 0.083 - ETA: 9s - loss: 0.0825 - categorical_crossentropy: 0.082 - ETA: 9s - loss: 0.0845 - categorical_crossentropy: 0.08 - ETA: 9s - loss: 0.0838 - categorical_crossentropy: 0.08 - ETA: 8s - loss: 0.0846 - categorical_crossentropy: 0.08 - ETA: 8s - loss: 0.0839 - categorical_crossentropy: 0.08 - ETA: 8s - loss: 0.0833 - categorical_crossentropy: 0.08 - ETA: 8s - loss: 0.0836 - categorical_crossentropy: 0.08 - ETA: 7s - loss: 0.0830 - categorical_crossentropy: 0.08 - ETA: 7s - loss: 0.0829 - categorical_crossentropy: 0.08 - ETA: 7s - loss: 0.0823 - categorical_crossentropy: 0.08 - ETA: 7s - loss: 0.0816 - categorical_crossentropy: 0.08 - ETA: 6s - loss: 0.0810 - categorical_crossentropy: 0.08 - ETA: 6s - loss: 0.0816 - categorical_crossentropy: 0.08 - ETA: 6s - loss: 0.0811 - categorical_crossentropy: 0.08 - ETA: 6s - loss: 0.0805 - categorical_crossentropy: 0.08 - ETA: 5s - loss: 0.0799 - categorical_crossentropy: 0.07 - ETA: 5s - loss: 0.0800 - categorical_crossentropy: 0.08 - ETA: 5s - loss: 0.0800 - categorical_crossentropy: 0.08 - ETA: 4s - loss: 0.0794 - categorical_crossentropy: 0.07 - ETA: 4s - loss: 0.0792 - categorical_crossentropy: 0.07 - ETA: 4s - loss: 0.0786 - categorical_crossentropy: 0.07 - ETA: 4s - loss: 0.0782 - categorical_crossentropy: 0.07 - ETA: 3s - loss: 0.0787 - categorical_crossentropy: 0.07 - ETA: 3s - loss: 0.0800 - categorical_crossentropy: 0.08004816/4816 [==============================] - ETA: 3s - loss: 0.0805 - categorical_crossentropy: 0.08 - ETA: 3s - loss: 0.0816 - categorical_crossentropy: 0.08 - ETA: 2s - loss: 0.0819 - categorical_crossentropy: 0.08 - ETA: 2s - loss: 0.0813 - categorical_crossentropy: 0.08 - ETA: 2s - loss: 0.0807 - categorical_crossentropy: 0.08 - ETA: 2s - loss: 0.0801 - categorical_crossentropy: 0.08 - ETA: 1s - loss: 0.0810 - categorical_crossentropy: 0.08 - ETA: 1s - loss: 0.0805 - categorical_crossentropy: 0.08 - ETA: 1s - loss: 0.0800 - categorical_crossentropy: 0.08 - ETA: 0s - loss: 0.0795 - categorical_crossentropy: 0.07 - ETA: 0s - loss: 0.0797 - categorical_crossentropy: 0.07 - ETA: 0s - loss: 0.0795 - categorical_crossentropy: 0.07 - ETA: 0s - loss: 0.0789 - categorical_crossentropy: 0.07 - 41s 9ms/step - loss: 0.0791 - categorical_crossentropy: 0.0791 - val_loss: 4.2852 - val_categorical_crossentropy: 4.2852\n",
      "Epoch 30/30\n"
     ]
    },
    {
     "name": "stdout",
     "output_type": "stream",
     "text": [
      "4384/4816 [==========================>...] - ETA: 37s - loss: 7.3677e-04 - categorical_crossentropy: 7.3677e-0 - ETA: 38s - loss: 0.0114 - categorical_crossentropy: 0.0114        - ETA: 38s - loss: 0.0079 - categorical_crossentropy: 0.007 - ETA: 38s - loss: 0.0110 - categorical_crossentropy: 0.011 - ETA: 38s - loss: 0.0180 - categorical_crossentropy: 0.018 - ETA: 38s - loss: 0.0212 - categorical_crossentropy: 0.021 - ETA: 38s - loss: 0.0208 - categorical_crossentropy: 0.020 - ETA: 38s - loss: 0.0204 - categorical_crossentropy: 0.020 - ETA: 38s - loss: 0.0201 - categorical_crossentropy: 0.020 - ETA: 37s - loss: 0.0788 - categorical_crossentropy: 0.078 - ETA: 37s - loss: 0.0771 - categorical_crossentropy: 0.077 - ETA: 37s - loss: 0.0715 - categorical_crossentropy: 0.071 - ETA: 37s - loss: 0.0671 - categorical_crossentropy: 0.067 - ETA: 36s - loss: 0.0637 - categorical_crossentropy: 0.063 - ETA: 36s - loss: 0.0641 - categorical_crossentropy: 0.064 - ETA: 36s - loss: 0.0626 - categorical_crossentropy: 0.062 - ETA: 36s - loss: 0.0601 - categorical_crossentropy: 0.060 - ETA: 35s - loss: 0.0641 - categorical_crossentropy: 0.064 - ETA: 35s - loss: 0.0672 - categorical_crossentropy: 0.067 - ETA: 35s - loss: 0.0639 - categorical_crossentropy: 0.063 - ETA: 34s - loss: 0.0617 - categorical_crossentropy: 0.061 - ETA: 34s - loss: 0.0602 - categorical_crossentropy: 0.060 - ETA: 34s - loss: 0.0587 - categorical_crossentropy: 0.058 - ETA: 34s - loss: 0.0575 - categorical_crossentropy: 0.057 - ETA: 33s - loss: 0.0557 - categorical_crossentropy: 0.055 - ETA: 33s - loss: 0.0632 - categorical_crossentropy: 0.063 - ETA: 33s - loss: 0.0609 - categorical_crossentropy: 0.060 - ETA: 33s - loss: 0.0595 - categorical_crossentropy: 0.059 - ETA: 32s - loss: 0.0618 - categorical_crossentropy: 0.061 - ETA: 32s - loss: 0.0605 - categorical_crossentropy: 0.060 - ETA: 32s - loss: 0.0586 - categorical_crossentropy: 0.058 - ETA: 31s - loss: 0.0569 - categorical_crossentropy: 0.056 - ETA: 31s - loss: 0.0579 - categorical_crossentropy: 0.057 - ETA: 31s - loss: 0.0596 - categorical_crossentropy: 0.059 - ETA: 31s - loss: 0.0588 - categorical_crossentropy: 0.058 - ETA: 30s - loss: 0.0577 - categorical_crossentropy: 0.057 - ETA: 30s - loss: 0.0562 - categorical_crossentropy: 0.056 - ETA: 30s - loss: 0.0550 - categorical_crossentropy: 0.055 - ETA: 30s - loss: 0.0612 - categorical_crossentropy: 0.061 - ETA: 29s - loss: 0.0597 - categorical_crossentropy: 0.059 - ETA: 29s - loss: 0.0629 - categorical_crossentropy: 0.062 - ETA: 29s - loss: 0.0632 - categorical_crossentropy: 0.063 - ETA: 28s - loss: 0.0619 - categorical_crossentropy: 0.061 - ETA: 28s - loss: 0.0609 - categorical_crossentropy: 0.060 - ETA: 28s - loss: 0.0652 - categorical_crossentropy: 0.065 - ETA: 28s - loss: 0.0667 - categorical_crossentropy: 0.066 - ETA: 27s - loss: 0.0653 - categorical_crossentropy: 0.065 - ETA: 27s - loss: 0.0641 - categorical_crossentropy: 0.064 - ETA: 27s - loss: 0.0669 - categorical_crossentropy: 0.066 - ETA: 27s - loss: 0.0659 - categorical_crossentropy: 0.065 - ETA: 26s - loss: 0.0654 - categorical_crossentropy: 0.065 - ETA: 26s - loss: 0.0641 - categorical_crossentropy: 0.064 - ETA: 26s - loss: 0.0632 - categorical_crossentropy: 0.063 - ETA: 25s - loss: 0.0697 - categorical_crossentropy: 0.069 - ETA: 25s - loss: 0.0686 - categorical_crossentropy: 0.068 - ETA: 25s - loss: 0.0676 - categorical_crossentropy: 0.067 - ETA: 25s - loss: 0.0680 - categorical_crossentropy: 0.068 - ETA: 24s - loss: 0.0671 - categorical_crossentropy: 0.067 - ETA: 24s - loss: 0.0660 - categorical_crossentropy: 0.066 - ETA: 24s - loss: 0.0706 - categorical_crossentropy: 0.070 - ETA: 24s - loss: 0.0729 - categorical_crossentropy: 0.072 - ETA: 23s - loss: 0.0738 - categorical_crossentropy: 0.073 - ETA: 23s - loss: 0.0741 - categorical_crossentropy: 0.074 - ETA: 23s - loss: 0.0734 - categorical_crossentropy: 0.073 - ETA: 23s - loss: 0.0727 - categorical_crossentropy: 0.072 - ETA: 22s - loss: 0.0718 - categorical_crossentropy: 0.071 - ETA: 22s - loss: 0.0712 - categorical_crossentropy: 0.071 - ETA: 22s - loss: 0.0711 - categorical_crossentropy: 0.071 - ETA: 21s - loss: 0.0702 - categorical_crossentropy: 0.070 - ETA: 21s - loss: 0.0692 - categorical_crossentropy: 0.069 - ETA: 21s - loss: 0.0697 - categorical_crossentropy: 0.069 - ETA: 21s - loss: 0.0699 - categorical_crossentropy: 0.069 - ETA: 20s - loss: 0.0702 - categorical_crossentropy: 0.070 - ETA: 20s - loss: 0.0705 - categorical_crossentropy: 0.070 - ETA: 20s - loss: 0.0705 - categorical_crossentropy: 0.070 - ETA: 20s - loss: 0.0696 - categorical_crossentropy: 0.069 - ETA: 19s - loss: 0.0694 - categorical_crossentropy: 0.069 - ETA: 19s - loss: 0.0718 - categorical_crossentropy: 0.071 - ETA: 19s - loss: 0.0710 - categorical_crossentropy: 0.071 - ETA: 18s - loss: 0.0716 - categorical_crossentropy: 0.071 - ETA: 18s - loss: 0.0722 - categorical_crossentropy: 0.072 - ETA: 18s - loss: 0.0716 - categorical_crossentropy: 0.071 - ETA: 18s - loss: 0.0741 - categorical_crossentropy: 0.074 - ETA: 17s - loss: 0.0795 - categorical_crossentropy: 0.079 - ETA: 17s - loss: 0.0792 - categorical_crossentropy: 0.079 - ETA: 17s - loss: 0.0797 - categorical_crossentropy: 0.079 - ETA: 17s - loss: 0.0796 - categorical_crossentropy: 0.079 - ETA: 16s - loss: 0.0799 - categorical_crossentropy: 0.079 - ETA: 16s - loss: 0.0792 - categorical_crossentropy: 0.079 - ETA: 16s - loss: 0.0791 - categorical_crossentropy: 0.079 - ETA: 16s - loss: 0.0783 - categorical_crossentropy: 0.078 - ETA: 15s - loss: 0.0776 - categorical_crossentropy: 0.077 - ETA: 15s - loss: 0.0769 - categorical_crossentropy: 0.076 - ETA: 15s - loss: 0.0764 - categorical_crossentropy: 0.076 - ETA: 14s - loss: 0.0756 - categorical_crossentropy: 0.075 - ETA: 14s - loss: 0.0772 - categorical_crossentropy: 0.077 - ETA: 14s - loss: 0.0778 - categorical_crossentropy: 0.077 - ETA: 14s - loss: 0.0799 - categorical_crossentropy: 0.079 - ETA: 13s - loss: 0.0797 - categorical_crossentropy: 0.079 - ETA: 13s - loss: 0.0802 - categorical_crossentropy: 0.080 - ETA: 13s - loss: 0.0796 - categorical_crossentropy: 0.079 - ETA: 13s - loss: 0.0819 - categorical_crossentropy: 0.081 - ETA: 12s - loss: 0.0837 - categorical_crossentropy: 0.083 - ETA: 12s - loss: 0.0829 - categorical_crossentropy: 0.082 - ETA: 12s - loss: 0.0822 - categorical_crossentropy: 0.082 - ETA: 11s - loss: 0.0815 - categorical_crossentropy: 0.081 - ETA: 11s - loss: 0.0809 - categorical_crossentropy: 0.080 - ETA: 11s - loss: 0.0801 - categorical_crossentropy: 0.080 - ETA: 11s - loss: 0.0797 - categorical_crossentropy: 0.079 - ETA: 10s - loss: 0.0798 - categorical_crossentropy: 0.079 - ETA: 10s - loss: 0.0797 - categorical_crossentropy: 0.079 - ETA: 10s - loss: 0.0790 - categorical_crossentropy: 0.079 - ETA: 10s - loss: 0.0783 - categorical_crossentropy: 0.078 - ETA: 9s - loss: 0.0778 - categorical_crossentropy: 0.077 - ETA: 9s - loss: 0.0792 - categorical_crossentropy: 0.07 - ETA: 9s - loss: 0.0785 - categorical_crossentropy: 0.07 - ETA: 9s - loss: 0.0779 - categorical_crossentropy: 0.07 - ETA: 8s - loss: 0.0786 - categorical_crossentropy: 0.07 - ETA: 8s - loss: 0.0782 - categorical_crossentropy: 0.07 - ETA: 8s - loss: 0.0786 - categorical_crossentropy: 0.07 - ETA: 7s - loss: 0.0779 - categorical_crossentropy: 0.07 - ETA: 7s - loss: 0.0784 - categorical_crossentropy: 0.07 - ETA: 7s - loss: 0.0786 - categorical_crossentropy: 0.07 - ETA: 7s - loss: 0.0784 - categorical_crossentropy: 0.07 - ETA: 6s - loss: 0.0778 - categorical_crossentropy: 0.07 - ETA: 6s - loss: 0.0772 - categorical_crossentropy: 0.07 - ETA: 6s - loss: 0.0770 - categorical_crossentropy: 0.07 - ETA: 6s - loss: 0.0783 - categorical_crossentropy: 0.07 - ETA: 5s - loss: 0.0787 - categorical_crossentropy: 0.07 - ETA: 5s - loss: 0.0785 - categorical_crossentropy: 0.07 - ETA: 5s - loss: 0.0780 - categorical_crossentropy: 0.07 - ETA: 4s - loss: 0.0774 - categorical_crossentropy: 0.07 - ETA: 4s - loss: 0.0768 - categorical_crossentropy: 0.07 - ETA: 4s - loss: 0.0764 - categorical_crossentropy: 0.07 - ETA: 4s - loss: 0.0760 - categorical_crossentropy: 0.07 - ETA: 4s - loss: 0.0771 - categorical_crossentropy: 0.07 - ETA: 3s - loss: 0.0767 - categorical_crossentropy: 0.0767"
     ]
    },
    {
     "name": "stdout",
     "output_type": "stream",
     "text": [
      "4816/4816 [==============================] - ETA: 3s - loss: 0.0764 - categorical_crossentropy: 0.07 - ETA: 3s - loss: 0.0759 - categorical_crossentropy: 0.07 - ETA: 2s - loss: 0.0764 - categorical_crossentropy: 0.07 - ETA: 2s - loss: 0.0761 - categorical_crossentropy: 0.07 - ETA: 2s - loss: 0.0756 - categorical_crossentropy: 0.07 - ETA: 2s - loss: 0.0751 - categorical_crossentropy: 0.07 - ETA: 1s - loss: 0.0745 - categorical_crossentropy: 0.07 - ETA: 1s - loss: 0.0754 - categorical_crossentropy: 0.07 - ETA: 1s - loss: 0.0768 - categorical_crossentropy: 0.07 - ETA: 1s - loss: 0.0764 - categorical_crossentropy: 0.07 - ETA: 0s - loss: 0.0759 - categorical_crossentropy: 0.07 - ETA: 0s - loss: 0.0792 - categorical_crossentropy: 0.07 - ETA: 0s - loss: 0.0787 - categorical_crossentropy: 0.07 - 45s 9ms/step - loss: 0.0784 - categorical_crossentropy: 0.0784 - val_loss: 4.6514 - val_categorical_crossentropy: 4.6514\n"
     ]
    },
    {
     "data": {
      "text/plain": [
       "<keras.callbacks.History at 0x1de50509588>"
      ]
     },
     "execution_count": 206,
     "metadata": {},
     "output_type": "execute_result"
    }
   ],
   "source": [
    "model.fit(transformer_bag_of_words, y_train,validation_split=0.2, epochs=30, verbose=1)"
   ]
  },
  {
   "cell_type": "code",
   "execution_count": 207,
   "metadata": {},
   "outputs": [
    {
     "name": "stdout",
     "output_type": "stream",
     "text": [
      "2007/2007 [==============================] - ETA:  - ETA:  - ETA:  - ETA:  - ETA:  - ETA:  - ETA:  - ETA:  - ETA:  - ETA:  - ETA:  - ETA:  - ETA:  - ETA:  - ETA:  - ETA:  - ETA:  - ETA:  - ETA:  - ETA:  - 1s 638us/step\n"
     ]
    },
    {
     "data": {
      "text/plain": [
       "[5.143167510933108, 5.143167510933108]"
      ]
     },
     "execution_count": 207,
     "metadata": {},
     "output_type": "execute_result"
    }
   ],
   "source": [
    "model.evaluate(X_test_transformer, y_test)"
   ]
  },
  {
   "cell_type": "code",
   "execution_count": null,
   "metadata": {},
   "outputs": [],
   "source": []
  }
 ],
 "metadata": {
  "kernelspec": {
   "display_name": "Python 3",
   "language": "python",
   "name": "python3"
  },
  "language_info": {
   "codemirror_mode": {
    "name": "ipython",
    "version": 3
   },
   "file_extension": ".py",
   "mimetype": "text/x-python",
   "name": "python",
   "nbconvert_exporter": "python",
   "pygments_lexer": "ipython3",
   "version": "3.6.5"
  }
 },
 "nbformat": 4,
 "nbformat_minor": 2
}
